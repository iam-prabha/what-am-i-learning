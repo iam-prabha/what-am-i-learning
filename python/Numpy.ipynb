{
 "cells": [
  {
   "cell_type": "markdown",
   "id": "57887c64-7e5c-4aba-8783-7a9c413b21bd",
   "metadata": {},
   "source": [
    "# Libraries"
   ]
  },
  {
   "cell_type": "code",
   "execution_count": 1,
   "id": "aac7c5a3-7ae0-484e-8b0d-05c1ba33ada0",
   "metadata": {},
   "outputs": [],
   "source": [
    "import numpy as np"
   ]
  },
  {
   "cell_type": "code",
   "execution_count": 2,
   "id": "56cd231a-b76f-41fe-8b72-5a2cb8ae7c49",
   "metadata": {},
   "outputs": [
    {
     "name": "stdout",
     "output_type": "stream",
     "text": [
      "Channels:\n",
      " - defaults\n",
      "Platform: linux-64\n",
      "Collecting package metadata (repodata.json): done\n",
      "Solving environment: done\n",
      "\n",
      "# All requested packages already installed.\n",
      "\n"
     ]
    }
   ],
   "source": [
    "!conda install numpy"
   ]
  },
  {
   "cell_type": "markdown",
   "id": "7f2acca5-cb0d-4223-8faf-5f0fef980390",
   "metadata": {},
   "source": [
    "# Create Array"
   ]
  },
  {
   "cell_type": "code",
   "execution_count": 3,
   "id": "bdbec358-cd26-4bea-a1c9-61dee614c861",
   "metadata": {},
   "outputs": [],
   "source": [
    "egg_box = np.array(['chicken_egg', 'country_egg', 'quail_egg'])"
   ]
  },
  {
   "cell_type": "code",
   "execution_count": 4,
   "id": "fc61b31d-7c68-4215-8d86-9dc20b25340a",
   "metadata": {},
   "outputs": [
    {
     "data": {
      "text/plain": [
       "array(['chicken_egg', 'country_egg', 'quail_egg'], dtype='<U11')"
      ]
     },
     "execution_count": 4,
     "metadata": {},
     "output_type": "execute_result"
    }
   ],
   "source": [
    "egg_box"
   ]
  },
  {
   "cell_type": "code",
   "execution_count": 5,
   "id": "2f9dfcc0-9718-4761-8923-0ede0a9aa131",
   "metadata": {},
   "outputs": [
    {
     "data": {
      "text/plain": [
       "(3,)"
      ]
     },
     "execution_count": 5,
     "metadata": {},
     "output_type": "execute_result"
    }
   ],
   "source": [
    "egg_box.shape"
   ]
  },
  {
   "cell_type": "code",
   "execution_count": 6,
   "id": "a5331a38-d03b-494a-b6c8-087a7e8d9a99",
   "metadata": {},
   "outputs": [
    {
     "data": {
      "text/plain": [
       "1"
      ]
     },
     "execution_count": 6,
     "metadata": {},
     "output_type": "execute_result"
    }
   ],
   "source": [
    "egg_box.ndim"
   ]
  },
  {
   "cell_type": "markdown",
   "id": "9096cb61-98d1-4902-a152-91f3f0025f41",
   "metadata": {},
   "source": [
    "# Array dimensions (0-d, 1-d, 2-d, 3d)"
   ]
  },
  {
   "cell_type": "code",
   "execution_count": 7,
   "id": "fd08e8d4-0f9d-4527-bf2f-f9d33bddab9c",
   "metadata": {},
   "outputs": [],
   "source": [
    "egg_box_zero = np.array('egg')"
   ]
  },
  {
   "cell_type": "code",
   "execution_count": 8,
   "id": "4eacc8b7-7c42-4593-8153-67a4996d6986",
   "metadata": {},
   "outputs": [
    {
     "data": {
      "text/plain": [
       "0"
      ]
     },
     "execution_count": 8,
     "metadata": {},
     "output_type": "execute_result"
    }
   ],
   "source": [
    "egg_box_zero.ndim"
   ]
  },
  {
   "cell_type": "code",
   "execution_count": 9,
   "id": "8121b1b7-a3d4-4aa6-a216-20cc7dfb8289",
   "metadata": {},
   "outputs": [
    {
     "data": {
      "text/plain": [
       "()"
      ]
     },
     "execution_count": 9,
     "metadata": {},
     "output_type": "execute_result"
    }
   ],
   "source": [
    "egg_box_zero.shape"
   ]
  },
  {
   "cell_type": "code",
   "execution_count": 10,
   "id": "adab154f-df48-46f5-871e-bf937faf38fe",
   "metadata": {},
   "outputs": [],
   "source": [
    "egg_box_two = np.array([['chicken_egg', 'country_egg', 'quail_egg'],['chicken_egg', 'country_egg', 'quail_egg']])"
   ]
  },
  {
   "cell_type": "code",
   "execution_count": 11,
   "id": "3cd945f4-2f85-459c-bda3-ac6479cbd8ef",
   "metadata": {},
   "outputs": [
    {
     "data": {
      "text/plain": [
       "array([['chicken_egg', 'country_egg', 'quail_egg'],\n",
       "       ['chicken_egg', 'country_egg', 'quail_egg']], dtype='<U11')"
      ]
     },
     "execution_count": 11,
     "metadata": {},
     "output_type": "execute_result"
    }
   ],
   "source": [
    "egg_box_two"
   ]
  },
  {
   "cell_type": "code",
   "execution_count": 12,
   "id": "488ea6fb-61d1-41fd-88f3-b0fe1198d3d3",
   "metadata": {},
   "outputs": [],
   "source": [
    "egg_box_3 = np.array([[['chicken_egg', 'country_egg', 'quail_egg'],['chicken_egg', 'country_egg', 'quail_egg']], \n",
    "                      [['chicken_egg', 'country_egg', 'quail_egg'],['chicken_egg', 'country_egg', 'quail_egg']]])"
   ]
  },
  {
   "cell_type": "code",
   "execution_count": 13,
   "id": "96dec0c9-9f9e-4a87-8d4b-0969bebd3692",
   "metadata": {},
   "outputs": [
    {
     "data": {
      "text/plain": [
       "array([[['chicken_egg', 'country_egg', 'quail_egg'],\n",
       "        ['chicken_egg', 'country_egg', 'quail_egg']],\n",
       "\n",
       "       [['chicken_egg', 'country_egg', 'quail_egg'],\n",
       "        ['chicken_egg', 'country_egg', 'quail_egg']]], dtype='<U11')"
      ]
     },
     "execution_count": 13,
     "metadata": {},
     "output_type": "execute_result"
    }
   ],
   "source": [
    "egg_box_3"
   ]
  },
  {
   "cell_type": "code",
   "execution_count": 14,
   "id": "78ca6dd6-2fbd-4519-baa7-abcd812413e2",
   "metadata": {},
   "outputs": [
    {
     "data": {
      "text/plain": [
       "2"
      ]
     },
     "execution_count": 14,
     "metadata": {},
     "output_type": "execute_result"
    }
   ],
   "source": [
    "egg_box_two.ndim"
   ]
  },
  {
   "cell_type": "code",
   "execution_count": 15,
   "id": "e0c1e227-0a18-47b4-838b-4b76f525a93e",
   "metadata": {},
   "outputs": [
    {
     "data": {
      "text/plain": [
       "(2, 3)"
      ]
     },
     "execution_count": 15,
     "metadata": {},
     "output_type": "execute_result"
    }
   ],
   "source": [
    "egg_box_two.shape"
   ]
  },
  {
   "cell_type": "code",
   "execution_count": 16,
   "id": "3fcc1ed1-8d4f-4550-9d4f-2f25e33ab112",
   "metadata": {},
   "outputs": [
    {
     "data": {
      "text/plain": [
       "(2, 2, 3)"
      ]
     },
     "execution_count": 16,
     "metadata": {},
     "output_type": "execute_result"
    }
   ],
   "source": [
    "egg_box_3.shape"
   ]
  },
  {
   "cell_type": "markdown",
   "id": "b84d2cb7-3658-4a14-86cf-cf7d6197e15d",
   "metadata": {},
   "source": [
    "# Array operations (statistics methods, arithmetic, logical, expo, sqrt, sine)"
   ]
  },
  {
   "cell_type": "code",
   "execution_count": 17,
   "id": "61a48ff3-4498-4eaa-af3b-952abb0c76b5",
   "metadata": {},
   "outputs": [
    {
     "data": {
      "text/plain": [
       "array([3, 0, 1])"
      ]
     },
     "execution_count": 17,
     "metadata": {},
     "output_type": "execute_result"
    }
   ],
   "source": [
    "a = np.array([1,2,3])\n",
    "a^2"
   ]
  },
  {
   "cell_type": "code",
   "execution_count": 18,
   "id": "87489547-81d6-4953-a4a2-6fb35449625d",
   "metadata": {},
   "outputs": [
    {
     "data": {
      "text/plain": [
       "0.816496580927726"
      ]
     },
     "execution_count": 18,
     "metadata": {},
     "output_type": "execute_result"
    }
   ],
   "source": [
    "np.std(a)"
   ]
  },
  {
   "cell_type": "code",
   "execution_count": 19,
   "id": "36a742ef-929a-4388-8323-60b596decc4d",
   "metadata": {},
   "outputs": [
    {
     "name": "stdout",
     "output_type": "stream",
     "text": [
      "Mean: 2.0\n",
      "Median: 2.0\n",
      "Standard Deviation: 0.816496580927726\n",
      "Variance: 0.6666666666666666\n"
     ]
    }
   ],
   "source": [
    "array =  np.array([1,2,3])\n",
    "\n",
    "\n",
    "# Compute the statistical values\n",
    "mean = np.mean(array)\n",
    "median = np.median(array)\n",
    "std_dev = np.std(array)\n",
    "variance = np.var(array)\n",
    "\n",
    "print(\"Mean:\", mean)\n",
    "print(\"Median:\", median)\n",
    "print(\"Standard Deviation:\", std_dev)\n",
    "print(\"Variance:\", variance)"
   ]
  },
  {
   "cell_type": "code",
   "execution_count": 20,
   "id": "136b9f2c-88af-4cdf-accf-0fce3e5bb528",
   "metadata": {},
   "outputs": [
    {
     "name": "stdout",
     "output_type": "stream",
     "text": [
      "Original matrix:\n",
      "[[ 9  9  9]\n",
      " [ 5  6 10]\n",
      " [ 4  7  7]]\n",
      "Determinant: -108.00000000000003\n",
      "Inverse:\n",
      "[[ 0.25925926  0.         -0.33333333]\n",
      " [-0.0462963  -0.25        0.41666667]\n",
      " [-0.10185185  0.25       -0.08333333]]\n"
     ]
    }
   ],
   "source": [
    "matrix = np.random.randint(1, 11, size=(3, 3))\n",
    "print(\"Original matrix:\")\n",
    "print(matrix)\n",
    "\n",
    "# Compute the determinant\n",
    "determinant = np.linalg.det(matrix)\n",
    "print(\"Determinant:\", determinant)\n",
    "\n",
    "# Compute the inverse\n",
    "inverse = np.linalg.inv(matrix)\n",
    "print(\"Inverse:\")\n",
    "print(inverse)"
   ]
  },
  {
   "cell_type": "code",
   "execution_count": 21,
   "id": "75ee5dd1-2e22-48fa-a4bf-eec8b5c35704",
   "metadata": {},
   "outputs": [
    {
     "name": "stdout",
     "output_type": "stream",
     "text": [
      "Array 1:\n",
      "[[ 2  2  7  5]\n",
      " [ 1  1  9  3]\n",
      " [ 2  8 10  2]]\n",
      "Array 2:\n",
      "[[10  2  2  5]\n",
      " [ 5  6  4  6]\n",
      " [ 2 10  1  3]]\n",
      "Element-wise addition:\n",
      "[[12  4  9 10]\n",
      " [ 6  7 13  9]\n",
      " [ 4 18 11  5]]\n",
      "Element-wise subtraction:\n",
      "[[-8  0  5  0]\n",
      " [-4 -5  5 -3]\n",
      " [ 0 -2  9 -1]]\n",
      "Element-wise multiplication:\n",
      "[[20  4 14 25]\n",
      " [ 5  6 36 18]\n",
      " [ 4 80 10  6]]\n",
      "Element-wise division:\n",
      "[[ 0.2         1.          3.5         1.        ]\n",
      " [ 0.2         0.16666667  2.25        0.5       ]\n",
      " [ 1.          0.8        10.          0.66666667]]\n"
     ]
    }
   ],
   "source": [
    "array1 = np.random.randint(1, 11, size=(3, 4))\n",
    "array2 = np.random.randint(1, 11, size=(3, 4))\n",
    "print(\"Array 1:\")\n",
    "print(array1)\n",
    "print(\"Array 2:\")\n",
    "print(array2)\n",
    "\n",
    "# Perform element-wise operations\n",
    "addition = array1 + array2\n",
    "subtraction = array1 - array2\n",
    "multiplication = array1 * array2\n",
    "division = array1 / array2\n",
    "\n",
    "print(\"Element-wise addition:\")\n",
    "print(addition)\n",
    "print(\"Element-wise subtraction:\")\n",
    "print(subtraction)\n",
    "print(\"Element-wise multiplication:\")\n",
    "print(multiplication)\n",
    "print(\"Element-wise division:\")\n",
    "print(division)"
   ]
  },
  {
   "cell_type": "markdown",
   "id": "1e7aa6a1-daa2-434c-9b76-2928d6c5f716",
   "metadata": {},
   "source": [
    "# Array modification"
   ]
  },
  {
   "cell_type": "code",
   "execution_count": 22,
   "id": "e2b1657d-ceb0-442c-8882-e40784d6e260",
   "metadata": {},
   "outputs": [
    {
     "data": {
      "text/plain": [
       "array(['chicken_egg', 'country_egg', 'quail_egg'], dtype='<U11')"
      ]
     },
     "execution_count": 22,
     "metadata": {},
     "output_type": "execute_result"
    }
   ],
   "source": [
    "egg_box"
   ]
  },
  {
   "cell_type": "code",
   "execution_count": 23,
   "id": "ffac51da-85a8-4bec-b1f0-9f78d40bf331",
   "metadata": {},
   "outputs": [
    {
     "data": {
      "text/plain": [
       "array([['chicken_egg', 'country_egg', 'quail_egg'],\n",
       "       ['chicken_egg', 'country_egg', 'quail_egg']], dtype='<U11')"
      ]
     },
     "execution_count": 23,
     "metadata": {},
     "output_type": "execute_result"
    }
   ],
   "source": [
    "egg_box_two"
   ]
  },
  {
   "cell_type": "markdown",
   "id": "9eadcfc6-ae6c-4ab6-bdaf-58b7ab328066",
   "metadata": {},
   "source": [
    "### numpy.insert(arr, obj, values, axis=None)"
   ]
  },
  {
   "cell_type": "code",
   "execution_count": 24,
   "id": "8f22d4a9-9d88-4dc5-a361-938571877aa8",
   "metadata": {},
   "outputs": [
    {
     "data": {
      "text/plain": [
       "array(['chicken_egg', 'duck_egg', 'country_egg', 'quail_egg'],\n",
       "      dtype='<U11')"
      ]
     },
     "execution_count": 24,
     "metadata": {},
     "output_type": "execute_result"
    }
   ],
   "source": [
    "np.insert(egg_box, 1, 'duck_egg')"
   ]
  },
  {
   "cell_type": "code",
   "execution_count": 25,
   "id": "af40811c-b4df-4b7f-816a-7ec15e942cfd",
   "metadata": {},
   "outputs": [
    {
     "data": {
      "text/plain": [
       "array([['chicken_egg', 'duck_egg', 'country_egg', 'quail_egg'],\n",
       "       ['chicken_egg', 'duck_egg', 'country_egg', 'quail_egg']],\n",
       "      dtype='<U11')"
      ]
     },
     "execution_count": 25,
     "metadata": {},
     "output_type": "execute_result"
    }
   ],
   "source": [
    "np.insert(egg_box_two, 1, 'duck_egg', axis=1)"
   ]
  },
  {
   "cell_type": "code",
   "execution_count": 26,
   "id": "a94f41e3-469e-4c86-ba64-bff973b91540",
   "metadata": {},
   "outputs": [
    {
     "data": {
      "text/plain": [
       "array(['chicken_egg', 'country_egg', 'dinosaur_eg', 'quail_egg',\n",
       "       'chicken_egg', 'country_egg', 'quail_egg'], dtype='<U11')"
      ]
     },
     "execution_count": 26,
     "metadata": {},
     "output_type": "execute_result"
    }
   ],
   "source": [
    "np.insert(egg_box_two, 2, 'dinosaur_egg')"
   ]
  },
  {
   "cell_type": "code",
   "execution_count": 27,
   "id": "5cdef31a-dbd8-4a18-bb19-5cc9b6aa92f6",
   "metadata": {},
   "outputs": [
    {
     "data": {
      "text/plain": [
       "array([['chicken_egg', 'country_egg', 'quail_egg'],\n",
       "       ['dino_egg', 'dino_egg', 'dino_egg'],\n",
       "       ['chicken_egg', 'country_egg', 'quail_egg']], dtype='<U11')"
      ]
     },
     "execution_count": 27,
     "metadata": {},
     "output_type": "execute_result"
    }
   ],
   "source": [
    "np.insert(egg_box_two, 1, 'dino_egg', axis=0)"
   ]
  },
  {
   "cell_type": "markdown",
   "id": "46fd2b5d-ed66-4d48-979a-7a5b751d7891",
   "metadata": {},
   "source": [
    "### numpy.delete(arr, obj, axis=None)[source]"
   ]
  },
  {
   "cell_type": "code",
   "execution_count": 28,
   "id": "73d81771-1aa2-4579-94cf-55e748f9d30b",
   "metadata": {},
   "outputs": [],
   "source": [
    "egg_box_copy = np.delete(egg_box, 2)"
   ]
  },
  {
   "cell_type": "code",
   "execution_count": 29,
   "id": "88598bf8-7524-49a8-91e9-c86c4982197d",
   "metadata": {},
   "outputs": [
    {
     "data": {
      "text/plain": [
       "array(['chicken_egg', 'country_egg', 'quail_egg'], dtype='<U11')"
      ]
     },
     "execution_count": 29,
     "metadata": {},
     "output_type": "execute_result"
    }
   ],
   "source": [
    "egg_box"
   ]
  },
  {
   "cell_type": "code",
   "execution_count": 30,
   "id": "f69a80b9-cd71-40af-8de8-93667ea8c79b",
   "metadata": {},
   "outputs": [
    {
     "data": {
      "text/plain": [
       "array(['chicken_egg', 'country_egg', 'quail_egg'], dtype='<U11')"
      ]
     },
     "execution_count": 30,
     "metadata": {},
     "output_type": "execute_result"
    }
   ],
   "source": [
    "egg_box"
   ]
  },
  {
   "cell_type": "code",
   "execution_count": 31,
   "id": "a554cd03-c408-4721-816b-8a81189cbd89",
   "metadata": {},
   "outputs": [
    {
     "data": {
      "text/plain": [
       "array(['chicken_egg', 'country_egg'], dtype='<U11')"
      ]
     },
     "execution_count": 31,
     "metadata": {},
     "output_type": "execute_result"
    }
   ],
   "source": [
    "egg_box_copy"
   ]
  },
  {
   "cell_type": "markdown",
   "id": "73876504-02aa-424b-be8e-d7d78b9eaabb",
   "metadata": {},
   "source": [
    "### numpy.append(arr, values, axis=None)"
   ]
  },
  {
   "cell_type": "code",
   "execution_count": 32,
   "id": "10d98ca7-68ac-430b-928f-d8653695ea7d",
   "metadata": {},
   "outputs": [
    {
     "data": {
      "text/plain": [
       "array(['chicken_egg', 'country_egg', 'quail_egg'], dtype='<U11')"
      ]
     },
     "execution_count": 32,
     "metadata": {},
     "output_type": "execute_result"
    }
   ],
   "source": [
    "egg_box"
   ]
  },
  {
   "cell_type": "code",
   "execution_count": 33,
   "id": "6629bca8-dc5f-4250-a443-2834cfef63e9",
   "metadata": {},
   "outputs": [
    {
     "data": {
      "text/plain": [
       "array([['chicken_egg', 'country_egg', 'quail_egg'],\n",
       "       ['chicken_egg', 'country_egg', 'quail_egg']], dtype='<U11')"
      ]
     },
     "execution_count": 33,
     "metadata": {},
     "output_type": "execute_result"
    }
   ],
   "source": [
    "egg_box_two"
   ]
  },
  {
   "cell_type": "code",
   "execution_count": 34,
   "id": "f3c2b529-b9db-4a49-8f47-83660129fdbd",
   "metadata": {},
   "outputs": [
    {
     "data": {
      "text/plain": [
       "array(['chicken_egg', 'country_egg', 'quail_egg', 'duck_egg'],\n",
       "      dtype='<U11')"
      ]
     },
     "execution_count": 34,
     "metadata": {},
     "output_type": "execute_result"
    }
   ],
   "source": [
    "np.append(egg_box, 'duck_egg')"
   ]
  },
  {
   "cell_type": "markdown",
   "id": "3f403b52-61c8-4b7e-ac7a-025d0afef390",
   "metadata": {},
   "source": [
    "# Access array elements (Indexing, slicing)"
   ]
  },
  {
   "cell_type": "code",
   "execution_count": 35,
   "id": "916515a7-917c-4124-8323-49449e3422f0",
   "metadata": {},
   "outputs": [
    {
     "data": {
      "text/plain": [
       "array(['chicken_egg', 'country_egg', 'quail_egg'], dtype='<U11')"
      ]
     },
     "execution_count": 35,
     "metadata": {},
     "output_type": "execute_result"
    }
   ],
   "source": [
    "egg_box "
   ]
  },
  {
   "cell_type": "code",
   "execution_count": 36,
   "id": "bd7f2ae9-f2fa-4d74-9613-788103719c47",
   "metadata": {},
   "outputs": [
    {
     "data": {
      "text/plain": [
       "array([['chicken_egg', 'country_egg', 'quail_egg'],\n",
       "       ['chicken_egg', 'country_egg', 'quail_egg']], dtype='<U11')"
      ]
     },
     "execution_count": 36,
     "metadata": {},
     "output_type": "execute_result"
    }
   ],
   "source": [
    "egg_box_two"
   ]
  },
  {
   "cell_type": "code",
   "execution_count": 37,
   "id": "436bcc45-3e84-4bb6-a6e2-80639086cfc6",
   "metadata": {},
   "outputs": [
    {
     "data": {
      "text/plain": [
       "array([[['chicken_egg', 'country_egg', 'quail_egg'],\n",
       "        ['chicken_egg', 'country_egg', 'quail_egg']],\n",
       "\n",
       "       [['chicken_egg', 'country_egg', 'quail_egg'],\n",
       "        ['chicken_egg', 'country_egg', 'quail_egg']]], dtype='<U11')"
      ]
     },
     "execution_count": 37,
     "metadata": {},
     "output_type": "execute_result"
    }
   ],
   "source": [
    "egg_box_3"
   ]
  },
  {
   "cell_type": "code",
   "execution_count": 38,
   "id": "80415b25-6e1a-404d-bf1b-238da0a89d6c",
   "metadata": {},
   "outputs": [
    {
     "data": {
      "text/plain": [
       "'chicken_egg'"
      ]
     },
     "execution_count": 38,
     "metadata": {},
     "output_type": "execute_result"
    }
   ],
   "source": [
    "egg_box[-3]"
   ]
  },
  {
   "cell_type": "code",
   "execution_count": 39,
   "id": "94fa991e-f029-4669-8ded-54e8e1bed6d5",
   "metadata": {},
   "outputs": [
    {
     "data": {
      "text/plain": [
       "'country_egg'"
      ]
     },
     "execution_count": 39,
     "metadata": {},
     "output_type": "execute_result"
    }
   ],
   "source": [
    "egg_box_two[1,1]"
   ]
  },
  {
   "cell_type": "code",
   "execution_count": 40,
   "id": "aa0cb18e-9ed3-4da0-b7a9-f28f3feafbd9",
   "metadata": {},
   "outputs": [
    {
     "data": {
      "text/plain": [
       "'quail_egg'"
      ]
     },
     "execution_count": 40,
     "metadata": {},
     "output_type": "execute_result"
    }
   ],
   "source": [
    "egg_box_3[1,1,2]"
   ]
  },
  {
   "cell_type": "markdown",
   "id": "480248f7-8dda-4ea2-b241-28441160241f",
   "metadata": {},
   "source": [
    "## array[start : stop: step]"
   ]
  },
  {
   "cell_type": "code",
   "execution_count": 41,
   "id": "4cd81106-b908-473e-9b27-52ba14203194",
   "metadata": {},
   "outputs": [
    {
     "data": {
      "text/plain": [
       "array(['chicken_egg', 'country_egg', 'quail_egg'], dtype='<U11')"
      ]
     },
     "execution_count": 41,
     "metadata": {},
     "output_type": "execute_result"
    }
   ],
   "source": [
    "egg_box"
   ]
  },
  {
   "cell_type": "code",
   "execution_count": 42,
   "id": "17d0045f-ea4c-4cc4-9693-2f98b270f85c",
   "metadata": {},
   "outputs": [
    {
     "data": {
      "text/plain": [
       "array([['chicken_egg', 'country_egg', 'quail_egg'],\n",
       "       ['chicken_egg', 'country_egg', 'quail_egg']], dtype='<U11')"
      ]
     },
     "execution_count": 42,
     "metadata": {},
     "output_type": "execute_result"
    }
   ],
   "source": [
    "egg_box_two"
   ]
  },
  {
   "cell_type": "code",
   "execution_count": 43,
   "id": "03f37e72-0d5c-4ad7-b5d2-31628c79b140",
   "metadata": {},
   "outputs": [
    {
     "data": {
      "text/plain": [
       "array(['chicken_egg', 'quail_egg'], dtype='<U11')"
      ]
     },
     "execution_count": 43,
     "metadata": {},
     "output_type": "execute_result"
    }
   ],
   "source": [
    "egg_box[0:10:2]"
   ]
  },
  {
   "cell_type": "code",
   "execution_count": 44,
   "id": "6db84a12-9a97-4605-9532-4b5d1504db7d",
   "metadata": {},
   "outputs": [
    {
     "data": {
      "text/plain": [
       "array([['chicken_egg', 'country_egg', 'quail_egg']], dtype='<U11')"
      ]
     },
     "execution_count": 44,
     "metadata": {},
     "output_type": "execute_result"
    }
   ],
   "source": [
    "egg_box_two[0:1]"
   ]
  },
  {
   "cell_type": "markdown",
   "id": "5d0529e3-3ec1-49c9-8961-ad002c7fcb67",
   "metadata": {},
   "source": [
    "# Array reshape"
   ]
  },
  {
   "cell_type": "markdown",
   "id": "176b0cf1-0e77-4c3f-91fc-e2e320661c53",
   "metadata": {},
   "source": [
    "### 1d to 2d"
   ]
  },
  {
   "cell_type": "code",
   "execution_count": 45,
   "id": "4857dac7-237f-4e6e-86ab-27dd82341795",
   "metadata": {},
   "outputs": [],
   "source": [
    "egg_box = np.append(egg_box, 'duck_egg')"
   ]
  },
  {
   "cell_type": "code",
   "execution_count": 46,
   "id": "57d7dccc-7789-48dd-9cd3-3c1a16798012",
   "metadata": {},
   "outputs": [
    {
     "data": {
      "text/plain": [
       "(4,)"
      ]
     },
     "execution_count": 46,
     "metadata": {},
     "output_type": "execute_result"
    }
   ],
   "source": [
    "egg_box.shape"
   ]
  },
  {
   "cell_type": "code",
   "execution_count": 47,
   "id": "65e55c57-716c-49b4-9e0b-9ba2971f6544",
   "metadata": {},
   "outputs": [
    {
     "data": {
      "text/plain": [
       "array([['chicken_egg', 'country_egg'],\n",
       "       ['quail_egg', 'duck_egg']], dtype='<U11')"
      ]
     },
     "execution_count": 47,
     "metadata": {},
     "output_type": "execute_result"
    }
   ],
   "source": [
    "egg_box.reshape(2,2)"
   ]
  },
  {
   "cell_type": "markdown",
   "id": "d143e33c-3939-4f90-97a8-d2df985ea00b",
   "metadata": {},
   "source": [
    "### 1d to 3d"
   ]
  },
  {
   "cell_type": "code",
   "execution_count": 48,
   "id": "dbbfcde7-b1a5-43d7-ac19-f74f1a92d414",
   "metadata": {},
   "outputs": [],
   "source": [
    "# egg_box.reshape(2,2,2)"
   ]
  },
  {
   "cell_type": "code",
   "execution_count": 49,
   "id": "c8272431-5ecd-472e-9b69-13c1dfbf1814",
   "metadata": {},
   "outputs": [],
   "source": [
    "egg_box = np.array(['chicken_egg', 'country_egg', 'quail_egg', 'duck_egg', 'chicken_egg', 'country_egg', 'quail_egg', 'duck_egg'])"
   ]
  },
  {
   "cell_type": "markdown",
   "id": "6b1df04d-162c-4780-a946-2b9f7ae89d8b",
   "metadata": {},
   "source": [
    "# Array iteration"
   ]
  },
  {
   "cell_type": "code",
   "execution_count": 50,
   "id": "84e9c6bb-cd3d-49d2-aace-7c2d83481937",
   "metadata": {},
   "outputs": [
    {
     "data": {
      "text/plain": [
       "array(['chicken_egg', 'country_egg', 'quail_egg', 'duck_egg',\n",
       "       'chicken_egg', 'country_egg', 'quail_egg', 'duck_egg'],\n",
       "      dtype='<U11')"
      ]
     },
     "execution_count": 50,
     "metadata": {},
     "output_type": "execute_result"
    }
   ],
   "source": [
    "egg_box "
   ]
  },
  {
   "cell_type": "code",
   "execution_count": 51,
   "id": "21a68c76-7e61-4da7-8b4c-b83c65a6c9c0",
   "metadata": {},
   "outputs": [
    {
     "data": {
      "text/plain": [
       "array([['chicken_egg', 'country_egg', 'quail_egg'],\n",
       "       ['chicken_egg', 'country_egg', 'quail_egg']], dtype='<U11')"
      ]
     },
     "execution_count": 51,
     "metadata": {},
     "output_type": "execute_result"
    }
   ],
   "source": [
    "egg_box_two"
   ]
  },
  {
   "cell_type": "code",
   "execution_count": 52,
   "id": "439ee52a-ef46-4412-8268-2b0af5ee0637",
   "metadata": {},
   "outputs": [
    {
     "name": "stdout",
     "output_type": "stream",
     "text": [
      "I am  chicken_egg\n",
      "I am  country_egg\n",
      "I am  quail_egg\n",
      "I am  duck_egg\n",
      "I am  chicken_egg\n",
      "I am  country_egg\n",
      "I am  quail_egg\n",
      "I am  duck_egg\n"
     ]
    }
   ],
   "source": [
    "for i in egg_box:\n",
    "    print(\"I am \", i)"
   ]
  },
  {
   "cell_type": "code",
   "execution_count": 53,
   "id": "65f0c26e-c88e-43af-bc87-cd9378c7c72c",
   "metadata": {},
   "outputs": [
    {
     "name": "stdout",
     "output_type": "stream",
     "text": [
      "I am  chicken_egg\n",
      "I am  country_egg\n",
      "I am  quail_egg\n",
      "I am  chicken_egg\n",
      "I am  country_egg\n",
      "I am  quail_egg\n"
     ]
    }
   ],
   "source": [
    "for i in egg_box_two:\n",
    "    for j in i:\n",
    "        print(\"I am \", j)"
   ]
  },
  {
   "cell_type": "code",
   "execution_count": 54,
   "id": "0f1b22da-68c8-4ac7-9c86-08fd877dfcc7",
   "metadata": {},
   "outputs": [
    {
     "name": "stdout",
     "output_type": "stream",
     "text": [
      "I am  chicken_egg\n",
      "I am  country_egg\n",
      "I am  quail_egg\n",
      "I am  chicken_egg\n",
      "I am  country_egg\n",
      "I am  quail_egg\n"
     ]
    }
   ],
   "source": [
    "for i in np.nditer(egg_box_two):\n",
    "    print(\"I am \", i)"
   ]
  },
  {
   "cell_type": "code",
   "execution_count": 55,
   "id": "5f6dbc76-a61f-44aa-aa82-8b0482e5225b",
   "metadata": {},
   "outputs": [
    {
     "name": "stdout",
     "output_type": "stream",
     "text": [
      "index (0, 0)\n",
      "I am  chicken_egg\n",
      "index (0, 1)\n",
      "I am  country_egg\n",
      "index (0, 2)\n",
      "I am  quail_egg\n",
      "index (1, 0)\n",
      "I am  chicken_egg\n",
      "index (1, 1)\n",
      "I am  country_egg\n",
      "index (1, 2)\n",
      "I am  quail_egg\n"
     ]
    }
   ],
   "source": [
    "for idx, i in np.ndenumerate(egg_box_two):\n",
    "    print(\"index\", idx)\n",
    "    print(\"I am \", i)"
   ]
  },
  {
   "cell_type": "markdown",
   "id": "a840039f-d0ba-493e-b4da-fc6f8dff1410",
   "metadata": {},
   "source": [
    "# Array joining"
   ]
  },
  {
   "cell_type": "code",
   "execution_count": 56,
   "id": "ba7702dc-6be6-4c87-b5e3-91123837107a",
   "metadata": {},
   "outputs": [
    {
     "data": {
      "text/plain": [
       "array([['chicken_egg', 'country_egg', 'quail_egg'],\n",
       "       ['chicken_egg', 'country_egg', 'quail_egg']], dtype='<U11')"
      ]
     },
     "execution_count": 56,
     "metadata": {},
     "output_type": "execute_result"
    }
   ],
   "source": [
    "egg_box_two"
   ]
  },
  {
   "cell_type": "code",
   "execution_count": 57,
   "id": "d506eb1e-0bc5-4ed4-9ab1-5cc0ae514121",
   "metadata": {},
   "outputs": [],
   "source": [
    "egg_box_new = np.array([['egg1', 'egg2', 'egg3'],['egg4', 'egg5', 'egg6']])"
   ]
  },
  {
   "cell_type": "code",
   "execution_count": 58,
   "id": "cdb4a284-d0fd-466f-aec4-6da57655df78",
   "metadata": {},
   "outputs": [
    {
     "data": {
      "text/plain": [
       "array([['egg1', 'egg2', 'egg3'],\n",
       "       ['egg4', 'egg5', 'egg6']], dtype='<U4')"
      ]
     },
     "execution_count": 58,
     "metadata": {},
     "output_type": "execute_result"
    }
   ],
   "source": [
    "egg_box_new"
   ]
  },
  {
   "cell_type": "markdown",
   "id": "084b48d9-e685-4293-9419-9d975e7deaee",
   "metadata": {},
   "source": [
    "### hstack - row"
   ]
  },
  {
   "cell_type": "code",
   "execution_count": 59,
   "id": "08eebee3-78f2-4a8b-8aa8-1523f2e7f7c0",
   "metadata": {},
   "outputs": [
    {
     "data": {
      "text/plain": [
       "array([['chicken_egg', 'country_egg', 'quail_egg', 'egg1', 'egg2',\n",
       "        'egg3'],\n",
       "       ['chicken_egg', 'country_egg', 'quail_egg', 'egg4', 'egg5',\n",
       "        'egg6']], dtype='<U11')"
      ]
     },
     "execution_count": 59,
     "metadata": {},
     "output_type": "execute_result"
    }
   ],
   "source": [
    "np.hstack((egg_box_two, egg_box_new))"
   ]
  },
  {
   "cell_type": "markdown",
   "id": "6ff1a2a1-9f4a-4443-a4c7-32966b73e93d",
   "metadata": {},
   "source": [
    "### vstack - column"
   ]
  },
  {
   "cell_type": "code",
   "execution_count": 60,
   "id": "b537ddac-2d9b-4ed7-b128-71180b751458",
   "metadata": {},
   "outputs": [
    {
     "data": {
      "text/plain": [
       "array([['chicken_egg', 'country_egg', 'quail_egg'],\n",
       "       ['chicken_egg', 'country_egg', 'quail_egg'],\n",
       "       ['egg1', 'egg2', 'egg3'],\n",
       "       ['egg4', 'egg5', 'egg6']], dtype='<U11')"
      ]
     },
     "execution_count": 60,
     "metadata": {},
     "output_type": "execute_result"
    }
   ],
   "source": [
    "np.vstack((egg_box_two, egg_box_new))"
   ]
  },
  {
   "cell_type": "markdown",
   "id": "b46b660f-b5dc-4bdc-9e4c-e412c69bbb3c",
   "metadata": {},
   "source": [
    "### dstack"
   ]
  },
  {
   "cell_type": "code",
   "execution_count": 61,
   "id": "4078b32f-c6fc-429a-8a2d-7ac8db0d88a8",
   "metadata": {},
   "outputs": [
    {
     "data": {
      "text/plain": [
       "array([[['chicken_egg', 'egg1'],\n",
       "        ['country_egg', 'egg2'],\n",
       "        ['quail_egg', 'egg3']],\n",
       "\n",
       "       [['chicken_egg', 'egg4'],\n",
       "        ['country_egg', 'egg5'],\n",
       "        ['quail_egg', 'egg6']]], dtype='<U11')"
      ]
     },
     "execution_count": 61,
     "metadata": {},
     "output_type": "execute_result"
    }
   ],
   "source": [
    "np.dstack((egg_box_two, egg_box_new))"
   ]
  },
  {
   "cell_type": "markdown",
   "id": "22eb866d-891c-4da3-b5c0-0856120665e3",
   "metadata": {},
   "source": [
    "# Array splitting"
   ]
  },
  {
   "cell_type": "code",
   "execution_count": 62,
   "id": "d3abe0e2-e811-43a3-8190-611e6140e87e",
   "metadata": {},
   "outputs": [
    {
     "data": {
      "text/plain": [
       "array(['chicken_egg', 'country_egg', 'quail_egg', 'duck_egg',\n",
       "       'chicken_egg', 'country_egg', 'quail_egg', 'duck_egg'],\n",
       "      dtype='<U11')"
      ]
     },
     "execution_count": 62,
     "metadata": {},
     "output_type": "execute_result"
    }
   ],
   "source": [
    "egg_box"
   ]
  },
  {
   "cell_type": "code",
   "execution_count": 63,
   "id": "647f06ea-f442-4bf4-8c8b-1223ca1ab083",
   "metadata": {},
   "outputs": [
    {
     "data": {
      "text/plain": [
       "[array(['chicken_egg', 'country_egg'], dtype='<U11'),\n",
       " array(['quail_egg', 'duck_egg'], dtype='<U11'),\n",
       " array(['chicken_egg', 'country_egg'], dtype='<U11'),\n",
       " array(['quail_egg', 'duck_egg'], dtype='<U11')]"
      ]
     },
     "execution_count": 63,
     "metadata": {},
     "output_type": "execute_result"
    }
   ],
   "source": [
    "np.array_split(egg_box, 4)"
   ]
  },
  {
   "cell_type": "markdown",
   "id": "d0e1289b-5298-49a7-bdab-30af1f6be9a1",
   "metadata": {},
   "source": [
    "#### hsplit(), vsplit(), dsplit() are also there"
   ]
  },
  {
   "cell_type": "markdown",
   "id": "5f90b75d-f808-4a2e-8d1a-7da56b473077",
   "metadata": {},
   "source": [
    "# Copy vs view"
   ]
  },
  {
   "cell_type": "code",
   "execution_count": 64,
   "id": "0a368e45-d651-4e49-b199-110d994de222",
   "metadata": {},
   "outputs": [],
   "source": [
    "egg_box_copy = egg_box.copy()\n",
    "egg_box_view = egg_box.view()"
   ]
  },
  {
   "cell_type": "code",
   "execution_count": 65,
   "id": "e866744e-1e21-4010-8f4d-9dc13964779b",
   "metadata": {},
   "outputs": [
    {
     "data": {
      "text/plain": [
       "array(['chicken_egg', 'country_egg', 'quail_egg', 'duck_egg',\n",
       "       'chicken_egg', 'country_egg', 'quail_egg', 'duck_egg'],\n",
       "      dtype='<U11')"
      ]
     },
     "execution_count": 65,
     "metadata": {},
     "output_type": "execute_result"
    }
   ],
   "source": [
    "egg_box_copy"
   ]
  },
  {
   "cell_type": "code",
   "execution_count": 66,
   "id": "de795c9d-65ed-4718-8d43-852bb5693557",
   "metadata": {},
   "outputs": [
    {
     "data": {
      "text/plain": [
       "array(['chicken_egg', 'country_egg', 'quail_egg', 'duck_egg',\n",
       "       'chicken_egg', 'country_egg', 'quail_egg', 'duck_egg'],\n",
       "      dtype='<U11')"
      ]
     },
     "execution_count": 66,
     "metadata": {},
     "output_type": "execute_result"
    }
   ],
   "source": [
    "egg_box"
   ]
  },
  {
   "cell_type": "code",
   "execution_count": 67,
   "id": "aecc0197-3331-411e-a045-a3068f8a85e9",
   "metadata": {},
   "outputs": [],
   "source": [
    "egg_box_view[0] = 'duck_egg'"
   ]
  },
  {
   "cell_type": "code",
   "execution_count": 68,
   "id": "33ec06a6-48c7-4f5e-b92f-a5c5fb7cd81a",
   "metadata": {},
   "outputs": [
    {
     "data": {
      "text/plain": [
       "array(['duck_egg', 'country_egg', 'quail_egg', 'duck_egg', 'chicken_egg',\n",
       "       'country_egg', 'quail_egg', 'duck_egg'], dtype='<U11')"
      ]
     },
     "execution_count": 68,
     "metadata": {},
     "output_type": "execute_result"
    }
   ],
   "source": [
    "egg_box_view"
   ]
  },
  {
   "cell_type": "code",
   "execution_count": 69,
   "id": "60fc94f5-69c5-45b1-a80b-b0469d4ba464",
   "metadata": {},
   "outputs": [
    {
     "data": {
      "text/plain": [
       "array(['duck_egg', 'country_egg', 'quail_egg', 'duck_egg', 'chicken_egg',\n",
       "       'country_egg', 'quail_egg', 'duck_egg'], dtype='<U11')"
      ]
     },
     "execution_count": 69,
     "metadata": {},
     "output_type": "execute_result"
    }
   ],
   "source": [
    "egg_box"
   ]
  },
  {
   "cell_type": "code",
   "execution_count": 70,
   "id": "e5e90b3c-fda2-4ca2-9ac6-1bef24c67891",
   "metadata": {},
   "outputs": [],
   "source": [
    "egg_box_copy[1] = 'dino_egg'"
   ]
  },
  {
   "cell_type": "code",
   "execution_count": 71,
   "id": "ce6c2c90-fe97-4f26-bfbc-2398d4b765d0",
   "metadata": {},
   "outputs": [
    {
     "data": {
      "text/plain": [
       "array(['duck_egg', 'country_egg', 'quail_egg', 'duck_egg', 'chicken_egg',\n",
       "       'country_egg', 'quail_egg', 'duck_egg'], dtype='<U11')"
      ]
     },
     "execution_count": 71,
     "metadata": {},
     "output_type": "execute_result"
    }
   ],
   "source": [
    "egg_box"
   ]
  },
  {
   "cell_type": "code",
   "execution_count": 72,
   "id": "2db572ce-e986-4aa3-8e5c-bc73d816f08d",
   "metadata": {},
   "outputs": [
    {
     "ename": "TypeError",
     "evalue": "can only concatenate list (not \"int\") to list",
     "output_type": "error",
     "traceback": [
      "\u001b[0;31m---------------------------------------------------------------------------\u001b[0m",
      "\u001b[0;31mTypeError\u001b[0m                                 Traceback (most recent call last)",
      "Cell \u001b[0;32mIn[72], line 2\u001b[0m\n\u001b[1;32m      1\u001b[0m my_list \u001b[38;5;241m=\u001b[39m [\u001b[38;5;241m1\u001b[39m,\u001b[38;5;241m2\u001b[39m,\u001b[38;5;241m3\u001b[39m,\u001b[38;5;241m4\u001b[39m,\u001b[38;5;241m5\u001b[39m]\n\u001b[0;32m----> 2\u001b[0m my_list \u001b[38;5;241m+\u001b[39m \u001b[38;5;241m1\u001b[39m\n",
      "\u001b[0;31mTypeError\u001b[0m: can only concatenate list (not \"int\") to list"
     ]
    }
   ],
   "source": [
    "my_list = [1,2,3,4,5]\n",
    "my_list + 1"
   ]
  },
  {
   "cell_type": "code",
   "execution_count": null,
   "id": "7a7d2743-1e97-4585-9da2-8337c0134544",
   "metadata": {},
   "outputs": [],
   "source": [
    "my_array = np.array([1,2,3,4,5])\n",
    "my_array+1"
   ]
  },
  {
   "cell_type": "code",
   "execution_count": null,
   "id": "3ded9a9a-5dc5-4777-92e5-94c7f204c6c9",
   "metadata": {},
   "outputs": [],
   "source": []
  }
 ],
 "metadata": {
  "kernelspec": {
   "display_name": "Python 3 (ipykernel)",
   "language": "python",
   "name": "python3"
  },
  "language_info": {
   "codemirror_mode": {
    "name": "ipython",
    "version": 3
   },
   "file_extension": ".py",
   "mimetype": "text/x-python",
   "name": "python",
   "nbconvert_exporter": "python",
   "pygments_lexer": "ipython3",
   "version": "3.12.7"
  }
 },
 "nbformat": 4,
 "nbformat_minor": 5
}
