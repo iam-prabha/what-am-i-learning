{
 "cells": [
  {
   "cell_type": "code",
   "execution_count": 1,
   "id": "697c444f-7035-4b53-ace3-7ed00b42915b",
   "metadata": {},
   "outputs": [],
   "source": [
    "item_id = 1"
   ]
  },
  {
   "cell_type": "code",
   "execution_count": 2,
   "id": "c5b1fb35-16f1-4a8e-9dd2-265c91234819",
   "metadata": {},
   "outputs": [],
   "source": [
    "item_name = 'rice'"
   ]
  },
  {
   "cell_type": "code",
   "execution_count": 3,
   "id": "23cc7241-3527-47ef-abd9-3a7be8f5dfe3",
   "metadata": {},
   "outputs": [],
   "source": [
    "item_quantity = 2.5"
   ]
  },
  {
   "cell_type": "code",
   "execution_count": 4,
   "id": "0cf3cc1c-b339-4b60-9a8d-1b9c68819ded",
   "metadata": {},
   "outputs": [],
   "source": [
    "needs_restock = False"
   ]
  },
  {
   "cell_type": "code",
   "execution_count": 5,
   "id": "0f9c238f-8aef-4e92-be79-cbbd607a9168",
   "metadata": {},
   "outputs": [
    {
     "data": {
      "text/plain": [
       "int"
      ]
     },
     "execution_count": 5,
     "metadata": {},
     "output_type": "execute_result"
    }
   ],
   "source": [
    "type(item_id) "
   ]
  },
  {
   "cell_type": "code",
   "execution_count": 6,
   "id": "96465564-9df6-4ee8-951e-239b4fba8aa7",
   "metadata": {},
   "outputs": [
    {
     "name": "stdout",
     "output_type": "stream",
     "text": [
      "1\n"
     ]
    }
   ],
   "source": [
    "print(item_id)"
   ]
  },
  {
   "cell_type": "code",
   "execution_count": 7,
   "id": "6604cf1f-4666-4d5c-b54b-f859323656ec",
   "metadata": {},
   "outputs": [
    {
     "data": {
      "text/plain": [
       "str"
      ]
     },
     "execution_count": 7,
     "metadata": {},
     "output_type": "execute_result"
    }
   ],
   "source": [
    "type(item_name)"
   ]
  },
  {
   "cell_type": "code",
   "execution_count": 8,
   "id": "b682b776-7143-4604-b333-2c21c4712c32",
   "metadata": {},
   "outputs": [
    {
     "data": {
      "text/plain": [
       "float"
      ]
     },
     "execution_count": 8,
     "metadata": {},
     "output_type": "execute_result"
    }
   ],
   "source": [
    "type(item_quantity)"
   ]
  },
  {
   "cell_type": "code",
   "execution_count": 9,
   "id": "5887568c-5e4b-4530-8815-506dd3517cd0",
   "metadata": {},
   "outputs": [
    {
     "data": {
      "text/plain": [
       "bool"
      ]
     },
     "execution_count": 9,
     "metadata": {},
     "output_type": "execute_result"
    }
   ],
   "source": [
    "type(needs_restock)"
   ]
  },
  {
   "cell_type": "markdown",
   "id": "44aa0497-055c-441e-9871-b3b5e92e74c2",
   "metadata": {},
   "source": [
    "# checkpoints"
   ]
  },
  {
   "cell_type": "markdown",
   "id": "45bce4ff-2aca-4d11-983f-123eb6527e00",
   "metadata": {},
   "source": [
    "- variable name can only start with '_' or 'str'\n",
    "- should be descriptive\n",
    "- case sensitive"
   ]
  },
  {
   "cell_type": "code",
   "execution_count": 10,
   "id": "169c2531-a91e-4272-bc44-75b65d22541d",
   "metadata": {},
   "outputs": [
    {
     "ename": "SyntaxError",
     "evalue": "invalid syntax (3826931684.py, line 1)",
     "output_type": "error",
     "traceback": [
      "\u001b[1;36m  Cell \u001b[1;32mIn[10], line 1\u001b[1;36m\u001b[0m\n\u001b[1;33m    &item_no = 12\u001b[0m\n\u001b[1;37m    ^\u001b[0m\n\u001b[1;31mSyntaxError\u001b[0m\u001b[1;31m:\u001b[0m invalid syntax\n"
     ]
    }
   ],
   "source": [
    "&item_no = 12"
   ]
  },
  {
   "cell_type": "code",
   "execution_count": 11,
   "id": "bcc01501-c86a-431a-b51f-5b9245dcb52b",
   "metadata": {},
   "outputs": [
    {
     "ename": "SyntaxError",
     "evalue": "invalid decimal literal (637124018.py, line 1)",
     "output_type": "error",
     "traceback": [
      "\u001b[1;36m  Cell \u001b[1;32mIn[11], line 1\u001b[1;36m\u001b[0m\n\u001b[1;33m    12item_no = 13\u001b[0m\n\u001b[1;37m     ^\u001b[0m\n\u001b[1;31mSyntaxError\u001b[0m\u001b[1;31m:\u001b[0m invalid decimal literal\n"
     ]
    }
   ],
   "source": [
    "12item_no = 13"
   ]
  },
  {
   "cell_type": "code",
   "execution_count": 12,
   "id": "08af1ad6-95dc-4ea2-a21f-4e573d19f048",
   "metadata": {},
   "outputs": [],
   "source": [
    "item_no = 12345"
   ]
  },
  {
   "cell_type": "code",
   "execution_count": 13,
   "id": "0d5fd12a-2960-4e79-a4f4-ffdbb35382b5",
   "metadata": {},
   "outputs": [],
   "source": [
    "ITEM_NO = 12345"
   ]
  },
  {
   "cell_type": "code",
   "execution_count": 14,
   "id": "70c0864d-c707-4a92-ad3a-6a857734200b",
   "metadata": {},
   "outputs": [],
   "source": [
    "item12_no = 123456"
   ]
  },
  {
   "cell_type": "code",
   "execution_count": 15,
   "id": "eb273db4-4c5d-4f72-a2c4-c106586c62c9",
   "metadata": {},
   "outputs": [
    {
     "data": {
      "text/plain": [
       "3"
      ]
     },
     "execution_count": 15,
     "metadata": {},
     "output_type": "execute_result"
    }
   ],
   "source": [
    "1 + 2"
   ]
  },
  {
   "cell_type": "code",
   "execution_count": 16,
   "id": "ae025dee-cedc-4e94-831a-4293bb99b227",
   "metadata": {},
   "outputs": [
    {
     "data": {
      "text/plain": [
       "2"
      ]
     },
     "execution_count": 16,
     "metadata": {},
     "output_type": "execute_result"
    }
   ],
   "source": [
    "1 and 2"
   ]
  },
  {
   "cell_type": "markdown",
   "id": "472001f9-7fd4-463c-adeb-bf0742d3bd63",
   "metadata": {},
   "source": [
    "# Variable declaration"
   ]
  },
  {
   "cell_type": "code",
   "execution_count": 17,
   "id": "bd0b5bcc-9da4-4f8b-9554-29bf3fadf2a1",
   "metadata": {},
   "outputs": [],
   "source": [
    "item_id = int(2)\n",
    "item_name = str(\"paruppu\")\n",
    "item_quantity = float(1)\n",
    "needs_restock = bool(True)"
   ]
  },
  {
   "cell_type": "code",
   "execution_count": 18,
   "id": "be602198-0400-461e-801d-a2cf240bbe68",
   "metadata": {},
   "outputs": [
    {
     "data": {
      "text/plain": [
       "bool"
      ]
     },
     "execution_count": 18,
     "metadata": {},
     "output_type": "execute_result"
    }
   ],
   "source": [
    "type(needs_restock)"
   ]
  },
  {
   "cell_type": "code",
   "execution_count": 19,
   "id": "b10ce6af-3aeb-4d96-9beb-f6dd8d22faff",
   "metadata": {},
   "outputs": [
    {
     "data": {
      "text/plain": [
       "bool"
      ]
     },
     "execution_count": 19,
     "metadata": {},
     "output_type": "execute_result"
    }
   ],
   "source": [
    "a = 1\n",
    "b = 1\n",
    "\n",
    "type(a == b)"
   ]
  },
  {
   "cell_type": "markdown",
   "id": "4215f6e1-5d0a-40e7-9d87-3a5bec6d93cb",
   "metadata": {},
   "source": [
    "# Dynamic typing"
   ]
  },
  {
   "cell_type": "code",
   "execution_count": 20,
   "id": "02f1cd9f-029b-4243-aeab-61dd617d720f",
   "metadata": {},
   "outputs": [
    {
     "name": "stdout",
     "output_type": "stream",
     "text": [
      "paruppu\n"
     ]
    }
   ],
   "source": [
    "print(item_name)"
   ]
  },
  {
   "cell_type": "code",
   "execution_count": null,
   "id": "e818d7f5-4396-4449-acb0-e10391da0be3",
   "metadata": {},
   "outputs": [],
   "source": []
  },
  {
   "cell_type": "markdown",
   "id": "a5bffa4c-df02-405a-a18d-62595b09acd8",
   "metadata": {},
   "source": [
    "# Type conversion"
   ]
  },
  {
   "cell_type": "markdown",
   "id": "49fc309d-d1de-4aef-88e8-c6f63fef5fda",
   "metadata": {},
   "source": [
    "- int to str\n",
    "- int to float\n",
    "- int to bool\n",
    "- but not str to int\n",
    "- boolean 0 = false, all others boolean = True"
   ]
  },
  {
   "cell_type": "code",
   "execution_count": 55,
   "id": "58a03265-261b-4df6-9adb-7f9e0ce306f7",
   "metadata": {},
   "outputs": [
    {
     "data": {
      "text/plain": [
       "float"
      ]
     },
     "execution_count": 55,
     "metadata": {},
     "output_type": "execute_result"
    }
   ],
   "source": [
    "type(item_quantity)"
   ]
  },
  {
   "cell_type": "code",
   "execution_count": 56,
   "id": "dcfc5947-6473-4590-9c78-a1813fea46a8",
   "metadata": {},
   "outputs": [
    {
     "data": {
      "text/plain": [
       "1"
      ]
     },
     "execution_count": 56,
     "metadata": {},
     "output_type": "execute_result"
    }
   ],
   "source": [
    "int(item_quantity)"
   ]
  },
  {
   "cell_type": "code",
   "execution_count": 57,
   "id": "5731bd9d-89ff-47f8-b5c6-0c6d82398fdb",
   "metadata": {},
   "outputs": [
    {
     "data": {
      "text/plain": [
       "int"
      ]
     },
     "execution_count": 57,
     "metadata": {},
     "output_type": "execute_result"
    }
   ],
   "source": [
    "type(int(item_quantity))"
   ]
  },
  {
   "cell_type": "code",
   "execution_count": 54,
   "id": "c55f59fc-3a83-4eaa-a6f2-ac4512f0ec27",
   "metadata": {},
   "outputs": [
    {
     "data": {
      "text/plain": [
       "True"
      ]
     },
     "execution_count": 54,
     "metadata": {},
     "output_type": "execute_result"
    }
   ],
   "source": [
    "bool(9)"
   ]
  },
  {
   "cell_type": "code",
   "execution_count": 60,
   "id": "732fea8d-3cfd-4447-9954-2acb3bd3eee4",
   "metadata": {},
   "outputs": [
    {
     "data": {
      "text/plain": [
       "True"
      ]
     },
     "execution_count": 60,
     "metadata": {},
     "output_type": "execute_result"
    }
   ],
   "source": [
    "bool(item_name)"
   ]
  }
 ],
 "metadata": {
  "kernelspec": {
   "display_name": "Python 3 (ipykernel)",
   "language": "python",
   "name": "python3"
  },
  "language_info": {
   "codemirror_mode": {
    "name": "ipython",
    "version": 3
   },
   "file_extension": ".py",
   "mimetype": "text/x-python",
   "name": "python",
   "nbconvert_exporter": "python",
   "pygments_lexer": "ipython3",
   "version": "3.12.7"
  }
 },
 "nbformat": 4,
 "nbformat_minor": 5
}
