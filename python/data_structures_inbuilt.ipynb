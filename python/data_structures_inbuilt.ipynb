{
 "cells": [
  {
   "cell_type": "markdown",
   "id": "cf664c8c",
   "metadata": {},
   "source": [
    "# 📚 Python Inbuilt Data Structures - End-to-End Guide\n",
    "\n",
    "### 👶 Made easy so that even a beginner can understand!\n",
    "\n",
    "## 📌 What are Data Structures?\n",
    "Data structures help us store and organize data efficiently. Python provides four main built-in data structures:\n",
    "\n",
    "1. **Lists** - A collection of ordered, changeable items (e.g., a shopping list 🛒).\n",
    "2. **Tuples** - Similar to lists but immutable (e.g., days of the week 📅).\n",
    "3. **Sets** - A collection of unordered unique items (e.g., unique colors in a painting 🎨).\n",
    "4. **Dictionaries** - Key-value pairs (e.g., a phonebook 📖).\n",
    "\n",
    "Let's explore each in a simple way! 🚀"
   ]
  },
  {
   "cell_type": "markdown",
   "id": "b071c9b1",
   "metadata": {},
   "source": [
    "## 1️⃣ Lists - Ordered & Mutable 📋"
   ]
  },
  {
   "cell_type": "markdown",
   "id": "323540fe",
   "metadata": {},
   "source": [
    "### Example: A Shopping List 🛒"
   ]
  },
  {
   "cell_type": "code",
   "execution_count": 1,
   "id": "d2f5a911",
   "metadata": {},
   "outputs": [
    {
     "name": "stdout",
     "output_type": "stream",
     "text": [
      "Shopping List: ['Milk', 'Eggs', 'Bread', 'Butter']\n"
     ]
    }
   ],
   "source": [
    "shopping_list = ['Milk', 'Eggs', 'Bread', 'Butter']\n",
    "print('Shopping List:', shopping_list)"
   ]
  },
  {
   "cell_type": "markdown",
   "id": "6850b361",
   "metadata": {},
   "source": [
    "### ✅ List Methods"
   ]
  },
  {
   "cell_type": "code",
   "execution_count": 2,
   "id": "8aa65032",
   "metadata": {},
   "outputs": [
    {
     "name": "stdout",
     "output_type": "stream",
     "text": [
      "Added item:  ['Milk', 'Apples', 'Eggs', 'Bread', 'Butter', 'Cheese']\n",
      "Updated Shopping List: ['Milk', 'Butter', 'Bread', 'Apples', 'Milk']\n",
      "Milk Count: 2\n"
     ]
    }
   ],
   "source": [
    "# Adding items\n",
    "shopping_list.append('Cheese')\n",
    "shopping_list.insert(1, 'Apples')\n",
    "print('Added item: ',shopping_list)\n",
    "\n",
    "# Removing items\n",
    "shopping_list.remove('Eggs')\n",
    "last_item = shopping_list.pop()\n",
    "\n",
    "# Sorting and Reversing\n",
    "shopping_list.sort()\n",
    "shopping_list.reverse()\n",
    "\n",
    "# Counting occurrences\n",
    "shopping_list.append('Milk')\n",
    "milk_count = shopping_list.count('Milk')\n",
    "\n",
    "# Copying and Clearing\n",
    "copied_list = shopping_list.copy()\n",
    "shopping_list.clear()\n",
    "\n",
    "print('Updated Shopping List:', copied_list)\n",
    "print('Milk Count:', milk_count)"
   ]
  },
  {
   "cell_type": "markdown",
   "id": "15525400",
   "metadata": {},
   "source": [
    "## 2️⃣ Tuples - Ordered & Immutable 🔒"
   ]
  },
  {
   "cell_type": "markdown",
   "id": "1a98c5d1",
   "metadata": {},
   "source": [
    "### Example: Days of the Week 📅"
   ]
  },
  {
   "cell_type": "code",
   "execution_count": 3,
   "id": "3d017c0b",
   "metadata": {},
   "outputs": [
    {
     "name": "stdout",
     "output_type": "stream",
     "text": [
      "Days of the Week: ('Monday', 'Tuesday', 'Wednesday', 'Thursday', 'Friday', 'Saturday', 'Sunday')\n"
     ]
    }
   ],
   "source": [
    "days_of_week = ('Monday', 'Tuesday', 'Wednesday', 'Thursday', 'Friday', 'Saturday', 'Sunday')\n",
    "print('Days of the Week:', days_of_week)"
   ]
  },
  {
   "cell_type": "markdown",
   "id": "cd7dfc00",
   "metadata": {},
   "source": [
    "### ✅ Tuple Methods"
   ]
  },
  {
   "cell_type": "code",
   "execution_count": 4,
   "id": "3518ba99",
   "metadata": {},
   "outputs": [
    {
     "name": "stdout",
     "output_type": "stream",
     "text": [
      "First day: Monday\n",
      "Index of Wednesday: 2\n",
      "Count of Monday: 1\n"
     ]
    }
   ],
   "source": [
    "# Accessing elements\n",
    "print('First day:', days_of_week[0])\n",
    "\n",
    "# Finding index\n",
    "print('Index of Wednesday:', days_of_week.index('Wednesday'))\n",
    "\n",
    "# Counting occurrences\n",
    "print('Count of Monday:', days_of_week.count('Monday'))"
   ]
  },
  {
   "cell_type": "markdown",
   "id": "09dfff89",
   "metadata": {},
   "source": [
    "## 3️⃣ Sets - Unordered & Unique Items 🎨"
   ]
  },
  {
   "cell_type": "markdown",
   "id": "afe4029e",
   "metadata": {},
   "source": [
    "### Example: Unique Colors in a Painting 🎨"
   ]
  },
  {
   "cell_type": "code",
   "execution_count": 5,
   "id": "cac87cab",
   "metadata": {},
   "outputs": [
    {
     "name": "stdout",
     "output_type": "stream",
     "text": [
      "Unique Colors: {'red', 'yellow', 'green', 'blue'}\n"
     ]
    }
   ],
   "source": [
    "colors = {'red', 'blue', 'green', 'yellow', 'blue', 'red'}\n",
    "print('Unique Colors:', colors)"
   ]
  },
  {
   "cell_type": "markdown",
   "id": "bf8a4afa",
   "metadata": {},
   "source": [
    "### ✅ Set Methods"
   ]
  },
  {
   "cell_type": "code",
   "execution_count": 6,
   "id": "6bc77cb8",
   "metadata": {},
   "outputs": [
    {
     "name": "stdout",
     "output_type": "stream",
     "text": [
      "After Adding & Removing: {'purple', 'yellow', 'green', 'blue'}\n",
      "Union: {'purple', 'yellow', 'black', 'white', 'green', 'blue'}\n",
      "Intersection: {'blue'}\n"
     ]
    }
   ],
   "source": [
    "# Adding and Removing items\n",
    "colors.add('purple')\n",
    "colors.remove('red')\n",
    "\n",
    "# Set operations\n",
    "other_colors = {'black', 'white', 'blue'}\n",
    "union_colors = colors.union(other_colors)\n",
    "intersection_colors = colors.intersection(other_colors)\n",
    "\n",
    "print('After Adding & Removing:', colors)\n",
    "print('Union:', union_colors)\n",
    "print('Intersection:', intersection_colors)"
   ]
  },
  {
   "cell_type": "markdown",
   "id": "79e41ff0",
   "metadata": {},
   "source": [
    "## 4️⃣ Dictionaries - Key-Value Pairs 📖"
   ]
  },
  {
   "cell_type": "markdown",
   "id": "e52a808a",
   "metadata": {},
   "source": [
    "### Example: Phonebook 📖"
   ]
  },
  {
   "cell_type": "code",
   "execution_count": 7,
   "id": "c4f5e19e",
   "metadata": {},
   "outputs": [
    {
     "name": "stdout",
     "output_type": "stream",
     "text": [
      "Phonebook: {'Alice': '123-456', 'Bob': '987-654', 'Charlie': '555-666'}\n"
     ]
    }
   ],
   "source": [
    "phonebook = {'Alice': '123-456', 'Bob': '987-654', 'Charlie': '555-666'}\n",
    "print('Phonebook:', phonebook)"
   ]
  },
  {
   "cell_type": "markdown",
   "id": "97188a72",
   "metadata": {},
   "source": [
    "### ✅ Dictionary Methods"
   ]
  },
  {
   "cell_type": "code",
   "execution_count": 8,
   "id": "a7a30b30",
   "metadata": {},
   "outputs": [
    {
     "name": "stdout",
     "output_type": "stream",
     "text": [
      "Updated Phonebook: {'Alice': '123-456', 'Charlie': '555-666', 'David': '111-222', 'Eve': '333-444'}\n"
     ]
    }
   ],
   "source": [
    "# Adding & updating\n",
    "phonebook['David'] = '111-222'\n",
    "phonebook.update({'Eve': '333-444'})\n",
    "\n",
    "# Removing\n",
    "phonebook.pop('Bob')\n",
    "\n",
    "print('Updated Phonebook:', phonebook)"
   ]
  }
 ],
 "metadata": {
  "kernelspec": {
   "display_name": "Python 3 (ipykernel)",
   "language": "python",
   "name": "python3"
  },
  "language_info": {
   "codemirror_mode": {
    "name": "ipython",
    "version": 3
   },
   "file_extension": ".py",
   "mimetype": "text/x-python",
   "name": "python",
   "nbconvert_exporter": "python",
   "pygments_lexer": "ipython3",
   "version": "3.12.7"
  }
 },
 "nbformat": 4,
 "nbformat_minor": 5
}
