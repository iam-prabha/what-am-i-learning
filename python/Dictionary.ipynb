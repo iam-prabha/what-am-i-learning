{
 "cells": [
  {
   "cell_type": "markdown",
   "id": "c20ab8b2-a0a2-470e-9a89-30c991813080",
   "metadata": {},
   "source": [
    "# Create Dictionary\n",
    "- Ordered\n",
    "- changeable\n",
    "- NO duplicates\n",
    "- dict can have items that are of diff data types"
   ]
  },
  {
   "cell_type": "code",
   "execution_count": 1,
   "id": "96195d65-bf62-4985-9460-7f1986fb34f8",
   "metadata": {},
   "outputs": [],
   "source": [
    "raja_rani_dictionary = {\"raja\" : 1000,\n",
    "                       \"rani\" : 500,\n",
    "                       \"mandiri\" : 200,\n",
    "                       \"rani\": 600,\n",
    "                       \"thirudan\": [0,0,0,0]}"
   ]
  },
  {
   "cell_type": "code",
   "execution_count": 2,
   "id": "4e3a1c89-9967-4492-b4a2-9837eb5ce3c1",
   "metadata": {},
   "outputs": [
    {
     "data": {
      "text/plain": [
       "{'raja': 1000, 'rani': 600, 'mandiri': 200, 'thirudan': [0, 0, 0, 0]}"
      ]
     },
     "execution_count": 2,
     "metadata": {},
     "output_type": "execute_result"
    }
   ],
   "source": [
    "raja_rani_dictionary"
   ]
  },
  {
   "cell_type": "code",
   "execution_count": 4,
   "id": "ff9de017-13dc-4d88-98ab-e1ee3881c10d",
   "metadata": {},
   "outputs": [],
   "source": [
    "raja_rani_dictionary['raja'] = 1200"
   ]
  },
  {
   "cell_type": "markdown",
   "id": "1d6398d7-fb1a-4773-a91e-e79d0f4e7dbc",
   "metadata": {},
   "source": [
    "# Dictionary Accessing\n",
    "- using keys\n",
    "- using .get(key)\n",
    "- .values()\n",
    "- .items()"
   ]
  },
  {
   "cell_type": "code",
   "execution_count": 5,
   "id": "81ebb3b4-9c99-48d5-bbcd-04c8c240c1bb",
   "metadata": {},
   "outputs": [
    {
     "data": {
      "text/plain": [
       "dict_keys(['raja', 'rani', 'mandiri', 'thirudan'])"
      ]
     },
     "execution_count": 5,
     "metadata": {},
     "output_type": "execute_result"
    }
   ],
   "source": [
    "raja_rani_dictionary. keys()"
   ]
  },
  {
   "cell_type": "code",
   "execution_count": 6,
   "id": "9829ef04-9ce8-4b4d-86b5-9bf614547b1f",
   "metadata": {},
   "outputs": [
    {
     "data": {
      "text/plain": [
       "dict_values([1200, 600, 200, [0, 0, 0, 0]])"
      ]
     },
     "execution_count": 6,
     "metadata": {},
     "output_type": "execute_result"
    }
   ],
   "source": [
    "raja_rani_dictionary.values()"
   ]
  },
  {
   "cell_type": "code",
   "execution_count": 7,
   "id": "1c403154-efa2-4551-a113-488cb47096ab",
   "metadata": {},
   "outputs": [
    {
     "data": {
      "text/plain": [
       "dict_items([('raja', 1200), ('rani', 600), ('mandiri', 200), ('thirudan', [0, 0, 0, 0])])"
      ]
     },
     "execution_count": 7,
     "metadata": {},
     "output_type": "execute_result"
    }
   ],
   "source": [
    "raja_rani_dictionary.items()"
   ]
  },
  {
   "cell_type": "code",
   "execution_count": 8,
   "id": "3b421fbd-8c02-4361-b20d-3e909606ff9b",
   "metadata": {},
   "outputs": [],
   "source": [
    "raja_rani_dictionary.get('dog')"
   ]
  },
  {
   "cell_type": "code",
   "execution_count": 9,
   "id": "f1bd9c20-93ae-4ecf-add4-f80745fa05aa",
   "metadata": {},
   "outputs": [
    {
     "ename": "KeyError",
     "evalue": "'dog'",
     "output_type": "error",
     "traceback": [
      "\u001b[0;31m---------------------------------------------------------------------------\u001b[0m",
      "\u001b[0;31mKeyError\u001b[0m                                  Traceback (most recent call last)",
      "Cell \u001b[0;32mIn[9], line 1\u001b[0m\n\u001b[0;32m----> 1\u001b[0m raja_rani_dictionary[\u001b[38;5;124m'\u001b[39m\u001b[38;5;124mdog\u001b[39m\u001b[38;5;124m'\u001b[39m]\n",
      "\u001b[0;31mKeyError\u001b[0m: 'dog'"
     ]
    }
   ],
   "source": [
    "raja_rani_dictionary['dog']"
   ]
  },
  {
   "cell_type": "markdown",
   "id": "678734f0-ff9c-4507-84fc-9ab51eafd101",
   "metadata": {},
   "source": [
    "# Add new items\n",
    "- use keys, update()"
   ]
  },
  {
   "cell_type": "code",
   "execution_count": 10,
   "id": "70f1cfa9-11ee-4dff-adbd-3eca0fd2b104",
   "metadata": {},
   "outputs": [],
   "source": [
    "raja_rani_dictionary.update({'sippai': 150})"
   ]
  },
  {
   "cell_type": "code",
   "execution_count": 11,
   "id": "7baf2259-73ef-4118-9231-8b70a0fe8cf4",
   "metadata": {},
   "outputs": [
    {
     "data": {
      "text/plain": [
       "{'raja': 1200,\n",
       " 'rani': 600,\n",
       " 'mandiri': 200,\n",
       " 'thirudan': [0, 0, 0, 0],\n",
       " 'sippai': 150}"
      ]
     },
     "execution_count": 11,
     "metadata": {},
     "output_type": "execute_result"
    }
   ],
   "source": [
    "raja_rani_dictionary"
   ]
  },
  {
   "cell_type": "markdown",
   "id": "0d35f70c-a32a-464d-9e52-c761aa7a66f9",
   "metadata": {},
   "source": [
    "# Remove old items\n",
    "- pop(key), popitem(), del, clear()"
   ]
  },
  {
   "cell_type": "code",
   "execution_count": 12,
   "id": "7582462c-7e01-47a9-ac30-a29c22249d27",
   "metadata": {},
   "outputs": [
    {
     "data": {
      "text/plain": [
       "[0, 0, 0, 0]"
      ]
     },
     "execution_count": 12,
     "metadata": {},
     "output_type": "execute_result"
    }
   ],
   "source": [
    "raja_rani_dictionary.pop('thirudan')"
   ]
  },
  {
   "cell_type": "code",
   "execution_count": 13,
   "id": "87377cba-245a-4906-95b3-f2a8bfe648e4",
   "metadata": {},
   "outputs": [
    {
     "data": {
      "text/plain": [
       "{'raja': 1200, 'rani': 600, 'mandiri': 200, 'sippai': 150}"
      ]
     },
     "execution_count": 13,
     "metadata": {},
     "output_type": "execute_result"
    }
   ],
   "source": [
    "raja_rani_dictionary"
   ]
  },
  {
   "cell_type": "code",
   "execution_count": 14,
   "id": "d1f5aeb1-f8d1-4746-916a-4257bcde0673",
   "metadata": {},
   "outputs": [
    {
     "data": {
      "text/plain": [
       "('sippai', 150)"
      ]
     },
     "execution_count": 14,
     "metadata": {},
     "output_type": "execute_result"
    }
   ],
   "source": [
    "raja_rani_dictionary.popitem()\n"
   ]
  },
  {
   "cell_type": "code",
   "execution_count": 15,
   "id": "1da2b294-af12-4d8b-afa3-4546485ff056",
   "metadata": {},
   "outputs": [],
   "source": [
    "raja_rani_dictionary.clear()"
   ]
  },
  {
   "cell_type": "code",
   "execution_count": 16,
   "id": "2ab9c8df-2e62-49db-97b7-939a4d2e199a",
   "metadata": {},
   "outputs": [],
   "source": [
    "del raja_rani_dictionary"
   ]
  },
  {
   "cell_type": "code",
   "execution_count": 17,
   "id": "2cdaeb70-757a-4257-a3f4-66cfeade62cb",
   "metadata": {},
   "outputs": [
    {
     "ename": "NameError",
     "evalue": "name 'raja_rani_dictionary' is not defined",
     "output_type": "error",
     "traceback": [
      "\u001b[0;31m---------------------------------------------------------------------------\u001b[0m",
      "\u001b[0;31mNameError\u001b[0m                                 Traceback (most recent call last)",
      "Cell \u001b[0;32mIn[17], line 1\u001b[0m\n\u001b[0;32m----> 1\u001b[0m raja_rani_dictionary\n",
      "\u001b[0;31mNameError\u001b[0m: name 'raja_rani_dictionary' is not defined"
     ]
    }
   ],
   "source": [
    "raja_rani_dictionary"
   ]
  },
  {
   "cell_type": "markdown",
   "id": "1bd49cc7-465e-4c9c-83d0-46f74b65366c",
   "metadata": {},
   "source": [
    "# Additional Methods - Nothing Much\n",
    "- count, copy, reverse, sort"
   ]
  },
  {
   "cell_type": "code",
   "execution_count": null,
   "id": "d66df9aa-55a4-4e10-a43c-e7330cf74983",
   "metadata": {},
   "outputs": [],
   "source": []
  },
  {
   "cell_type": "code",
   "execution_count": null,
   "id": "658cf738-c844-443e-bd1a-8aa4778dff27",
   "metadata": {},
   "outputs": [],
   "source": []
  },
  {
   "cell_type": "markdown",
   "id": "1aaf5688-d8c7-4014-88a7-482735fe600a",
   "metadata": {},
   "source": [
    "# Dictionary Loops\n",
    "- keys(), items(), values()"
   ]
  }
 ],
 "metadata": {
  "kernelspec": {
   "display_name": "Python 3 (ipykernel)",
   "language": "python",
   "name": "python3"
  },
  "language_info": {
   "codemirror_mode": {
    "name": "ipython",
    "version": 3
   },
   "file_extension": ".py",
   "mimetype": "text/x-python",
   "name": "python",
   "nbconvert_exporter": "python",
   "pygments_lexer": "ipython3",
   "version": "3.12.7"
  }
 },
 "nbformat": 4,
 "nbformat_minor": 5
}
