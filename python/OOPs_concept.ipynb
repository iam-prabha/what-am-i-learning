{
 "cells": [
  {
   "cell_type": "markdown",
   "id": "a482a2d1",
   "metadata": {},
   "source": [
    "### **Core Concept of oop**"
   ]
  },
  {
   "cell_type": "markdown",
   "id": "2931dbe1",
   "metadata": {},
   "source": [
    "There are four pillars of OOP, often referred to as **P.I.E.A**.:\n",
    "\n",
    "* Polymorphism\n",
    "\n",
    "* Inheritance\n",
    "\n",
    "* Encapsulation\n",
    "\n",
    "* Abstraction"
   ]
  },
  {
   "cell_type": "markdown",
   "id": "68d8e1ba",
   "metadata": {},
   "source": [
    "**Class**\n",
    "\n",
    "A class is a blueprint, a template, or a prototype from which objects are created. It defines a set of attributes (data) and methods (functions) that the created objects will have.\n",
    "\n",
    "* **Definition:** You define a class using the class keyword.\n",
    "\n",
    "* **Naming Convention:** Class names typically use `PascalCase` (e.g., `MyClass`, `Car`, `Person`)."
   ]
  },
  {
   "cell_type": "code",
   "execution_count": 13,
   "id": "c10d24df",
   "metadata": {},
   "outputs": [],
   "source": [
    "# Defining a simple class\n",
    "class Dog:\n",
    "    # class attribute (shared by all instances of Dog)\n",
    "    species = 'Canis familiaris'\n",
    "\n",
    "    # The constructor method: __init__\n",
    "    # 'self' refers to the instance of the class being created\n",
    "    def __init__(self, name, breed, age):\n",
    "        # Instance attributes (unique to each object)\n",
    "        self.name = name\n",
    "        self.breed = breed\n",
    "        self.age = age\n",
    "        self.is_hungry = True # Default state\n",
    "\n",
    "    # Instance method (behavior of the object)\n",
    "    def bark(self):\n",
    "        return f'{self.name} says woof!'\n",
    "    \n",
    "    def eat(self):\n",
    "        if self.is_hungry:\n",
    "            self.is_hungry = False\n",
    "            return f'{self.name} is full now'\n",
    "        else:\n",
    "            return f'{self.name} is not hungry right now!'\n",
    "        \n",
    "    # Special method for string representation (human-readable)\n",
    "    def __str__(self):\n",
    "        return f'{self.name} ({self.breed}, {self.age} years old)'\n",
    "    \n",
    "    # Special method for \"official\" string representation (for debugging)\n",
    "    def __repr__(self):\n",
    "        return f'Dog(name={self.name}, breed={self.breed}, age={self.age})'"
   ]
  },
  {
   "cell_type": "markdown",
   "id": "ada93374",
   "metadata": {},
   "source": [
    "**Object (Instance)**\n",
    "\n",
    "An object is an instance of a class. It's a concrete realization of the blueprint. When you create an object, memory is allocated to store its specific attributes.\n",
    "\n",
    "**Creation:** You create an object by calling the class as if it were a function."
   ]
  },
  {
   "cell_type": "code",
   "execution_count": 14,
   "id": "342c1e4d",
   "metadata": {},
   "outputs": [],
   "source": [
    "# Creating object (instance) of the Dog class\n",
    "my_dog = Dog('Buddy', 'Golden Retriever', 5)\n",
    "your_dog = Dog('Max', 'Labrador', 3)\n"
   ]
  },
  {
   "cell_type": "code",
   "execution_count": 15,
   "id": "0639b389",
   "metadata": {},
   "outputs": [
    {
     "name": "stdout",
     "output_type": "stream",
     "text": [
      "Buddy is a Golden Retriever and is 5 years old.\n",
      "Max is a Labrador and is 3 years old.\n"
     ]
    }
   ],
   "source": [
    "# Accessing attributes\n",
    "print(f'{my_dog.name} is a {my_dog.breed} and is {my_dog.age} years old.')\n",
    "print(f'{your_dog.name} is a {your_dog.breed} and is {your_dog.age} years old.')"
   ]
  },
  {
   "cell_type": "code",
   "execution_count": 16,
   "id": "011ca588",
   "metadata": {},
   "outputs": [
    {
     "name": "stdout",
     "output_type": "stream",
     "text": [
      "Buddy says woof!\n",
      "Max is full now\n",
      "Max is not hungry right now!\n",
      "Is Buddy hungry? True\n"
     ]
    }
   ],
   "source": [
    "# Calling methods\n",
    "print(my_dog.bark())\n",
    "print(your_dog.eat())\n",
    "print(your_dog.eat())  # Try eating again\n",
    "print(f'Is {my_dog.name} hungry? {my_dog.is_hungry}')"
   ]
  },
  {
   "cell_type": "code",
   "execution_count": 17,
   "id": "9f44b0bb",
   "metadata": {},
   "outputs": [
    {
     "name": "stdout",
     "output_type": "stream",
     "text": [
      "Buddy (Golden Retriever, 5 years old)\n",
      "Dog(name=Max, breed=Labrador, age=3)\n"
     ]
    }
   ],
   "source": [
    "# using __str__ and __repr__\n",
    "print(my_dog) # Calls __str__\n",
    "print(repr(your_dog)) # Calls __repr__"
   ]
  },
  {
   "cell_type": "markdown",
   "id": "663574c2",
   "metadata": {},
   "source": [
    "**Inheritance**\n",
    "\n",
    "**Concept:** Inheritance allows a new class (the **subclass** or **child class**) to inherit properties (attributes and methods) from an existing class (the **superclass** or **parent class**). This promotes code reusability and establishes an \"is-a\" relationship (e.g., a `GoldenRetriever` is a `Dog`).\n",
    "\n",
    "**Syntax:** `class ChildClass(ParentClass):`\n",
    "\n",
    "`super():` Used to call methods of the parent class, especially the parent's  `__init__` method."
   ]
  },
  {
   "cell_type": "code",
   "execution_count": 18,
   "id": "6f578d6d",
   "metadata": {},
   "outputs": [
    {
     "name": "stdout",
     "output_type": "stream",
     "text": [
      "Max (Age: 7)\n",
      "Max says woof!\n",
      "Whiskers (Age: 4)\n",
      "Whiskers says meow!\n"
     ]
    }
   ],
   "source": [
    "class Animal:\n",
    "    def __init__(self, name, age):\n",
    "        self.name = name\n",
    "        self.age =  age\n",
    "\n",
    "    def speak(self):\n",
    "        raise NotImplementedError(\"Subclasses must implement this method\")\n",
    "    \n",
    "\n",
    "    def __str__(self):\n",
    "        return f'{self.name} (Age: {self.age})'\n",
    "    \n",
    "# Dog inherits from Animal\n",
    "class Dog(Animal):\n",
    "    def __init__(self, name, age, breed):\n",
    "        super().__init__(name, age) # call parent's constructor\n",
    "        self.breed = breed\n",
    "    \n",
    "    def speak(self): # overiding the speak method\n",
    "        return f'{self.name} says woof!'\n",
    "    \n",
    "# Cat inherits from Animal\n",
    "class Cat(Animal):\n",
    "    def __init__(self, name, age, color):\n",
    "        super().__init__(name, age)\n",
    "        self.color = color\n",
    "\n",
    "    def speak(self): # overiding the speak method\n",
    "        return f'{self.name} says meow!'\n",
    "    \n",
    "my_dog = Dog('Max', 7, 'German Shepherd')\n",
    "my_cat = Cat('Whiskers', 4, 'Tabby')\n",
    "\n",
    "print(my_dog)\n",
    "print(my_dog.speak())\n",
    "\n",
    "print(my_cat)\n",
    "print(my_cat.speak())"
   ]
  },
  {
   "cell_type": "markdown",
   "id": "8ab92ef2",
   "metadata": {},
   "source": [
    "**Multiple Inheritance:** Python supports inheriting from multiple parent classes. While powerful, it can lead to complex method resolution orders (MRO) and potential diamond problems. Use with caution."
   ]
  },
  {
   "cell_type": "code",
   "execution_count": 19,
   "id": "c97ea632",
   "metadata": {},
   "outputs": [
    {
     "name": "stdout",
     "output_type": "stream",
     "text": [
      "I can fly!\n",
      "I can swim!\n",
      "Quack!\n"
     ]
    }
   ],
   "source": [
    "class Flyer:\n",
    "    def fly(self):\n",
    "        return \"I can fly!\"\n",
    "\n",
    "class Swimmer:\n",
    "    def swim(self):\n",
    "        return \"I can swim!\"\n",
    "\n",
    "class Duck(Flyer, Swimmer): # Inherits from both\n",
    "    def quack(self):\n",
    "        return \"Quack!\"\n",
    "\n",
    "d = Duck()\n",
    "print(d.fly())\n",
    "print(d.swim())\n",
    "print(d.quack())"
   ]
  },
  {
   "cell_type": "markdown",
   "id": "0ed76bfe",
   "metadata": {},
   "source": [
    "**Polymorphism**\n",
    "\n",
    "**Concept:** Polymorphism means \"many forms.\" In OOP, it refers to the ability of objects of different classes to respond to the same method call in their own way. This is often achieved through method overriding (as seen with `speak()` above) and \"duck typing.\"\n",
    "\n",
    "**Duck Typing:** A core Python concept. If an object \"walks like a duck and quacks like a duck,\" then it's treated as a duck. Python doesn't care about the object's explicit type, only whether it has the necessary methods or attributes."
   ]
  },
  {
   "cell_type": "code",
   "execution_count": 20,
   "id": "fdd649ed",
   "metadata": {},
   "outputs": [
    {
     "name": "stdout",
     "output_type": "stream",
     "text": [
      "Max: Max says woof!\n",
      "Whiskers: Whiskers says meow!\n",
      "R2D2: Beep boop!\n"
     ]
    }
   ],
   "source": [
    "# Reusing our Dog and Cat classes from Inheritance example\n",
    "\n",
    "def make_animal_speak(animal):\n",
    "    # We don't care if 'animal' is a Dog or a Cat, only that it has a 'speak' method.\n",
    "    print(f\"{animal.name}: {animal.speak()}\")\n",
    "\n",
    "make_animal_speak(my_dog)  # Output: Max: Max says Woof!\n",
    "make_animal_speak(my_cat)  # Output: Whiskers: Whiskers says Meow!\n",
    "\n",
    "# Example with a non-Animal class that has a 'speak' method\n",
    "class Robot:\n",
    "    def __init__(self, name):\n",
    "        self.name = name\n",
    "    def speak(self):\n",
    "        return \"Beep boop!\"\n",
    "\n",
    "my_robot = Robot(\"R2D2\")\n",
    "make_animal_speak(my_robot) # Output: R2D2: Beep boop! (Demonstrates duck typing)\n",
    "\n"
   ]
  },
  {
   "cell_type": "markdown",
   "id": "8013bc77",
   "metadata": {},
   "source": [
    "**Encapsulation**\n",
    "\n",
    "**Concept:** Encapsulation means bundling data (attributes) and the methods that operate on that data within a single unit (the class). It also involves restricting direct access to some of an object's components, promoting data integrity.\n",
    "\n",
    "In Python, strict \"private\" members don't exist as they do in Java/C++. Instead, we use conventions:\n",
    "\n",
    "**Public:** `my_attribute` - Accessible from anywhere.\n",
    "\n",
    "**Protected (Convention):** `_my_attribute` - Single leading underscore. Indicates it's intended for internal use within the class or its subclasses, but can still be accessed directly. Programmers are \"asked\" to respect this convention.\n",
    "\n",
    "**Private (Name Mangling):** `__my_attribute` - Double leading underscore. Python \"mangles\" the name (e.g., `_ClassName__my_attribute`) to make it harder (but not impossible) to access directly from outside the class. This is primarily to avoid naming conflicts in inheritance."
   ]
  },
  {
   "cell_type": "code",
   "execution_count": 21,
   "id": "71c4b802",
   "metadata": {},
   "outputs": [
    {
     "name": "stdout",
     "output_type": "stream",
     "text": [
      "Deposited 500. New balance: 1500\n",
      "Withdrew 200. New balance: 1300\n",
      "Current balance: 1300\n",
      "This is a private-ish method.\n"
     ]
    }
   ],
   "source": [
    "class BankAccount:\n",
    "    def __init__(self, initial_balance):\n",
    "        self._balance = initial_balance # Protected attribute (by convention)\n",
    "\n",
    "    def deposit(self, amount):\n",
    "        if amount > 0:\n",
    "            self._balance += amount\n",
    "            print(f\"Deposited {amount}. New balance: {self._balance}\")\n",
    "        else:\n",
    "            print(\"Deposit amount must be positive.\")\n",
    "\n",
    "    def withdraw(self, amount):\n",
    "        if amount > 0 and amount <= self._balance:\n",
    "            self._balance -= amount\n",
    "            print(f\"Withdrew {amount}. New balance: {self._balance}\")\n",
    "        else:\n",
    "            print(\"Invalid withdrawal amount or insufficient funds.\")\n",
    "\n",
    "    def get_balance(self): # Public method to access balance\n",
    "        return self._balance\n",
    "\n",
    "    # Attempt to demonstrate name mangling (though direct access is still possible if you know the mangled name)\n",
    "    def __private_method(self):\n",
    "        print(\"This is a private-ish method.\")\n",
    "\n",
    "    def public_method_calling_private(self):\n",
    "        self.__private_method() # Can be called internally\n",
    "\n",
    "my_account = BankAccount(1000)\n",
    "my_account.deposit(500)\n",
    "my_account.withdraw(200)\n",
    "print(f\"Current balance: {my_account.get_balance()}\")\n",
    "\n",
    "# Accessing protected attribute directly (discouraged but possible)\n",
    "# print(f\"Direct access to balance (discouraged): {my_account._balance}\")\n",
    "\n",
    "# Attempting to call the \"private\" method directly (will fail)\n",
    "# my_account.__private_method() # AttributeError\n",
    "\n",
    "# Calling via a public method\n",
    "my_account.public_method_calling_private() # Works"
   ]
  },
  {
   "cell_type": "markdown",
   "id": "f47eb93b",
   "metadata": {},
   "source": [
    "**Abstraction**\n",
    "\n",
    "**Concept:** Abstraction means showing only essential information and hiding the complex implementation details. It focuses on \"what\" an object does rather than \"how\" it does it. This allows users to interact with objects without needing to understand the internal complexities.\n",
    "\n",
    "In Python, abstraction is achieved through:\n",
    "\n",
    "**Classes and Objects:** The very act of defining a class is abstraction. Users interact with methods like `deposit()` or `bark()` without needing to know the internal logic.\n",
    "\n",
    "**Abstract Base Classes (ABCs):** Using the `abc` module, you can define abstract classes and abstract methods. Abstract methods must be implemented by concrete subclasses. This enforces a contract."
   ]
  },
  {
   "cell_type": "code",
   "execution_count": 22,
   "id": "1168be35",
   "metadata": {},
   "outputs": [
    {
     "name": "stdout",
     "output_type": "stream",
     "text": [
      "Rectangle area: 50\n",
      "Rectangle perimeter: 30\n",
      "This is a geometric shape.\n",
      "Circle area: 153.93791\n",
      "Circle perimeter: 43.98226\n",
      "This is a geometric shape.\n"
     ]
    }
   ],
   "source": [
    "from abc import ABC, abstractmethod\n",
    "\n",
    "# Abstract Base Class\n",
    "class Shape(ABC): # Inherit from ABC\n",
    "    @abstractmethod\n",
    "    def area(self):\n",
    "        \"\"\"Calculates and returns the area of the shape.\"\"\"\n",
    "        pass # Must be implemented by subclasses\n",
    "\n",
    "    @abstractmethod\n",
    "    def perimeter(self):\n",
    "        \"\"\"Calculates and returns the perimeter of the shape.\"\"\"\n",
    "        pass # Must be implemented by subclasses\n",
    "\n",
    "    def describe(self): # Concrete method, can be inherited or overridden\n",
    "        return \"This is a geometric shape.\"\n",
    "\n",
    "class Rectangle(Shape):\n",
    "    def __init__(self, width, height):\n",
    "        self.width = width\n",
    "        self.height = height\n",
    "\n",
    "    def area(self): # Must implement abstract method\n",
    "        return self.width * self.height\n",
    "\n",
    "    def perimeter(self): # Must implement abstract method\n",
    "        return 2 * (self.width + self.height)\n",
    "\n",
    "class Circle(Shape):\n",
    "    def __init__(self, radius):\n",
    "        self.radius = radius\n",
    "\n",
    "    def area(self): # Must implement abstract method\n",
    "        return 3.14159 * self.radius ** 2\n",
    "\n",
    "    def perimeter(self): # Must implement abstract method (circumference)\n",
    "        return 2 * 3.14159 * self.radius\n",
    "\n",
    "# shape = Shape() # TypeError: Can't instantiate abstract class Shape\n",
    "\n",
    "rect = Rectangle(10, 5)\n",
    "circle = Circle(7)\n",
    "\n",
    "print(f\"Rectangle area: {rect.area()}\")\n",
    "print(f\"Rectangle perimeter: {rect.perimeter()}\")\n",
    "print(rect.describe())\n",
    "\n",
    "print(f\"Circle area: {circle.area()}\")\n",
    "print(f\"Circle perimeter: {circle.perimeter()}\")\n",
    "print(circle.describe())"
   ]
  },
  {
   "cell_type": "code",
   "execution_count": null,
   "id": "5e51af7d",
   "metadata": {},
   "outputs": [],
   "source": []
  }
 ],
 "metadata": {
  "kernelspec": {
   "display_name": "base",
   "language": "python",
   "name": "python3"
  },
  "language_info": {
   "codemirror_mode": {
    "name": "ipython",
    "version": 3
   },
   "file_extension": ".py",
   "mimetype": "text/x-python",
   "name": "python",
   "nbconvert_exporter": "python",
   "pygments_lexer": "ipython3",
   "version": "3.12.2"
  }
 },
 "nbformat": 4,
 "nbformat_minor": 5
}
