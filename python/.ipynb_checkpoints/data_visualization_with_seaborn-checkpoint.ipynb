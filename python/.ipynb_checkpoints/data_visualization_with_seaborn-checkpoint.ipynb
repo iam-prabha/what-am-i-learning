{
 "cells": [
  {
   "cell_type": "markdown",
   "id": "88f77112-493a-4367-9ca2-c404480529ac",
   "metadata": {},
   "source": [
    "# Library"
   ]
  },
  {
   "cell_type": "code",
   "execution_count": 1,
   "id": "debc1b44-4908-4c53-82a7-636484135815",
   "metadata": {},
   "outputs": [],
   "source": [
    "import seaborn as sns"
   ]
  },
  {
   "cell_type": "code",
   "execution_count": 2,
   "id": "4fa2c7f2-4228-4639-bbf7-d8256a6a1c29",
   "metadata": {},
   "outputs": [],
   "source": [
    "import matplotlib.pyplot as plt"
   ]
  },
  {
   "cell_type": "code",
   "execution_count": 3,
   "id": "074c7c5c-b1c4-4aa8-b5d7-2cfb21a8f7d4",
   "metadata": {},
   "outputs": [],
   "source": [
    "import pandas as pd"
   ]
  },
  {
   "cell_type": "markdown",
   "id": "bbdba664-31cb-4d43-b6ca-e6780dee27e3",
   "metadata": {},
   "source": [
    "# Data"
   ]
  },
  {
   "cell_type": "code",
   "execution_count": 5,
   "id": "e2926297-c227-4935-b6d4-fac77bf41441",
   "metadata": {},
   "outputs": [],
   "source": [
    "df = pd.read_csv('public_holidays_dataset.csv')"
   ]
  },
  {
   "cell_type": "code",
   "execution_count": 6,
   "id": "d738f163-58d0-4f71-a2f2-25f7ec6ec4d5",
   "metadata": {},
   "outputs": [
    {
     "data": {
      "text/html": [
       "<div>\n",
       "<style scoped>\n",
       "    .dataframe tbody tr th:only-of-type {\n",
       "        vertical-align: middle;\n",
       "    }\n",
       "\n",
       "    .dataframe tbody tr th {\n",
       "        vertical-align: top;\n",
       "    }\n",
       "\n",
       "    .dataframe thead th {\n",
       "        text-align: right;\n",
       "    }\n",
       "</style>\n",
       "<table border=\"1\" class=\"dataframe\">\n",
       "  <thead>\n",
       "    <tr style=\"text-align: right;\">\n",
       "      <th></th>\n",
       "      <th>Month</th>\n",
       "      <th>Date</th>\n",
       "      <th>Day</th>\n",
       "      <th>Name</th>\n",
       "    </tr>\n",
       "  </thead>\n",
       "  <tbody>\n",
       "    <tr>\n",
       "      <th>0</th>\n",
       "      <td>Jan</td>\n",
       "      <td>1</td>\n",
       "      <td>Monday</td>\n",
       "      <td>New year</td>\n",
       "    </tr>\n",
       "    <tr>\n",
       "      <th>1</th>\n",
       "      <td>Jan</td>\n",
       "      <td>15</td>\n",
       "      <td>Monday</td>\n",
       "      <td>Pongal</td>\n",
       "    </tr>\n",
       "    <tr>\n",
       "      <th>2</th>\n",
       "      <td>Jan</td>\n",
       "      <td>16</td>\n",
       "      <td>Tuesday</td>\n",
       "      <td>Thiruvalluvar day</td>\n",
       "    </tr>\n",
       "    <tr>\n",
       "      <th>3</th>\n",
       "      <td>Jan</td>\n",
       "      <td>17</td>\n",
       "      <td>Wednesday</td>\n",
       "      <td>Uzhavar Thirunaal</td>\n",
       "    </tr>\n",
       "    <tr>\n",
       "      <th>4</th>\n",
       "      <td>Jan</td>\n",
       "      <td>25</td>\n",
       "      <td>Thursday</td>\n",
       "      <td>Thai poosam</td>\n",
       "    </tr>\n",
       "    <tr>\n",
       "      <th>5</th>\n",
       "      <td>Jan</td>\n",
       "      <td>26</td>\n",
       "      <td>Friday</td>\n",
       "      <td>Republic day</td>\n",
       "    </tr>\n",
       "    <tr>\n",
       "      <th>6</th>\n",
       "      <td>Mar</td>\n",
       "      <td>29</td>\n",
       "      <td>Friday</td>\n",
       "      <td>Good Friday</td>\n",
       "    </tr>\n",
       "    <tr>\n",
       "      <th>7</th>\n",
       "      <td>Apr</td>\n",
       "      <td>1</td>\n",
       "      <td>Monday</td>\n",
       "      <td>Annual closing day for banks</td>\n",
       "    </tr>\n",
       "    <tr>\n",
       "      <th>8</th>\n",
       "      <td>Apr</td>\n",
       "      <td>9</td>\n",
       "      <td>Tuesday</td>\n",
       "      <td>Telugu New Year</td>\n",
       "    </tr>\n",
       "    <tr>\n",
       "      <th>9</th>\n",
       "      <td>Apr</td>\n",
       "      <td>11</td>\n",
       "      <td>Thursday</td>\n",
       "      <td>Ramzan</td>\n",
       "    </tr>\n",
       "    <tr>\n",
       "      <th>10</th>\n",
       "      <td>Apr</td>\n",
       "      <td>14</td>\n",
       "      <td>Sunday</td>\n",
       "      <td>Tamil New Year</td>\n",
       "    </tr>\n",
       "    <tr>\n",
       "      <th>11</th>\n",
       "      <td>Apr</td>\n",
       "      <td>21</td>\n",
       "      <td>Sunday</td>\n",
       "      <td>Mahaveer Jayanthi</td>\n",
       "    </tr>\n",
       "    <tr>\n",
       "      <th>12</th>\n",
       "      <td>May</td>\n",
       "      <td>1</td>\n",
       "      <td>Wednesday</td>\n",
       "      <td>May Day</td>\n",
       "    </tr>\n",
       "    <tr>\n",
       "      <th>13</th>\n",
       "      <td>Jun</td>\n",
       "      <td>17</td>\n",
       "      <td>Monday</td>\n",
       "      <td>Bakrid</td>\n",
       "    </tr>\n",
       "    <tr>\n",
       "      <th>14</th>\n",
       "      <td>Jul</td>\n",
       "      <td>17</td>\n",
       "      <td>Wednesday</td>\n",
       "      <td>Muharram</td>\n",
       "    </tr>\n",
       "    <tr>\n",
       "      <th>15</th>\n",
       "      <td>Aug</td>\n",
       "      <td>15</td>\n",
       "      <td>Thursday</td>\n",
       "      <td>Independence day</td>\n",
       "    </tr>\n",
       "    <tr>\n",
       "      <th>16</th>\n",
       "      <td>Aug</td>\n",
       "      <td>26</td>\n",
       "      <td>Monday</td>\n",
       "      <td>Krishna Jayanthi</td>\n",
       "    </tr>\n",
       "    <tr>\n",
       "      <th>17</th>\n",
       "      <td>Sep</td>\n",
       "      <td>7</td>\n",
       "      <td>Saturday</td>\n",
       "      <td>Vinayagar Chathurthi</td>\n",
       "    </tr>\n",
       "    <tr>\n",
       "      <th>18</th>\n",
       "      <td>Sep</td>\n",
       "      <td>16</td>\n",
       "      <td>Monday</td>\n",
       "      <td>Miladi nabi</td>\n",
       "    </tr>\n",
       "    <tr>\n",
       "      <th>19</th>\n",
       "      <td>Oct</td>\n",
       "      <td>2</td>\n",
       "      <td>Wednesday</td>\n",
       "      <td>Gandhi jeyanthi</td>\n",
       "    </tr>\n",
       "    <tr>\n",
       "      <th>20</th>\n",
       "      <td>Oct</td>\n",
       "      <td>11</td>\n",
       "      <td>Friday</td>\n",
       "      <td>Ayutha Pooja</td>\n",
       "    </tr>\n",
       "    <tr>\n",
       "      <th>21</th>\n",
       "      <td>Oct</td>\n",
       "      <td>12</td>\n",
       "      <td>Saturday</td>\n",
       "      <td>Vijaya Dasami</td>\n",
       "    </tr>\n",
       "    <tr>\n",
       "      <th>22</th>\n",
       "      <td>Oct</td>\n",
       "      <td>31</td>\n",
       "      <td>Thursday</td>\n",
       "      <td>Deepavali</td>\n",
       "    </tr>\n",
       "    <tr>\n",
       "      <th>23</th>\n",
       "      <td>Dec</td>\n",
       "      <td>25</td>\n",
       "      <td>Wednesday</td>\n",
       "      <td>Christmas</td>\n",
       "    </tr>\n",
       "  </tbody>\n",
       "</table>\n",
       "</div>"
      ],
      "text/plain": [
       "   Month  Date        Day                          Name\n",
       "0    Jan     1     Monday                      New year\n",
       "1    Jan    15     Monday                        Pongal\n",
       "2    Jan    16    Tuesday             Thiruvalluvar day\n",
       "3    Jan    17  Wednesday             Uzhavar Thirunaal\n",
       "4    Jan    25   Thursday                   Thai poosam\n",
       "5    Jan    26     Friday                  Republic day\n",
       "6    Mar    29     Friday                   Good Friday\n",
       "7    Apr     1     Monday  Annual closing day for banks\n",
       "8    Apr     9    Tuesday               Telugu New Year\n",
       "9    Apr    11   Thursday                        Ramzan\n",
       "10   Apr    14     Sunday                Tamil New Year\n",
       "11   Apr    21    Sunday              Mahaveer Jayanthi\n",
       "12  May      1  Wednesday                      May Day \n",
       "13   Jun    17     Monday                        Bakrid\n",
       "14   Jul    17  Wednesday                      Muharram\n",
       "15   Aug    15   Thursday              Independence day\n",
       "16   Aug    26     Monday              Krishna Jayanthi\n",
       "17  Sep      7   Saturday          Vinayagar Chathurthi\n",
       "18  Sep     16     Monday                   Miladi nabi\n",
       "19   Oct     2  Wednesday               Gandhi jeyanthi\n",
       "20   Oct    11     Friday                  Ayutha Pooja\n",
       "21   Oct    12   Saturday                 Vijaya Dasami\n",
       "22   Oct    31   Thursday                     Deepavali\n",
       "23   Dec    25  Wednesday                     Christmas"
      ]
     },
     "execution_count": 6,
     "metadata": {},
     "output_type": "execute_result"
    }
   ],
   "source": [
    "df"
   ]
  },
  {
   "cell_type": "markdown",
   "id": "18b2bd4f-6e2b-4567-ae59-f874576547c3",
   "metadata": {},
   "source": [
    "# Line Plot"
   ]
  },
  {
   "cell_type": "code",
   "execution_count": null,
   "id": "4620ea72-815f-4939-8d0c-f0878adf0b40",
   "metadata": {},
   "outputs": [],
   "source": [
    "sns.lineplot(data=df, x='Month', y='Name', hue='Day')"
   ]
  },
  {
   "cell_type": "markdown",
   "id": "a007afee-5de9-4c7c-b4ea-ff64f2ec7f34",
   "metadata": {},
   "source": [
    "# Bar Plot"
   ]
  },
  {
   "cell_type": "code",
   "execution_count": null,
   "id": "7ec47b8d-4ddc-46bf-9122-d61cb064b875",
   "metadata": {},
   "outputs": [],
   "source": [
    "mont_wise_groupby = df.groupby('Month').count()"
   ]
  },
  {
   "cell_type": "code",
   "execution_count": null,
   "id": "11e028d6-34c9-4089-ad08-118943986aa1",
   "metadata": {},
   "outputs": [],
   "source": [
    "mont_wise_groupby"
   ]
  },
  {
   "cell_type": "code",
   "execution_count": null,
   "id": "4727f417-9e31-4144-9c2a-b035a99b7ccc",
   "metadata": {},
   "outputs": [],
   "source": [
    "sns.barplot(data=mont_wise_groupby, x='Month', y='Date')"
   ]
  },
  {
   "cell_type": "code",
   "execution_count": null,
   "id": "838abbb7-6732-4b2c-ada2-73055e76efae",
   "metadata": {},
   "outputs": [],
   "source": [
    "plt.figure(figsize=(20,15))\n",
    "sns.barplot(data=df, x='Month', y='Date', hue='Name', palette='Set2')"
   ]
  },
  {
   "cell_type": "markdown",
   "id": "e376724f-a514-41a0-95c3-3140c71baa5b",
   "metadata": {},
   "source": [
    "# Histogram"
   ]
  },
  {
   "cell_type": "code",
   "execution_count": null,
   "id": "1820154b-dd23-45a6-b5e8-b5d04a3487bb",
   "metadata": {},
   "outputs": [],
   "source": [
    "sns.histplot(data=df, x='Date', bins=3, kde=True)"
   ]
  },
  {
   "cell_type": "markdown",
   "id": "83ff409a-6f15-462e-904f-4e62e132374e",
   "metadata": {},
   "source": [
    "# ScatterPlot"
   ]
  },
  {
   "cell_type": "code",
   "execution_count": null,
   "id": "d48a6414-e6e8-439b-84af-df5f853dae40",
   "metadata": {},
   "outputs": [],
   "source": [
    "sns.scatterplot(data=df, x='Date', y = 'Name', hue='Month')"
   ]
  },
  {
   "cell_type": "markdown",
   "id": "6b1a1a31-cb77-43ac-883e-1a9a9736cc05",
   "metadata": {},
   "source": [
    "# Box plot"
   ]
  },
  {
   "cell_type": "code",
   "execution_count": null,
   "id": "33523449-2ff8-4dd4-b3aa-c488167d3031",
   "metadata": {},
   "outputs": [],
   "source": [
    "df['Date'].describe()"
   ]
  },
  {
   "cell_type": "code",
   "execution_count": null,
   "id": "5c816b22-49e1-48bd-950c-c9d3be8cce1e",
   "metadata": {},
   "outputs": [],
   "source": [
    "sns.boxplot(data=df)\n",
    "sns.swarmplot(data=df, color='red')"
   ]
  },
  {
   "cell_type": "code",
   "execution_count": null,
   "id": "d2cbf721-e52e-4ea4-9a87-3374e0cdb585",
   "metadata": {},
   "outputs": [],
   "source": [
    "df.loc[24] = {'Month': 'Jan', 'Date': 100, 'Day': 'Monday', 'Name': 'summa'}"
   ]
  },
  {
   "cell_type": "markdown",
   "id": "c26ae309-2ce7-4147-ba7f-e21138da9df3",
   "metadata": {},
   "source": [
    "# Violin Plot"
   ]
  },
  {
   "cell_type": "code",
   "execution_count": null,
   "id": "e730c1d1-2eff-4269-ab04-cac6f7bc9de5",
   "metadata": {},
   "outputs": [],
   "source": [
    "sns.violinplot(data=df)"
   ]
  },
  {
   "cell_type": "code",
   "execution_count": null,
   "id": "b59407d3-d692-4819-b1c5-35c850e293dd",
   "metadata": {},
   "outputs": [],
   "source": [
    "sns.histplot(x='Date', data=df, kde=True)"
   ]
  },
  {
   "cell_type": "markdown",
   "id": "e811c534-da44-4ad2-8dc9-118fc12a8747",
   "metadata": {},
   "source": [
    "# HeatMap"
   ]
  },
  {
   "cell_type": "code",
   "execution_count": null,
   "id": "63d5b1e5-7d1c-4a5e-a13a-bc81bdd99354",
   "metadata": {},
   "outputs": [],
   "source": [
    "month_dict = {'Jan': 1,\n",
    "             'Feb' : 2,\n",
    "             'Mar' : 3,\n",
    "             'Apr' : 4,\n",
    "             'May ' : 5,\n",
    "             'Jun' : 6,\n",
    "             'Jul' : 7,\n",
    "             'Aug' : 8,\n",
    "             'Sep ' : 9,\n",
    "             'Oct' : 10,\n",
    "             'Nov' : 11,\n",
    "             'Dec' : 12}\n",
    "df['Month_Number']  =df['Month'].map(month_dict)"
   ]
  },
  {
   "cell_type": "code",
   "execution_count": null,
   "id": "6f68926b-4e4c-46a3-9df5-c4a77d772fbf",
   "metadata": {},
   "outputs": [],
   "source": [
    "df.corr(numeric_only=True)"
   ]
  },
  {
   "cell_type": "code",
   "execution_count": null,
   "id": "fc937c82-bb51-4a23-9406-4f427a6b22d5",
   "metadata": {},
   "outputs": [],
   "source": [
    "sns.heatmap(df.corr(numeric_only=True), annot=True)"
   ]
  },
  {
   "cell_type": "markdown",
   "id": "85dff02e-b6d9-46e0-86a0-979dee0b33a6",
   "metadata": {},
   "source": [
    "# FacetGrid"
   ]
  },
  {
   "cell_type": "code",
   "execution_count": null,
   "id": "2788810f-7e5c-4e29-9bdd-f2812b38e594",
   "metadata": {},
   "outputs": [],
   "source": [
    "df"
   ]
  },
  {
   "cell_type": "code",
   "execution_count": null,
   "id": "b239eff9-6595-4a69-8293-030077970821",
   "metadata": {},
   "outputs": [],
   "source": [
    "x = sns.FacetGrid(data= df, col='Day')\n",
    "x = x.map(plt.hist, 'Month', edgecolor='black')"
   ]
  },
  {
   "cell_type": "markdown",
   "id": "711c8e3b-6e8a-4e3d-9c5f-df368f9e02b2",
   "metadata": {},
   "source": [
    "# Joint plot"
   ]
  },
  {
   "cell_type": "code",
   "execution_count": null,
   "id": "4a797ffe-3781-458e-9352-94bb055fb111",
   "metadata": {},
   "outputs": [],
   "source": [
    "sns.jointplot(data=df, x='Month_Number', y= 'Date', kind='reg')"
   ]
  },
  {
   "cell_type": "markdown",
   "id": "e9dae50b-5860-47d7-beb0-0a966c12b0cb",
   "metadata": {},
   "source": [
    "# PairPlot"
   ]
  },
  {
   "cell_type": "code",
   "execution_count": null,
   "id": "5337dbb9-fd3e-480c-b96a-002c15c58688",
   "metadata": {},
   "outputs": [],
   "source": [
    "sns.pairplot(data=df)"
   ]
  },
  {
   "cell_type": "code",
   "execution_count": null,
   "id": "081f4513-e9b2-4757-85f5-15cbb48841b7",
   "metadata": {},
   "outputs": [],
   "source": []
  }
 ],
 "metadata": {
  "kernelspec": {
   "display_name": "Python 3 (ipykernel)",
   "language": "python",
   "name": "python3"
  },
  "language_info": {
   "codemirror_mode": {
    "name": "ipython",
    "version": 3
   },
   "file_extension": ".py",
   "mimetype": "text/x-python",
   "name": "python",
   "nbconvert_exporter": "python",
   "pygments_lexer": "ipython3",
   "version": "3.12.7"
  }
 },
 "nbformat": 4,
 "nbformat_minor": 5
}
