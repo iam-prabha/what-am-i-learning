{
 "cells": [
  {
   "cell_type": "code",
   "execution_count": 1,
   "id": "becc590d",
   "metadata": {},
   "outputs": [
    {
     "name": "stdout",
     "output_type": "stream",
     "text": [
      "<class 'list'>\n",
      "['admin', 'user', 'editor']\n"
     ]
    }
   ],
   "source": [
    "# List - ordered, mutable, allows duplicate elements\n",
    "roles = ['admin', 'user', 'editor'] # it starts with 0\n",
    "print(type(roles))\n",
    "print(roles)"
   ]
  },
  {
   "cell_type": "code",
   "execution_count": 2,
   "id": "e97a9949",
   "metadata": {},
   "outputs": [
    {
     "name": "stdout",
     "output_type": "stream",
     "text": [
      "admin user editor\n"
     ]
    }
   ],
   "source": [
    "#List access\n",
    "# postive indexing\n",
    "print(roles[0],roles[1],roles[2]) # admin, user, editor"
   ]
  },
  {
   "cell_type": "code",
   "execution_count": 3,
   "id": "98f4746c-372f-4716-adba-6a13ffc08689",
   "metadata": {},
   "outputs": [
    {
     "name": "stdout",
     "output_type": "stream",
     "text": [
      "editor user admin\n"
     ]
    }
   ],
   "source": [
    "# negative indexing\n",
    "print(roles[-1],roles[-2],roles[-3]) # editor, user, admin"
   ]
  },
  {
   "cell_type": "code",
   "execution_count": 4,
   "id": "5fbbf25d-17bc-4aab-a780-bf8f694a286b",
   "metadata": {},
   "outputs": [
    {
     "name": "stdout",
     "output_type": "stream",
     "text": [
      "['admin', 'user']\n"
     ]
    }
   ],
   "source": [
    "# slicing concept  list[start:end:step]\n",
    "print(roles[0:2]) # admin, user"
   ]
  },
  {
   "cell_type": "code",
   "execution_count": 5,
   "id": "1e0cc2c2-0338-4ac4-b6bc-6f6e22747d89",
   "metadata": {},
   "outputs": [
    {
     "name": "stdout",
     "output_type": "stream",
     "text": [
      "['admin', 'user', 'editor', 'manager']\n",
      "['admin', 'developer', 'user', 'editor', 'manager']\n"
     ]
    }
   ],
   "source": [
    "# add element to list\n",
    "roles.append('manager') # add element at the end\n",
    "print(roles)\n",
    "roles.insert(1,'developer') # add element at specific index\n",
    "print(roles)"
   ]
  },
  {
   "cell_type": "code",
   "execution_count": 6,
   "id": "72b15340-63e5-403c-a6a7-73ef7af9ffe4",
   "metadata": {},
   "outputs": [
    {
     "name": "stdout",
     "output_type": "stream",
     "text": [
      "['admin', 'developer', 'user', 'editor']\n",
      "['admin', 'user', 'editor']\n"
     ]
    }
   ],
   "source": [
    "# remove element from list\n",
    "roles.pop() # remove last element or specific index\n",
    "print(roles)\n",
    "roles.remove('developer') # remove element by value\n",
    "print(roles)\n",
    "# roles.clear() #instead of del roles, we can use roles.clear() to remove all elements from list\n",
    "# print(roles) # []"
   ]
  },
  {
   "cell_type": "code",
   "execution_count": 7,
   "id": "d9e08e65-2351-43cb-9628-758c9c0c2a37",
   "metadata": {},
   "outputs": [
    {
     "name": "stdout",
     "output_type": "stream",
     "text": [
      "0\n",
      "1\n",
      "['editor', 'user', 'admin']\n",
      "['admin', 'editor', 'user']\n"
     ]
    }
   ],
   "source": [
    "# Additional methods - print to see output\n",
    "print(roles.index('admin')) # 0\n",
    "print(roles.count('admin')) # 1\n",
    "roles.reverse() # reverse the list\n",
    "print(roles)\n",
    "roles.sort() # sort the list\n",
    "print(roles)\n",
    "roles2 = roles.copy() # copy the list"
   ]
  },
  {
   "cell_type": "code",
   "execution_count": 8,
   "id": "bc85db48-4313-420c-9fbe-f0450fe0ea12",
   "metadata": {},
   "outputs": [
    {
     "name": "stdout",
     "output_type": "stream",
     "text": [
      "admin\n",
      "editor\n",
      "user\n"
     ]
    }
   ],
   "source": [
    "# List loop - in, range(), enumerate()\n",
    "for role in roles: \n",
    "    print(role)"
   ]
  },
  {
   "cell_type": "code",
   "execution_count": 9,
   "id": "049cae49-c352-4e8a-a8f3-d38112186df1",
   "metadata": {},
   "outputs": [
    {
     "name": "stdout",
     "output_type": "stream",
     "text": [
      "0 admin\n",
      "1 editor\n",
      "2 user\n"
     ]
    }
   ],
   "source": [
    "for index, role in enumerate(roles):\n",
    "    print(index,role)"
   ]
  },
  {
   "cell_type": "code",
   "execution_count": 10,
   "id": "01bd36e0-3d0d-4ba5-9539-07eb36460830",
   "metadata": {},
   "outputs": [
    {
     "name": "stdout",
     "output_type": "stream",
     "text": [
      "0 admin\n",
      "1 editor\n",
      "2 user\n"
     ]
    }
   ],
   "source": [
    "for index in range(len(roles)):\n",
    "    print(index,roles[index])"
   ]
  },
  {
   "cell_type": "code",
   "execution_count": 11,
   "id": "4d297697",
   "metadata": {},
   "outputs": [
    {
     "name": "stdout",
     "output_type": "stream",
     "text": [
      "admin, editor, user\n",
      "['admin', 'editor', 'user']\n"
     ]
    }
   ],
   "source": [
    "# List joint methods - join(), split()\n",
    "roles_str = ', '.join(roles)\n",
    "print(roles_str) # admin, user, editor\n",
    "\n",
    "new_roles = roles_str.split(', ')\n",
    "print(new_roles) # ['admin', 'user', 'editor']"
   ]
  },
  {
   "cell_type": "code",
   "execution_count": 12,
   "id": "fdbd47a9-0e2f-41bd-bf20-5af925250369",
   "metadata": {
    "jp-MarkdownHeadingCollapsed": true
   },
   "outputs": [
    {
     "name": "stdout",
     "output_type": "stream",
     "text": [
      "['admin', 'editor', 'user', 'admin', 'editor', 'user']\n"
     ]
    }
   ],
   "source": [
    "# List merge - extend()\n",
    "roles.extend(new_roles)\n",
    "print(roles) # ['admin', 'user', 'editor', 'admin', 'user', 'editor']"
   ]
  }
 ],
 "metadata": {
  "jupytext": {
   "cell_metadata_filter": "-all",
   "main_language": "python",
   "notebook_metadata_filter": "-all"
  },
  "kernelspec": {
   "display_name": "Python 3 (ipykernel)",
   "language": "python",
   "name": "python3"
  },
  "language_info": {
   "codemirror_mode": {
    "name": "ipython",
    "version": 3
   },
   "file_extension": ".py",
   "mimetype": "text/x-python",
   "name": "python",
   "nbconvert_exporter": "python",
   "pygments_lexer": "ipython3",
   "version": "3.12.7"
  }
 },
 "nbformat": 4,
 "nbformat_minor": 5
}
