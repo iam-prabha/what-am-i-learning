{
 "cells": [
  {
   "cell_type": "code",
   "execution_count": null,
   "id": "1c8cd608",
   "metadata": {},
   "outputs": [],
   "source": [
    "#data types\n",
    "item_id = 1 # int\n",
    "item_name = \"rank\" # \"\" or ''\n",
    "item_quantity = 10.67 # float\n",
    "item_restocked = True # boolean"
   ]
  },
  {
   "cell_type": "code",
   "execution_count": null,
   "id": "667b013b",
   "metadata": {
    "panel-layout": {
     "height": 10,
     "visible": true,
     "width": 100
    }
   },
   "outputs": [],
   "source": [
    "# print data types to see the type of data\n",
    "type(item_id) # int\n",
    "type(item_name) # str\n",
    "type(item_quantity) # float\n",
    "type(item_restocked) # bool"
   ]
  },
  {
   "cell_type": "raw",
   "id": "a21f8c59-c3f4-452e-8e3f-1c2b036e3456",
   "metadata": {
    "panel-layout": {
     "height": 68.28125,
     "visible": true,
     "width": 100
    }
   },
   "source": [
    "variable declaration\n",
    "variable_name is a case sensitive like item_name and Item_name are different"
   ]
  },
  {
   "cell_type": "code",
   "execution_count": null,
   "id": "34f52dd5",
   "metadata": {
    "panel-layout": {
     "height": 10,
     "visible": true,
     "width": 100
    }
   },
   "outputs": [],
   "source": [
    "# Dynamic Typing\n",
    "print(item_id) # 1\n",
    "type(item_id) # int"
   ]
  },
  {
   "cell_type": "code",
   "execution_count": null,
   "id": "2a512e72",
   "metadata": {},
   "outputs": [],
   "source": [
    "# type conversion\n",
    "# string can't be converted to int or float\n",
    "# int to string\n",
    "item_id = str(item_id) # \"1\"\n",
    "# string to float\n",
    "item_quantity = int(item_quantity) # 10\n",
    "# boolean to string\n",
    "item_restocked = str(item_restocked) # \"True\"\n",
    "# string to boolean\n",
    "item_restocked = bool(item_restocked) # True"
   ]
  },
  {
   "cell_type": "raw",
   "id": "202b2dab-63a9-4abb-b5b8-3a5a347c7f77",
   "metadata": {},
   "source": [
    "arithmetic operations\n",
    "addition -> +\n",
    "subtraction -> -\n",
    "multiplication -> *\n",
    "division -> /\n",
    "modulus -> %\n",
    "exponentiation(power) -> ** like 2**3 = 8 | (2^3) = 8 are same\n",
    "floor division -> // like 5//2 = 2 | 5/2 = 2.5 are same"
   ]
  },
  {
   "cell_type": "raw",
   "id": "b53fe77c-b939-40ab-b401-5379d14f8273",
   "metadata": {},
   "source": [
    "bitwise operations\n",
    "AND -> &\n",
    "OR -> |\n",
    "XOR -> ^\n",
    "NOT -> ~\n",
    "Left shift -> <<\n",
    "Right shift -> >>"
   ]
  },
  {
   "cell_type": "raw",
   "id": "641b2561-69bf-4695-8e67-dbd541d7a41d",
   "metadata": {},
   "source": [
    "comparison operations\n",
    "equal -> == like 5 == 5 = True\n",
    "not equal -> != like 5 != 5 = False\n",
    "greater than -> > like 5 > 5 = False\n",
    "less than -> < like 5 < 5 = False\n",
    "greater than or equal to -> >= like 5 >= 5 = True\n",
    "less than or equal to -> <= like 5 <= 5 = True"
   ]
  }
 ],
 "metadata": {
  "jupytext": {
   "cell_metadata_filter": "-all",
   "main_language": "python",
   "notebook_metadata_filter": "-all"
  },
  "kernelspec": {
   "display_name": "Python 3 (ipykernel)",
   "language": "python",
   "name": "python3"
  },
  "language_info": {
   "codemirror_mode": {
    "name": "ipython",
    "version": 3
   },
   "file_extension": ".py",
   "mimetype": "text/x-python",
   "name": "python",
   "nbconvert_exporter": "python",
   "pygments_lexer": "ipython3",
   "version": "3.12.7"
  },
  "panel-cell-order": [
   "667b013b",
   "cc747bab",
   "34f52dd5"
  ]
 },
 "nbformat": 4,
 "nbformat_minor": 5
}
