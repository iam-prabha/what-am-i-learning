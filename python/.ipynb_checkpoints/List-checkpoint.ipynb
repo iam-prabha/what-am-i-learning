{
 "cells": [
  {
   "cell_type": "markdown",
   "id": "f72454ff-1908-4ffa-ab59-62956ce5e2d7",
   "metadata": {},
   "source": [
    "# Create List"
   ]
  },
  {
   "cell_type": "markdown",
   "id": "3a0a75c3-3655-497f-b95c-55dabc2fdd1f",
   "metadata": {},
   "source": [
    " - Ordered\n",
    " - changeable\n",
    " - Allows duplicates\n",
    " - list can have items that are of diff data types\n"
   ]
  },
  {
   "cell_type": "code",
   "execution_count": 1,
   "id": "15c3ee33-6007-4bc3-bf03-43cf63c6d627",
   "metadata": {},
   "outputs": [],
   "source": [
    "roles = ['raja', 'rani', 'mandiri','soldier','police', 'thirudan']"
   ]
  },
  {
   "cell_type": "code",
   "execution_count": 2,
   "id": "8bbc9e2e-f343-47b7-8bf3-13853e8a0f7f",
   "metadata": {},
   "outputs": [
    {
     "data": {
      "text/plain": [
       "list"
      ]
     },
     "execution_count": 2,
     "metadata": {},
     "output_type": "execute_result"
    }
   ],
   "source": [
    "type(roles)"
   ]
  },
  {
   "cell_type": "code",
   "execution_count": 3,
   "id": "5d55d89e-f302-4a87-9bfe-def3294231f8",
   "metadata": {},
   "outputs": [
    {
     "data": {
      "text/plain": [
       "['raja', 'rani', 'mandiri', 'soldier', 'police', 'thirudan']"
      ]
     },
     "execution_count": 3,
     "metadata": {},
     "output_type": "execute_result"
    }
   ],
   "source": [
    "roles"
   ]
  },
  {
   "cell_type": "code",
   "execution_count": 7,
   "id": "ed3c9210-2a74-46eb-9f25-24f0679b09df",
   "metadata": {},
   "outputs": [],
   "source": [
    "roles[3] = 'sippai'"
   ]
  },
  {
   "cell_type": "code",
   "execution_count": 8,
   "id": "3c9b36b5-e44e-4253-bd8f-f3b011be9f97",
   "metadata": {},
   "outputs": [
    {
     "data": {
      "text/plain": [
       "['raja', 'rani', 'mandiri', 'sippai', 'police', 'thirudan']"
      ]
     },
     "execution_count": 8,
     "metadata": {},
     "output_type": "execute_result"
    }
   ],
   "source": [
    "roles"
   ]
  },
  {
   "cell_type": "code",
   "execution_count": 9,
   "id": "10ae54de-d43f-44f2-ab28-bcc80048aff6",
   "metadata": {},
   "outputs": [],
   "source": [
    "roles = ['raja', 'rani', 'mandiri','soldier','police', 'thirudan', 'raja'] "
   ]
  },
  {
   "cell_type": "code",
   "execution_count": 10,
   "id": "85deb1d8-10aa-4414-b61a-519a30587074",
   "metadata": {},
   "outputs": [
    {
     "data": {
      "text/plain": [
       "['raja', 'rani', 'mandiri', 'soldier', 'police', 'thirudan', 'raja']"
      ]
     },
     "execution_count": 10,
     "metadata": {},
     "output_type": "execute_result"
    }
   ],
   "source": [
    "roles"
   ]
  },
  {
   "cell_type": "code",
   "execution_count": 11,
   "id": "60bc8440-77d5-49d2-9337-9e120ec42e52",
   "metadata": {},
   "outputs": [
    {
     "data": {
      "text/plain": [
       "str"
      ]
     },
     "execution_count": 11,
     "metadata": {},
     "output_type": "execute_result"
    }
   ],
   "source": [
    "type(roles[0])"
   ]
  },
  {
   "cell_type": "code",
   "execution_count": 15,
   "id": "bc1a6ac1-1354-40d2-9cf2-9d50428776f4",
   "metadata": {},
   "outputs": [],
   "source": [
    "roles = ['raja', 1000, 'rani', 500, 'mandiri', 300,'soldier', 200,'police', 100, 'thirudan', 0, True]"
   ]
  },
  {
   "cell_type": "code",
   "execution_count": 16,
   "id": "840fd1d6-8497-4879-940c-0502e96f9375",
   "metadata": {},
   "outputs": [
    {
     "data": {
      "text/plain": [
       "bool"
      ]
     },
     "execution_count": 16,
     "metadata": {},
     "output_type": "execute_result"
    }
   ],
   "source": [
    "type(roles[12]) "
   ]
  },
  {
   "cell_type": "markdown",
   "id": "3ceea04c-e502-4f94-9814-cff77a0e7114",
   "metadata": {},
   "source": [
    "# List Accessing"
   ]
  },
  {
   "cell_type": "markdown",
   "id": "48be8c93-200d-458b-a1b3-0b8e6b43a393",
   "metadata": {},
   "source": [
    "- using index & negative index\n",
    "- using slice"
   ]
  },
  {
   "cell_type": "code",
   "execution_count": 23,
   "id": "abee01df-5efa-4674-b5a3-784375ae25bb",
   "metadata": {},
   "outputs": [
    {
     "data": {
      "text/plain": [
       "1000"
      ]
     },
     "execution_count": 23,
     "metadata": {},
     "output_type": "execute_result"
    }
   ],
   "source": [
    "roles[1]"
   ]
  },
  {
   "cell_type": "code",
   "execution_count": 24,
   "id": "42c39034-1432-47fc-93a8-8bfca3b3a5b4",
   "metadata": {},
   "outputs": [
    {
     "data": {
      "text/plain": [
       "True"
      ]
     },
     "execution_count": 24,
     "metadata": {},
     "output_type": "execute_result"
    }
   ],
   "source": [
    "roles[-1]"
   ]
  },
  {
   "cell_type": "code",
   "execution_count": 25,
   "id": "f038f312-7805-4dcb-8c14-06231655ce00",
   "metadata": {},
   "outputs": [
    {
     "data": {
      "text/plain": [
       "0"
      ]
     },
     "execution_count": 25,
     "metadata": {},
     "output_type": "execute_result"
    }
   ],
   "source": [
    "roles[-2]"
   ]
  },
  {
   "cell_type": "markdown",
   "id": "5fcedaf7-4f32-40ad-8eb3-023760eb9406",
   "metadata": {},
   "source": [
    "slicing concept = list(start: stop:step)"
   ]
  },
  {
   "cell_type": "code",
   "execution_count": 26,
   "id": "488eb83d-d421-439b-bd14-543f682e3324",
   "metadata": {},
   "outputs": [
    {
     "data": {
      "text/plain": [
       "['raja', 1000, 'rani', 500]"
      ]
     },
     "execution_count": 26,
     "metadata": {},
     "output_type": "execute_result"
    }
   ],
   "source": [
    "roles[0:4:1]"
   ]
  },
  {
   "cell_type": "code",
   "execution_count": 28,
   "id": "673f6845-8c92-459b-8c33-73481d806303",
   "metadata": {},
   "outputs": [
    {
     "data": {
      "text/plain": [
       "['raja',\n",
       " 1000,\n",
       " 'rani',\n",
       " 500,\n",
       " 'mandiri',\n",
       " 300,\n",
       " 'soldier',\n",
       " 200,\n",
       " 'police',\n",
       " 100,\n",
       " 'thirudan',\n",
       " 0,\n",
       " True]"
      ]
     },
     "execution_count": 28,
     "metadata": {},
     "output_type": "execute_result"
    }
   ],
   "source": [
    "roles[::1]"
   ]
  },
  {
   "cell_type": "code",
   "execution_count": 31,
   "id": "034e0cd4-ac68-48fc-a9b0-71dd1a59d5ee",
   "metadata": {},
   "outputs": [
    {
     "data": {
      "text/plain": [
       "[100, 'thirudan', 0, True]"
      ]
     },
     "execution_count": 31,
     "metadata": {},
     "output_type": "execute_result"
    }
   ],
   "source": [
    "roles[-4::1]"
   ]
  },
  {
   "cell_type": "markdown",
   "id": "58ba4980-3431-4652-8902-e20e89362b70",
   "metadata": {},
   "source": [
    "# Add new items"
   ]
  },
  {
   "cell_type": "markdown",
   "id": "90c18dbb-ae94-4dfe-9882-89aa605773f6",
   "metadata": {},
   "source": [
    "- use index, append(), insert()"
   ]
  },
  {
   "cell_type": "code",
   "execution_count": 45,
   "id": "247181b4-f562-4516-a413-08f406afae09",
   "metadata": {},
   "outputs": [],
   "source": [
    "roles = ['raja', 'rani', 'mandiri','soldier','police', 'thirudan']"
   ]
  },
  {
   "cell_type": "code",
   "execution_count": 40,
   "id": "4a6abbba-fa3d-4a40-89d5-d59316860d1c",
   "metadata": {},
   "outputs": [],
   "source": [
    "roles.append('dog')"
   ]
  },
  {
   "cell_type": "code",
   "execution_count": 41,
   "id": "dc9b68f5-5853-43b7-a7c7-66130048406c",
   "metadata": {},
   "outputs": [
    {
     "data": {
      "text/plain": [
       "['raja', 'rani', 'mandiri', 'soldier', 'police', 'thirudan', 'dog']"
      ]
     },
     "execution_count": 41,
     "metadata": {},
     "output_type": "execute_result"
    }
   ],
   "source": [
    "roles"
   ]
  },
  {
   "cell_type": "code",
   "execution_count": 43,
   "id": "3560e2d4-76b8-499a-8eda-d87ec3b7d965",
   "metadata": {},
   "outputs": [],
   "source": [
    "roles[5] = 'dog'"
   ]
  },
  {
   "cell_type": "code",
   "execution_count": 44,
   "id": "a7661b48-8389-4163-a614-df767e994d98",
   "metadata": {},
   "outputs": [
    {
     "data": {
      "text/plain": [
       "['raja', 'rani', 'mandiri', 'soldier', 'police', 'dog']"
      ]
     },
     "execution_count": 44,
     "metadata": {},
     "output_type": "execute_result"
    }
   ],
   "source": [
    "roles"
   ]
  },
  {
   "cell_type": "code",
   "execution_count": 46,
   "id": "f9688079-c442-4438-bb42-276cd774c06f",
   "metadata": {},
   "outputs": [],
   "source": [
    "roles.insert(5, 'dog')"
   ]
  },
  {
   "cell_type": "code",
   "execution_count": 47,
   "id": "88404f22-5c08-4ddc-9017-676c490c7730",
   "metadata": {},
   "outputs": [
    {
     "data": {
      "text/plain": [
       "['raja', 'rani', 'mandiri', 'soldier', 'police', 'dog', 'thirudan']"
      ]
     },
     "execution_count": 47,
     "metadata": {},
     "output_type": "execute_result"
    }
   ],
   "source": [
    "roles"
   ]
  },
  {
   "cell_type": "markdown",
   "id": "70f6f084-918e-4370-8dec-9dde0542c446",
   "metadata": {},
   "source": [
    "# Remove old items"
   ]
  },
  {
   "cell_type": "markdown",
   "id": "57548d9c-e19a-4b71-a48a-ecdf39c2d4f7",
   "metadata": {},
   "source": [
    "- pop(1), remove(), clear()"
   ]
  },
  {
   "cell_type": "code",
   "execution_count": 62,
   "id": "f9f06862-2d90-44b6-a13a-ca202e6f8dc8",
   "metadata": {},
   "outputs": [],
   "source": [
    "roles = ['raja', 'rani', 'mandiri','soldier','police', 'thirudan']"
   ]
  },
  {
   "cell_type": "code",
   "execution_count": 55,
   "id": "577420d3-868b-432c-b54f-8fe3f00cf712",
   "metadata": {},
   "outputs": [
    {
     "data": {
      "text/plain": [
       "'thirudan'"
      ]
     },
     "execution_count": 55,
     "metadata": {},
     "output_type": "execute_result"
    }
   ],
   "source": [
    "roles.pop()"
   ]
  },
  {
   "cell_type": "code",
   "execution_count": 56,
   "id": "e984b676-f3a2-4207-80bb-ac6bead7de82",
   "metadata": {},
   "outputs": [
    {
     "data": {
      "text/plain": [
       "['raja', 'rani', 'mandiri', 'soldier', 'police']"
      ]
     },
     "execution_count": 56,
     "metadata": {},
     "output_type": "execute_result"
    }
   ],
   "source": [
    "roles"
   ]
  },
  {
   "cell_type": "code",
   "execution_count": 58,
   "id": "85765164-a4bb-4eea-8d70-c8723da03fa3",
   "metadata": {},
   "outputs": [],
   "source": [
    "roles.remove('rani')"
   ]
  },
  {
   "cell_type": "code",
   "execution_count": 59,
   "id": "df4578ec-ffe8-49f9-8d8a-951e4b156aba",
   "metadata": {},
   "outputs": [
    {
     "data": {
      "text/plain": [
       "['raja', 'mandiri', 'soldier', 'police', 'thirudan']"
      ]
     },
     "execution_count": 59,
     "metadata": {},
     "output_type": "execute_result"
    }
   ],
   "source": [
    "roles"
   ]
  },
  {
   "cell_type": "code",
   "execution_count": 60,
   "id": "44c32778-87de-4b02-8d8a-a4244699fd37",
   "metadata": {},
   "outputs": [],
   "source": [
    "roles.clear()"
   ]
  },
  {
   "cell_type": "code",
   "execution_count": 63,
   "id": "6af3a63b-e639-4dd2-aba6-3e4a09a97d9e",
   "metadata": {},
   "outputs": [
    {
     "data": {
      "text/plain": [
       "['raja', 'rani', 'mandiri', 'soldier', 'police', 'thirudan']"
      ]
     },
     "execution_count": 63,
     "metadata": {},
     "output_type": "execute_result"
    }
   ],
   "source": [
    "roles"
   ]
  },
  {
   "cell_type": "code",
   "execution_count": 64,
   "id": "73157e6c-3b02-49d0-9e2e-586b7ddd6cbc",
   "metadata": {},
   "outputs": [],
   "source": [
    "del roles"
   ]
  },
  {
   "cell_type": "code",
   "execution_count": 65,
   "id": "14c2e2b4-1850-4e52-99c3-6c455c6cfb2b",
   "metadata": {},
   "outputs": [
    {
     "ename": "NameError",
     "evalue": "name 'roles' is not defined",
     "output_type": "error",
     "traceback": [
      "\u001b[1;31m---------------------------------------------------------------------------\u001b[0m",
      "\u001b[1;31mNameError\u001b[0m                                 Traceback (most recent call last)",
      "Cell \u001b[1;32mIn[65], line 1\u001b[0m\n\u001b[1;32m----> 1\u001b[0m \u001b[43mroles\u001b[49m\n",
      "\u001b[1;31mNameError\u001b[0m: name 'roles' is not defined"
     ]
    }
   ],
   "source": [
    "roles"
   ]
  },
  {
   "cell_type": "markdown",
   "id": "c5a4308c-f317-4f70-8bfd-1f6d42155500",
   "metadata": {},
   "source": [
    "# Additional methods"
   ]
  },
  {
   "cell_type": "markdown",
   "id": "08a9a748-68a3-4bde-9517-0829100e62c8",
   "metadata": {},
   "source": [
    "- count, copy, reverse, sort"
   ]
  },
  {
   "cell_type": "code",
   "execution_count": 68,
   "id": "2e6fc35a-8923-4adc-9573-f2b344221282",
   "metadata": {},
   "outputs": [],
   "source": [
    "roles = ['raja', 'rani', 'mandiri','soldier','police', 'thirudan', 'raja']"
   ]
  },
  {
   "cell_type": "code",
   "execution_count": 70,
   "id": "bf109500-a09d-43d2-88a0-79a2badcef53",
   "metadata": {},
   "outputs": [
    {
     "data": {
      "text/plain": [
       "1"
      ]
     },
     "execution_count": 70,
     "metadata": {},
     "output_type": "execute_result"
    }
   ],
   "source": [
    "roles.count('rani')"
   ]
  },
  {
   "cell_type": "code",
   "execution_count": 71,
   "id": "8ab8abe9-bdfe-4c8a-8763-6df3097eb937",
   "metadata": {},
   "outputs": [],
   "source": [
    "roles2 = roles.copy()"
   ]
  },
  {
   "cell_type": "code",
   "execution_count": 73,
   "id": "b2f9eebe-e900-4210-a22f-f0ada3ac7061",
   "metadata": {},
   "outputs": [
    {
     "data": {
      "text/plain": [
       "list"
      ]
     },
     "execution_count": 73,
     "metadata": {},
     "output_type": "execute_result"
    }
   ],
   "source": [
    "type(roles2)"
   ]
  },
  {
   "cell_type": "code",
   "execution_count": 74,
   "id": "a4f17a7c-b2ae-4859-848c-53999b4b83a9",
   "metadata": {},
   "outputs": [],
   "source": [
    "roles.reverse()"
   ]
  },
  {
   "cell_type": "code",
   "execution_count": 75,
   "id": "3e908eac-806e-4feb-99ac-0b0bcf49ba0c",
   "metadata": {},
   "outputs": [
    {
     "data": {
      "text/plain": [
       "['raja', 'thirudan', 'police', 'soldier', 'mandiri', 'rani', 'raja']"
      ]
     },
     "execution_count": 75,
     "metadata": {},
     "output_type": "execute_result"
    }
   ],
   "source": [
    "roles"
   ]
  },
  {
   "cell_type": "code",
   "execution_count": 81,
   "id": "071d7f33-fe6c-4f93-940e-9fef8eeaa194",
   "metadata": {},
   "outputs": [],
   "source": [
    "roles.sort()"
   ]
  },
  {
   "cell_type": "code",
   "execution_count": 77,
   "id": "c09aa066-493e-417a-8772-df3eb6b3b8fe",
   "metadata": {},
   "outputs": [
    {
     "data": {
      "text/plain": [
       "['mandiri', 'police', 'raja', 'raja', 'rani', 'soldier', 'thirudan']"
      ]
     },
     "execution_count": 77,
     "metadata": {},
     "output_type": "execute_result"
    }
   ],
   "source": [
    "roles"
   ]
  },
  {
   "cell_type": "markdown",
   "id": "edad9db1-6c1e-4f95-8b45-98ce91c4e714",
   "metadata": {},
   "source": [
    "# List Loops"
   ]
  },
  {
   "cell_type": "markdown",
   "id": "455a57ff-a753-40ba-9e3c-8ff7788432d5",
   "metadata": {},
   "source": [
    "- in, range(), enumerate()"
   ]
  },
  {
   "cell_type": "code",
   "execution_count": 82,
   "id": "507e0d9f-41d2-4223-81d5-adb0fa7af0b6",
   "metadata": {},
   "outputs": [],
   "source": [
    "roles = ['raja', 'rani', 'mandiri','soldier','police', 'thirudan']"
   ]
  },
  {
   "cell_type": "code",
   "execution_count": 84,
   "id": "c3b3dab1-9b3e-4cbd-92d2-dd695c59222c",
   "metadata": {},
   "outputs": [],
   "source": [
    "uppercase_roles = []\n",
    "for i in roles:\n",
    "    j = i.upper()\n",
    "    uppercase_roles.append(j)"
   ]
  },
  {
   "cell_type": "code",
   "execution_count": 85,
   "id": "bab36ece-39cf-46a5-8e15-4d4faf8898af",
   "metadata": {},
   "outputs": [
    {
     "data": {
      "text/plain": [
       "['RAJA', 'RANI', 'MANDIRI', 'SOLDIER', 'POLICE', 'THIRUDAN']"
      ]
     },
     "execution_count": 85,
     "metadata": {},
     "output_type": "execute_result"
    }
   ],
   "source": [
    "uppercase_roles"
   ]
  },
  {
   "cell_type": "code",
   "execution_count": 87,
   "id": "ceb44377-51a8-4189-bfef-22480fe2f15f",
   "metadata": {},
   "outputs": [
    {
     "data": {
      "text/plain": [
       "6"
      ]
     },
     "execution_count": 87,
     "metadata": {},
     "output_type": "execute_result"
    }
   ],
   "source": [
    "len(roles)"
   ]
  },
  {
   "cell_type": "code",
   "execution_count": 89,
   "id": "86aa5407-ff7a-479e-8116-ab10c2e03400",
   "metadata": {},
   "outputs": [],
   "source": [
    "uppercase_roles2 = []"
   ]
  },
  {
   "cell_type": "code",
   "execution_count": 90,
   "id": "53be3528-a562-4093-a0db-2c0ecbd62524",
   "metadata": {},
   "outputs": [],
   "source": [
    "for i in range(len(roles)):\n",
    "    j = roles[i].upper()\n",
    "    uppercase_roles2.append(j)"
   ]
  },
  {
   "cell_type": "code",
   "execution_count": 91,
   "id": "47874346-6368-4af6-ab6f-2db71c5ddccb",
   "metadata": {},
   "outputs": [
    {
     "data": {
      "text/plain": [
       "['RAJA', 'RANI', 'MANDIRI', 'SOLDIER', 'POLICE', 'THIRUDAN']"
      ]
     },
     "execution_count": 91,
     "metadata": {},
     "output_type": "execute_result"
    }
   ],
   "source": [
    "uppercase_roles2"
   ]
  },
  {
   "cell_type": "code",
   "execution_count": 92,
   "id": "d33953eb-c973-4f74-80f5-04abafb34099",
   "metadata": {},
   "outputs": [
    {
     "name": "stdout",
     "output_type": "stream",
     "text": [
      "index = 0\n",
      "---------------------\n",
      "val = raja\n",
      "index = 1\n",
      "---------------------\n",
      "val = rani\n",
      "index = 2\n",
      "---------------------\n",
      "val = mandiri\n",
      "index = 3\n",
      "---------------------\n",
      "val = soldier\n",
      "index = 4\n",
      "---------------------\n",
      "val = police\n",
      "index = 5\n",
      "---------------------\n",
      "val = thirudan\n"
     ]
    }
   ],
   "source": [
    "for x,y in enumerate(roles):\n",
    "    print(\"index =\", x)\n",
    "    print(\"---------------------\")\n",
    "    print(\"val =\", y)"
   ]
  },
  {
   "cell_type": "markdown",
   "id": "38b5fd3f-f4fa-4e69-8d4d-ae4883924a46",
   "metadata": {},
   "source": [
    "# Join Lists"
   ]
  },
  {
   "cell_type": "markdown",
   "id": "a46c49b1-7d1b-4e2a-882e-01f84fbd868c",
   "metadata": {},
   "source": [
    "+, append, extend, [], constructor"
   ]
  },
  {
   "cell_type": "code",
   "execution_count": 127,
   "id": "a1e3e870-a99d-426a-97e7-6994bc3fa6e3",
   "metadata": {},
   "outputs": [],
   "source": [
    "roles = ['raja', 'rani', 'mandiri','soldier','police', 'thirudan']"
   ]
  },
  {
   "cell_type": "code",
   "execution_count": 128,
   "id": "bd6e1722-f675-464a-80f3-23afada5505d",
   "metadata": {},
   "outputs": [],
   "source": [
    "points = [1000, 500, 300, 200, 100, 0]"
   ]
  },
  {
   "cell_type": "code",
   "execution_count": 118,
   "id": "87162a15-5a6e-4500-b00c-4e7feb41849e",
   "metadata": {},
   "outputs": [
    {
     "data": {
      "text/plain": [
       "list"
      ]
     },
     "execution_count": 118,
     "metadata": {},
     "output_type": "execute_result"
    }
   ],
   "source": [
    "type(points)"
   ]
  },
  {
   "cell_type": "code",
   "execution_count": 116,
   "id": "e474724e-04fe-4c1e-aed5-7329f6c57f11",
   "metadata": {},
   "outputs": [],
   "source": [
    "raja_rani = roles + points"
   ]
  },
  {
   "cell_type": "code",
   "execution_count": 117,
   "id": "b6a99174-e1af-40c6-9aca-4df929e13f4c",
   "metadata": {},
   "outputs": [
    {
     "data": {
      "text/plain": [
       "['raja',\n",
       " 'rani',\n",
       " 'mandiri',\n",
       " 'soldier',\n",
       " 'police',\n",
       " 'thirudan',\n",
       " 1000,\n",
       " 500,\n",
       " 300,\n",
       " 200,\n",
       " 100,\n",
       " 0]"
      ]
     },
     "execution_count": 117,
     "metadata": {},
     "output_type": "execute_result"
    }
   ],
   "source": [
    "raja_rani"
   ]
  },
  {
   "cell_type": "code",
   "execution_count": 119,
   "id": "ec14d295-0a1e-4e30-a408-11f1b0ea9705",
   "metadata": {},
   "outputs": [],
   "source": [
    "roles.append(points)"
   ]
  },
  {
   "cell_type": "code",
   "execution_count": 120,
   "id": "0c16f648-c4c2-47dc-857c-d9c9a0ad2c0a",
   "metadata": {},
   "outputs": [
    {
     "data": {
      "text/plain": [
       "['raja',\n",
       " 'rani',\n",
       " 'mandiri',\n",
       " 'soldier',\n",
       " 'police',\n",
       " 'thirudan',\n",
       " [1000, 500, 300, 200, 100, 0]]"
      ]
     },
     "execution_count": 120,
     "metadata": {},
     "output_type": "execute_result"
    }
   ],
   "source": [
    "roles"
   ]
  },
  {
   "cell_type": "code",
   "execution_count": 121,
   "id": "c881c78f-db61-4f1b-af67-bdf44fd9b749",
   "metadata": {},
   "outputs": [],
   "source": [
    "for i in points:\n",
    "    roles.append(i)"
   ]
  },
  {
   "cell_type": "code",
   "execution_count": 122,
   "id": "3617551b-e8c3-4a2d-b000-0c57982d3e45",
   "metadata": {},
   "outputs": [
    {
     "data": {
      "text/plain": [
       "['raja',\n",
       " 'rani',\n",
       " 'mandiri',\n",
       " 'soldier',\n",
       " 'police',\n",
       " 'thirudan',\n",
       " [1000, 500, 300, 200, 100, 0],\n",
       " 1000,\n",
       " 500,\n",
       " 300,\n",
       " 200,\n",
       " 100,\n",
       " 0]"
      ]
     },
     "execution_count": 122,
     "metadata": {},
     "output_type": "execute_result"
    }
   ],
   "source": [
    "roles"
   ]
  },
  {
   "cell_type": "code",
   "execution_count": 123,
   "id": "f5f58f85-c9a4-4112-90e8-e1f3a6811b54",
   "metadata": {},
   "outputs": [],
   "source": [
    "roles.extend(points)"
   ]
  },
  {
   "cell_type": "code",
   "execution_count": 124,
   "id": "bc49aa2e-cbcb-44e0-b26d-b03191111624",
   "metadata": {},
   "outputs": [
    {
     "data": {
      "text/plain": [
       "['raja',\n",
       " 'rani',\n",
       " 'mandiri',\n",
       " 'soldier',\n",
       " 'police',\n",
       " 'thirudan',\n",
       " [1000, 500, 300, 200, 100, 0],\n",
       " 1000,\n",
       " 500,\n",
       " 300,\n",
       " 200,\n",
       " 100,\n",
       " 0,\n",
       " 1000,\n",
       " 500,\n",
       " 300,\n",
       " 200,\n",
       " 100,\n",
       " 0]"
      ]
     },
     "execution_count": 124,
     "metadata": {},
     "output_type": "execute_result"
    }
   ],
   "source": [
    "roles"
   ]
  },
  {
   "cell_type": "markdown",
   "id": "b084b2dc-cb1e-4c1f-ace4-aa9f531a3fb8",
   "metadata": {},
   "source": [
    "# Nested Lists"
   ]
  },
  {
   "cell_type": "code",
   "execution_count": 131,
   "id": "97b7c554-8714-41ae-bd41-cc6191fce3fb",
   "metadata": {},
   "outputs": [],
   "source": [
    "roles = ['raja', 'rani', 'mandiri','soldier','police', 'thirudan']\n",
    "points = [1000, 500, 300, 200, 100, 0]"
   ]
  },
  {
   "cell_type": "code",
   "execution_count": 132,
   "id": "d09f722e-59c4-4dce-91e0-57a458123875",
   "metadata": {},
   "outputs": [],
   "source": [
    "rr = [roles, points]"
   ]
  },
  {
   "cell_type": "code",
   "execution_count": 133,
   "id": "734f5fd1-8ce7-45f1-bfdd-90495c4f94d8",
   "metadata": {},
   "outputs": [
    {
     "data": {
      "text/plain": [
       "[['raja', 'rani', 'mandiri', 'soldier', 'police', 'thirudan'],\n",
       " [1000, 500, 300, 200, 100, 0]]"
      ]
     },
     "execution_count": 133,
     "metadata": {},
     "output_type": "execute_result"
    }
   ],
   "source": [
    "rr"
   ]
  },
  {
   "cell_type": "code",
   "execution_count": 134,
   "id": "26569319-37f5-4f09-9570-24b5ca95048f",
   "metadata": {},
   "outputs": [
    {
     "data": {
      "text/plain": [
       "list"
      ]
     },
     "execution_count": 134,
     "metadata": {},
     "output_type": "execute_result"
    }
   ],
   "source": [
    "type(rr)"
   ]
  },
  {
   "cell_type": "code",
   "execution_count": 137,
   "id": "1485ff02-5a5a-4251-b398-40a48a82cdf6",
   "metadata": {},
   "outputs": [],
   "source": [
    "rr2 = list((roles, points))"
   ]
  },
  {
   "cell_type": "code",
   "execution_count": 138,
   "id": "626fde1c-3737-4f19-80ec-eef14be439f8",
   "metadata": {},
   "outputs": [
    {
     "data": {
      "text/plain": [
       "[['raja', 'rani', 'mandiri', 'soldier', 'police', 'thirudan'],\n",
       " [1000, 500, 300, 200, 100, 0]]"
      ]
     },
     "execution_count": 138,
     "metadata": {},
     "output_type": "execute_result"
    }
   ],
   "source": [
    "rr2"
   ]
  },
  {
   "cell_type": "code",
   "execution_count": null,
   "id": "b2d76b56-4416-4827-9b7e-7d0a66cb13ff",
   "metadata": {},
   "outputs": [],
   "source": []
  }
 ],
 "metadata": {
  "kernelspec": {
   "display_name": "Python 3 (ipykernel)",
   "language": "python",
   "name": "python3"
  },
  "language_info": {
   "codemirror_mode": {
    "name": "ipython",
    "version": 3
   },
   "file_extension": ".py",
   "mimetype": "text/x-python",
   "name": "python",
   "nbconvert_exporter": "python",
   "pygments_lexer": "ipython3",
   "version": "3.10.14"
  }
 },
 "nbformat": 4,
 "nbformat_minor": 5
}
