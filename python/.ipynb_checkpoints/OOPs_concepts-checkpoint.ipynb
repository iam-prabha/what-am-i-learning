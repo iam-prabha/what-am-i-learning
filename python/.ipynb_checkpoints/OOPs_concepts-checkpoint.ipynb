{
 "cells": [
  {
   "cell_type": "markdown",
   "id": "c9064313-cc39-43b0-a3b6-e44e5a289af1",
   "metadata": {},
   "source": [
    "# Classes & Objects"
   ]
  },
  {
   "cell_type": "code",
   "execution_count": 1,
   "id": "fbaedbbd-793b-47bf-8d8c-b7cf44f914ef",
   "metadata": {},
   "outputs": [],
   "source": [
    "class Biscuits: # alan kay is introduced opps in 1966\n",
    "    pass"
   ]
  },
  {
   "cell_type": "code",
   "execution_count": 2,
   "id": "84b0b83b-a7d3-45f4-98be-b05c3dbfb791",
   "metadata": {},
   "outputs": [],
   "source": [
    "good_day = Biscuits()\n",
    "milk_bikis = Biscuits()\n",
    "hide_and_seek = Biscuits()\n",
    "oreo = Biscuits()"
   ]
  },
  {
   "cell_type": "code",
   "execution_count": 27,
   "id": "9f80f8f0-8137-4e18-81e1-a19253809cd5",
   "metadata": {},
   "outputs": [
    {
     "data": {
      "text/plain": [
       "type"
      ]
     },
     "execution_count": 27,
     "metadata": {},
     "output_type": "execute_result"
    }
   ],
   "source": [
    "type(good_day)"
   ]
  },
  {
   "cell_type": "markdown",
   "id": "c2e265b2-a818-4f9f-bd52-9a66074cb403",
   "metadata": {},
   "source": [
    "# Instance Variables & methods"
   ]
  },
  {
   "cell_type": "code",
   "execution_count": 4,
   "id": "615541a0-055c-4ca3-ae61-a7d2f7fe83c9",
   "metadata": {},
   "outputs": [],
   "source": [
    "good_day.flavour = 'blue'\n",
    "good_day.price = 10"
   ]
  },
  {
   "cell_type": "code",
   "execution_count": 5,
   "id": "1ef6c70a-04ef-41a2-9bab-72c731b0682d",
   "metadata": {},
   "outputs": [
    {
     "data": {
      "text/plain": [
       "'blue'"
      ]
     },
     "execution_count": 5,
     "metadata": {},
     "output_type": "execute_result"
    }
   ],
   "source": [
    "good_day.flavour "
   ]
  },
  {
   "cell_type": "code",
   "execution_count": 6,
   "id": "9ae9511a-b13e-4238-9736-13551e4b0457",
   "metadata": {},
   "outputs": [],
   "source": [
    "class Biscuits:\n",
    "    # constructor __init__ inbulit methods calls automatically when you create new class  object \n",
    "    def __init__(self, flavour, price, ingredient): \n",
    "        self.flavour = flavour\n",
    "        self.price = price\n",
    "        self.ingredient = ingredient\n",
    "        \n",
    "    #instance method\n",
    "    def get_ingredient(self, name):\n",
    "       print(f\"{name} contains {self.ingredient}!\")"
   ]
  },
  {
   "cell_type": "code",
   "execution_count": 7,
   "id": "a47e3257-fb2a-46f9-9b64-bc862b909456",
   "metadata": {},
   "outputs": [],
   "source": [
    "good_day = Biscuits('blue', 10, 'cashew')\n",
    "milk_bikis = Biscuits('cream', 25, 'milk')"
   ]
  },
  {
   "cell_type": "code",
   "execution_count": 8,
   "id": "5a45559e-eafa-4564-b458-25c0fe81cb1f",
   "metadata": {},
   "outputs": [
    {
     "data": {
      "text/plain": [
       "'cream'"
      ]
     },
     "execution_count": 8,
     "metadata": {},
     "output_type": "execute_result"
    }
   ],
   "source": [
    "milk_bikis.flavour"
   ]
  },
  {
   "cell_type": "code",
   "execution_count": 9,
   "id": "f7ae6b94-1c12-48bd-8181-44b9e314eaf9",
   "metadata": {},
   "outputs": [
    {
     "name": "stdout",
     "output_type": "stream",
     "text": [
      "MILK BIKIS contains milk!\n"
     ]
    }
   ],
   "source": [
    "milk_bikis.get_ingredient(\"MILK BIKIS\")"
   ]
  },
  {
   "cell_type": "markdown",
   "id": "500b54a6-962d-4da9-baa7-10647bae01ef",
   "metadata": {},
   "source": [
    "# Inheritance"
   ]
  },
  {
   "cell_type": "markdown",
   "id": "3340d376-6776-487c-9c4d-f30637a1589f",
   "metadata": {},
   "source": [
    "## Types of inheritance\n",
    "- single\n",
    "    - parent to child\n",
    "- multi-leve\n",
    "    - parent to child-A to child-B\n",
    "- hierarchical\n",
    "    - parent to child-A1,child-A2(derived class set-2) &\n",
    "    - from derived class set-1 to child-B1,child-B2(dervired class set-2)\n",
    "- multiple\n",
    "    - parent_1 and parent_2 classes to child(parent_1,parent_2 is like merged) "
   ]
  },
  {
   "cell_type": "code",
   "execution_count": 30,
   "id": "c672ee20-7184-4ca4-81be-a488e8804e46",
   "metadata": {},
   "outputs": [],
   "source": [
    "# pass here parameter as biscuits class now you acces biscuits instance variable & methods using super()\n",
    "class Rusk(Biscuits):\n",
    "    #constructor \n",
    "    def __init__(self, flavour, price, ingredient, texture):\n",
    "        super().__init__(flavour, price, ingredient)\n",
    "        self.texture = texture\n",
    "        \n",
    "    def get_ingredient(self, name):\n",
    "       print(f\"{name} RUSK contains {self.ingredient}!\")\n",
    "\n",
    "    def get_flavour(self):\n",
    "        return self.flavour\n",
    "    "
   ]
  },
  {
   "cell_type": "code",
   "execution_count": 11,
   "id": "7a691d59-03a1-4989-9a15-087bceb11779",
   "metadata": {},
   "outputs": [],
   "source": [
    "toastea = Rusk('elachi', 35, 'milk&wheat', 'hard')"
   ]
  },
  {
   "cell_type": "code",
   "execution_count": 12,
   "id": "3f5f32db-fa7c-4e23-9484-2de7482238c2",
   "metadata": {},
   "outputs": [
    {
     "data": {
      "text/plain": [
       "'elachi'"
      ]
     },
     "execution_count": 12,
     "metadata": {},
     "output_type": "execute_result"
    }
   ],
   "source": [
    "toastea.get_flavour()"
   ]
  },
  {
   "cell_type": "code",
   "execution_count": 13,
   "id": "4e97b069-b250-4c40-a35a-f1ed08713862",
   "metadata": {},
   "outputs": [
    {
     "name": "stdout",
     "output_type": "stream",
     "text": [
      "Toastea RUSK contains milk&wheat!\n"
     ]
    }
   ],
   "source": [
    "toastea.get_ingredient('Toastea')"
   ]
  },
  {
   "cell_type": "markdown",
   "id": "f8c49a18-695a-41b8-a5b1-2d902c6c7ccd",
   "metadata": {},
   "source": [
    "# Polymorphism - method overriding"
   ]
  },
  {
   "cell_type": "code",
   "execution_count": 14,
   "id": "d88b4c1b-3f59-497c-b45a-0e77c54c845a",
   "metadata": {},
   "outputs": [],
   "source": [
    "class Biscuit:\n",
    "    def cook_biscuit(self):\n",
    "        print(\"maavu + water + ghee + bake\")\n",
    "class good_day(Biscuit):\n",
    "    def cook_biscuit(self):\n",
    "        print(\"maavu + water + ghee + CASHEW + bake\")\n",
    "class milk_bikis(Biscuit):\n",
    "    def cook_biscuit(self):\n",
    "        print(\"maavu + water + ghee + MILK +bake\")"
   ]
  },
  {
   "cell_type": "code",
   "execution_count": 15,
   "id": "4d3a59ff-b3ca-41df-849f-2586a123b45f",
   "metadata": {},
   "outputs": [
    {
     "name": "stdout",
     "output_type": "stream",
     "text": [
      "maavu + water + ghee + MILK +bake\n"
     ]
    }
   ],
   "source": [
    "gd = good_day()\n",
    "mb = milk_bikis()\n",
    "mb.cook_biscuit()"
   ]
  },
  {
   "cell_type": "markdown",
   "id": "3b6c0c80-9c5e-4963-8323-7b991f170217",
   "metadata": {},
   "source": [
    "# Encapsulation"
   ]
  },
  {
   "cell_type": "code",
   "execution_count": 34,
   "id": "97c25959-030b-4364-b2a1-dcd6a82006ba",
   "metadata": {},
   "outputs": [],
   "source": [
    "class Biscuits:\n",
    "    # constructor\n",
    "    def __init__(self, flavour, ingredient, price):\n",
    "        self.flavour = flavour  # public\n",
    "        self._ingredient = ingredient #protected starts with single \"_\"\n",
    "        self.__price = price # private starts with double \"__\"\n",
    "\n",
    "    # getter method\n",
    "    def get_biscuit_price(self):\n",
    "        return self.__price"
   ]
  },
  {
   "cell_type": "code",
   "execution_count": 35,
   "id": "9d121c52-5511-4672-a24c-45aa6576050c",
   "metadata": {},
   "outputs": [],
   "source": [
    "biscuit_obj = Biscuits(\"blue\", \"Cashew\", 10)"
   ]
  },
  {
   "cell_type": "code",
   "execution_count": 36,
   "id": "c8f535a5-eb95-4f6f-b5d3-3b34a72ce10b",
   "metadata": {},
   "outputs": [
    {
     "data": {
      "text/plain": [
       "10"
      ]
     },
     "execution_count": 36,
     "metadata": {},
     "output_type": "execute_result"
    }
   ],
   "source": [
    "biscuit_obj.get_biscuit_price()"
   ]
  },
  {
   "cell_type": "markdown",
   "id": "fcb23df2-77d5-4ea3-b1eb-9bb746e3f5e4",
   "metadata": {},
   "source": [
    "# Abstraction"
   ]
  },
  {
   "cell_type": "code",
   "execution_count": 19,
   "id": "7b7aec0f-b3b1-4c03-8add-abd401b8a6b1",
   "metadata": {},
   "outputs": [],
   "source": [
    "from abc import ABC, abstractmethod"
   ]
  },
  {
   "cell_type": "code",
   "execution_count": 20,
   "id": "d115e867-63e7-4df8-9d68-5940e52cde12",
   "metadata": {},
   "outputs": [],
   "source": [
    "class Biscuit:\n",
    "    @abstractmethod\n",
    "    def cook_biscuit(self):\n",
    "        pass\n",
    "class good_day(Biscuit):\n",
    "    def cook_biscuit(self):\n",
    "        print(\"maavu + water + ghee + CASHEW + bake\")\n",
    "class milk_bikis(Biscuit):\n",
    "    def cook_biscuit(self):\n",
    "        print(\"maavu + water + ghee + MILK +bake\")"
   ]
  },
  {
   "cell_type": "code",
   "execution_count": 21,
   "id": "50f5e7b6-6415-4729-a92d-8cdfd3cc5df5",
   "metadata": {},
   "outputs": [
    {
     "name": "stdout",
     "output_type": "stream",
     "text": [
      "maavu + water + ghee + MILK +bake\n"
     ]
    }
   ],
   "source": [
    "gd = good_day()\n",
    "mb = milk_bikis()\n",
    "mb.cook_biscuit()"
   ]
  },
  {
   "cell_type": "markdown",
   "id": "6972ac75-5eab-4e62-8a18-18d00ebfeaf1",
   "metadata": {},
   "source": [
    "# Overloading"
   ]
  },
  {
   "cell_type": "code",
   "execution_count": 31,
   "id": "ac318389-876e-4dbf-871f-eee0e5d350ba",
   "metadata": {},
   "outputs": [],
   "source": [
    "# python does not support direct overloading instead using MutipleDispatch from pip\n",
    "from multipledispatch import dispatch\n",
    "class Bisci:\n",
    "    @dispatch(int,int)\n",
    "    def add(self, a, b):\n",
    "        return a+b\n",
    "    @dispatch(int,int,int)\n",
    "    def add(self, a,b,c):\n",
    "        return a+b+c\n",
    "    @dispatch(int,int,int,int)\n",
    "    def add(self,a,b,c,d):\n",
    "        return a+b+c+d"
   ]
  },
  {
   "cell_type": "code",
   "execution_count": 32,
   "id": "2c85caae-7094-4b11-b424-3cc3bb2a84e4",
   "metadata": {},
   "outputs": [],
   "source": [
    "b = Bisci()"
   ]
  },
  {
   "cell_type": "code",
   "execution_count": 33,
   "id": "d7828376-eb26-463b-a1fc-be8b9c22f9f0",
   "metadata": {},
   "outputs": [
    {
     "data": {
      "text/plain": [
       "3"
      ]
     },
     "execution_count": 33,
     "metadata": {},
     "output_type": "execute_result"
    }
   ],
   "source": [
    "b.add(1,2)"
   ]
  },
  {
   "cell_type": "code",
   "execution_count": null,
   "id": "ad9c2ef6-6c60-4d23-b63f-e533def68d14",
   "metadata": {},
   "outputs": [],
   "source": []
  }
 ],
 "metadata": {
  "kernelspec": {
   "display_name": "Python 3 (ipykernel)",
   "language": "python",
   "name": "python3"
  },
  "language_info": {
   "codemirror_mode": {
    "name": "ipython",
    "version": 3
   },
   "file_extension": ".py",
   "mimetype": "text/x-python",
   "name": "python",
   "nbconvert_exporter": "python",
   "pygments_lexer": "ipython3",
   "version": "3.12.7"
  }
 },
 "nbformat": 4,
 "nbformat_minor": 5
}
