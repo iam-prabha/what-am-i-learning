{
 "cells": [
  {
   "cell_type": "markdown",
   "id": "e09569bd-2b9f-4c88-9b3c-28a2ac4f43da",
   "metadata": {},
   "source": [
    "# Library installation"
   ]
  },
  {
   "cell_type": "code",
   "execution_count": 1,
   "id": "1dcd5d3f-d232-47d9-b318-2d9d4e4279b9",
   "metadata": {},
   "outputs": [],
   "source": [
    "import pandas as pd"
   ]
  },
  {
   "cell_type": "code",
   "execution_count": 2,
   "id": "d1910d5a-78b7-4c3c-abf4-2a2ff4ef6145",
   "metadata": {},
   "outputs": [],
   "source": [
    "import numpy as np"
   ]
  },
  {
   "cell_type": "markdown",
   "id": "f731ef66-7b29-40e9-95cb-055d3cc9d197",
   "metadata": {},
   "source": [
    "# Pandas Series "
   ]
  },
  {
   "cell_type": "markdown",
   "id": "ca4690e1-b80c-4e7d-a79f-f1c87183fc87",
   "metadata": {},
   "source": [
    "### how to create?"
   ]
  },
  {
   "cell_type": "code",
   "execution_count": 3,
   "id": "fa9608c6-fb4e-441c-8e41-525349d0da83",
   "metadata": {},
   "outputs": [],
   "source": [
    "veges = ['beetroot', 'carrot', 'tomato', 'kovakkai', 'coconut']"
   ]
  },
  {
   "cell_type": "code",
   "execution_count": 4,
   "id": "a418931e-9eb8-4709-ad98-2ef6d2f99a4b",
   "metadata": {},
   "outputs": [],
   "source": [
    "veges_series = pd.Series(veges,index=['purple', 'orange', 'red', 'green', 'white'])"
   ]
  },
  {
   "cell_type": "code",
   "execution_count": 5,
   "id": "fe5061b2-35e7-4f1c-9158-9a0cd12cdacb",
   "metadata": {},
   "outputs": [
    {
     "data": {
      "text/plain": [
       "purple    beetroot\n",
       "orange      carrot\n",
       "red         tomato\n",
       "green     kovakkai\n",
       "white      coconut\n",
       "dtype: object"
      ]
     },
     "execution_count": 5,
     "metadata": {},
     "output_type": "execute_result"
    }
   ],
   "source": [
    "veges_series"
   ]
  },
  {
   "cell_type": "code",
   "execution_count": 6,
   "id": "6faa8112-1cd6-42d1-8c30-bf1baaabe19f",
   "metadata": {},
   "outputs": [],
   "source": [
    "vege_dict = {'red': 'tomato','green': 'kovakkai'}"
   ]
  },
  {
   "cell_type": "code",
   "execution_count": 7,
   "id": "33531c67-12ea-458e-be72-e8466a497cb2",
   "metadata": {},
   "outputs": [],
   "source": [
    "vege_dict_series = pd.Series(vege_dict)"
   ]
  },
  {
   "cell_type": "code",
   "execution_count": 8,
   "id": "c914bfe9-60fe-45bb-aed9-85a23ff2d63d",
   "metadata": {},
   "outputs": [
    {
     "data": {
      "text/plain": [
       "red        tomato\n",
       "green    kovakkai\n",
       "dtype: object"
      ]
     },
     "execution_count": 8,
     "metadata": {},
     "output_type": "execute_result"
    }
   ],
   "source": [
    "vege_dict_series"
   ]
  },
  {
   "cell_type": "markdown",
   "id": "0cb82069-c644-4edb-8ef1-fd37977a2cb1",
   "metadata": {},
   "source": [
    "### How to access?"
   ]
  },
  {
   "cell_type": "code",
   "execution_count": 9,
   "id": "86eccee4-5ff6-4ff2-a175-dff236f413ac",
   "metadata": {},
   "outputs": [
    {
     "data": {
      "text/plain": [
       "'coconut'"
      ]
     },
     "execution_count": 9,
     "metadata": {},
     "output_type": "execute_result"
    }
   ],
   "source": [
    "veges_series['white']"
   ]
  },
  {
   "cell_type": "code",
   "execution_count": 10,
   "id": "44c309d0-ed40-46b9-a185-df54ec07fd49",
   "metadata": {},
   "outputs": [],
   "source": [
    "vege_dict_series['orange'] = 'carrot'"
   ]
  },
  {
   "cell_type": "code",
   "execution_count": 11,
   "id": "b7eb2df5-57c4-4025-9a0b-828efdde3605",
   "metadata": {},
   "outputs": [
    {
     "data": {
      "text/plain": [
       "red         tomato\n",
       "green     kovakkai\n",
       "orange      carrot\n",
       "dtype: object"
      ]
     },
     "execution_count": 11,
     "metadata": {},
     "output_type": "execute_result"
    }
   ],
   "source": [
    "vege_dict_series"
   ]
  },
  {
   "cell_type": "code",
   "execution_count": 12,
   "id": "78041906-5a02-4904-b590-a67b2f6368c9",
   "metadata": {},
   "outputs": [],
   "source": [
    "vege_dict_series.drop(['orange'], inplace=True)"
   ]
  },
  {
   "cell_type": "markdown",
   "id": "e000c723-616f-4e33-ae9e-df22a2aadbe9",
   "metadata": {},
   "source": [
    "### Series elements can be hetrogeneous & nested too!"
   ]
  },
  {
   "cell_type": "code",
   "execution_count": 13,
   "id": "4730a452-1763-486a-b3d4-e0ef47cd16cb",
   "metadata": {},
   "outputs": [],
   "source": [
    "veges_dict = {'red': ['tomato', 'redchilli', 'apple'], 'green': 'kovakkai'}"
   ]
  },
  {
   "cell_type": "code",
   "execution_count": 14,
   "id": "abe39a68-f636-411e-b4b1-fb1909e1817f",
   "metadata": {},
   "outputs": [],
   "source": [
    "new_veges_series = pd.Series(veges_dict)"
   ]
  },
  {
   "cell_type": "code",
   "execution_count": 15,
   "id": "9a062190-622f-4941-a91c-a715a64f80ba",
   "metadata": {},
   "outputs": [
    {
     "name": "stderr",
     "output_type": "stream",
     "text": [
      "/tmp/ipykernel_4423/189875207.py:1: FutureWarning: Series.__getitem__ treating keys as positions is deprecated. In a future version, integer keys will always be treated as labels (consistent with DataFrame behavior). To access a value by position, use `ser.iloc[pos]`\n",
      "  type(new_veges_series[1])\n"
     ]
    },
    {
     "data": {
      "text/plain": [
       "str"
      ]
     },
     "execution_count": 15,
     "metadata": {},
     "output_type": "execute_result"
    }
   ],
   "source": [
    "type(new_veges_series[1])"
   ]
  },
  {
   "cell_type": "markdown",
   "id": "95b08f1e-5def-49d4-91ca-0d46339da2a1",
   "metadata": {},
   "source": [
    "# Pandas Datasframe"
   ]
  },
  {
   "cell_type": "markdown",
   "id": "4b81b311-1a50-4b0d-ac92-a182febc6080",
   "metadata": {},
   "source": [
    "### how to create?"
   ]
  },
  {
   "cell_type": "markdown",
   "id": "4801030e-954f-4a01-be53-af04658e7d84",
   "metadata": {},
   "source": [
    "## series are building blocks of datagrames"
   ]
  },
  {
   "cell_type": "code",
   "execution_count": 16,
   "id": "09b7c341-dd1d-4b46-bea0-4e5c036d7cd6",
   "metadata": {},
   "outputs": [],
   "source": [
    "data = { 'vegetables': ['beetroot', 'carrot', 'redchilli', 'beans', 'coconut'],\n",
    "       'color' : ['purple', 'orange', 'red', 'green', 'white'],\n",
    "        'unit' : ['1kg', '1kg','1kg','1kg','1piece'],\n",
    "       'min' : [25, 35, 33, 40, 'seventeen'],\n",
    "       'max': [40, 45, 90, 45, 38],\n",
    "       }"
   ]
  },
  {
   "cell_type": "code",
   "execution_count": 17,
   "id": "f0fc9372-e683-42af-90c0-1ba673f18ff2",
   "metadata": {},
   "outputs": [],
   "source": [
    "koyambed_market = pd.DataFrame(data,index=['a','b','c','d','e'])"
   ]
  },
  {
   "cell_type": "code",
   "execution_count": 18,
   "id": "8faa4c4e-e958-4775-afed-7ac403b19ea1",
   "metadata": {},
   "outputs": [
    {
     "data": {
      "text/html": [
       "<div>\n",
       "<style scoped>\n",
       "    .dataframe tbody tr th:only-of-type {\n",
       "        vertical-align: middle;\n",
       "    }\n",
       "\n",
       "    .dataframe tbody tr th {\n",
       "        vertical-align: top;\n",
       "    }\n",
       "\n",
       "    .dataframe thead th {\n",
       "        text-align: right;\n",
       "    }\n",
       "</style>\n",
       "<table border=\"1\" class=\"dataframe\">\n",
       "  <thead>\n",
       "    <tr style=\"text-align: right;\">\n",
       "      <th></th>\n",
       "      <th>vegetables</th>\n",
       "      <th>color</th>\n",
       "      <th>unit</th>\n",
       "      <th>min</th>\n",
       "      <th>max</th>\n",
       "    </tr>\n",
       "  </thead>\n",
       "  <tbody>\n",
       "    <tr>\n",
       "      <th>a</th>\n",
       "      <td>beetroot</td>\n",
       "      <td>purple</td>\n",
       "      <td>1kg</td>\n",
       "      <td>25</td>\n",
       "      <td>40</td>\n",
       "    </tr>\n",
       "    <tr>\n",
       "      <th>b</th>\n",
       "      <td>carrot</td>\n",
       "      <td>orange</td>\n",
       "      <td>1kg</td>\n",
       "      <td>35</td>\n",
       "      <td>45</td>\n",
       "    </tr>\n",
       "    <tr>\n",
       "      <th>c</th>\n",
       "      <td>redchilli</td>\n",
       "      <td>red</td>\n",
       "      <td>1kg</td>\n",
       "      <td>33</td>\n",
       "      <td>90</td>\n",
       "    </tr>\n",
       "    <tr>\n",
       "      <th>d</th>\n",
       "      <td>beans</td>\n",
       "      <td>green</td>\n",
       "      <td>1kg</td>\n",
       "      <td>40</td>\n",
       "      <td>45</td>\n",
       "    </tr>\n",
       "    <tr>\n",
       "      <th>e</th>\n",
       "      <td>coconut</td>\n",
       "      <td>white</td>\n",
       "      <td>1piece</td>\n",
       "      <td>seventeen</td>\n",
       "      <td>38</td>\n",
       "    </tr>\n",
       "  </tbody>\n",
       "</table>\n",
       "</div>"
      ],
      "text/plain": [
       "  vegetables   color    unit        min  max\n",
       "a   beetroot  purple     1kg         25   40\n",
       "b     carrot  orange     1kg         35   45\n",
       "c  redchilli     red     1kg         33   90\n",
       "d      beans   green     1kg         40   45\n",
       "e    coconut   white  1piece  seventeen   38"
      ]
     },
     "execution_count": 18,
     "metadata": {},
     "output_type": "execute_result"
    }
   ],
   "source": [
    "koyambed_market"
   ]
  },
  {
   "cell_type": "code",
   "execution_count": 19,
   "id": "b8465a48-2adb-44bd-92f2-620b8daed55e",
   "metadata": {},
   "outputs": [
    {
     "data": {
      "text/plain": [
       "Index(['a', 'b', 'c', 'd', 'e'], dtype='object')"
      ]
     },
     "execution_count": 19,
     "metadata": {},
     "output_type": "execute_result"
    }
   ],
   "source": [
    "koyambed_market.index"
   ]
  },
  {
   "cell_type": "markdown",
   "id": "cb8cb0d1-54d0-4a37-a13f-4e4502c9d653",
   "metadata": {},
   "source": [
    "### How to access?"
   ]
  },
  {
   "cell_type": "code",
   "execution_count": 20,
   "id": "240f12e8-bd68-47b3-a1a9-08e9ad290c6d",
   "metadata": {},
   "outputs": [
    {
     "data": {
      "text/plain": [
       "a       1kg\n",
       "b       1kg\n",
       "c       1kg\n",
       "d       1kg\n",
       "e    1piece\n",
       "Name: unit, dtype: object"
      ]
     },
     "execution_count": 20,
     "metadata": {},
     "output_type": "execute_result"
    }
   ],
   "source": [
    "koyambed_market['unit'] # access cols names"
   ]
  },
  {
   "cell_type": "code",
   "execution_count": 21,
   "id": "4e09c195-5f99-440f-8d5e-8fc12260e98b",
   "metadata": {},
   "outputs": [
    {
     "data": {
      "text/plain": [
       "vegetables    beetroot\n",
       "color           purple\n",
       "unit               1kg\n",
       "min                 25\n",
       "max                 40\n",
       "Name: a, dtype: object"
      ]
     },
     "execution_count": 21,
     "metadata": {},
     "output_type": "execute_result"
    }
   ],
   "source": [
    "# below .loc access the label and .oc also used for create new one\n",
    "koyambed_market.loc['a'] # or komyambed_market.iloc[0] access the speificed index"
   ]
  },
  {
   "cell_type": "code",
   "execution_count": 22,
   "id": "a8696cf0-422c-4043-8c33-8c5d4a6aef73",
   "metadata": {},
   "outputs": [
    {
     "data": {
      "text/plain": [
       "'1kg'"
      ]
     },
     "execution_count": 22,
     "metadata": {},
     "output_type": "execute_result"
    }
   ],
   "source": [
    "koyambed_market.loc['a', 'unit']"
   ]
  },
  {
   "cell_type": "code",
   "execution_count": 23,
   "id": "30d48211-7202-4b5d-b753-c14736bfc11f",
   "metadata": {},
   "outputs": [
    {
     "data": {
      "text/html": [
       "<div>\n",
       "<style scoped>\n",
       "    .dataframe tbody tr th:only-of-type {\n",
       "        vertical-align: middle;\n",
       "    }\n",
       "\n",
       "    .dataframe tbody tr th {\n",
       "        vertical-align: top;\n",
       "    }\n",
       "\n",
       "    .dataframe thead th {\n",
       "        text-align: right;\n",
       "    }\n",
       "</style>\n",
       "<table border=\"1\" class=\"dataframe\">\n",
       "  <thead>\n",
       "    <tr style=\"text-align: right;\">\n",
       "      <th></th>\n",
       "      <th>vegetables</th>\n",
       "      <th>color</th>\n",
       "      <th>unit</th>\n",
       "    </tr>\n",
       "  </thead>\n",
       "  <tbody>\n",
       "    <tr>\n",
       "      <th>a</th>\n",
       "      <td>beetroot</td>\n",
       "      <td>purple</td>\n",
       "      <td>1kg</td>\n",
       "    </tr>\n",
       "    <tr>\n",
       "      <th>b</th>\n",
       "      <td>carrot</td>\n",
       "      <td>orange</td>\n",
       "      <td>1kg</td>\n",
       "    </tr>\n",
       "    <tr>\n",
       "      <th>c</th>\n",
       "      <td>redchilli</td>\n",
       "      <td>red</td>\n",
       "      <td>1kg</td>\n",
       "    </tr>\n",
       "  </tbody>\n",
       "</table>\n",
       "</div>"
      ],
      "text/plain": [
       "  vegetables   color unit\n",
       "a   beetroot  purple  1kg\n",
       "b     carrot  orange  1kg\n",
       "c  redchilli     red  1kg"
      ]
     },
     "execution_count": 23,
     "metadata": {},
     "output_type": "execute_result"
    }
   ],
   "source": [
    "koyambed_market.iloc[0:3, 0:3]"
   ]
  },
  {
   "cell_type": "markdown",
   "id": "8313a335-ed20-49cc-98ce-1ff66ee81e65",
   "metadata": {},
   "source": [
    "### Adding and removing"
   ]
  },
  {
   "cell_type": "code",
   "execution_count": 24,
   "id": "972a8f3b-b926-43ef-bcf8-acf2f9f8a68f",
   "metadata": {},
   "outputs": [
    {
     "data": {
      "text/html": [
       "<div>\n",
       "<style scoped>\n",
       "    .dataframe tbody tr th:only-of-type {\n",
       "        vertical-align: middle;\n",
       "    }\n",
       "\n",
       "    .dataframe tbody tr th {\n",
       "        vertical-align: top;\n",
       "    }\n",
       "\n",
       "    .dataframe thead th {\n",
       "        text-align: right;\n",
       "    }\n",
       "</style>\n",
       "<table border=\"1\" class=\"dataframe\">\n",
       "  <thead>\n",
       "    <tr style=\"text-align: right;\">\n",
       "      <th></th>\n",
       "      <th>vegetables</th>\n",
       "      <th>color</th>\n",
       "      <th>unit</th>\n",
       "      <th>min</th>\n",
       "      <th>max</th>\n",
       "    </tr>\n",
       "  </thead>\n",
       "  <tbody>\n",
       "    <tr>\n",
       "      <th>a</th>\n",
       "      <td>beetroot</td>\n",
       "      <td>purple</td>\n",
       "      <td>1kg</td>\n",
       "      <td>25</td>\n",
       "      <td>40</td>\n",
       "    </tr>\n",
       "    <tr>\n",
       "      <th>b</th>\n",
       "      <td>carrot</td>\n",
       "      <td>orange</td>\n",
       "      <td>1kg</td>\n",
       "      <td>35</td>\n",
       "      <td>45</td>\n",
       "    </tr>\n",
       "    <tr>\n",
       "      <th>c</th>\n",
       "      <td>redchilli</td>\n",
       "      <td>red</td>\n",
       "      <td>1kg</td>\n",
       "      <td>33</td>\n",
       "      <td>90</td>\n",
       "    </tr>\n",
       "    <tr>\n",
       "      <th>d</th>\n",
       "      <td>beans</td>\n",
       "      <td>green</td>\n",
       "      <td>1kg</td>\n",
       "      <td>40</td>\n",
       "      <td>45</td>\n",
       "    </tr>\n",
       "    <tr>\n",
       "      <th>e</th>\n",
       "      <td>coconut</td>\n",
       "      <td>white</td>\n",
       "      <td>1piece</td>\n",
       "      <td>seventeen</td>\n",
       "      <td>38</td>\n",
       "    </tr>\n",
       "  </tbody>\n",
       "</table>\n",
       "</div>"
      ],
      "text/plain": [
       "  vegetables   color    unit        min  max\n",
       "a   beetroot  purple     1kg         25   40\n",
       "b     carrot  orange     1kg         35   45\n",
       "c  redchilli     red     1kg         33   90\n",
       "d      beans   green     1kg         40   45\n",
       "e    coconut   white  1piece  seventeen   38"
      ]
     },
     "execution_count": 24,
     "metadata": {},
     "output_type": "execute_result"
    }
   ],
   "source": [
    "koyambed_market"
   ]
  },
  {
   "cell_type": "code",
   "execution_count": 25,
   "id": "a16e8641-5518-4923-ad95-395059e6594c",
   "metadata": {},
   "outputs": [],
   "source": [
    "koyambed_market.loc['f'] = {'vegetables': 'poosanikai', 'color': 'yellow', 'unit': '1piece', 'min' : 10, 'max' : 30}"
   ]
  },
  {
   "cell_type": "code",
   "execution_count": 26,
   "id": "eeef10d8-e394-4f31-8b8d-633e64a08e97",
   "metadata": {},
   "outputs": [
    {
     "data": {
      "text/html": [
       "<div>\n",
       "<style scoped>\n",
       "    .dataframe tbody tr th:only-of-type {\n",
       "        vertical-align: middle;\n",
       "    }\n",
       "\n",
       "    .dataframe tbody tr th {\n",
       "        vertical-align: top;\n",
       "    }\n",
       "\n",
       "    .dataframe thead th {\n",
       "        text-align: right;\n",
       "    }\n",
       "</style>\n",
       "<table border=\"1\" class=\"dataframe\">\n",
       "  <thead>\n",
       "    <tr style=\"text-align: right;\">\n",
       "      <th></th>\n",
       "      <th>vegetables</th>\n",
       "      <th>color</th>\n",
       "      <th>unit</th>\n",
       "      <th>min</th>\n",
       "      <th>max</th>\n",
       "    </tr>\n",
       "  </thead>\n",
       "  <tbody>\n",
       "    <tr>\n",
       "      <th>a</th>\n",
       "      <td>beetroot</td>\n",
       "      <td>purple</td>\n",
       "      <td>1kg</td>\n",
       "      <td>25</td>\n",
       "      <td>40</td>\n",
       "    </tr>\n",
       "    <tr>\n",
       "      <th>b</th>\n",
       "      <td>carrot</td>\n",
       "      <td>orange</td>\n",
       "      <td>1kg</td>\n",
       "      <td>35</td>\n",
       "      <td>45</td>\n",
       "    </tr>\n",
       "    <tr>\n",
       "      <th>c</th>\n",
       "      <td>redchilli</td>\n",
       "      <td>red</td>\n",
       "      <td>1kg</td>\n",
       "      <td>33</td>\n",
       "      <td>90</td>\n",
       "    </tr>\n",
       "    <tr>\n",
       "      <th>d</th>\n",
       "      <td>beans</td>\n",
       "      <td>green</td>\n",
       "      <td>1kg</td>\n",
       "      <td>40</td>\n",
       "      <td>45</td>\n",
       "    </tr>\n",
       "    <tr>\n",
       "      <th>e</th>\n",
       "      <td>coconut</td>\n",
       "      <td>white</td>\n",
       "      <td>1piece</td>\n",
       "      <td>seventeen</td>\n",
       "      <td>38</td>\n",
       "    </tr>\n",
       "    <tr>\n",
       "      <th>f</th>\n",
       "      <td>poosanikai</td>\n",
       "      <td>yellow</td>\n",
       "      <td>1piece</td>\n",
       "      <td>10</td>\n",
       "      <td>30</td>\n",
       "    </tr>\n",
       "  </tbody>\n",
       "</table>\n",
       "</div>"
      ],
      "text/plain": [
       "   vegetables   color    unit        min  max\n",
       "a    beetroot  purple     1kg         25   40\n",
       "b      carrot  orange     1kg         35   45\n",
       "c   redchilli     red     1kg         33   90\n",
       "d       beans   green     1kg         40   45\n",
       "e     coconut   white  1piece  seventeen   38\n",
       "f  poosanikai  yellow  1piece         10   30"
      ]
     },
     "execution_count": 26,
     "metadata": {},
     "output_type": "execute_result"
    }
   ],
   "source": [
    "koyambed_market"
   ]
  },
  {
   "cell_type": "code",
   "execution_count": 27,
   "id": "c141fbb8-b192-48a5-aa27-722658740ce4",
   "metadata": {},
   "outputs": [],
   "source": [
    "koyambed_market['average'] = [20, 35, 75, 35, 25, 20]"
   ]
  },
  {
   "cell_type": "code",
   "execution_count": 28,
   "id": "34e1747e-c90f-45ea-8759-8c33bf16b12d",
   "metadata": {},
   "outputs": [
    {
     "data": {
      "text/html": [
       "<div>\n",
       "<style scoped>\n",
       "    .dataframe tbody tr th:only-of-type {\n",
       "        vertical-align: middle;\n",
       "    }\n",
       "\n",
       "    .dataframe tbody tr th {\n",
       "        vertical-align: top;\n",
       "    }\n",
       "\n",
       "    .dataframe thead th {\n",
       "        text-align: right;\n",
       "    }\n",
       "</style>\n",
       "<table border=\"1\" class=\"dataframe\">\n",
       "  <thead>\n",
       "    <tr style=\"text-align: right;\">\n",
       "      <th></th>\n",
       "      <th>vegetables</th>\n",
       "      <th>color</th>\n",
       "      <th>unit</th>\n",
       "      <th>min</th>\n",
       "      <th>max</th>\n",
       "      <th>average</th>\n",
       "    </tr>\n",
       "  </thead>\n",
       "  <tbody>\n",
       "    <tr>\n",
       "      <th>a</th>\n",
       "      <td>beetroot</td>\n",
       "      <td>purple</td>\n",
       "      <td>1kg</td>\n",
       "      <td>25</td>\n",
       "      <td>40</td>\n",
       "      <td>20</td>\n",
       "    </tr>\n",
       "    <tr>\n",
       "      <th>b</th>\n",
       "      <td>carrot</td>\n",
       "      <td>orange</td>\n",
       "      <td>1kg</td>\n",
       "      <td>35</td>\n",
       "      <td>45</td>\n",
       "      <td>35</td>\n",
       "    </tr>\n",
       "    <tr>\n",
       "      <th>c</th>\n",
       "      <td>redchilli</td>\n",
       "      <td>red</td>\n",
       "      <td>1kg</td>\n",
       "      <td>33</td>\n",
       "      <td>90</td>\n",
       "      <td>75</td>\n",
       "    </tr>\n",
       "    <tr>\n",
       "      <th>d</th>\n",
       "      <td>beans</td>\n",
       "      <td>green</td>\n",
       "      <td>1kg</td>\n",
       "      <td>40</td>\n",
       "      <td>45</td>\n",
       "      <td>35</td>\n",
       "    </tr>\n",
       "    <tr>\n",
       "      <th>e</th>\n",
       "      <td>coconut</td>\n",
       "      <td>white</td>\n",
       "      <td>1piece</td>\n",
       "      <td>seventeen</td>\n",
       "      <td>38</td>\n",
       "      <td>25</td>\n",
       "    </tr>\n",
       "    <tr>\n",
       "      <th>f</th>\n",
       "      <td>poosanikai</td>\n",
       "      <td>yellow</td>\n",
       "      <td>1piece</td>\n",
       "      <td>10</td>\n",
       "      <td>30</td>\n",
       "      <td>20</td>\n",
       "    </tr>\n",
       "  </tbody>\n",
       "</table>\n",
       "</div>"
      ],
      "text/plain": [
       "   vegetables   color    unit        min  max  average\n",
       "a    beetroot  purple     1kg         25   40       20\n",
       "b      carrot  orange     1kg         35   45       35\n",
       "c   redchilli     red     1kg         33   90       75\n",
       "d       beans   green     1kg         40   45       35\n",
       "e     coconut   white  1piece  seventeen   38       25\n",
       "f  poosanikai  yellow  1piece         10   30       20"
      ]
     },
     "execution_count": 28,
     "metadata": {},
     "output_type": "execute_result"
    }
   ],
   "source": [
    "koyambed_market"
   ]
  },
  {
   "cell_type": "code",
   "execution_count": 29,
   "id": "01916ea5-d542-4944-bb63-84ead57f6113",
   "metadata": {},
   "outputs": [],
   "source": [
    "koyambed_market.drop(['average'], axis=1, inplace=True)"
   ]
  },
  {
   "cell_type": "markdown",
   "id": "ea75d30b-6d79-4ba3-9776-7a9e39412168",
   "metadata": {},
   "source": [
    "### Handle missing values - isna, sum, any, fillna, dropna"
   ]
  },
  {
   "cell_type": "code",
   "execution_count": 30,
   "id": "dd6c68b6-0118-49ab-b0ad-541cb73cc3ab",
   "metadata": {},
   "outputs": [
    {
     "data": {
      "text/html": [
       "<div>\n",
       "<style scoped>\n",
       "    .dataframe tbody tr th:only-of-type {\n",
       "        vertical-align: middle;\n",
       "    }\n",
       "\n",
       "    .dataframe tbody tr th {\n",
       "        vertical-align: top;\n",
       "    }\n",
       "\n",
       "    .dataframe thead th {\n",
       "        text-align: right;\n",
       "    }\n",
       "</style>\n",
       "<table border=\"1\" class=\"dataframe\">\n",
       "  <thead>\n",
       "    <tr style=\"text-align: right;\">\n",
       "      <th></th>\n",
       "      <th>vegetables</th>\n",
       "      <th>color</th>\n",
       "      <th>unit</th>\n",
       "      <th>min</th>\n",
       "      <th>max</th>\n",
       "    </tr>\n",
       "  </thead>\n",
       "  <tbody>\n",
       "    <tr>\n",
       "      <th>a</th>\n",
       "      <td>beetroot</td>\n",
       "      <td>purple</td>\n",
       "      <td>1kg</td>\n",
       "      <td>25</td>\n",
       "      <td>40</td>\n",
       "    </tr>\n",
       "    <tr>\n",
       "      <th>b</th>\n",
       "      <td>carrot</td>\n",
       "      <td>orange</td>\n",
       "      <td>1kg</td>\n",
       "      <td>35</td>\n",
       "      <td>45</td>\n",
       "    </tr>\n",
       "    <tr>\n",
       "      <th>c</th>\n",
       "      <td>redchilli</td>\n",
       "      <td>red</td>\n",
       "      <td>1kg</td>\n",
       "      <td>33</td>\n",
       "      <td>90</td>\n",
       "    </tr>\n",
       "    <tr>\n",
       "      <th>d</th>\n",
       "      <td>beans</td>\n",
       "      <td>green</td>\n",
       "      <td>1kg</td>\n",
       "      <td>40</td>\n",
       "      <td>45</td>\n",
       "    </tr>\n",
       "    <tr>\n",
       "      <th>e</th>\n",
       "      <td>coconut</td>\n",
       "      <td>white</td>\n",
       "      <td>1piece</td>\n",
       "      <td>seventeen</td>\n",
       "      <td>38</td>\n",
       "    </tr>\n",
       "    <tr>\n",
       "      <th>f</th>\n",
       "      <td>poosanikai</td>\n",
       "      <td>yellow</td>\n",
       "      <td>1piece</td>\n",
       "      <td>10</td>\n",
       "      <td>30</td>\n",
       "    </tr>\n",
       "  </tbody>\n",
       "</table>\n",
       "</div>"
      ],
      "text/plain": [
       "   vegetables   color    unit        min  max\n",
       "a    beetroot  purple     1kg         25   40\n",
       "b      carrot  orange     1kg         35   45\n",
       "c   redchilli     red     1kg         33   90\n",
       "d       beans   green     1kg         40   45\n",
       "e     coconut   white  1piece  seventeen   38\n",
       "f  poosanikai  yellow  1piece         10   30"
      ]
     },
     "execution_count": 30,
     "metadata": {},
     "output_type": "execute_result"
    }
   ],
   "source": [
    "koyambed_market"
   ]
  },
  {
   "cell_type": "code",
   "execution_count": 31,
   "id": "a3a58b88-a0b7-460b-a9f9-db071c8502ee",
   "metadata": {},
   "outputs": [
    {
     "data": {
      "text/plain": [
       "vegetables    0\n",
       "color         0\n",
       "unit          0\n",
       "min           0\n",
       "max           0\n",
       "dtype: int64"
      ]
     },
     "execution_count": 31,
     "metadata": {},
     "output_type": "execute_result"
    }
   ],
   "source": [
    "koyambed_market.isna().sum()"
   ]
  },
  {
   "cell_type": "code",
   "execution_count": 32,
   "id": "4ee28d6a-94e6-4532-8d73-7e1ae29885e5",
   "metadata": {},
   "outputs": [],
   "source": [
    "koyambed_market['coconut'] = [True, True, False, False,True, np.nan]"
   ]
  },
  {
   "cell_type": "code",
   "execution_count": 33,
   "id": "d9c19ab6-8414-4e34-a19e-9041095fafd3",
   "metadata": {},
   "outputs": [
    {
     "data": {
      "text/html": [
       "<div>\n",
       "<style scoped>\n",
       "    .dataframe tbody tr th:only-of-type {\n",
       "        vertical-align: middle;\n",
       "    }\n",
       "\n",
       "    .dataframe tbody tr th {\n",
       "        vertical-align: top;\n",
       "    }\n",
       "\n",
       "    .dataframe thead th {\n",
       "        text-align: right;\n",
       "    }\n",
       "</style>\n",
       "<table border=\"1\" class=\"dataframe\">\n",
       "  <thead>\n",
       "    <tr style=\"text-align: right;\">\n",
       "      <th></th>\n",
       "      <th>vegetables</th>\n",
       "      <th>color</th>\n",
       "      <th>unit</th>\n",
       "      <th>min</th>\n",
       "      <th>max</th>\n",
       "      <th>coconut</th>\n",
       "    </tr>\n",
       "  </thead>\n",
       "  <tbody>\n",
       "    <tr>\n",
       "      <th>a</th>\n",
       "      <td>beetroot</td>\n",
       "      <td>purple</td>\n",
       "      <td>1kg</td>\n",
       "      <td>25</td>\n",
       "      <td>40</td>\n",
       "      <td>True</td>\n",
       "    </tr>\n",
       "    <tr>\n",
       "      <th>b</th>\n",
       "      <td>carrot</td>\n",
       "      <td>orange</td>\n",
       "      <td>1kg</td>\n",
       "      <td>35</td>\n",
       "      <td>45</td>\n",
       "      <td>True</td>\n",
       "    </tr>\n",
       "    <tr>\n",
       "      <th>c</th>\n",
       "      <td>redchilli</td>\n",
       "      <td>red</td>\n",
       "      <td>1kg</td>\n",
       "      <td>33</td>\n",
       "      <td>90</td>\n",
       "      <td>False</td>\n",
       "    </tr>\n",
       "    <tr>\n",
       "      <th>d</th>\n",
       "      <td>beans</td>\n",
       "      <td>green</td>\n",
       "      <td>1kg</td>\n",
       "      <td>40</td>\n",
       "      <td>45</td>\n",
       "      <td>False</td>\n",
       "    </tr>\n",
       "    <tr>\n",
       "      <th>e</th>\n",
       "      <td>coconut</td>\n",
       "      <td>white</td>\n",
       "      <td>1piece</td>\n",
       "      <td>seventeen</td>\n",
       "      <td>38</td>\n",
       "      <td>True</td>\n",
       "    </tr>\n",
       "    <tr>\n",
       "      <th>f</th>\n",
       "      <td>poosanikai</td>\n",
       "      <td>yellow</td>\n",
       "      <td>1piece</td>\n",
       "      <td>10</td>\n",
       "      <td>30</td>\n",
       "      <td>NaN</td>\n",
       "    </tr>\n",
       "  </tbody>\n",
       "</table>\n",
       "</div>"
      ],
      "text/plain": [
       "   vegetables   color    unit        min  max coconut\n",
       "a    beetroot  purple     1kg         25   40    True\n",
       "b      carrot  orange     1kg         35   45    True\n",
       "c   redchilli     red     1kg         33   90   False\n",
       "d       beans   green     1kg         40   45   False\n",
       "e     coconut   white  1piece  seventeen   38    True\n",
       "f  poosanikai  yellow  1piece         10   30     NaN"
      ]
     },
     "execution_count": 33,
     "metadata": {},
     "output_type": "execute_result"
    }
   ],
   "source": [
    "koyambed_market"
   ]
  },
  {
   "cell_type": "code",
   "execution_count": 34,
   "id": "a4b9c723-6f1c-43e0-bec9-972b68aa6036",
   "metadata": {},
   "outputs": [
    {
     "data": {
      "text/plain": [
       "vegetables    0\n",
       "color         0\n",
       "unit          0\n",
       "min           0\n",
       "max           0\n",
       "coconut       1\n",
       "dtype: int64"
      ]
     },
     "execution_count": 34,
     "metadata": {},
     "output_type": "execute_result"
    }
   ],
   "source": [
    "koyambed_market.isna().sum()"
   ]
  },
  {
   "cell_type": "code",
   "execution_count": 35,
   "id": "33656f1d-e30c-4a0b-8045-90a0af362479",
   "metadata": {},
   "outputs": [
    {
     "name": "stderr",
     "output_type": "stream",
     "text": [
      "/tmp/ipykernel_4423/2257933256.py:1: FutureWarning: Downcasting object dtype arrays on .fillna, .ffill, .bfill is deprecated and will change in a future version. Call result.infer_objects(copy=False) instead. To opt-in to the future behavior, set `pd.set_option('future.no_silent_downcasting', True)`\n",
      "  koyambed_market.fillna(False, inplace= True)\n"
     ]
    }
   ],
   "source": [
    "koyambed_market.fillna(False, inplace= True)"
   ]
  },
  {
   "cell_type": "code",
   "execution_count": 36,
   "id": "24ee5060-684f-43fc-97cc-9c83e0e382b1",
   "metadata": {},
   "outputs": [
    {
     "data": {
      "text/html": [
       "<div>\n",
       "<style scoped>\n",
       "    .dataframe tbody tr th:only-of-type {\n",
       "        vertical-align: middle;\n",
       "    }\n",
       "\n",
       "    .dataframe tbody tr th {\n",
       "        vertical-align: top;\n",
       "    }\n",
       "\n",
       "    .dataframe thead th {\n",
       "        text-align: right;\n",
       "    }\n",
       "</style>\n",
       "<table border=\"1\" class=\"dataframe\">\n",
       "  <thead>\n",
       "    <tr style=\"text-align: right;\">\n",
       "      <th></th>\n",
       "      <th>vegetables</th>\n",
       "      <th>color</th>\n",
       "      <th>unit</th>\n",
       "      <th>min</th>\n",
       "      <th>max</th>\n",
       "      <th>coconut</th>\n",
       "    </tr>\n",
       "  </thead>\n",
       "  <tbody>\n",
       "    <tr>\n",
       "      <th>a</th>\n",
       "      <td>beetroot</td>\n",
       "      <td>purple</td>\n",
       "      <td>1kg</td>\n",
       "      <td>25</td>\n",
       "      <td>40</td>\n",
       "      <td>True</td>\n",
       "    </tr>\n",
       "    <tr>\n",
       "      <th>b</th>\n",
       "      <td>carrot</td>\n",
       "      <td>orange</td>\n",
       "      <td>1kg</td>\n",
       "      <td>35</td>\n",
       "      <td>45</td>\n",
       "      <td>True</td>\n",
       "    </tr>\n",
       "    <tr>\n",
       "      <th>c</th>\n",
       "      <td>redchilli</td>\n",
       "      <td>red</td>\n",
       "      <td>1kg</td>\n",
       "      <td>33</td>\n",
       "      <td>90</td>\n",
       "      <td>False</td>\n",
       "    </tr>\n",
       "    <tr>\n",
       "      <th>d</th>\n",
       "      <td>beans</td>\n",
       "      <td>green</td>\n",
       "      <td>1kg</td>\n",
       "      <td>40</td>\n",
       "      <td>45</td>\n",
       "      <td>False</td>\n",
       "    </tr>\n",
       "    <tr>\n",
       "      <th>e</th>\n",
       "      <td>coconut</td>\n",
       "      <td>white</td>\n",
       "      <td>1piece</td>\n",
       "      <td>seventeen</td>\n",
       "      <td>38</td>\n",
       "      <td>True</td>\n",
       "    </tr>\n",
       "    <tr>\n",
       "      <th>f</th>\n",
       "      <td>poosanikai</td>\n",
       "      <td>yellow</td>\n",
       "      <td>1piece</td>\n",
       "      <td>10</td>\n",
       "      <td>30</td>\n",
       "      <td>False</td>\n",
       "    </tr>\n",
       "  </tbody>\n",
       "</table>\n",
       "</div>"
      ],
      "text/plain": [
       "   vegetables   color    unit        min  max  coconut\n",
       "a    beetroot  purple     1kg         25   40     True\n",
       "b      carrot  orange     1kg         35   45     True\n",
       "c   redchilli     red     1kg         33   90    False\n",
       "d       beans   green     1kg         40   45    False\n",
       "e     coconut   white  1piece  seventeen   38     True\n",
       "f  poosanikai  yellow  1piece         10   30    False"
      ]
     },
     "execution_count": 36,
     "metadata": {},
     "output_type": "execute_result"
    }
   ],
   "source": [
    "koyambed_market"
   ]
  },
  {
   "cell_type": "code",
   "execution_count": 49,
   "id": "1ecbca38-e839-4ea4-897f-7ffede05afc4",
   "metadata": {},
   "outputs": [
    {
     "data": {
      "text/html": [
       "<div>\n",
       "<style scoped>\n",
       "    .dataframe tbody tr th:only-of-type {\n",
       "        vertical-align: middle;\n",
       "    }\n",
       "\n",
       "    .dataframe tbody tr th {\n",
       "        vertical-align: top;\n",
       "    }\n",
       "\n",
       "    .dataframe thead th {\n",
       "        text-align: right;\n",
       "    }\n",
       "</style>\n",
       "<table border=\"1\" class=\"dataframe\">\n",
       "  <thead>\n",
       "    <tr style=\"text-align: right;\">\n",
       "      <th></th>\n",
       "      <th>vegetables</th>\n",
       "      <th>color</th>\n",
       "      <th>unit</th>\n",
       "      <th>min</th>\n",
       "      <th>max</th>\n",
       "      <th>coconut</th>\n",
       "    </tr>\n",
       "  </thead>\n",
       "  <tbody>\n",
       "    <tr>\n",
       "      <th>a</th>\n",
       "      <td>beetroot</td>\n",
       "      <td>purple</td>\n",
       "      <td>1kg</td>\n",
       "      <td>25</td>\n",
       "      <td>45</td>\n",
       "      <td>True</td>\n",
       "    </tr>\n",
       "    <tr>\n",
       "      <th>b</th>\n",
       "      <td>carrot</td>\n",
       "      <td>orange</td>\n",
       "      <td>1kg</td>\n",
       "      <td>35</td>\n",
       "      <td>50</td>\n",
       "      <td>True</td>\n",
       "    </tr>\n",
       "    <tr>\n",
       "      <th>c</th>\n",
       "      <td>redchilli</td>\n",
       "      <td>red</td>\n",
       "      <td>1kg</td>\n",
       "      <td>33</td>\n",
       "      <td>95</td>\n",
       "      <td>False</td>\n",
       "    </tr>\n",
       "    <tr>\n",
       "      <th>d</th>\n",
       "      <td>beans</td>\n",
       "      <td>green</td>\n",
       "      <td>1kg</td>\n",
       "      <td>40</td>\n",
       "      <td>50</td>\n",
       "      <td>False</td>\n",
       "    </tr>\n",
       "    <tr>\n",
       "      <th>e</th>\n",
       "      <td>coconut</td>\n",
       "      <td>white</td>\n",
       "      <td>1piece</td>\n",
       "      <td>seventeen</td>\n",
       "      <td>43</td>\n",
       "      <td>True</td>\n",
       "    </tr>\n",
       "    <tr>\n",
       "      <th>f</th>\n",
       "      <td>poosanikai</td>\n",
       "      <td>yellow</td>\n",
       "      <td>1piece</td>\n",
       "      <td>10</td>\n",
       "      <td>35</td>\n",
       "      <td>False</td>\n",
       "    </tr>\n",
       "  </tbody>\n",
       "</table>\n",
       "</div>"
      ],
      "text/plain": [
       "   vegetables   color    unit        min  max  coconut\n",
       "a    beetroot  purple     1kg         25   45     True\n",
       "b      carrot  orange     1kg         35   50     True\n",
       "c   redchilli     red     1kg         33   95    False\n",
       "d       beans   green     1kg         40   50    False\n",
       "e     coconut   white  1piece  seventeen   43     True\n",
       "f  poosanikai  yellow  1piece         10   35    False"
      ]
     },
     "execution_count": 49,
     "metadata": {},
     "output_type": "execute_result"
    }
   ],
   "source": [
    "koyambed_market.dropna(axis=0)"
   ]
  },
  {
   "cell_type": "markdown",
   "id": "e0a0d4df-18f2-4570-8a57-2f630403ced0",
   "metadata": {},
   "source": [
    "### Apply lambda"
   ]
  },
  {
   "cell_type": "code",
   "execution_count": 50,
   "id": "85c11cba-a142-4b12-a5ae-9f22fa3a80aa",
   "metadata": {},
   "outputs": [
    {
     "data": {
      "text/html": [
       "<div>\n",
       "<style scoped>\n",
       "    .dataframe tbody tr th:only-of-type {\n",
       "        vertical-align: middle;\n",
       "    }\n",
       "\n",
       "    .dataframe tbody tr th {\n",
       "        vertical-align: top;\n",
       "    }\n",
       "\n",
       "    .dataframe thead th {\n",
       "        text-align: right;\n",
       "    }\n",
       "</style>\n",
       "<table border=\"1\" class=\"dataframe\">\n",
       "  <thead>\n",
       "    <tr style=\"text-align: right;\">\n",
       "      <th></th>\n",
       "      <th>vegetables</th>\n",
       "      <th>color</th>\n",
       "      <th>unit</th>\n",
       "      <th>min</th>\n",
       "      <th>max</th>\n",
       "      <th>coconut</th>\n",
       "    </tr>\n",
       "  </thead>\n",
       "  <tbody>\n",
       "    <tr>\n",
       "      <th>a</th>\n",
       "      <td>beetroot</td>\n",
       "      <td>purple</td>\n",
       "      <td>1kg</td>\n",
       "      <td>25</td>\n",
       "      <td>45</td>\n",
       "      <td>True</td>\n",
       "    </tr>\n",
       "    <tr>\n",
       "      <th>b</th>\n",
       "      <td>carrot</td>\n",
       "      <td>orange</td>\n",
       "      <td>1kg</td>\n",
       "      <td>35</td>\n",
       "      <td>50</td>\n",
       "      <td>True</td>\n",
       "    </tr>\n",
       "    <tr>\n",
       "      <th>c</th>\n",
       "      <td>redchilli</td>\n",
       "      <td>red</td>\n",
       "      <td>1kg</td>\n",
       "      <td>33</td>\n",
       "      <td>95</td>\n",
       "      <td>False</td>\n",
       "    </tr>\n",
       "    <tr>\n",
       "      <th>d</th>\n",
       "      <td>beans</td>\n",
       "      <td>green</td>\n",
       "      <td>1kg</td>\n",
       "      <td>40</td>\n",
       "      <td>50</td>\n",
       "      <td>False</td>\n",
       "    </tr>\n",
       "    <tr>\n",
       "      <th>e</th>\n",
       "      <td>coconut</td>\n",
       "      <td>white</td>\n",
       "      <td>1piece</td>\n",
       "      <td>seventeen</td>\n",
       "      <td>43</td>\n",
       "      <td>True</td>\n",
       "    </tr>\n",
       "    <tr>\n",
       "      <th>f</th>\n",
       "      <td>poosanikai</td>\n",
       "      <td>yellow</td>\n",
       "      <td>1piece</td>\n",
       "      <td>10</td>\n",
       "      <td>35</td>\n",
       "      <td>False</td>\n",
       "    </tr>\n",
       "  </tbody>\n",
       "</table>\n",
       "</div>"
      ],
      "text/plain": [
       "   vegetables   color    unit        min  max  coconut\n",
       "a    beetroot  purple     1kg         25   45     True\n",
       "b      carrot  orange     1kg         35   50     True\n",
       "c   redchilli     red     1kg         33   95    False\n",
       "d       beans   green     1kg         40   50    False\n",
       "e     coconut   white  1piece  seventeen   43     True\n",
       "f  poosanikai  yellow  1piece         10   35    False"
      ]
     },
     "execution_count": 50,
     "metadata": {},
     "output_type": "execute_result"
    }
   ],
   "source": [
    "koyambed_market"
   ]
  },
  {
   "cell_type": "code",
   "execution_count": 39,
   "id": "1218f02e-632d-436e-845a-b2dad4b13aab",
   "metadata": {},
   "outputs": [],
   "source": [
    "koyambed_market['max'] = koyambed_market['max'].apply(lambda x: x+5)"
   ]
  },
  {
   "cell_type": "markdown",
   "id": "f4a4ae32-4735-457f-ae8c-8ac09403d904",
   "metadata": {},
   "source": [
    "### data aggregating & grouping"
   ]
  },
  {
   "cell_type": "code",
   "execution_count": 51,
   "id": "8d373d0b-2745-488c-aabc-03032486edd5",
   "metadata": {},
   "outputs": [
    {
     "data": {
      "text/html": [
       "<div>\n",
       "<style scoped>\n",
       "    .dataframe tbody tr th:only-of-type {\n",
       "        vertical-align: middle;\n",
       "    }\n",
       "\n",
       "    .dataframe tbody tr th {\n",
       "        vertical-align: top;\n",
       "    }\n",
       "\n",
       "    .dataframe thead th {\n",
       "        text-align: right;\n",
       "    }\n",
       "</style>\n",
       "<table border=\"1\" class=\"dataframe\">\n",
       "  <thead>\n",
       "    <tr style=\"text-align: right;\">\n",
       "      <th></th>\n",
       "      <th>vegetables</th>\n",
       "      <th>color</th>\n",
       "      <th>unit</th>\n",
       "      <th>min</th>\n",
       "      <th>max</th>\n",
       "      <th>coconut</th>\n",
       "    </tr>\n",
       "  </thead>\n",
       "  <tbody>\n",
       "    <tr>\n",
       "      <th>a</th>\n",
       "      <td>beetroot</td>\n",
       "      <td>purple</td>\n",
       "      <td>1kg</td>\n",
       "      <td>25</td>\n",
       "      <td>45</td>\n",
       "      <td>True</td>\n",
       "    </tr>\n",
       "    <tr>\n",
       "      <th>b</th>\n",
       "      <td>carrot</td>\n",
       "      <td>orange</td>\n",
       "      <td>1kg</td>\n",
       "      <td>35</td>\n",
       "      <td>50</td>\n",
       "      <td>True</td>\n",
       "    </tr>\n",
       "    <tr>\n",
       "      <th>c</th>\n",
       "      <td>redchilli</td>\n",
       "      <td>red</td>\n",
       "      <td>1kg</td>\n",
       "      <td>33</td>\n",
       "      <td>95</td>\n",
       "      <td>False</td>\n",
       "    </tr>\n",
       "    <tr>\n",
       "      <th>d</th>\n",
       "      <td>beans</td>\n",
       "      <td>green</td>\n",
       "      <td>1kg</td>\n",
       "      <td>40</td>\n",
       "      <td>50</td>\n",
       "      <td>False</td>\n",
       "    </tr>\n",
       "    <tr>\n",
       "      <th>e</th>\n",
       "      <td>coconut</td>\n",
       "      <td>white</td>\n",
       "      <td>1piece</td>\n",
       "      <td>seventeen</td>\n",
       "      <td>43</td>\n",
       "      <td>True</td>\n",
       "    </tr>\n",
       "    <tr>\n",
       "      <th>f</th>\n",
       "      <td>poosanikai</td>\n",
       "      <td>yellow</td>\n",
       "      <td>1piece</td>\n",
       "      <td>10</td>\n",
       "      <td>35</td>\n",
       "      <td>False</td>\n",
       "    </tr>\n",
       "  </tbody>\n",
       "</table>\n",
       "</div>"
      ],
      "text/plain": [
       "   vegetables   color    unit        min  max  coconut\n",
       "a    beetroot  purple     1kg         25   45     True\n",
       "b      carrot  orange     1kg         35   50     True\n",
       "c   redchilli     red     1kg         33   95    False\n",
       "d       beans   green     1kg         40   50    False\n",
       "e     coconut   white  1piece  seventeen   43     True\n",
       "f  poosanikai  yellow  1piece         10   35    False"
      ]
     },
     "execution_count": 51,
     "metadata": {},
     "output_type": "execute_result"
    }
   ],
   "source": [
    "koyambed_market"
   ]
  },
  {
   "cell_type": "code",
   "execution_count": 52,
   "id": "7933c04b-9601-4f69-afb4-169566a9acc4",
   "metadata": {},
   "outputs": [
    {
     "data": {
      "text/plain": [
       "6"
      ]
     },
     "execution_count": 52,
     "metadata": {},
     "output_type": "execute_result"
    }
   ],
   "source": [
    "koyambed_market['max'].count()"
   ]
  },
  {
   "cell_type": "code",
   "execution_count": 53,
   "id": "1eb5c422-a933-4698-8e69-ff6df18df23f",
   "metadata": {},
   "outputs": [
    {
     "data": {
      "text/html": [
       "<div>\n",
       "<style scoped>\n",
       "    .dataframe tbody tr th:only-of-type {\n",
       "        vertical-align: middle;\n",
       "    }\n",
       "\n",
       "    .dataframe tbody tr th {\n",
       "        vertical-align: top;\n",
       "    }\n",
       "\n",
       "    .dataframe thead th {\n",
       "        text-align: right;\n",
       "    }\n",
       "</style>\n",
       "<table border=\"1\" class=\"dataframe\">\n",
       "  <thead>\n",
       "    <tr style=\"text-align: right;\">\n",
       "      <th></th>\n",
       "      <th></th>\n",
       "      <th></th>\n",
       "      <th>vegetables</th>\n",
       "      <th>color</th>\n",
       "      <th>coconut</th>\n",
       "    </tr>\n",
       "    <tr>\n",
       "      <th>unit</th>\n",
       "      <th>min</th>\n",
       "      <th>max</th>\n",
       "      <th></th>\n",
       "      <th></th>\n",
       "      <th></th>\n",
       "    </tr>\n",
       "  </thead>\n",
       "  <tbody>\n",
       "    <tr>\n",
       "      <th rowspan=\"4\" valign=\"top\">1kg</th>\n",
       "      <th>25</th>\n",
       "      <th>45</th>\n",
       "      <td>beetroot</td>\n",
       "      <td>purple</td>\n",
       "      <td>1</td>\n",
       "    </tr>\n",
       "    <tr>\n",
       "      <th>33</th>\n",
       "      <th>95</th>\n",
       "      <td>redchilli</td>\n",
       "      <td>red</td>\n",
       "      <td>0</td>\n",
       "    </tr>\n",
       "    <tr>\n",
       "      <th>35</th>\n",
       "      <th>50</th>\n",
       "      <td>carrot</td>\n",
       "      <td>orange</td>\n",
       "      <td>1</td>\n",
       "    </tr>\n",
       "    <tr>\n",
       "      <th>40</th>\n",
       "      <th>50</th>\n",
       "      <td>beans</td>\n",
       "      <td>green</td>\n",
       "      <td>0</td>\n",
       "    </tr>\n",
       "    <tr>\n",
       "      <th rowspan=\"2\" valign=\"top\">1piece</th>\n",
       "      <th>10</th>\n",
       "      <th>35</th>\n",
       "      <td>poosanikai</td>\n",
       "      <td>yellow</td>\n",
       "      <td>0</td>\n",
       "    </tr>\n",
       "    <tr>\n",
       "      <th>seventeen</th>\n",
       "      <th>43</th>\n",
       "      <td>coconut</td>\n",
       "      <td>white</td>\n",
       "      <td>1</td>\n",
       "    </tr>\n",
       "  </tbody>\n",
       "</table>\n",
       "</div>"
      ],
      "text/plain": [
       "                      vegetables   color  coconut\n",
       "unit   min       max                             \n",
       "1kg    25        45     beetroot  purple        1\n",
       "       33        95    redchilli     red        0\n",
       "       35        50       carrot  orange        1\n",
       "       40        50        beans   green        0\n",
       "1piece 10        35   poosanikai  yellow        0\n",
       "       seventeen 43      coconut   white        1"
      ]
     },
     "execution_count": 53,
     "metadata": {},
     "output_type": "execute_result"
    }
   ],
   "source": [
    "koyambed_market.groupby(['unit','min','max']).sum()"
   ]
  },
  {
   "cell_type": "markdown",
   "id": "fbf07176-f7c8-4844-a394-0726ab811de4",
   "metadata": {},
   "source": [
    "### Join dataframes"
   ]
  },
  {
   "cell_type": "code",
   "execution_count": 43,
   "id": "17840d81-14e0-48c6-8525-61149b63f11d",
   "metadata": {},
   "outputs": [
    {
     "data": {
      "text/html": [
       "<div>\n",
       "<style scoped>\n",
       "    .dataframe tbody tr th:only-of-type {\n",
       "        vertical-align: middle;\n",
       "    }\n",
       "\n",
       "    .dataframe tbody tr th {\n",
       "        vertical-align: top;\n",
       "    }\n",
       "\n",
       "    .dataframe thead th {\n",
       "        text-align: right;\n",
       "    }\n",
       "</style>\n",
       "<table border=\"1\" class=\"dataframe\">\n",
       "  <thead>\n",
       "    <tr style=\"text-align: right;\">\n",
       "      <th></th>\n",
       "      <th>vegetables</th>\n",
       "      <th>color</th>\n",
       "      <th>unit</th>\n",
       "      <th>min</th>\n",
       "      <th>max</th>\n",
       "      <th>coconut</th>\n",
       "    </tr>\n",
       "  </thead>\n",
       "  <tbody>\n",
       "    <tr>\n",
       "      <th>a</th>\n",
       "      <td>beetroot</td>\n",
       "      <td>purple</td>\n",
       "      <td>1kg</td>\n",
       "      <td>25</td>\n",
       "      <td>45</td>\n",
       "      <td>True</td>\n",
       "    </tr>\n",
       "    <tr>\n",
       "      <th>b</th>\n",
       "      <td>carrot</td>\n",
       "      <td>orange</td>\n",
       "      <td>1kg</td>\n",
       "      <td>35</td>\n",
       "      <td>50</td>\n",
       "      <td>True</td>\n",
       "    </tr>\n",
       "    <tr>\n",
       "      <th>c</th>\n",
       "      <td>redchilli</td>\n",
       "      <td>red</td>\n",
       "      <td>1kg</td>\n",
       "      <td>33</td>\n",
       "      <td>95</td>\n",
       "      <td>False</td>\n",
       "    </tr>\n",
       "    <tr>\n",
       "      <th>d</th>\n",
       "      <td>beans</td>\n",
       "      <td>green</td>\n",
       "      <td>1kg</td>\n",
       "      <td>40</td>\n",
       "      <td>50</td>\n",
       "      <td>False</td>\n",
       "    </tr>\n",
       "    <tr>\n",
       "      <th>e</th>\n",
       "      <td>coconut</td>\n",
       "      <td>white</td>\n",
       "      <td>1piece</td>\n",
       "      <td>seventeen</td>\n",
       "      <td>43</td>\n",
       "      <td>True</td>\n",
       "    </tr>\n",
       "    <tr>\n",
       "      <th>f</th>\n",
       "      <td>poosanikai</td>\n",
       "      <td>yellow</td>\n",
       "      <td>1piece</td>\n",
       "      <td>10</td>\n",
       "      <td>35</td>\n",
       "      <td>False</td>\n",
       "    </tr>\n",
       "  </tbody>\n",
       "</table>\n",
       "</div>"
      ],
      "text/plain": [
       "   vegetables   color    unit        min  max  coconut\n",
       "a    beetroot  purple     1kg         25   45     True\n",
       "b      carrot  orange     1kg         35   50     True\n",
       "c   redchilli     red     1kg         33   95    False\n",
       "d       beans   green     1kg         40   50    False\n",
       "e     coconut   white  1piece  seventeen   43     True\n",
       "f  poosanikai  yellow  1piece         10   35    False"
      ]
     },
     "execution_count": 43,
     "metadata": {},
     "output_type": "execute_result"
    }
   ],
   "source": [
    "koyambed_market"
   ]
  },
  {
   "cell_type": "code",
   "execution_count": 44,
   "id": "5a7c768a-5e00-462e-9d42-2179694a341c",
   "metadata": {},
   "outputs": [],
   "source": [
    "thiruvanmiyur_market = koyambed_market"
   ]
  },
  {
   "cell_type": "code",
   "execution_count": 45,
   "id": "80b3b39a-b200-4625-92f3-3da0b41fad4b",
   "metadata": {},
   "outputs": [
    {
     "data": {
      "text/html": [
       "<div>\n",
       "<style scoped>\n",
       "    .dataframe tbody tr th:only-of-type {\n",
       "        vertical-align: middle;\n",
       "    }\n",
       "\n",
       "    .dataframe tbody tr th {\n",
       "        vertical-align: top;\n",
       "    }\n",
       "\n",
       "    .dataframe thead th {\n",
       "        text-align: right;\n",
       "    }\n",
       "</style>\n",
       "<table border=\"1\" class=\"dataframe\">\n",
       "  <thead>\n",
       "    <tr style=\"text-align: right;\">\n",
       "      <th></th>\n",
       "      <th>vegetables</th>\n",
       "      <th>color</th>\n",
       "      <th>unit</th>\n",
       "      <th>min</th>\n",
       "      <th>max</th>\n",
       "      <th>coconut</th>\n",
       "    </tr>\n",
       "  </thead>\n",
       "  <tbody>\n",
       "    <tr>\n",
       "      <th>a</th>\n",
       "      <td>beetroot</td>\n",
       "      <td>purple</td>\n",
       "      <td>1kg</td>\n",
       "      <td>25</td>\n",
       "      <td>45</td>\n",
       "      <td>True</td>\n",
       "    </tr>\n",
       "    <tr>\n",
       "      <th>b</th>\n",
       "      <td>carrot</td>\n",
       "      <td>orange</td>\n",
       "      <td>1kg</td>\n",
       "      <td>35</td>\n",
       "      <td>50</td>\n",
       "      <td>True</td>\n",
       "    </tr>\n",
       "    <tr>\n",
       "      <th>c</th>\n",
       "      <td>redchilli</td>\n",
       "      <td>red</td>\n",
       "      <td>1kg</td>\n",
       "      <td>33</td>\n",
       "      <td>95</td>\n",
       "      <td>False</td>\n",
       "    </tr>\n",
       "    <tr>\n",
       "      <th>d</th>\n",
       "      <td>beans</td>\n",
       "      <td>green</td>\n",
       "      <td>1kg</td>\n",
       "      <td>40</td>\n",
       "      <td>50</td>\n",
       "      <td>False</td>\n",
       "    </tr>\n",
       "    <tr>\n",
       "      <th>e</th>\n",
       "      <td>coconut</td>\n",
       "      <td>white</td>\n",
       "      <td>1piece</td>\n",
       "      <td>seventeen</td>\n",
       "      <td>43</td>\n",
       "      <td>True</td>\n",
       "    </tr>\n",
       "    <tr>\n",
       "      <th>f</th>\n",
       "      <td>poosanikai</td>\n",
       "      <td>yellow</td>\n",
       "      <td>1piece</td>\n",
       "      <td>10</td>\n",
       "      <td>35</td>\n",
       "      <td>False</td>\n",
       "    </tr>\n",
       "  </tbody>\n",
       "</table>\n",
       "</div>"
      ],
      "text/plain": [
       "   vegetables   color    unit        min  max  coconut\n",
       "a    beetroot  purple     1kg         25   45     True\n",
       "b      carrot  orange     1kg         35   50     True\n",
       "c   redchilli     red     1kg         33   95    False\n",
       "d       beans   green     1kg         40   50    False\n",
       "e     coconut   white  1piece  seventeen   43     True\n",
       "f  poosanikai  yellow  1piece         10   35    False"
      ]
     },
     "execution_count": 45,
     "metadata": {},
     "output_type": "execute_result"
    }
   ],
   "source": [
    "thiruvanmiyur_market"
   ]
  },
  {
   "cell_type": "code",
   "execution_count": 46,
   "id": "4c5616b8-a5bb-441d-a7d3-6f9659b75e7e",
   "metadata": {},
   "outputs": [
    {
     "data": {
      "text/html": [
       "<div>\n",
       "<style scoped>\n",
       "    .dataframe tbody tr th:only-of-type {\n",
       "        vertical-align: middle;\n",
       "    }\n",
       "\n",
       "    .dataframe tbody tr th {\n",
       "        vertical-align: top;\n",
       "    }\n",
       "\n",
       "    .dataframe thead th {\n",
       "        text-align: right;\n",
       "    }\n",
       "</style>\n",
       "<table border=\"1\" class=\"dataframe\">\n",
       "  <thead>\n",
       "    <tr style=\"text-align: right;\">\n",
       "      <th></th>\n",
       "      <th>vegetables</th>\n",
       "      <th>color</th>\n",
       "      <th>unit</th>\n",
       "      <th>min</th>\n",
       "      <th>max</th>\n",
       "      <th>coconut</th>\n",
       "      <th>vegetables</th>\n",
       "      <th>color</th>\n",
       "      <th>unit</th>\n",
       "      <th>min</th>\n",
       "      <th>max</th>\n",
       "      <th>coconut</th>\n",
       "    </tr>\n",
       "  </thead>\n",
       "  <tbody>\n",
       "    <tr>\n",
       "      <th>a</th>\n",
       "      <td>beetroot</td>\n",
       "      <td>purple</td>\n",
       "      <td>1kg</td>\n",
       "      <td>25</td>\n",
       "      <td>45</td>\n",
       "      <td>True</td>\n",
       "      <td>beetroot</td>\n",
       "      <td>purple</td>\n",
       "      <td>1kg</td>\n",
       "      <td>25</td>\n",
       "      <td>45</td>\n",
       "      <td>True</td>\n",
       "    </tr>\n",
       "    <tr>\n",
       "      <th>b</th>\n",
       "      <td>carrot</td>\n",
       "      <td>orange</td>\n",
       "      <td>1kg</td>\n",
       "      <td>35</td>\n",
       "      <td>50</td>\n",
       "      <td>True</td>\n",
       "      <td>carrot</td>\n",
       "      <td>orange</td>\n",
       "      <td>1kg</td>\n",
       "      <td>35</td>\n",
       "      <td>50</td>\n",
       "      <td>True</td>\n",
       "    </tr>\n",
       "    <tr>\n",
       "      <th>c</th>\n",
       "      <td>redchilli</td>\n",
       "      <td>red</td>\n",
       "      <td>1kg</td>\n",
       "      <td>33</td>\n",
       "      <td>95</td>\n",
       "      <td>False</td>\n",
       "      <td>redchilli</td>\n",
       "      <td>red</td>\n",
       "      <td>1kg</td>\n",
       "      <td>33</td>\n",
       "      <td>95</td>\n",
       "      <td>False</td>\n",
       "    </tr>\n",
       "    <tr>\n",
       "      <th>d</th>\n",
       "      <td>beans</td>\n",
       "      <td>green</td>\n",
       "      <td>1kg</td>\n",
       "      <td>40</td>\n",
       "      <td>50</td>\n",
       "      <td>False</td>\n",
       "      <td>beans</td>\n",
       "      <td>green</td>\n",
       "      <td>1kg</td>\n",
       "      <td>40</td>\n",
       "      <td>50</td>\n",
       "      <td>False</td>\n",
       "    </tr>\n",
       "    <tr>\n",
       "      <th>e</th>\n",
       "      <td>coconut</td>\n",
       "      <td>white</td>\n",
       "      <td>1piece</td>\n",
       "      <td>seventeen</td>\n",
       "      <td>43</td>\n",
       "      <td>True</td>\n",
       "      <td>coconut</td>\n",
       "      <td>white</td>\n",
       "      <td>1piece</td>\n",
       "      <td>seventeen</td>\n",
       "      <td>43</td>\n",
       "      <td>True</td>\n",
       "    </tr>\n",
       "    <tr>\n",
       "      <th>f</th>\n",
       "      <td>poosanikai</td>\n",
       "      <td>yellow</td>\n",
       "      <td>1piece</td>\n",
       "      <td>10</td>\n",
       "      <td>35</td>\n",
       "      <td>False</td>\n",
       "      <td>poosanikai</td>\n",
       "      <td>yellow</td>\n",
       "      <td>1piece</td>\n",
       "      <td>10</td>\n",
       "      <td>35</td>\n",
       "      <td>False</td>\n",
       "    </tr>\n",
       "  </tbody>\n",
       "</table>\n",
       "</div>"
      ],
      "text/plain": [
       "   vegetables   color    unit        min  max  coconut  vegetables   color  \\\n",
       "a    beetroot  purple     1kg         25   45     True    beetroot  purple   \n",
       "b      carrot  orange     1kg         35   50     True      carrot  orange   \n",
       "c   redchilli     red     1kg         33   95    False   redchilli     red   \n",
       "d       beans   green     1kg         40   50    False       beans   green   \n",
       "e     coconut   white  1piece  seventeen   43     True     coconut   white   \n",
       "f  poosanikai  yellow  1piece         10   35    False  poosanikai  yellow   \n",
       "\n",
       "     unit        min  max  coconut  \n",
       "a     1kg         25   45     True  \n",
       "b     1kg         35   50     True  \n",
       "c     1kg         33   95    False  \n",
       "d     1kg         40   50    False  \n",
       "e  1piece  seventeen   43     True  \n",
       "f  1piece         10   35    False  "
      ]
     },
     "execution_count": 46,
     "metadata": {},
     "output_type": "execute_result"
    }
   ],
   "source": [
    "pd.concat([koyambed_market, thiruvanmiyur_market], axis=1)"
   ]
  },
  {
   "cell_type": "code",
   "execution_count": 47,
   "id": "3dae8d01-8b80-4515-b6f8-d0db0c136c38",
   "metadata": {},
   "outputs": [
    {
     "data": {
      "text/html": [
       "<div>\n",
       "<style scoped>\n",
       "    .dataframe tbody tr th:only-of-type {\n",
       "        vertical-align: middle;\n",
       "    }\n",
       "\n",
       "    .dataframe tbody tr th {\n",
       "        vertical-align: top;\n",
       "    }\n",
       "\n",
       "    .dataframe thead th {\n",
       "        text-align: right;\n",
       "    }\n",
       "</style>\n",
       "<table border=\"1\" class=\"dataframe\">\n",
       "  <thead>\n",
       "    <tr style=\"text-align: right;\">\n",
       "      <th></th>\n",
       "      <th>vegetables</th>\n",
       "      <th>color_x</th>\n",
       "      <th>unit_x</th>\n",
       "      <th>min_x</th>\n",
       "      <th>max_x</th>\n",
       "      <th>coconut_x</th>\n",
       "      <th>color_y</th>\n",
       "      <th>unit_y</th>\n",
       "      <th>min_y</th>\n",
       "      <th>max_y</th>\n",
       "      <th>coconut_y</th>\n",
       "    </tr>\n",
       "  </thead>\n",
       "  <tbody>\n",
       "    <tr>\n",
       "      <th>0</th>\n",
       "      <td>beetroot</td>\n",
       "      <td>purple</td>\n",
       "      <td>1kg</td>\n",
       "      <td>25</td>\n",
       "      <td>45</td>\n",
       "      <td>True</td>\n",
       "      <td>purple</td>\n",
       "      <td>1kg</td>\n",
       "      <td>25</td>\n",
       "      <td>45</td>\n",
       "      <td>True</td>\n",
       "    </tr>\n",
       "    <tr>\n",
       "      <th>1</th>\n",
       "      <td>carrot</td>\n",
       "      <td>orange</td>\n",
       "      <td>1kg</td>\n",
       "      <td>35</td>\n",
       "      <td>50</td>\n",
       "      <td>True</td>\n",
       "      <td>orange</td>\n",
       "      <td>1kg</td>\n",
       "      <td>35</td>\n",
       "      <td>50</td>\n",
       "      <td>True</td>\n",
       "    </tr>\n",
       "    <tr>\n",
       "      <th>2</th>\n",
       "      <td>redchilli</td>\n",
       "      <td>red</td>\n",
       "      <td>1kg</td>\n",
       "      <td>33</td>\n",
       "      <td>95</td>\n",
       "      <td>False</td>\n",
       "      <td>red</td>\n",
       "      <td>1kg</td>\n",
       "      <td>33</td>\n",
       "      <td>95</td>\n",
       "      <td>False</td>\n",
       "    </tr>\n",
       "    <tr>\n",
       "      <th>3</th>\n",
       "      <td>beans</td>\n",
       "      <td>green</td>\n",
       "      <td>1kg</td>\n",
       "      <td>40</td>\n",
       "      <td>50</td>\n",
       "      <td>False</td>\n",
       "      <td>green</td>\n",
       "      <td>1kg</td>\n",
       "      <td>40</td>\n",
       "      <td>50</td>\n",
       "      <td>False</td>\n",
       "    </tr>\n",
       "    <tr>\n",
       "      <th>4</th>\n",
       "      <td>coconut</td>\n",
       "      <td>white</td>\n",
       "      <td>1piece</td>\n",
       "      <td>seventeen</td>\n",
       "      <td>43</td>\n",
       "      <td>True</td>\n",
       "      <td>white</td>\n",
       "      <td>1piece</td>\n",
       "      <td>seventeen</td>\n",
       "      <td>43</td>\n",
       "      <td>True</td>\n",
       "    </tr>\n",
       "    <tr>\n",
       "      <th>5</th>\n",
       "      <td>poosanikai</td>\n",
       "      <td>yellow</td>\n",
       "      <td>1piece</td>\n",
       "      <td>10</td>\n",
       "      <td>35</td>\n",
       "      <td>False</td>\n",
       "      <td>yellow</td>\n",
       "      <td>1piece</td>\n",
       "      <td>10</td>\n",
       "      <td>35</td>\n",
       "      <td>False</td>\n",
       "    </tr>\n",
       "  </tbody>\n",
       "</table>\n",
       "</div>"
      ],
      "text/plain": [
       "   vegetables color_x  unit_x      min_x  max_x  coconut_x color_y  unit_y  \\\n",
       "0    beetroot  purple     1kg         25     45       True  purple     1kg   \n",
       "1      carrot  orange     1kg         35     50       True  orange     1kg   \n",
       "2   redchilli     red     1kg         33     95      False     red     1kg   \n",
       "3       beans   green     1kg         40     50      False   green     1kg   \n",
       "4     coconut   white  1piece  seventeen     43       True   white  1piece   \n",
       "5  poosanikai  yellow  1piece         10     35      False  yellow  1piece   \n",
       "\n",
       "       min_y  max_y  coconut_y  \n",
       "0         25     45       True  \n",
       "1         35     50       True  \n",
       "2         33     95      False  \n",
       "3         40     50      False  \n",
       "4  seventeen     43       True  \n",
       "5         10     35      False  "
      ]
     },
     "execution_count": 47,
     "metadata": {},
     "output_type": "execute_result"
    }
   ],
   "source": [
    "# on -spesific the table name & how is joint like a sql joint's\n",
    "pd.merge(koyambed_market, thiruvanmiyur_market, on='vegetables', how='right') "
   ]
  },
  {
   "cell_type": "markdown",
   "id": "4c852a4e-1793-4c62-a887-1cbe46a5ed6a",
   "metadata": {},
   "source": [
    "### read from different source"
   ]
  },
  {
   "cell_type": "code",
   "execution_count": 48,
   "id": "468b561b-dd57-4107-9580-48fd925b271a",
   "metadata": {},
   "outputs": [
    {
     "ename": "FileNotFoundError",
     "evalue": "[Errno 2] No such file or directory: 'market.csv'",
     "output_type": "error",
     "traceback": [
      "\u001b[0;31m---------------------------------------------------------------------------\u001b[0m",
      "\u001b[0;31mFileNotFoundError\u001b[0m                         Traceback (most recent call last)",
      "Cell \u001b[0;32mIn[48], line 1\u001b[0m\n\u001b[0;32m----> 1\u001b[0m pd\u001b[38;5;241m.\u001b[39mread_csv(\u001b[38;5;124m\"\u001b[39m\u001b[38;5;124mmarket.csv\u001b[39m\u001b[38;5;124m\"\u001b[39m)\n",
      "File \u001b[0;32m~/anaconda3/lib/python3.12/site-packages/pandas/io/parsers/readers.py:1026\u001b[0m, in \u001b[0;36mread_csv\u001b[0;34m(filepath_or_buffer, sep, delimiter, header, names, index_col, usecols, dtype, engine, converters, true_values, false_values, skipinitialspace, skiprows, skipfooter, nrows, na_values, keep_default_na, na_filter, verbose, skip_blank_lines, parse_dates, infer_datetime_format, keep_date_col, date_parser, date_format, dayfirst, cache_dates, iterator, chunksize, compression, thousands, decimal, lineterminator, quotechar, quoting, doublequote, escapechar, comment, encoding, encoding_errors, dialect, on_bad_lines, delim_whitespace, low_memory, memory_map, float_precision, storage_options, dtype_backend)\u001b[0m\n\u001b[1;32m   1013\u001b[0m kwds_defaults \u001b[38;5;241m=\u001b[39m _refine_defaults_read(\n\u001b[1;32m   1014\u001b[0m     dialect,\n\u001b[1;32m   1015\u001b[0m     delimiter,\n\u001b[0;32m   (...)\u001b[0m\n\u001b[1;32m   1022\u001b[0m     dtype_backend\u001b[38;5;241m=\u001b[39mdtype_backend,\n\u001b[1;32m   1023\u001b[0m )\n\u001b[1;32m   1024\u001b[0m kwds\u001b[38;5;241m.\u001b[39mupdate(kwds_defaults)\n\u001b[0;32m-> 1026\u001b[0m \u001b[38;5;28;01mreturn\u001b[39;00m _read(filepath_or_buffer, kwds)\n",
      "File \u001b[0;32m~/anaconda3/lib/python3.12/site-packages/pandas/io/parsers/readers.py:620\u001b[0m, in \u001b[0;36m_read\u001b[0;34m(filepath_or_buffer, kwds)\u001b[0m\n\u001b[1;32m    617\u001b[0m _validate_names(kwds\u001b[38;5;241m.\u001b[39mget(\u001b[38;5;124m\"\u001b[39m\u001b[38;5;124mnames\u001b[39m\u001b[38;5;124m\"\u001b[39m, \u001b[38;5;28;01mNone\u001b[39;00m))\n\u001b[1;32m    619\u001b[0m \u001b[38;5;66;03m# Create the parser.\u001b[39;00m\n\u001b[0;32m--> 620\u001b[0m parser \u001b[38;5;241m=\u001b[39m TextFileReader(filepath_or_buffer, \u001b[38;5;241m*\u001b[39m\u001b[38;5;241m*\u001b[39mkwds)\n\u001b[1;32m    622\u001b[0m \u001b[38;5;28;01mif\u001b[39;00m chunksize \u001b[38;5;129;01mor\u001b[39;00m iterator:\n\u001b[1;32m    623\u001b[0m     \u001b[38;5;28;01mreturn\u001b[39;00m parser\n",
      "File \u001b[0;32m~/anaconda3/lib/python3.12/site-packages/pandas/io/parsers/readers.py:1620\u001b[0m, in \u001b[0;36mTextFileReader.__init__\u001b[0;34m(self, f, engine, **kwds)\u001b[0m\n\u001b[1;32m   1617\u001b[0m     \u001b[38;5;28mself\u001b[39m\u001b[38;5;241m.\u001b[39moptions[\u001b[38;5;124m\"\u001b[39m\u001b[38;5;124mhas_index_names\u001b[39m\u001b[38;5;124m\"\u001b[39m] \u001b[38;5;241m=\u001b[39m kwds[\u001b[38;5;124m\"\u001b[39m\u001b[38;5;124mhas_index_names\u001b[39m\u001b[38;5;124m\"\u001b[39m]\n\u001b[1;32m   1619\u001b[0m \u001b[38;5;28mself\u001b[39m\u001b[38;5;241m.\u001b[39mhandles: IOHandles \u001b[38;5;241m|\u001b[39m \u001b[38;5;28;01mNone\u001b[39;00m \u001b[38;5;241m=\u001b[39m \u001b[38;5;28;01mNone\u001b[39;00m\n\u001b[0;32m-> 1620\u001b[0m \u001b[38;5;28mself\u001b[39m\u001b[38;5;241m.\u001b[39m_engine \u001b[38;5;241m=\u001b[39m \u001b[38;5;28mself\u001b[39m\u001b[38;5;241m.\u001b[39m_make_engine(f, \u001b[38;5;28mself\u001b[39m\u001b[38;5;241m.\u001b[39mengine)\n",
      "File \u001b[0;32m~/anaconda3/lib/python3.12/site-packages/pandas/io/parsers/readers.py:1880\u001b[0m, in \u001b[0;36mTextFileReader._make_engine\u001b[0;34m(self, f, engine)\u001b[0m\n\u001b[1;32m   1878\u001b[0m     \u001b[38;5;28;01mif\u001b[39;00m \u001b[38;5;124m\"\u001b[39m\u001b[38;5;124mb\u001b[39m\u001b[38;5;124m\"\u001b[39m \u001b[38;5;129;01mnot\u001b[39;00m \u001b[38;5;129;01min\u001b[39;00m mode:\n\u001b[1;32m   1879\u001b[0m         mode \u001b[38;5;241m+\u001b[39m\u001b[38;5;241m=\u001b[39m \u001b[38;5;124m\"\u001b[39m\u001b[38;5;124mb\u001b[39m\u001b[38;5;124m\"\u001b[39m\n\u001b[0;32m-> 1880\u001b[0m \u001b[38;5;28mself\u001b[39m\u001b[38;5;241m.\u001b[39mhandles \u001b[38;5;241m=\u001b[39m get_handle(\n\u001b[1;32m   1881\u001b[0m     f,\n\u001b[1;32m   1882\u001b[0m     mode,\n\u001b[1;32m   1883\u001b[0m     encoding\u001b[38;5;241m=\u001b[39m\u001b[38;5;28mself\u001b[39m\u001b[38;5;241m.\u001b[39moptions\u001b[38;5;241m.\u001b[39mget(\u001b[38;5;124m\"\u001b[39m\u001b[38;5;124mencoding\u001b[39m\u001b[38;5;124m\"\u001b[39m, \u001b[38;5;28;01mNone\u001b[39;00m),\n\u001b[1;32m   1884\u001b[0m     compression\u001b[38;5;241m=\u001b[39m\u001b[38;5;28mself\u001b[39m\u001b[38;5;241m.\u001b[39moptions\u001b[38;5;241m.\u001b[39mget(\u001b[38;5;124m\"\u001b[39m\u001b[38;5;124mcompression\u001b[39m\u001b[38;5;124m\"\u001b[39m, \u001b[38;5;28;01mNone\u001b[39;00m),\n\u001b[1;32m   1885\u001b[0m     memory_map\u001b[38;5;241m=\u001b[39m\u001b[38;5;28mself\u001b[39m\u001b[38;5;241m.\u001b[39moptions\u001b[38;5;241m.\u001b[39mget(\u001b[38;5;124m\"\u001b[39m\u001b[38;5;124mmemory_map\u001b[39m\u001b[38;5;124m\"\u001b[39m, \u001b[38;5;28;01mFalse\u001b[39;00m),\n\u001b[1;32m   1886\u001b[0m     is_text\u001b[38;5;241m=\u001b[39mis_text,\n\u001b[1;32m   1887\u001b[0m     errors\u001b[38;5;241m=\u001b[39m\u001b[38;5;28mself\u001b[39m\u001b[38;5;241m.\u001b[39moptions\u001b[38;5;241m.\u001b[39mget(\u001b[38;5;124m\"\u001b[39m\u001b[38;5;124mencoding_errors\u001b[39m\u001b[38;5;124m\"\u001b[39m, \u001b[38;5;124m\"\u001b[39m\u001b[38;5;124mstrict\u001b[39m\u001b[38;5;124m\"\u001b[39m),\n\u001b[1;32m   1888\u001b[0m     storage_options\u001b[38;5;241m=\u001b[39m\u001b[38;5;28mself\u001b[39m\u001b[38;5;241m.\u001b[39moptions\u001b[38;5;241m.\u001b[39mget(\u001b[38;5;124m\"\u001b[39m\u001b[38;5;124mstorage_options\u001b[39m\u001b[38;5;124m\"\u001b[39m, \u001b[38;5;28;01mNone\u001b[39;00m),\n\u001b[1;32m   1889\u001b[0m )\n\u001b[1;32m   1890\u001b[0m \u001b[38;5;28;01massert\u001b[39;00m \u001b[38;5;28mself\u001b[39m\u001b[38;5;241m.\u001b[39mhandles \u001b[38;5;129;01mis\u001b[39;00m \u001b[38;5;129;01mnot\u001b[39;00m \u001b[38;5;28;01mNone\u001b[39;00m\n\u001b[1;32m   1891\u001b[0m f \u001b[38;5;241m=\u001b[39m \u001b[38;5;28mself\u001b[39m\u001b[38;5;241m.\u001b[39mhandles\u001b[38;5;241m.\u001b[39mhandle\n",
      "File \u001b[0;32m~/anaconda3/lib/python3.12/site-packages/pandas/io/common.py:873\u001b[0m, in \u001b[0;36mget_handle\u001b[0;34m(path_or_buf, mode, encoding, compression, memory_map, is_text, errors, storage_options)\u001b[0m\n\u001b[1;32m    868\u001b[0m \u001b[38;5;28;01melif\u001b[39;00m \u001b[38;5;28misinstance\u001b[39m(handle, \u001b[38;5;28mstr\u001b[39m):\n\u001b[1;32m    869\u001b[0m     \u001b[38;5;66;03m# Check whether the filename is to be opened in binary mode.\u001b[39;00m\n\u001b[1;32m    870\u001b[0m     \u001b[38;5;66;03m# Binary mode does not support 'encoding' and 'newline'.\u001b[39;00m\n\u001b[1;32m    871\u001b[0m     \u001b[38;5;28;01mif\u001b[39;00m ioargs\u001b[38;5;241m.\u001b[39mencoding \u001b[38;5;129;01mand\u001b[39;00m \u001b[38;5;124m\"\u001b[39m\u001b[38;5;124mb\u001b[39m\u001b[38;5;124m\"\u001b[39m \u001b[38;5;129;01mnot\u001b[39;00m \u001b[38;5;129;01min\u001b[39;00m ioargs\u001b[38;5;241m.\u001b[39mmode:\n\u001b[1;32m    872\u001b[0m         \u001b[38;5;66;03m# Encoding\u001b[39;00m\n\u001b[0;32m--> 873\u001b[0m         handle \u001b[38;5;241m=\u001b[39m \u001b[38;5;28mopen\u001b[39m(\n\u001b[1;32m    874\u001b[0m             handle,\n\u001b[1;32m    875\u001b[0m             ioargs\u001b[38;5;241m.\u001b[39mmode,\n\u001b[1;32m    876\u001b[0m             encoding\u001b[38;5;241m=\u001b[39mioargs\u001b[38;5;241m.\u001b[39mencoding,\n\u001b[1;32m    877\u001b[0m             errors\u001b[38;5;241m=\u001b[39merrors,\n\u001b[1;32m    878\u001b[0m             newline\u001b[38;5;241m=\u001b[39m\u001b[38;5;124m\"\u001b[39m\u001b[38;5;124m\"\u001b[39m,\n\u001b[1;32m    879\u001b[0m         )\n\u001b[1;32m    880\u001b[0m     \u001b[38;5;28;01melse\u001b[39;00m:\n\u001b[1;32m    881\u001b[0m         \u001b[38;5;66;03m# Binary mode\u001b[39;00m\n\u001b[1;32m    882\u001b[0m         handle \u001b[38;5;241m=\u001b[39m \u001b[38;5;28mopen\u001b[39m(handle, ioargs\u001b[38;5;241m.\u001b[39mmode)\n",
      "\u001b[0;31mFileNotFoundError\u001b[0m: [Errno 2] No such file or directory: 'market.csv'"
     ]
    }
   ],
   "source": [
    "pd.read_csv(\"market.csv\")"
   ]
  },
  {
   "cell_type": "code",
   "execution_count": null,
   "id": "55999317-d19b-4cc7-a1b0-4c8d713fb1a8",
   "metadata": {},
   "outputs": [],
   "source": []
  },
  {
   "cell_type": "code",
   "execution_count": null,
   "id": "54354932-d99c-436a-a488-25dff367e620",
   "metadata": {},
   "outputs": [],
   "source": []
  },
  {
   "cell_type": "code",
   "execution_count": null,
   "id": "1e03b7e9-4b07-49ef-8b4a-131e3d71f603",
   "metadata": {},
   "outputs": [],
   "source": []
  }
 ],
 "metadata": {
  "kernelspec": {
   "display_name": "Python 3 (ipykernel)",
   "language": "python",
   "name": "python3"
  },
  "language_info": {
   "codemirror_mode": {
    "name": "ipython",
    "version": 3
   },
   "file_extension": ".py",
   "mimetype": "text/x-python",
   "name": "python",
   "nbconvert_exporter": "python",
   "pygments_lexer": "ipython3",
   "version": "3.12.7"
  }
 },
 "nbformat": 4,
 "nbformat_minor": 5
}
