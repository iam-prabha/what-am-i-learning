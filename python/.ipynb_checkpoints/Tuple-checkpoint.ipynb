{
 "cells": [
  {
   "cell_type": "markdown",
   "id": "acb7bd30-e45a-43a8-9028-9a906aa500e8",
   "metadata": {},
   "source": [
    "# Create Tuple\n",
    "\n",
    "- ordered\n",
    "- Un-changable\n",
    "- Allow duplicate\n",
    "- tuple can have items that are contain of diff data types"
   ]
  },
  {
   "cell_type": "code",
   "execution_count": 1,
   "id": "e8763d2b-5386-49ef-a621-fdbabbaca8e9",
   "metadata": {},
   "outputs": [],
   "source": [
    "roles = ('raja', 'rani', 'mandiri','soldier','police', 'thirudan', 'raja', 123, False, 1000.00)"
   ]
  },
  {
   "cell_type": "code",
   "execution_count": 2,
   "id": "c123c67c-4e10-47e2-b271-da0961a79566",
   "metadata": {},
   "outputs": [
    {
     "data": {
      "text/plain": [
       "('raja',\n",
       " 'rani',\n",
       " 'mandiri',\n",
       " 'soldier',\n",
       " 'police',\n",
       " 'thirudan',\n",
       " 'raja',\n",
       " 123,\n",
       " False,\n",
       " 1000.0)"
      ]
     },
     "execution_count": 2,
     "metadata": {},
     "output_type": "execute_result"
    }
   ],
   "source": [
    "roles"
   ]
  },
  {
   "cell_type": "code",
   "execution_count": 3,
   "id": "6d0674eb-bbb9-4b29-a651-c4517dee5f80",
   "metadata": {},
   "outputs": [
    {
     "data": {
      "text/plain": [
       "tuple"
      ]
     },
     "execution_count": 3,
     "metadata": {},
     "output_type": "execute_result"
    }
   ],
   "source": [
    "type(roles)"
   ]
  },
  {
   "cell_type": "code",
   "execution_count": 4,
   "id": "35301cfe-06f9-469b-9316-641a9bf2cba5",
   "metadata": {},
   "outputs": [],
   "source": [
    "roles_constructor = tuple(('raja', 'rani', 'mandiri','soldier','police', 'thirudan'))"
   ]
  },
  {
   "cell_type": "code",
   "execution_count": 5,
   "id": "ab674b73-8c84-414a-a116-9b831e81b2a3",
   "metadata": {},
   "outputs": [
    {
     "data": {
      "text/plain": [
       "('raja', 'rani', 'mandiri', 'soldier', 'police', 'thirudan')"
      ]
     },
     "execution_count": 5,
     "metadata": {},
     "output_type": "execute_result"
    }
   ],
   "source": [
    "roles_constructor"
   ]
  },
  {
   "cell_type": "code",
   "execution_count": 6,
   "id": "18f37632-2a63-4063-ae4d-6ba4bc4305f5",
   "metadata": {},
   "outputs": [
    {
     "data": {
      "text/plain": [
       "tuple"
      ]
     },
     "execution_count": 6,
     "metadata": {},
     "output_type": "execute_result"
    }
   ],
   "source": [
    "type(roles_constructor)"
   ]
  },
  {
   "cell_type": "markdown",
   "id": "2c0d973d-4c73-447d-864b-bf5e73bc269f",
   "metadata": {},
   "source": [
    "# Tuple Accessing\n",
    "\n",
    "- using index & negative index\n",
    "- using slice"
   ]
  },
  {
   "cell_type": "code",
   "execution_count": 7,
   "id": "521c1eee-5576-4265-a460-1a1f746063f3",
   "metadata": {},
   "outputs": [],
   "source": [
    "roles = ('raja', 'rani', 'mandiri','soldier','police', 'thirudan', 'raja', 123, False, 1000.00)"
   ]
  },
  {
   "cell_type": "code",
   "execution_count": 8,
   "id": "8292a433-b78d-4952-bdda-b3fc17143359",
   "metadata": {},
   "outputs": [
    {
     "data": {
      "text/plain": [
       "1000.0"
      ]
     },
     "execution_count": 8,
     "metadata": {},
     "output_type": "execute_result"
    }
   ],
   "source": [
    "roles[-1]"
   ]
  },
  {
   "cell_type": "code",
   "execution_count": 9,
   "id": "819d7ddf-0fe9-4b2c-a7b0-a3e2756e5dcb",
   "metadata": {},
   "outputs": [
    {
     "data": {
      "text/plain": [
       "('raja', 'rani', 'mandiri')"
      ]
     },
     "execution_count": 9,
     "metadata": {},
     "output_type": "execute_result"
    }
   ],
   "source": [
    "roles[0:3:1]"
   ]
  },
  {
   "cell_type": "markdown",
   "id": "b3bafd83-e7e7-4a1b-b5eb-9a289877d12e",
   "metadata": {},
   "source": [
    "\n",
    "# Add new items - Not possible"
   ]
  },
  {
   "cell_type": "code",
   "execution_count": 10,
   "id": "087502b0-fa1c-4159-b171-c0a241a44548",
   "metadata": {},
   "outputs": [],
   "source": [
    "roles_list = list(roles)"
   ]
  },
  {
   "cell_type": "code",
   "execution_count": 11,
   "id": "1cdc5adb-5a8c-488c-9b6c-60a728415b71",
   "metadata": {},
   "outputs": [
    {
     "data": {
      "text/plain": [
       "['raja',\n",
       " 'rani',\n",
       " 'mandiri',\n",
       " 'soldier',\n",
       " 'police',\n",
       " 'thirudan',\n",
       " 'raja',\n",
       " 123,\n",
       " False,\n",
       " 1000.0]"
      ]
     },
     "execution_count": 11,
     "metadata": {},
     "output_type": "execute_result"
    }
   ],
   "source": [
    "roles_list"
   ]
  },
  {
   "cell_type": "code",
   "execution_count": 12,
   "id": "9e2b63d0-db8c-41d5-b6c4-7e9733d9172e",
   "metadata": {},
   "outputs": [],
   "source": [
    "roles_list.append(\"new\")"
   ]
  },
  {
   "cell_type": "code",
   "execution_count": 13,
   "id": "4a633f01-7b66-40a0-b417-fe53194c48b1",
   "metadata": {},
   "outputs": [
    {
     "data": {
      "text/plain": [
       "['raja',\n",
       " 'rani',\n",
       " 'mandiri',\n",
       " 'soldier',\n",
       " 'police',\n",
       " 'thirudan',\n",
       " 'raja',\n",
       " 123,\n",
       " False,\n",
       " 1000.0,\n",
       " 'new']"
      ]
     },
     "execution_count": 13,
     "metadata": {},
     "output_type": "execute_result"
    }
   ],
   "source": [
    "roles_list"
   ]
  },
  {
   "cell_type": "code",
   "execution_count": 14,
   "id": "3db75418-6280-45ed-aa30-12d43fe00032",
   "metadata": {},
   "outputs": [],
   "source": [
    "roles_tuple = tuple(roles_list)"
   ]
  },
  {
   "cell_type": "code",
   "execution_count": 15,
   "id": "a7ab8d00-9402-4951-b898-bbac0a858124",
   "metadata": {},
   "outputs": [
    {
     "data": {
      "text/plain": [
       "('raja',\n",
       " 'rani',\n",
       " 'mandiri',\n",
       " 'soldier',\n",
       " 'police',\n",
       " 'thirudan',\n",
       " 'raja',\n",
       " 123,\n",
       " False,\n",
       " 1000.0,\n",
       " 'new')"
      ]
     },
     "execution_count": 15,
     "metadata": {},
     "output_type": "execute_result"
    }
   ],
   "source": [
    "roles_tuple"
   ]
  },
  {
   "cell_type": "markdown",
   "id": "711fca25-e9f7-4a64-919d-1123f7ea9c6e",
   "metadata": {},
   "source": [
    "# Remove old items - NOT POSSIBLE\n",
    "\n",
    "# Packing and unpacking"
   ]
  },
  {
   "cell_type": "code",
   "execution_count": 16,
   "id": "66abe125-2a49-40b1-911a-07d651688c31",
   "metadata": {},
   "outputs": [],
   "source": [
    "roles = ('raja', 'rani', 'thirudan')"
   ]
  },
  {
   "cell_type": "code",
   "execution_count": 17,
   "id": "d0e6cefd-c143-4e69-9940-93d6188ae429",
   "metadata": {},
   "outputs": [
    {
     "data": {
      "text/plain": [
       "('raja',\n",
       " 'rani',\n",
       " 'mandiri',\n",
       " 'soldier',\n",
       " 'police',\n",
       " 'thirudan',\n",
       " 'raja',\n",
       " 123,\n",
       " False,\n",
       " 1000.0,\n",
       " 'new')"
      ]
     },
     "execution_count": 17,
     "metadata": {},
     "output_type": "execute_result"
    }
   ],
   "source": [
    "roles_tuple"
   ]
  },
  {
   "cell_type": "code",
   "execution_count": 18,
   "id": "5d8e28b5-e10c-4f76-a8e6-1870e6246b82",
   "metadata": {},
   "outputs": [],
   "source": [
    "(start, *mid, end) = roles_tuple"
   ]
  },
  {
   "cell_type": "code",
   "execution_count": 19,
   "id": "133df732-7eb8-4d8e-9e57-7ba00096ebf2",
   "metadata": {},
   "outputs": [
    {
     "data": {
      "text/plain": [
       "'raja'"
      ]
     },
     "execution_count": 19,
     "metadata": {},
     "output_type": "execute_result"
    }
   ],
   "source": [
    "start"
   ]
  },
  {
   "cell_type": "code",
   "execution_count": 20,
   "id": "912d18dd-778d-427a-bee8-e269c170c55d",
   "metadata": {},
   "outputs": [
    {
     "data": {
      "text/plain": [
       "'new'"
      ]
     },
     "execution_count": 20,
     "metadata": {},
     "output_type": "execute_result"
    }
   ],
   "source": [
    "end"
   ]
  },
  {
   "cell_type": "code",
   "execution_count": 21,
   "id": "16352488-6aba-4cc5-849a-01ec192d1c44",
   "metadata": {},
   "outputs": [
    {
     "data": {
      "text/plain": [
       "['rani',\n",
       " 'mandiri',\n",
       " 'soldier',\n",
       " 'police',\n",
       " 'thirudan',\n",
       " 'raja',\n",
       " 123,\n",
       " False,\n",
       " 1000.0]"
      ]
     },
     "execution_count": 21,
     "metadata": {},
     "output_type": "execute_result"
    }
   ],
   "source": [
    "mid"
   ]
  },
  {
   "cell_type": "code",
   "execution_count": 22,
   "id": "0b67d597-0459-45bb-8c6d-7c83281508eb",
   "metadata": {},
   "outputs": [
    {
     "data": {
      "text/plain": [
       "('raja', 'rani', 'thirudan')"
      ]
     },
     "execution_count": 22,
     "metadata": {},
     "output_type": "execute_result"
    }
   ],
   "source": [
    "roles"
   ]
  },
  {
   "cell_type": "code",
   "execution_count": 23,
   "id": "fb2f3e9c-6436-42ba-94c0-71275ff38810",
   "metadata": {},
   "outputs": [],
   "source": [
    "val1 = roles[0]"
   ]
  },
  {
   "cell_type": "code",
   "execution_count": 24,
   "id": "df0cf54f-032d-48db-afe1-189fe64604f2",
   "metadata": {},
   "outputs": [
    {
     "data": {
      "text/plain": [
       "'raja'"
      ]
     },
     "execution_count": 24,
     "metadata": {},
     "output_type": "execute_result"
    }
   ],
   "source": [
    "val1"
   ]
  },
  {
   "cell_type": "code",
   "execution_count": 25,
   "id": "2d9bf2ed-bb4c-41da-b365-fc324258eaa6",
   "metadata": {},
   "outputs": [],
   "source": [
    "(role1, role2, role3) = roles"
   ]
  },
  {
   "cell_type": "code",
   "execution_count": 26,
   "id": "181a10d8-6f3c-4b38-a2fb-b7b3f7e45f5d",
   "metadata": {},
   "outputs": [
    {
     "data": {
      "text/plain": [
       "'thirudan'"
      ]
     },
     "execution_count": 26,
     "metadata": {},
     "output_type": "execute_result"
    }
   ],
   "source": [
    "role3"
   ]
  },
  {
   "cell_type": "markdown",
   "id": "f2770795-64aa-4801-92b9-aaf85f6aa527",
   "metadata": {},
   "source": [
    "# Additonal methods\n",
    " - count,index"
   ]
  },
  {
   "cell_type": "code",
   "execution_count": 27,
   "id": "ee5f81fd-1772-4710-8ea5-3cddc0e398db",
   "metadata": {},
   "outputs": [
    {
     "data": {
      "text/plain": [
       "2"
      ]
     },
     "execution_count": 27,
     "metadata": {},
     "output_type": "execute_result"
    }
   ],
   "source": [
    "roles_tuple.count('raja')"
   ]
  },
  {
   "cell_type": "code",
   "execution_count": 28,
   "id": "8279bf7b-6dc8-4619-9715-7fc77eeb16e6",
   "metadata": {},
   "outputs": [
    {
     "data": {
      "text/plain": [
       "0"
      ]
     },
     "execution_count": 28,
     "metadata": {},
     "output_type": "execute_result"
    }
   ],
   "source": [
    "roles_tuple.index('raja')"
   ]
  },
  {
   "cell_type": "markdown",
   "id": "9913b4bf-7cf1-4008-b8e1-a594eaaf6057",
   "metadata": {},
   "source": [
    "# Tuple Loops\n",
    "- in, range(), enumerate()"
   ]
  },
  {
   "cell_type": "code",
   "execution_count": 29,
   "id": "9c4ecc71-cec3-4440-8dba-770742bb90c6",
   "metadata": {},
   "outputs": [
    {
     "name": "stdout",
     "output_type": "stream",
     "text": [
      "raja\n",
      "rani\n",
      "mandiri\n",
      "soldier\n",
      "police\n",
      "thirudan\n",
      "raja\n",
      "123\n",
      "False\n",
      "1000.0\n",
      "new\n"
     ]
    }
   ],
   "source": [
    "for i in roles_tuple:\n",
    "    print(i)"
   ]
  },
  {
   "cell_type": "code",
   "execution_count": 30,
   "id": "fe0d6f43-5ec2-45b5-a5b5-23e96959bbee",
   "metadata": {},
   "outputs": [
    {
     "name": "stdout",
     "output_type": "stream",
     "text": [
      "key:  0 value:  raja\n",
      "key:  1 value:  rani\n",
      "key:  2 value:  mandiri\n",
      "key:  3 value:  soldier\n",
      "key:  4 value:  police\n",
      "key:  5 value:  thirudan\n",
      "key:  6 value:  raja\n",
      "key:  7 value:  123\n",
      "key:  8 value:  False\n",
      "key:  9 value:  1000.0\n",
      "key:  10 value:  new\n"
     ]
    }
   ],
   "source": [
    "for i,val in enumerate(roles_tuple):\n",
    "    print('key: ',i, 'value: ', val)"
   ]
  }
 ],
 "metadata": {
  "kernelspec": {
   "display_name": "Python 3 (ipykernel)",
   "language": "python",
   "name": "python3"
  },
  "language_info": {
   "codemirror_mode": {
    "name": "ipython",
    "version": 3
   },
   "file_extension": ".py",
   "mimetype": "text/x-python",
   "name": "python",
   "nbconvert_exporter": "python",
   "pygments_lexer": "ipython3",
   "version": "3.12.7"
  }
 },
 "nbformat": 4,
 "nbformat_minor": 5
}
