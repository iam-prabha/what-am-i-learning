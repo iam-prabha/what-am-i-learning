{
 "cells": [
  {
   "cell_type": "code",
   "execution_count": 1,
   "id": "8994f880-5343-4a56-99e0-dff0f0da4724",
   "metadata": {},
   "outputs": [],
   "source": [
    "# loops"
   ]
  },
  {
   "cell_type": "code",
   "execution_count": 2,
   "id": "73525925-22d8-4e7d-b982-a21ed6effbbc",
   "metadata": {},
   "outputs": [
    {
     "name": "stdout",
     "output_type": "stream",
     "text": [
      "0\n",
      "1\n",
      "2\n",
      "3\n",
      "4\n"
     ]
    }
   ],
   "source": [
    "# inbuilt function range() is used to generate a sequence of numbers\n",
    "#range(5) # generates a sequence of numbers from 0 to 4\n",
    "#for loop\n",
    "for i in range(5):\n",
    "    print(i)"
   ]
  },
  {
   "cell_type": "code",
   "execution_count": 3,
   "id": "8bf0581f-c1b8-4bd2-9be1-35a59f1f88c9",
   "metadata": {},
   "outputs": [
    {
     "name": "stdout",
     "output_type": "stream",
     "text": [
      "It's day 6\n"
     ]
    }
   ],
   "source": [
    "# while loop\n",
    "# sequence is not determined use while loop\n",
    "day = 6\n",
    "while day < 7:\n",
    "    print(\"It's day\", day)\n",
    "    break"
   ]
  },
  {
   "cell_type": "code",
   "execution_count": 4,
   "id": "9b741c26-2125-4795-bbb1-e1f6f8a48a96",
   "metadata": {},
   "outputs": [
    {
     "name": "stdout",
     "output_type": "stream",
     "text": [
      "It's Saturday\n"
     ]
    }
   ],
   "source": [
    "# conditional statements\n",
    "# if statement\n",
    "if day == 6:\n",
    "    print(\"It's Saturday\")\n",
    "else:\n",
    "    print(\"It's not Saturday\")"
   ]
  },
  {
   "cell_type": "code",
   "execution_count": 5,
   "id": "32484a85-b5f2-4054-90c3-e85d57b730f1",
   "metadata": {},
   "outputs": [
    {
     "name": "stdout",
     "output_type": "stream",
     "text": [
      "It's Saturday\n"
     ]
    }
   ],
   "source": [
    "# if-elif-else statement\n",
    "if day == 6:\n",
    "    print(\"It's Saturday\") \n",
    "elif day == 7:\n",
    "    print(\"It's Sunday\")\n",
    "else:\n",
    "    print(\"It's not Saturday or Sunday\")"
   ]
  },
  {
   "cell_type": "code",
   "execution_count": 6,
   "id": "0e8fe495-9066-44bf-a762-b214251c9c6b",
   "metadata": {},
   "outputs": [
    {
     "name": "stdout",
     "output_type": "stream",
     "text": [
      "It's Saturday\n"
     ]
    }
   ],
   "source": [
    "# nested if statement\n",
    "if day == 6:\n",
    "    if day == 7:\n",
    "        print(\"It's Sunday\")\n",
    "    else:\n",
    "        print(\"It's Saturday\")\n",
    "else:\n",
    "    print(\"It's not Saturday or Sunday\")"
   ]
  },
  {
   "cell_type": "code",
   "execution_count": 7,
   "id": "e8865151-9275-4d1b-803b-d7c93d96d4cc",
   "metadata": {},
   "outputs": [
    {
     "name": "stdout",
     "output_type": "stream",
     "text": [
      "It's Saturday\n"
     ]
    }
   ],
   "source": [
    "# in operator \n",
    "#checks if a value is present in a sequence\n",
    "days = ['Monday', 'Tuesday', 'Wednesday', 'Thursday', 'Friday', 'Saturday', 'Sunday'] # list of days\n",
    "if 'Saturday' in days:\n",
    "    print(\"It's Saturday\")\n",
    "else:\n",
    "    print(\"It's not Saturday\")"
   ]
  },
  {
   "cell_type": "code",
   "execution_count": 8,
   "id": "9ee580ca-df92-4dfc-b206-5193b45e0c8d",
   "metadata": {},
   "outputs": [
    {
     "name": "stdout",
     "output_type": "stream",
     "text": [
      "It's Saturday\n"
     ]
    }
   ],
   "source": [
    "# not in operator\n",
    "#checks if a value is not present in a sequence\n",
    "if 'Saturday' not in days:\n",
    "    print(\"It's not Saturday\")\n",
    "else:\n",
    "    print(\"It's Saturday\")"
   ]
  },
  {
   "cell_type": "code",
   "execution_count": 9,
   "id": "72788a3f-944d-4824-a52a-e4daa980a0db",
   "metadata": {},
   "outputs": [
    {
     "name": "stdout",
     "output_type": "stream",
     "text": [
      "a and b are pointing to the same object\n"
     ]
    }
   ],
   "source": [
    "# is operator\n",
    "# checks if two variables are pointing to the same object\n",
    "a = 5\n",
    "b = 5\n",
    "if a is b:\n",
    "    print(\"a and b are pointing to the same object\")\n",
    "else:\n",
    "    print(\"a and b are not pointing to the same object\")"
   ]
  },
  {
   "cell_type": "code",
   "execution_count": 10,
   "id": "ef96403c-9a28-4696-9662-f44a0b6b2253",
   "metadata": {},
   "outputs": [
    {
     "name": "stdout",
     "output_type": "stream",
     "text": [
      "a and b are not pointing to the same object\n"
     ]
    }
   ],
   "source": [
    "# is not operator\n",
    "# checks if two variables are not pointing to the same object\n",
    "a = 5\n",
    "b = 6\n",
    "if a is not b:\n",
    "    print(\"a and b are not pointing to the same object\")\n",
    "else:\n",
    "    print(\"a and b are pointing to the same object\")"
   ]
  },
  {
   "cell_type": "code",
   "execution_count": 11,
   "id": "cf8885a0-6110-4508-8c7d-87e0356b733c",
   "metadata": {},
   "outputs": [
    {
     "name": "stdout",
     "output_type": "stream",
     "text": [
      "All elements are True\n"
     ]
    }
   ],
   "source": [
    "# all() function\n",
    "# returns True if all elements in a sequence are True\n",
    "# otherwise returns False\n",
    "a = [True, True, True]\n",
    "if all(a):\n",
    "    print(\"All elements are True\")\n",
    "else:\n",
    "    print(\"All elements are not True\")"
   ]
  },
  {
   "cell_type": "code",
   "execution_count": 12,
   "id": "1d5206e2-d99c-4916-814c-d85abb141a91",
   "metadata": {},
   "outputs": [
    {
     "name": "stdout",
     "output_type": "stream",
     "text": [
      "0\n",
      "1\n",
      "2\n"
     ]
    }
   ],
   "source": [
    "# break statement\n",
    "# used to exit a loop\n",
    "for i in range(5):\n",
    "    if i == 3:\n",
    "        break\n",
    "    print(i)"
   ]
  },
  {
   "cell_type": "code",
   "execution_count": 13,
   "id": "f4858add-0223-4f61-989d-433885bdd1b6",
   "metadata": {},
   "outputs": [
    {
     "name": "stdout",
     "output_type": "stream",
     "text": [
      "0\n",
      "1\n",
      "2\n",
      "4\n"
     ]
    }
   ],
   "source": [
    "# continue statement\n",
    "# used to skip the current iteration of a loop\n",
    "for i in range(5):\n",
    "    if i == 3:\n",
    "        continue\n",
    "    print(i)"
   ]
  },
  {
   "cell_type": "code",
   "execution_count": 14,
   "id": "9ee607f1",
   "metadata": {},
   "outputs": [
    {
     "name": "stdout",
     "output_type": "stream",
     "text": [
      "a is not less than b\n"
     ]
    }
   ],
   "source": [
    "# pass statement\n",
    "# used to do nothing avoid getting an error\n",
    "a = 5\n",
    "b = 2 # change the value of b to 6 to see the output\n",
    "if a < b:\n",
    "    pass\n",
    "else:\n",
    "    print(\"a is not less than b\")"
   ]
  }
 ],
 "metadata": {
  "jupytext": {
   "cell_metadata_filter": "-all",
   "main_language": "python",
   "notebook_metadata_filter": "-all"
  },
  "kernelspec": {
   "display_name": "Python 3 (ipykernel)",
   "language": "python",
   "name": "python3"
  },
  "language_info": {
   "codemirror_mode": {
    "name": "ipython",
    "version": 3
   },
   "file_extension": ".py",
   "mimetype": "text/x-python",
   "name": "python",
   "nbconvert_exporter": "python",
   "pygments_lexer": "ipython3",
   "version": "3.12.7"
  }
 },
 "nbformat": 4,
 "nbformat_minor": 5
}
