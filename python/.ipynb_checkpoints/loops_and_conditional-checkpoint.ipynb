{
 "cells": [
  {
   "cell_type": "markdown",
   "id": "f322e6b0-e6e4-4ee2-a14e-5f4ddd2f227a",
   "metadata": {},
   "source": [
    "# Functions"
   ]
  },
  {
   "cell_type": "code",
   "execution_count": 73,
   "id": "67beafdf-46f4-4543-91d3-af46c4c4e210",
   "metadata": {},
   "outputs": [],
   "source": [
    "def coconut_chutney():\n",
    "    print(\"COCONUT CHUTNEY RECIPE:\")\n",
    "    print(\"coconut+potukkadalai + chilli + salt\")"
   ]
  },
  {
   "cell_type": "code",
   "execution_count": 74,
   "id": "729582f3-cc3c-4fb1-96fc-5f9d7b4d5e6b",
   "metadata": {},
   "outputs": [
    {
     "name": "stdout",
     "output_type": "stream",
     "text": [
      "COCONUT CHUTNEY RECIPE:\n",
      "coconut+potukkadalai + chilli + salt\n",
      "COCONUT CHUTNEY RECIPE:\n",
      "coconut+potukkadalai + chilli + salt\n",
      "COCONUT CHUTNEY RECIPE:\n",
      "coconut+potukkadalai + chilli + salt\n",
      "COCONUT CHUTNEY RECIPE:\n",
      "coconut+potukkadalai + chilli + salt\n",
      "COCONUT CHUTNEY RECIPE:\n",
      "coconut+potukkadalai + chilli + salt\n",
      "COCONUT CHUTNEY RECIPE:\n",
      "coconut+potukkadalai + chilli + salt\n",
      "COCONUT CHUTNEY RECIPE:\n",
      "coconut+potukkadalai + chilli + salt\n",
      "COCONUT CHUTNEY RECIPE:\n",
      "coconut+potukkadalai + chilli + salt\n",
      "COCONUT CHUTNEY RECIPE:\n",
      "coconut+potukkadalai + chilli + salt\n",
      "COCONUT CHUTNEY RECIPE:\n",
      "coconut+potukkadalai + chilli + salt\n"
     ]
    }
   ],
   "source": [
    "for i in range(10):\n",
    "    coconut_chutney()"
   ]
  },
  {
   "cell_type": "code",
   "execution_count": 10,
   "id": "a00acfd0-69ed-4401-ae5c-4da4c0ce8ede",
   "metadata": {},
   "outputs": [],
   "source": [
    "def tomato_chutney():\n",
    "    print(\"totmato + onion + chilli + salt\")"
   ]
  },
  {
   "cell_type": "code",
   "execution_count": 2,
   "id": "b34cf52e-7c90-434f-8be7-67e3607fe005",
   "metadata": {},
   "outputs": [
    {
     "name": "stdout",
     "output_type": "stream",
     "text": [
      "coconut+potukkadalai + chilli + salt\n"
     ]
    }
   ],
   "source": [
    "coconut_chutney()"
   ]
  },
  {
   "cell_type": "markdown",
   "id": "c50fc7f6-e0e3-4b2e-972d-c49217e415b7",
   "metadata": {},
   "source": [
    "# For loop"
   ]
  },
  {
   "cell_type": "code",
   "execution_count": 3,
   "id": "c9ce0a42-0093-4c54-808f-461211ac608a",
   "metadata": {},
   "outputs": [
    {
     "data": {
      "text/plain": [
       "range(0, 7)"
      ]
     },
     "execution_count": 3,
     "metadata": {},
     "output_type": "execute_result"
    }
   ],
   "source": [
    "range(7)"
   ]
  },
  {
   "cell_type": "code",
   "execution_count": 4,
   "id": "8f7d519a-6288-41e6-9fcc-8b9c32a9ef1a",
   "metadata": {},
   "outputs": [
    {
     "name": "stdout",
     "output_type": "stream",
     "text": [
      "0\n",
      "1\n",
      "2\n",
      "3\n",
      "4\n",
      "5\n",
      "6\n"
     ]
    }
   ],
   "source": [
    "for i in range(7):\n",
    "    print(i)"
   ]
  },
  {
   "cell_type": "code",
   "execution_count": 5,
   "id": "c243fe3d-6d12-4e4e-b37d-e07359aee118",
   "metadata": {},
   "outputs": [
    {
     "name": "stdout",
     "output_type": "stream",
     "text": [
      "coconut+potukkadalai + chilli + salt\n",
      "coconut+potukkadalai + chilli + salt\n",
      "coconut+potukkadalai + chilli + salt\n",
      "coconut+potukkadalai + chilli + salt\n",
      "coconut+potukkadalai + chilli + salt\n",
      "coconut+potukkadalai + chilli + salt\n",
      "coconut+potukkadalai + chilli + salt\n"
     ]
    }
   ],
   "source": [
    "for k in range(7):\n",
    "    coconut_chutney()"
   ]
  },
  {
   "cell_type": "code",
   "execution_count": 6,
   "id": "4e96048e-cac8-4185-9c0e-4a5f1d2c0366",
   "metadata": {},
   "outputs": [
    {
     "data": {
      "text/plain": [
       "6"
      ]
     },
     "execution_count": 6,
     "metadata": {},
     "output_type": "execute_result"
    }
   ],
   "source": [
    "k"
   ]
  },
  {
   "cell_type": "code",
   "execution_count": 7,
   "id": "a7bf4cb1-82be-43a9-bf51-4bb953a70317",
   "metadata": {},
   "outputs": [],
   "source": [
    "k =0"
   ]
  },
  {
   "cell_type": "code",
   "execution_count": 8,
   "id": "ab2cf825-aa67-47e5-99d1-057fe9461da5",
   "metadata": {},
   "outputs": [
    {
     "name": "stdout",
     "output_type": "stream",
     "text": [
      "day 0 - RECIPE\n",
      "coconut+potukkadalai + chilli + salt\n",
      "day 1 - RECIPE\n",
      "coconut+potukkadalai + chilli + salt\n",
      "day 2 - RECIPE\n",
      "coconut+potukkadalai + chilli + salt\n",
      "day 3 - RECIPE\n",
      "coconut+potukkadalai + chilli + salt\n",
      "day 4 - RECIPE\n",
      "coconut+potukkadalai + chilli + salt\n",
      "day 5 - RECIPE\n",
      "coconut+potukkadalai + chilli + salt\n",
      "day 6 - RECIPE\n",
      "coconut+potukkadalai + chilli + salt\n"
     ]
    }
   ],
   "source": [
    "for k in range(7):\n",
    "    print(\"day\", k, \"- RECIPE\")\n",
    "    coconut_chutney()"
   ]
  },
  {
   "cell_type": "markdown",
   "id": "fdf72cda-feea-435c-b31e-246c820cc4fd",
   "metadata": {},
   "source": [
    "# while loop"
   ]
  },
  {
   "cell_type": "code",
   "execution_count": 9,
   "id": "f76799b6-52f4-4419-a3d2-3d6f2ca20e9b",
   "metadata": {},
   "outputs": [
    {
     "name": "stdout",
     "output_type": "stream",
     "text": [
      "day 0 - recipe\n",
      "coconut+potukkadalai + chilli + salt\n",
      "day 1 - recipe\n",
      "coconut+potukkadalai + chilli + salt\n",
      "day 2 - recipe\n",
      "coconut+potukkadalai + chilli + salt\n",
      "day 3 - recipe\n",
      "coconut+potukkadalai + chilli + salt\n",
      "day 4 - recipe\n",
      "coconut+potukkadalai + chilli + salt\n",
      "day 5 - recipe\n",
      "coconut+potukkadalai + chilli + salt\n",
      "day 6 - recipe\n",
      "coconut+potukkadalai + chilli + salt\n"
     ]
    }
   ],
   "source": [
    "day = 0\n",
    "while (day < 7):\n",
    "    print(\"day\", day,\"- recipe\")\n",
    "    coconut_chutney()\n",
    "    day = day +1"
   ]
  },
  {
   "cell_type": "markdown",
   "id": "e4b8dad7-b87f-44c2-b0b7-92bf883e0152",
   "metadata": {},
   "source": [
    "# Conditional statements"
   ]
  },
  {
   "cell_type": "markdown",
   "id": "b7f497da-1fd1-4b98-bc73-ddebf92ec18b",
   "metadata": {},
   "source": [
    "- if\n",
    "- else\n",
    "- elif\n",
    "- continue\n",
    "- break\n",
    "- pass"
   ]
  },
  {
   "cell_type": "code",
   "execution_count": 16,
   "id": "1cec4682-c060-4044-b580-126aff33e7f7",
   "metadata": {},
   "outputs": [
    {
     "name": "stdin",
     "output_type": "stream",
     "text": [
      " 0\n"
     ]
    }
   ],
   "source": [
    "coconut_availability = int(input())"
   ]
  },
  {
   "cell_type": "code",
   "execution_count": 17,
   "id": "0f58d805-f7bd-4401-85eb-2a5e23dda9d8",
   "metadata": {},
   "outputs": [
    {
     "data": {
      "text/plain": [
       "0"
      ]
     },
     "execution_count": 17,
     "metadata": {},
     "output_type": "execute_result"
    }
   ],
   "source": [
    "coconut_availability"
   ]
  },
  {
   "cell_type": "code",
   "execution_count": 24,
   "id": "635ae476-09e0-47b2-8b90-c383ffc1192b",
   "metadata": {},
   "outputs": [
    {
     "name": "stdout",
     "output_type": "stream",
     "text": [
      "day 0 - recipe\n",
      "make sambar...\n",
      "day 1 - recipe\n",
      "make sambar...\n",
      "day 2 - recipe\n",
      "make sambar...\n",
      "day 3 - recipe\n",
      "make sambar...\n",
      "day 4 - recipe\n",
      "make sambar...\n",
      "day 5 - recipe\n",
      "make sambar...\n",
      "day 6 - recipe\n",
      "make sambar...\n"
     ]
    }
   ],
   "source": [
    "for i in range(7):\n",
    "    print(\"day\", i, \"- recipe\")\n",
    "    if coconut_availability == 1:\n",
    "        coconut_chutney()\n",
    "    elif coconut_availability == 0:\n",
    "        tomato_chutney()\n",
    "    else:\n",
    "        print(\"make sambar...\")\n",
    "    "
   ]
  },
  {
   "cell_type": "code",
   "execution_count": 23,
   "id": "88497d0f-f262-4c8a-b7c2-ea7b3c50ca5d",
   "metadata": {},
   "outputs": [
    {
     "name": "stdin",
     "output_type": "stream",
     "text": [
      " 11\n"
     ]
    }
   ],
   "source": [
    "coconut_availability = int(input())"
   ]
  },
  {
   "cell_type": "code",
   "execution_count": 43,
   "id": "ef9be9d9-6a9a-4c35-9baf-dfbd4fa3f5f3",
   "metadata": {},
   "outputs": [],
   "source": [
    "coconut_availability_list = [1,0,0,1,1,0,0]"
   ]
  },
  {
   "cell_type": "code",
   "execution_count": 44,
   "id": "b4e86a43-6fa4-4eec-acc9-6b2c35eea02e",
   "metadata": {},
   "outputs": [
    {
     "data": {
      "text/plain": [
       "list"
      ]
     },
     "execution_count": 44,
     "metadata": {},
     "output_type": "execute_result"
    }
   ],
   "source": [
    "type(coconut_availability_list)"
   ]
  },
  {
   "cell_type": "code",
   "execution_count": 47,
   "id": "68ecb736-0ea9-4343-9722-9b418542da28",
   "metadata": {},
   "outputs": [
    {
     "data": {
      "text/plain": [
       "1"
      ]
     },
     "execution_count": 47,
     "metadata": {},
     "output_type": "execute_result"
    }
   ],
   "source": [
    "coconut_availability_list[3] "
   ]
  },
  {
   "cell_type": "code",
   "execution_count": 48,
   "id": "06baa0f9-5298-4262-9200-f4475f2cbaaf",
   "metadata": {},
   "outputs": [
    {
     "name": "stdout",
     "output_type": "stream",
     "text": [
      "day 0 - recipe\n",
      "coconut+potukkadalai + chilli + salt\n",
      "day 1 - recipe\n",
      "totmato + onion + chilli + salt\n",
      "day 2 - recipe\n",
      "totmato + onion + chilli + salt\n",
      "day 3 - recipe\n",
      "coconut+potukkadalai + chilli + salt\n",
      "day 4 - recipe\n",
      "coconut+potukkadalai + chilli + salt\n",
      "day 5 - recipe\n",
      "totmato + onion + chilli + salt\n",
      "day 6 - recipe\n",
      "totmato + onion + chilli + salt\n"
     ]
    }
   ],
   "source": [
    "for i in range(7):\n",
    "    print(\"day\",i,\"- recipe\")\n",
    "    if coconut_availability_list[i] == 1:\n",
    "        coconut_chutney()\n",
    "    elif coconut_availability_list[i] == 0:\n",
    "        tomato_chutney()\n",
    "    else:\n",
    "        print(\"make sambar\")"
   ]
  },
  {
   "cell_type": "markdown",
   "id": "a66f1699-b462-45ed-8599-37008c2c082a",
   "metadata": {},
   "source": [
    "# Short hand if else"
   ]
  },
  {
   "cell_type": "markdown",
   "id": "c3d58a28-8748-4366-97f5-49bb280dbc15",
   "metadata": {},
   "source": [
    "# Ternary operation or conditional expressions"
   ]
  },
  {
   "cell_type": "code",
   "execution_count": 29,
   "id": "181044d1-c205-4f8d-a704-a1dadb2919e9",
   "metadata": {},
   "outputs": [
    {
     "name": "stdout",
     "output_type": "stream",
     "text": [
      "totmato + onion + chilli + salt\n"
     ]
    }
   ],
   "source": [
    "coconut_chutney() if coconut_availability == 1 else tomato_chutney()"
   ]
  },
  {
   "cell_type": "code",
   "execution_count": 28,
   "id": "8c281446-cae7-4a49-95e3-98442d531bcb",
   "metadata": {},
   "outputs": [
    {
     "data": {
      "text/plain": [
       "11"
      ]
     },
     "execution_count": 28,
     "metadata": {},
     "output_type": "execute_result"
    }
   ],
   "source": [
    "coconut_availability"
   ]
  },
  {
   "cell_type": "markdown",
   "id": "6b005679-ac4c-478a-8e82-2c7e223d8ca8",
   "metadata": {},
   "source": [
    "# Conditional statements inside loops"
   ]
  },
  {
   "cell_type": "markdown",
   "id": "77ec5235-6709-4468-9def-573fa7205f2e",
   "metadata": {},
   "source": [
    "- break : to break a loop\n",
    "- continue : to stop what we are doing immediately yet continue\n",
    "- pass: do nothing"
   ]
  },
  {
   "cell_type": "code",
   "execution_count": 72,
   "id": "9ca24aba-b935-472e-9574-0f2c51dbe253",
   "metadata": {},
   "outputs": [
    {
     "ename": "IndentationError",
     "evalue": "expected an indented block after 'elif' statement on line 9 (208683029.py, line 13)",
     "output_type": "error",
     "traceback": [
      "\u001b[1;36m  Cell \u001b[1;32mIn[72], line 13\u001b[1;36m\u001b[0m\n\u001b[1;33m    else:\u001b[0m\n\u001b[1;37m    ^\u001b[0m\n\u001b[1;31mIndentationError\u001b[0m\u001b[1;31m:\u001b[0m expected an indented block after 'elif' statement on line 9\n"
     ]
    }
   ],
   "source": [
    "for j in range(3):\n",
    "    print(\"week no:\", j,\"--------------------------\")\n",
    "    for i in range(7):\n",
    "        print(\"day\",i,\"- recipe\")\n",
    "        if coconut_availability_list[i] == 1:\n",
    "            coconut_chutney()\n",
    "            # continue\n",
    "            # print(\"yeahh it is coconut chuthey today!\")\n",
    "        elif coconut_availability_list[i] == 0:\n",
    "            # break\n",
    "            # tomato_chutney()\n",
    "            # pass\n",
    "        else:\n",
    "            print(\"make sambar\")"
   ]
  },
  {
   "cell_type": "code",
   "execution_count": null,
   "id": "5829760a-d501-4b4f-a628-95dc6e30bdd7",
   "metadata": {},
   "outputs": [],
   "source": []
  },
  {
   "cell_type": "markdown",
   "id": "a339724d-eb50-4f73-b67b-55d831ef8aad",
   "metadata": {},
   "source": [
    "# Nested loops"
   ]
  },
  {
   "cell_type": "code",
   "execution_count": 63,
   "id": "cbf7ec23-aaf8-4a28-8e64-118da6818d05",
   "metadata": {},
   "outputs": [
    {
     "name": "stdout",
     "output_type": "stream",
     "text": [
      "week no: 0 --------------------------\n",
      "day 0 - recipe\n",
      "coconut+potukkadalai + chilli + salt\n",
      "day 1 - recipe\n",
      "totmato + onion + chilli + salt\n",
      "day 2 - recipe\n",
      "totmato + onion + chilli + salt\n",
      "day 3 - recipe\n",
      "coconut+potukkadalai + chilli + salt\n",
      "day 4 - recipe\n",
      "coconut+potukkadalai + chilli + salt\n",
      "day 5 - recipe\n",
      "totmato + onion + chilli + salt\n",
      "day 6 - recipe\n",
      "totmato + onion + chilli + salt\n",
      "week no: 1 --------------------------\n",
      "day 0 - recipe\n",
      "coconut+potukkadalai + chilli + salt\n",
      "day 1 - recipe\n",
      "totmato + onion + chilli + salt\n",
      "day 2 - recipe\n",
      "totmato + onion + chilli + salt\n",
      "day 3 - recipe\n",
      "coconut+potukkadalai + chilli + salt\n",
      "day 4 - recipe\n",
      "coconut+potukkadalai + chilli + salt\n",
      "day 5 - recipe\n",
      "totmato + onion + chilli + salt\n",
      "day 6 - recipe\n",
      "totmato + onion + chilli + salt\n",
      "week no: 2 --------------------------\n",
      "day 0 - recipe\n",
      "coconut+potukkadalai + chilli + salt\n",
      "day 1 - recipe\n",
      "totmato + onion + chilli + salt\n",
      "day 2 - recipe\n",
      "totmato + onion + chilli + salt\n",
      "day 3 - recipe\n",
      "coconut+potukkadalai + chilli + salt\n",
      "day 4 - recipe\n",
      "coconut+potukkadalai + chilli + salt\n",
      "day 5 - recipe\n",
      "totmato + onion + chilli + salt\n",
      "day 6 - recipe\n",
      "totmato + onion + chilli + salt\n"
     ]
    }
   ],
   "source": [
    "for j in range(3):\n",
    "    print(\"week no:\", j,\"--------------------------\")\n",
    "    for i in range(7):\n",
    "        print(\"day\",i,\"- recipe\")\n",
    "        if coconut_availability_list[i] == 1:\n",
    "            coconut_chutney()\n",
    "        elif coconut_availability_list[i] == 0:\n",
    "            tomato_chutney()\n",
    "        else:\n",
    "            print(\"make sambar\")"
   ]
  },
  {
   "cell_type": "code",
   "execution_count": 101,
   "id": "ef6e97f4-43c1-4ffa-98f3-20863ae9a2d2",
   "metadata": {},
   "outputs": [
    {
     "name": "stdout",
     "output_type": "stream",
     "text": [
      "c is big\n"
     ]
    }
   ],
   "source": [
    "a = 5\n",
    "b= 10\n",
    "c= 15\n",
    "\n",
    "if a<b:\n",
    "    if b<c:\n",
    "        print(\"c is big\")\n",
    "    else:\n",
    "        print(\"b is big\")\n",
    "else:\n",
    "    print(\"a is big\")"
   ]
  },
  {
   "cell_type": "code",
   "execution_count": 103,
   "id": "1f2db93e-5134-4c97-8f2a-b44ff46699ee",
   "metadata": {},
   "outputs": [
    {
     "name": "stdout",
     "output_type": "stream",
     "text": [
      "x is 5\n"
     ]
    }
   ],
   "source": [
    "x = 5\n",
    "if x>10:\n",
    "    print(\"x is greater than 10\")\n",
    "elif x==5:\n",
    "    print(\"x is 5\")\n",
    "else:\n",
    "    print(\"x is just dummy\")"
   ]
  },
  {
   "cell_type": "code",
   "execution_count": 106,
   "id": "ef969595-95f7-40ad-a18f-85091d03e544",
   "metadata": {},
   "outputs": [
    {
     "name": "stdout",
     "output_type": "stream",
     "text": [
      "1\n",
      "4\n",
      "7\n"
     ]
    }
   ],
   "source": [
    "for i in range(1, 10, 3):\n",
    "    print(i)"
   ]
  },
  {
   "cell_type": "code",
   "execution_count": null,
   "id": "4a52148e-c300-4411-80b7-89f949691f1d",
   "metadata": {},
   "outputs": [],
   "source": []
  }
 ],
 "metadata": {
  "kernelspec": {
   "display_name": "Python 3 (ipykernel)",
   "language": "python",
   "name": "python3"
  },
  "language_info": {
   "codemirror_mode": {
    "name": "ipython",
    "version": 3
   },
   "file_extension": ".py",
   "mimetype": "text/x-python",
   "name": "python",
   "nbconvert_exporter": "python",
   "pygments_lexer": "ipython3",
   "version": "3.10.14"
  }
 },
 "nbformat": 4,
 "nbformat_minor": 5
}
