{
 "cells": [
  {
   "cell_type": "markdown",
   "id": "18267287-379e-4622-9cf7-2662de061a4a",
   "metadata": {},
   "source": [
    "\n",
    "# Create Set\n",
    "\n",
    "- UN Ordered\n",
    "- UN changeable\n",
    "- No duplicates\n",
    "- set can have items that are of diff data types\n",
    "- No Index"
   ]
  },
  {
   "cell_type": "code",
   "execution_count": 1,
   "id": "43ec3b9d-ed47-4aed-ac1d-4fba9862d398",
   "metadata": {},
   "outputs": [],
   "source": [
    "roles_set = {'raja','rani','police', 'raja'}"
   ]
  },
  {
   "cell_type": "code",
   "execution_count": 2,
   "id": "4649ce95-6081-46c6-94ea-96dfea69c210",
   "metadata": {},
   "outputs": [
    {
     "data": {
      "text/plain": [
       "{'police', 'raja', 'rani'}"
      ]
     },
     "execution_count": 2,
     "metadata": {},
     "output_type": "execute_result"
    }
   ],
   "source": [
    "roles_set"
   ]
  },
  {
   "cell_type": "code",
   "execution_count": 3,
   "id": "41f698e7-a552-44cf-9dcc-8882624cf545",
   "metadata": {},
   "outputs": [
    {
     "data": {
      "text/plain": [
       "set"
      ]
     },
     "execution_count": 3,
     "metadata": {},
     "output_type": "execute_result"
    }
   ],
   "source": [
    "type(roles_set)"
   ]
  },
  {
   "cell_type": "code",
   "execution_count": 4,
   "id": "ce5923f7-f40c-437c-a364-c4825edbc247",
   "metadata": {},
   "outputs": [
    {
     "data": {
      "text/plain": [
       "{'police', 'raja', 'rani'}"
      ]
     },
     "execution_count": 4,
     "metadata": {},
     "output_type": "execute_result"
    }
   ],
   "source": [
    "roles_set"
   ]
  },
  {
   "cell_type": "markdown",
   "id": "28cc007e-35c6-4536-9460-1ad861bb0151",
   "metadata": {},
   "source": [
    "\n",
    "# Set Accessing\n",
    "- in and not in"
   ]
  },
  {
   "cell_type": "code",
   "execution_count": 5,
   "id": "979c6de5-4af9-46c3-86b8-ce92499c8e85",
   "metadata": {},
   "outputs": [
    {
     "ename": "TypeError",
     "evalue": "'set' object is not subscriptable",
     "output_type": "error",
     "traceback": [
      "\u001b[0;31m---------------------------------------------------------------------------\u001b[0m",
      "\u001b[0;31mTypeError\u001b[0m                                 Traceback (most recent call last)",
      "Cell \u001b[0;32mIn[5], line 1\u001b[0m\n\u001b[0;32m----> 1\u001b[0m roles_set[\u001b[38;5;241m0\u001b[39m]\n",
      "\u001b[0;31mTypeError\u001b[0m: 'set' object is not subscriptable"
     ]
    }
   ],
   "source": [
    "roles_set[0]"
   ]
  },
  {
   "cell_type": "code",
   "execution_count": null,
   "id": "2fcd6032-e196-42c9-b1f2-60f3dff34b03",
   "metadata": {},
   "outputs": [],
   "source": [
    "for i in roles_set:\n",
    "    print(i)"
   ]
  },
  {
   "cell_type": "code",
   "execution_count": null,
   "id": "75edb9f9-e080-4c46-b21e-023c4f0ef456",
   "metadata": {},
   "outputs": [],
   "source": [
    "'cat' not in roles_set"
   ]
  },
  {
   "cell_type": "markdown",
   "id": "e5e9d039-4f63-45aa-bce5-9e370aef2431",
   "metadata": {},
   "source": [
    "# Add new items\n",
    "-add(), update(any iteratable)"
   ]
  },
  {
   "cell_type": "code",
   "execution_count": null,
   "id": "727993e9-2692-4470-aa8d-27915ccfb69f",
   "metadata": {},
   "outputs": [],
   "source": [
    "roles_set.add('mandiri')"
   ]
  },
  {
   "cell_type": "code",
   "execution_count": null,
   "id": "f237c405-c5c1-43f4-8d5f-39f0b4ba2975",
   "metadata": {},
   "outputs": [],
   "source": [
    "roles_set"
   ]
  },
  {
   "cell_type": "code",
   "execution_count": null,
   "id": "17d70d28-0d12-4f69-be65-384a217a6a20",
   "metadata": {},
   "outputs": [],
   "source": [
    "kutti_tuple = ('dog', 'thirudan')"
   ]
  },
  {
   "cell_type": "code",
   "execution_count": null,
   "id": "00181c0d-be53-49ec-be60-3f205bb12596",
   "metadata": {},
   "outputs": [],
   "source": [
    "roles_set.update(kutti_tuple)"
   ]
  },
  {
   "cell_type": "code",
   "execution_count": null,
   "id": "afd4828b-4f51-46b1-97dc-9b7fbadc7ebd",
   "metadata": {},
   "outputs": [],
   "source": [
    "roles_set"
   ]
  },
  {
   "cell_type": "markdown",
   "id": "1dda6578-dc63-4f77-99e2-4fe94476706f",
   "metadata": {},
   "source": [
    "\n",
    "# Remove old items\n",
    "- pop(random), remove(), clear(), discard(gracefully), del keyword"
   ]
  },
  {
   "cell_type": "code",
   "execution_count": null,
   "id": "28bbcf19-a54c-469c-a0e6-3d8d449483e2",
   "metadata": {},
   "outputs": [],
   "source": [
    "roles_set.pop()"
   ]
  },
  {
   "cell_type": "markdown",
   "id": "4b60de64-24d5-470a-97cd-b27a245056a8",
   "metadata": {},
   "source": [
    "# Additional methods\n",
    "- difference(), difference_update(), intersection(), intersection_update(), symmetric_difference(), symmetric_difference_update(), issubset(), issuperset(), isdisjoint(), union()"
   ]
  },
  {
   "cell_type": "code",
   "execution_count": null,
   "id": "314a7710-2d1e-4444-8b96-752491e32e79",
   "metadata": {},
   "outputs": [],
   "source": [
    "role1 = {'raja', 'rani', 'police'}\n",
    "role2 = {'rani', 'dog', 'thirudan'}"
   ]
  },
  {
   "cell_type": "code",
   "execution_count": null,
   "id": "1aea68e5-10ea-4681-99f2-303702bf16eb",
   "metadata": {},
   "outputs": [],
   "source": [
    "res = role2.difference(role1)"
   ]
  },
  {
   "cell_type": "code",
   "execution_count": null,
   "id": "336d83bb-611a-4b03-a265-87c7d83a79fb",
   "metadata": {},
   "outputs": [],
   "source": [
    "type(res)"
   ]
  },
  {
   "cell_type": "code",
   "execution_count": null,
   "id": "50ce1ded-845d-4464-897a-f92066f343c4",
   "metadata": {},
   "outputs": [],
   "source": [
    "role1.difference_update(role2)"
   ]
  },
  {
   "cell_type": "code",
   "execution_count": null,
   "id": "216c7da8-6a6f-484e-bd49-0eadde35d955",
   "metadata": {},
   "outputs": [],
   "source": [
    "role1"
   ]
  },
  {
   "cell_type": "code",
   "execution_count": null,
   "id": "5a2907e2-b110-44b4-9f10-618417cbae3c",
   "metadata": {},
   "outputs": [],
   "source": [
    "role1.intersection_update(role2)"
   ]
  },
  {
   "cell_type": "code",
   "execution_count": null,
   "id": "b3670b7e-4c0b-4faf-8ad8-672e115442b1",
   "metadata": {},
   "outputs": [],
   "source": [
    "role1"
   ]
  },
  {
   "cell_type": "code",
   "execution_count": null,
   "id": "852a94e3-6d14-41ff-b7ce-4294570625d3",
   "metadata": {},
   "outputs": [],
   "source": [
    "role1.symmetric_difference(role2)"
   ]
  },
  {
   "cell_type": "code",
   "execution_count": null,
   "id": "a8025363-51be-4f74-9abf-63f785bd1684",
   "metadata": {},
   "outputs": [],
   "source": [
    "role1 = {'raja', 'rani'}\n",
    "role2 = {'rani', 'dog', 'thirudan'}\n",
    "role3 = {'raja', 'rani'}\n",
    "role4 = {'dog', 'wolf'}"
   ]
  },
  {
   "cell_type": "code",
   "execution_count": null,
   "id": "850ac9c7-d4b7-465f-a307-ffe7d3cd08d0",
   "metadata": {},
   "outputs": [],
   "source": [
    "role2.issubset(role1)"
   ]
  },
  {
   "cell_type": "code",
   "execution_count": null,
   "id": "0a2a0f59-e4c9-4926-8f57-2ecbbcde8312",
   "metadata": {},
   "outputs": [],
   "source": [
    "role2.issuperset(role3)"
   ]
  },
  {
   "cell_type": "code",
   "execution_count": null,
   "id": "39f04a89-de62-4262-97cd-79c0247c647a",
   "metadata": {},
   "outputs": [],
   "source": [
    "role1.isdisjoint(role2)"
   ]
  },
  {
   "cell_type": "code",
   "execution_count": null,
   "id": "a0d22d08-850e-4ff5-ace4-f7dcb1dcf069",
   "metadata": {},
   "outputs": [],
   "source": [
    "role1.union(role4)"
   ]
  },
  {
   "cell_type": "markdown",
   "id": "73f85802-d2b9-4a88-8fcc-5a28e6e73af9",
   "metadata": {},
   "source": [
    "# Set Loops\n",
    "\n",
    "- in, range(), enumerate()"
   ]
  }
 ],
 "metadata": {
  "kernelspec": {
   "display_name": "Python 3 (ipykernel)",
   "language": "python",
   "name": "python3"
  },
  "language_info": {
   "codemirror_mode": {
    "name": "ipython",
    "version": 3
   },
   "file_extension": ".py",
   "mimetype": "text/x-python",
   "name": "python",
   "nbconvert_exporter": "python",
   "pygments_lexer": "ipython3",
   "version": "3.12.7"
  }
 },
 "nbformat": 4,
 "nbformat_minor": 5
}
