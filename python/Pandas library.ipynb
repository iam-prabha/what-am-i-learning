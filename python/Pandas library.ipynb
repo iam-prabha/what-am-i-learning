{
 "cells": [
  {
   "cell_type": "markdown",
   "id": "e09569bd-2b9f-4c88-9b3c-28a2ac4f43da",
   "metadata": {},
   "source": [
    "# Library installation"
   ]
  },
  {
   "cell_type": "code",
   "execution_count": 1,
   "id": "1dcd5d3f-d232-47d9-b318-2d9d4e4279b9",
   "metadata": {},
   "outputs": [],
   "source": [
    "import pandas as pd"
   ]
  },
  {
   "cell_type": "code",
   "execution_count": 2,
   "id": "d1910d5a-78b7-4c3c-abf4-2a2ff4ef6145",
   "metadata": {},
   "outputs": [],
   "source": [
    "import numpy as np"
   ]
  },
  {
   "cell_type": "markdown",
   "id": "f731ef66-7b29-40e9-95cb-055d3cc9d197",
   "metadata": {},
   "source": [
    "# Pandas Series "
   ]
  },
  {
   "cell_type": "markdown",
   "id": "ca4690e1-b80c-4e7d-a79f-f1c87183fc87",
   "metadata": {},
   "source": [
    "### how to create?"
   ]
  },
  {
   "cell_type": "code",
   "execution_count": 3,
   "id": "fa9608c6-fb4e-441c-8e41-525349d0da83",
   "metadata": {},
   "outputs": [],
   "source": [
    "veges = ['beetroot', 'carrot', 'tomato', 'kovakkai', 'coconut']"
   ]
  },
  {
   "cell_type": "code",
   "execution_count": 4,
   "id": "a418931e-9eb8-4709-ad98-2ef6d2f99a4b",
   "metadata": {},
   "outputs": [],
   "source": [
    "veges_series = pd.Series(veges,index=['purple', 'orange', 'red', 'green', 'white'])"
   ]
  },
  {
   "cell_type": "code",
   "execution_count": 5,
   "id": "fe5061b2-35e7-4f1c-9158-9a0cd12cdacb",
   "metadata": {},
   "outputs": [
    {
     "data": {
      "text/plain": [
       "purple    beetroot\n",
       "orange      carrot\n",
       "red         tomato\n",
       "green     kovakkai\n",
       "white      coconut\n",
       "dtype: object"
      ]
     },
     "execution_count": 5,
     "metadata": {},
     "output_type": "execute_result"
    }
   ],
   "source": [
    "veges_series"
   ]
  },
  {
   "cell_type": "code",
   "execution_count": 6,
   "id": "6faa8112-1cd6-42d1-8c30-bf1baaabe19f",
   "metadata": {},
   "outputs": [],
   "source": [
    "vege_dict = {'red': 'tomato','green': 'kovakkai'}"
   ]
  },
  {
   "cell_type": "code",
   "execution_count": 7,
   "id": "33531c67-12ea-458e-be72-e8466a497cb2",
   "metadata": {},
   "outputs": [],
   "source": [
    "vege_dict_series = pd.Series(vege_dict)"
   ]
  },
  {
   "cell_type": "code",
   "execution_count": 8,
   "id": "c914bfe9-60fe-45bb-aed9-85a23ff2d63d",
   "metadata": {},
   "outputs": [
    {
     "data": {
      "text/plain": [
       "red        tomato\n",
       "green    kovakkai\n",
       "dtype: object"
      ]
     },
     "execution_count": 8,
     "metadata": {},
     "output_type": "execute_result"
    }
   ],
   "source": [
    "vege_dict_series"
   ]
  },
  {
   "cell_type": "markdown",
   "id": "0cb82069-c644-4edb-8ef1-fd37977a2cb1",
   "metadata": {},
   "source": [
    "### How to access?"
   ]
  },
  {
   "cell_type": "code",
   "execution_count": 9,
   "id": "86eccee4-5ff6-4ff2-a175-dff236f413ac",
   "metadata": {},
   "outputs": [
    {
     "data": {
      "text/plain": [
       "'coconut'"
      ]
     },
     "execution_count": 9,
     "metadata": {},
     "output_type": "execute_result"
    }
   ],
   "source": [
    "veges_series['white']"
   ]
  },
  {
   "cell_type": "code",
   "execution_count": 10,
   "id": "44c309d0-ed40-46b9-a185-df54ec07fd49",
   "metadata": {},
   "outputs": [],
   "source": [
    "vege_dict_series['orange'] = 'carrot'"
   ]
  },
  {
   "cell_type": "code",
   "execution_count": 11,
   "id": "b7eb2df5-57c4-4025-9a0b-828efdde3605",
   "metadata": {},
   "outputs": [
    {
     "data": {
      "text/plain": [
       "red         tomato\n",
       "green     kovakkai\n",
       "orange      carrot\n",
       "dtype: object"
      ]
     },
     "execution_count": 11,
     "metadata": {},
     "output_type": "execute_result"
    }
   ],
   "source": [
    "vege_dict_series"
   ]
  },
  {
   "cell_type": "code",
   "execution_count": 12,
   "id": "78041906-5a02-4904-b590-a67b2f6368c9",
   "metadata": {},
   "outputs": [],
   "source": [
    "vege_dict_series.drop(['orange'], inplace=True)"
   ]
  },
  {
   "cell_type": "markdown",
   "id": "e000c723-616f-4e33-ae9e-df22a2aadbe9",
   "metadata": {},
   "source": [
    "### Series elements can be hetrogeneous & nested too!"
   ]
  },
  {
   "cell_type": "code",
   "execution_count": 13,
   "id": "4730a452-1763-486a-b3d4-e0ef47cd16cb",
   "metadata": {},
   "outputs": [],
   "source": [
    "veges_dict = {'red': ['tomato', 'redchilli', 'apple'], 'green': 'kovakkai'}"
   ]
  },
  {
   "cell_type": "code",
   "execution_count": 14,
   "id": "abe39a68-f636-411e-b4b1-fb1909e1817f",
   "metadata": {},
   "outputs": [],
   "source": [
    "new_veges_series = pd.Series(veges_dict)"
   ]
  },
  {
   "cell_type": "code",
   "execution_count": 15,
   "id": "9a062190-622f-4941-a91c-a715a64f80ba",
   "metadata": {},
   "outputs": [
    {
     "name": "stderr",
     "output_type": "stream",
     "text": [
      "/tmp/ipykernel_6803/189875207.py:1: FutureWarning: Series.__getitem__ treating keys as positions is deprecated. In a future version, integer keys will always be treated as labels (consistent with DataFrame behavior). To access a value by position, use `ser.iloc[pos]`\n",
      "  type(new_veges_series[1])\n"
     ]
    },
    {
     "data": {
      "text/plain": [
       "str"
      ]
     },
     "execution_count": 15,
     "metadata": {},
     "output_type": "execute_result"
    }
   ],
   "source": [
    "type(new_veges_series[1])"
   ]
  },
  {
   "cell_type": "markdown",
   "id": "95b08f1e-5def-49d4-91ca-0d46339da2a1",
   "metadata": {},
   "source": [
    "# Pandas Datasframe"
   ]
  },
  {
   "cell_type": "markdown",
   "id": "4b81b311-1a50-4b0d-ac92-a182febc6080",
   "metadata": {},
   "source": [
    "### how to create?"
   ]
  },
  {
   "cell_type": "markdown",
   "id": "4801030e-954f-4a01-be53-af04658e7d84",
   "metadata": {},
   "source": [
    "## series are building blocks of datagrames"
   ]
  },
  {
   "cell_type": "code",
   "execution_count": 16,
   "id": "09b7c341-dd1d-4b46-bea0-4e5c036d7cd6",
   "metadata": {},
   "outputs": [],
   "source": [
    "data = { 'vegetables': ['beetroot', 'carrot', 'redchilli', 'beans', 'coconut'],\n",
    "       'color' : ['purple', 'orange', 'red', 'green', 'white'],\n",
    "        'unit' : ['1kg', '1kg','1kg','1kg','1piece'],\n",
    "       'min' : [25, 35, 33, 40, 'seventeen'],\n",
    "       'max': [40, 45, 90, 45, 38],\n",
    "       }"
   ]
  },
  {
   "cell_type": "code",
   "execution_count": 17,
   "id": "f0fc9372-e683-42af-90c0-1ba673f18ff2",
   "metadata": {},
   "outputs": [],
   "source": [
    "koyambed_market = pd.DataFrame(data,index=['a','b','c','d','e'])"
   ]
  },
  {
   "cell_type": "code",
   "execution_count": 18,
   "id": "8faa4c4e-e958-4775-afed-7ac403b19ea1",
   "metadata": {},
   "outputs": [
    {
     "data": {
      "text/html": [
       "<div>\n",
       "<style scoped>\n",
       "    .dataframe tbody tr th:only-of-type {\n",
       "        vertical-align: middle;\n",
       "    }\n",
       "\n",
       "    .dataframe tbody tr th {\n",
       "        vertical-align: top;\n",
       "    }\n",
       "\n",
       "    .dataframe thead th {\n",
       "        text-align: right;\n",
       "    }\n",
       "</style>\n",
       "<table border=\"1\" class=\"dataframe\">\n",
       "  <thead>\n",
       "    <tr style=\"text-align: right;\">\n",
       "      <th></th>\n",
       "      <th>vegetables</th>\n",
       "      <th>color</th>\n",
       "      <th>unit</th>\n",
       "      <th>min</th>\n",
       "      <th>max</th>\n",
       "    </tr>\n",
       "  </thead>\n",
       "  <tbody>\n",
       "    <tr>\n",
       "      <th>a</th>\n",
       "      <td>beetroot</td>\n",
       "      <td>purple</td>\n",
       "      <td>1kg</td>\n",
       "      <td>25</td>\n",
       "      <td>40</td>\n",
       "    </tr>\n",
       "    <tr>\n",
       "      <th>b</th>\n",
       "      <td>carrot</td>\n",
       "      <td>orange</td>\n",
       "      <td>1kg</td>\n",
       "      <td>35</td>\n",
       "      <td>45</td>\n",
       "    </tr>\n",
       "    <tr>\n",
       "      <th>c</th>\n",
       "      <td>redchilli</td>\n",
       "      <td>red</td>\n",
       "      <td>1kg</td>\n",
       "      <td>33</td>\n",
       "      <td>90</td>\n",
       "    </tr>\n",
       "    <tr>\n",
       "      <th>d</th>\n",
       "      <td>beans</td>\n",
       "      <td>green</td>\n",
       "      <td>1kg</td>\n",
       "      <td>40</td>\n",
       "      <td>45</td>\n",
       "    </tr>\n",
       "    <tr>\n",
       "      <th>e</th>\n",
       "      <td>coconut</td>\n",
       "      <td>white</td>\n",
       "      <td>1piece</td>\n",
       "      <td>seventeen</td>\n",
       "      <td>38</td>\n",
       "    </tr>\n",
       "  </tbody>\n",
       "</table>\n",
       "</div>"
      ],
      "text/plain": [
       "  vegetables   color    unit        min  max\n",
       "a   beetroot  purple     1kg         25   40\n",
       "b     carrot  orange     1kg         35   45\n",
       "c  redchilli     red     1kg         33   90\n",
       "d      beans   green     1kg         40   45\n",
       "e    coconut   white  1piece  seventeen   38"
      ]
     },
     "execution_count": 18,
     "metadata": {},
     "output_type": "execute_result"
    }
   ],
   "source": [
    "koyambed_market"
   ]
  },
  {
   "cell_type": "code",
   "execution_count": 19,
   "id": "b8465a48-2adb-44bd-92f2-620b8daed55e",
   "metadata": {},
   "outputs": [
    {
     "data": {
      "text/plain": [
       "Index(['a', 'b', 'c', 'd', 'e'], dtype='object')"
      ]
     },
     "execution_count": 19,
     "metadata": {},
     "output_type": "execute_result"
    }
   ],
   "source": [
    "koyambed_market.index"
   ]
  },
  {
   "cell_type": "markdown",
   "id": "cb8cb0d1-54d0-4a37-a13f-4e4502c9d653",
   "metadata": {},
   "source": [
    "### How to access?"
   ]
  },
  {
   "cell_type": "code",
   "execution_count": 20,
   "id": "240f12e8-bd68-47b3-a1a9-08e9ad290c6d",
   "metadata": {},
   "outputs": [
    {
     "data": {
      "text/plain": [
       "a       1kg\n",
       "b       1kg\n",
       "c       1kg\n",
       "d       1kg\n",
       "e    1piece\n",
       "Name: unit, dtype: object"
      ]
     },
     "execution_count": 20,
     "metadata": {},
     "output_type": "execute_result"
    }
   ],
   "source": [
    "koyambed_market['unit'] # access cols names & .loc(index)"
   ]
  },
  {
   "cell_type": "code",
   "execution_count": 21,
   "id": "a8696cf0-422c-4043-8c33-8c5d4a6aef73",
   "metadata": {},
   "outputs": [
    {
     "data": {
      "text/plain": [
       "'1kg'"
      ]
     },
     "execution_count": 21,
     "metadata": {},
     "output_type": "execute_result"
    }
   ],
   "source": [
    "koyambed_market.loc['a', 'unit']"
   ]
  },
  {
   "cell_type": "code",
   "execution_count": 22,
   "id": "30d48211-7202-4b5d-b753-c14736bfc11f",
   "metadata": {},
   "outputs": [
    {
     "data": {
      "text/html": [
       "<div>\n",
       "<style scoped>\n",
       "    .dataframe tbody tr th:only-of-type {\n",
       "        vertical-align: middle;\n",
       "    }\n",
       "\n",
       "    .dataframe tbody tr th {\n",
       "        vertical-align: top;\n",
       "    }\n",
       "\n",
       "    .dataframe thead th {\n",
       "        text-align: right;\n",
       "    }\n",
       "</style>\n",
       "<table border=\"1\" class=\"dataframe\">\n",
       "  <thead>\n",
       "    <tr style=\"text-align: right;\">\n",
       "      <th></th>\n",
       "      <th>vegetables</th>\n",
       "      <th>color</th>\n",
       "      <th>unit</th>\n",
       "    </tr>\n",
       "  </thead>\n",
       "  <tbody>\n",
       "    <tr>\n",
       "      <th>a</th>\n",
       "      <td>beetroot</td>\n",
       "      <td>purple</td>\n",
       "      <td>1kg</td>\n",
       "    </tr>\n",
       "    <tr>\n",
       "      <th>b</th>\n",
       "      <td>carrot</td>\n",
       "      <td>orange</td>\n",
       "      <td>1kg</td>\n",
       "    </tr>\n",
       "    <tr>\n",
       "      <th>c</th>\n",
       "      <td>redchilli</td>\n",
       "      <td>red</td>\n",
       "      <td>1kg</td>\n",
       "    </tr>\n",
       "  </tbody>\n",
       "</table>\n",
       "</div>"
      ],
      "text/plain": [
       "  vegetables   color unit\n",
       "a   beetroot  purple  1kg\n",
       "b     carrot  orange  1kg\n",
       "c  redchilli     red  1kg"
      ]
     },
     "execution_count": 22,
     "metadata": {},
     "output_type": "execute_result"
    }
   ],
   "source": [
    "koyambed_market.iloc[0:3, 0:3]"
   ]
  },
  {
   "cell_type": "markdown",
   "id": "8313a335-ed20-49cc-98ce-1ff66ee81e65",
   "metadata": {},
   "source": [
    "### Adding and removing"
   ]
  },
  {
   "cell_type": "code",
   "execution_count": 23,
   "id": "972a8f3b-b926-43ef-bcf8-acf2f9f8a68f",
   "metadata": {},
   "outputs": [
    {
     "data": {
      "text/html": [
       "<div>\n",
       "<style scoped>\n",
       "    .dataframe tbody tr th:only-of-type {\n",
       "        vertical-align: middle;\n",
       "    }\n",
       "\n",
       "    .dataframe tbody tr th {\n",
       "        vertical-align: top;\n",
       "    }\n",
       "\n",
       "    .dataframe thead th {\n",
       "        text-align: right;\n",
       "    }\n",
       "</style>\n",
       "<table border=\"1\" class=\"dataframe\">\n",
       "  <thead>\n",
       "    <tr style=\"text-align: right;\">\n",
       "      <th></th>\n",
       "      <th>vegetables</th>\n",
       "      <th>color</th>\n",
       "      <th>unit</th>\n",
       "      <th>min</th>\n",
       "      <th>max</th>\n",
       "    </tr>\n",
       "  </thead>\n",
       "  <tbody>\n",
       "    <tr>\n",
       "      <th>a</th>\n",
       "      <td>beetroot</td>\n",
       "      <td>purple</td>\n",
       "      <td>1kg</td>\n",
       "      <td>25</td>\n",
       "      <td>40</td>\n",
       "    </tr>\n",
       "    <tr>\n",
       "      <th>b</th>\n",
       "      <td>carrot</td>\n",
       "      <td>orange</td>\n",
       "      <td>1kg</td>\n",
       "      <td>35</td>\n",
       "      <td>45</td>\n",
       "    </tr>\n",
       "    <tr>\n",
       "      <th>c</th>\n",
       "      <td>redchilli</td>\n",
       "      <td>red</td>\n",
       "      <td>1kg</td>\n",
       "      <td>33</td>\n",
       "      <td>90</td>\n",
       "    </tr>\n",
       "    <tr>\n",
       "      <th>d</th>\n",
       "      <td>beans</td>\n",
       "      <td>green</td>\n",
       "      <td>1kg</td>\n",
       "      <td>40</td>\n",
       "      <td>45</td>\n",
       "    </tr>\n",
       "    <tr>\n",
       "      <th>e</th>\n",
       "      <td>coconut</td>\n",
       "      <td>white</td>\n",
       "      <td>1piece</td>\n",
       "      <td>seventeen</td>\n",
       "      <td>38</td>\n",
       "    </tr>\n",
       "  </tbody>\n",
       "</table>\n",
       "</div>"
      ],
      "text/plain": [
       "  vegetables   color    unit        min  max\n",
       "a   beetroot  purple     1kg         25   40\n",
       "b     carrot  orange     1kg         35   45\n",
       "c  redchilli     red     1kg         33   90\n",
       "d      beans   green     1kg         40   45\n",
       "e    coconut   white  1piece  seventeen   38"
      ]
     },
     "execution_count": 23,
     "metadata": {},
     "output_type": "execute_result"
    }
   ],
   "source": [
    "koyambed_market"
   ]
  },
  {
   "cell_type": "code",
   "execution_count": 24,
   "id": "a16e8641-5518-4923-ad95-395059e6594c",
   "metadata": {},
   "outputs": [],
   "source": [
    "koyambed_market.loc['f'] = {'vegetables': 'poosanikai', 'color': 'yellow', 'unit': '1piece', 'min' : 10, 'max' : 30}"
   ]
  },
  {
   "cell_type": "code",
   "execution_count": 25,
   "id": "eeef10d8-e394-4f31-8b8d-633e64a08e97",
   "metadata": {},
   "outputs": [
    {
     "data": {
      "text/html": [
       "<div>\n",
       "<style scoped>\n",
       "    .dataframe tbody tr th:only-of-type {\n",
       "        vertical-align: middle;\n",
       "    }\n",
       "\n",
       "    .dataframe tbody tr th {\n",
       "        vertical-align: top;\n",
       "    }\n",
       "\n",
       "    .dataframe thead th {\n",
       "        text-align: right;\n",
       "    }\n",
       "</style>\n",
       "<table border=\"1\" class=\"dataframe\">\n",
       "  <thead>\n",
       "    <tr style=\"text-align: right;\">\n",
       "      <th></th>\n",
       "      <th>vegetables</th>\n",
       "      <th>color</th>\n",
       "      <th>unit</th>\n",
       "      <th>min</th>\n",
       "      <th>max</th>\n",
       "    </tr>\n",
       "  </thead>\n",
       "  <tbody>\n",
       "    <tr>\n",
       "      <th>a</th>\n",
       "      <td>beetroot</td>\n",
       "      <td>purple</td>\n",
       "      <td>1kg</td>\n",
       "      <td>25</td>\n",
       "      <td>40</td>\n",
       "    </tr>\n",
       "    <tr>\n",
       "      <th>b</th>\n",
       "      <td>carrot</td>\n",
       "      <td>orange</td>\n",
       "      <td>1kg</td>\n",
       "      <td>35</td>\n",
       "      <td>45</td>\n",
       "    </tr>\n",
       "    <tr>\n",
       "      <th>c</th>\n",
       "      <td>redchilli</td>\n",
       "      <td>red</td>\n",
       "      <td>1kg</td>\n",
       "      <td>33</td>\n",
       "      <td>90</td>\n",
       "    </tr>\n",
       "    <tr>\n",
       "      <th>d</th>\n",
       "      <td>beans</td>\n",
       "      <td>green</td>\n",
       "      <td>1kg</td>\n",
       "      <td>40</td>\n",
       "      <td>45</td>\n",
       "    </tr>\n",
       "    <tr>\n",
       "      <th>e</th>\n",
       "      <td>coconut</td>\n",
       "      <td>white</td>\n",
       "      <td>1piece</td>\n",
       "      <td>seventeen</td>\n",
       "      <td>38</td>\n",
       "    </tr>\n",
       "    <tr>\n",
       "      <th>f</th>\n",
       "      <td>poosanikai</td>\n",
       "      <td>yellow</td>\n",
       "      <td>1piece</td>\n",
       "      <td>10</td>\n",
       "      <td>30</td>\n",
       "    </tr>\n",
       "  </tbody>\n",
       "</table>\n",
       "</div>"
      ],
      "text/plain": [
       "   vegetables   color    unit        min  max\n",
       "a    beetroot  purple     1kg         25   40\n",
       "b      carrot  orange     1kg         35   45\n",
       "c   redchilli     red     1kg         33   90\n",
       "d       beans   green     1kg         40   45\n",
       "e     coconut   white  1piece  seventeen   38\n",
       "f  poosanikai  yellow  1piece         10   30"
      ]
     },
     "execution_count": 25,
     "metadata": {},
     "output_type": "execute_result"
    }
   ],
   "source": [
    "koyambed_market"
   ]
  },
  {
   "cell_type": "code",
   "execution_count": 26,
   "id": "c141fbb8-b192-48a5-aa27-722658740ce4",
   "metadata": {},
   "outputs": [],
   "source": [
    "koyambed_market['average'] = [20, 35, 75, 35, 25, 20]"
   ]
  },
  {
   "cell_type": "code",
   "execution_count": 27,
   "id": "34e1747e-c90f-45ea-8759-8c33bf16b12d",
   "metadata": {},
   "outputs": [
    {
     "data": {
      "text/html": [
       "<div>\n",
       "<style scoped>\n",
       "    .dataframe tbody tr th:only-of-type {\n",
       "        vertical-align: middle;\n",
       "    }\n",
       "\n",
       "    .dataframe tbody tr th {\n",
       "        vertical-align: top;\n",
       "    }\n",
       "\n",
       "    .dataframe thead th {\n",
       "        text-align: right;\n",
       "    }\n",
       "</style>\n",
       "<table border=\"1\" class=\"dataframe\">\n",
       "  <thead>\n",
       "    <tr style=\"text-align: right;\">\n",
       "      <th></th>\n",
       "      <th>vegetables</th>\n",
       "      <th>color</th>\n",
       "      <th>unit</th>\n",
       "      <th>min</th>\n",
       "      <th>max</th>\n",
       "      <th>average</th>\n",
       "    </tr>\n",
       "  </thead>\n",
       "  <tbody>\n",
       "    <tr>\n",
       "      <th>a</th>\n",
       "      <td>beetroot</td>\n",
       "      <td>purple</td>\n",
       "      <td>1kg</td>\n",
       "      <td>25</td>\n",
       "      <td>40</td>\n",
       "      <td>20</td>\n",
       "    </tr>\n",
       "    <tr>\n",
       "      <th>b</th>\n",
       "      <td>carrot</td>\n",
       "      <td>orange</td>\n",
       "      <td>1kg</td>\n",
       "      <td>35</td>\n",
       "      <td>45</td>\n",
       "      <td>35</td>\n",
       "    </tr>\n",
       "    <tr>\n",
       "      <th>c</th>\n",
       "      <td>redchilli</td>\n",
       "      <td>red</td>\n",
       "      <td>1kg</td>\n",
       "      <td>33</td>\n",
       "      <td>90</td>\n",
       "      <td>75</td>\n",
       "    </tr>\n",
       "    <tr>\n",
       "      <th>d</th>\n",
       "      <td>beans</td>\n",
       "      <td>green</td>\n",
       "      <td>1kg</td>\n",
       "      <td>40</td>\n",
       "      <td>45</td>\n",
       "      <td>35</td>\n",
       "    </tr>\n",
       "    <tr>\n",
       "      <th>e</th>\n",
       "      <td>coconut</td>\n",
       "      <td>white</td>\n",
       "      <td>1piece</td>\n",
       "      <td>seventeen</td>\n",
       "      <td>38</td>\n",
       "      <td>25</td>\n",
       "    </tr>\n",
       "    <tr>\n",
       "      <th>f</th>\n",
       "      <td>poosanikai</td>\n",
       "      <td>yellow</td>\n",
       "      <td>1piece</td>\n",
       "      <td>10</td>\n",
       "      <td>30</td>\n",
       "      <td>20</td>\n",
       "    </tr>\n",
       "  </tbody>\n",
       "</table>\n",
       "</div>"
      ],
      "text/plain": [
       "   vegetables   color    unit        min  max  average\n",
       "a    beetroot  purple     1kg         25   40       20\n",
       "b      carrot  orange     1kg         35   45       35\n",
       "c   redchilli     red     1kg         33   90       75\n",
       "d       beans   green     1kg         40   45       35\n",
       "e     coconut   white  1piece  seventeen   38       25\n",
       "f  poosanikai  yellow  1piece         10   30       20"
      ]
     },
     "execution_count": 27,
     "metadata": {},
     "output_type": "execute_result"
    }
   ],
   "source": [
    "koyambed_market"
   ]
  },
  {
   "cell_type": "code",
   "execution_count": 28,
   "id": "01916ea5-d542-4944-bb63-84ead57f6113",
   "metadata": {},
   "outputs": [],
   "source": [
    "koyambed_market.drop(['average'], axis=1, inplace=True)"
   ]
  },
  {
   "cell_type": "markdown",
   "id": "ea75d30b-6d79-4ba3-9776-7a9e39412168",
   "metadata": {},
   "source": [
    "### Handle missing values - isna, sum, any, fillna, dropna"
   ]
  },
  {
   "cell_type": "code",
   "execution_count": 29,
   "id": "dd6c68b6-0118-49ab-b0ad-541cb73cc3ab",
   "metadata": {},
   "outputs": [
    {
     "data": {
      "text/html": [
       "<div>\n",
       "<style scoped>\n",
       "    .dataframe tbody tr th:only-of-type {\n",
       "        vertical-align: middle;\n",
       "    }\n",
       "\n",
       "    .dataframe tbody tr th {\n",
       "        vertical-align: top;\n",
       "    }\n",
       "\n",
       "    .dataframe thead th {\n",
       "        text-align: right;\n",
       "    }\n",
       "</style>\n",
       "<table border=\"1\" class=\"dataframe\">\n",
       "  <thead>\n",
       "    <tr style=\"text-align: right;\">\n",
       "      <th></th>\n",
       "      <th>vegetables</th>\n",
       "      <th>color</th>\n",
       "      <th>unit</th>\n",
       "      <th>min</th>\n",
       "      <th>max</th>\n",
       "    </tr>\n",
       "  </thead>\n",
       "  <tbody>\n",
       "    <tr>\n",
       "      <th>a</th>\n",
       "      <td>beetroot</td>\n",
       "      <td>purple</td>\n",
       "      <td>1kg</td>\n",
       "      <td>25</td>\n",
       "      <td>40</td>\n",
       "    </tr>\n",
       "    <tr>\n",
       "      <th>b</th>\n",
       "      <td>carrot</td>\n",
       "      <td>orange</td>\n",
       "      <td>1kg</td>\n",
       "      <td>35</td>\n",
       "      <td>45</td>\n",
       "    </tr>\n",
       "    <tr>\n",
       "      <th>c</th>\n",
       "      <td>redchilli</td>\n",
       "      <td>red</td>\n",
       "      <td>1kg</td>\n",
       "      <td>33</td>\n",
       "      <td>90</td>\n",
       "    </tr>\n",
       "    <tr>\n",
       "      <th>d</th>\n",
       "      <td>beans</td>\n",
       "      <td>green</td>\n",
       "      <td>1kg</td>\n",
       "      <td>40</td>\n",
       "      <td>45</td>\n",
       "    </tr>\n",
       "    <tr>\n",
       "      <th>e</th>\n",
       "      <td>coconut</td>\n",
       "      <td>white</td>\n",
       "      <td>1piece</td>\n",
       "      <td>seventeen</td>\n",
       "      <td>38</td>\n",
       "    </tr>\n",
       "    <tr>\n",
       "      <th>f</th>\n",
       "      <td>poosanikai</td>\n",
       "      <td>yellow</td>\n",
       "      <td>1piece</td>\n",
       "      <td>10</td>\n",
       "      <td>30</td>\n",
       "    </tr>\n",
       "  </tbody>\n",
       "</table>\n",
       "</div>"
      ],
      "text/plain": [
       "   vegetables   color    unit        min  max\n",
       "a    beetroot  purple     1kg         25   40\n",
       "b      carrot  orange     1kg         35   45\n",
       "c   redchilli     red     1kg         33   90\n",
       "d       beans   green     1kg         40   45\n",
       "e     coconut   white  1piece  seventeen   38\n",
       "f  poosanikai  yellow  1piece         10   30"
      ]
     },
     "execution_count": 29,
     "metadata": {},
     "output_type": "execute_result"
    }
   ],
   "source": [
    "koyambed_market"
   ]
  },
  {
   "cell_type": "code",
   "execution_count": 30,
   "id": "a3a58b88-a0b7-460b-a9f9-db071c8502ee",
   "metadata": {},
   "outputs": [
    {
     "data": {
      "text/plain": [
       "vegetables    0\n",
       "color         0\n",
       "unit          0\n",
       "min           0\n",
       "max           0\n",
       "dtype: int64"
      ]
     },
     "execution_count": 30,
     "metadata": {},
     "output_type": "execute_result"
    }
   ],
   "source": [
    "koyambed_market.isna().sum()"
   ]
  },
  {
   "cell_type": "code",
   "execution_count": 31,
   "id": "4ee28d6a-94e6-4532-8d73-7e1ae29885e5",
   "metadata": {},
   "outputs": [
    {
     "ename": "ValueError",
     "evalue": "Length of values (5) does not match length of index (6)",
     "output_type": "error",
     "traceback": [
      "\u001b[0;31m---------------------------------------------------------------------------\u001b[0m",
      "\u001b[0;31mValueError\u001b[0m                                Traceback (most recent call last)",
      "Cell \u001b[0;32mIn[31], line 1\u001b[0m\n\u001b[0;32m----> 1\u001b[0m koyambed_market[\u001b[38;5;124m'\u001b[39m\u001b[38;5;124mcoconut\u001b[39m\u001b[38;5;124m'\u001b[39m] \u001b[38;5;241m=\u001b[39m [\u001b[38;5;28;01mTrue\u001b[39;00m, \u001b[38;5;28;01mTrue\u001b[39;00m, \u001b[38;5;28;01mFalse\u001b[39;00m, \u001b[38;5;28;01mFalse\u001b[39;00m, np\u001b[38;5;241m.\u001b[39mnan]\n",
      "File \u001b[0;32m~/anaconda3/lib/python3.12/site-packages/pandas/core/frame.py:4311\u001b[0m, in \u001b[0;36mDataFrame.__setitem__\u001b[0;34m(self, key, value)\u001b[0m\n\u001b[1;32m   4308\u001b[0m     \u001b[38;5;28mself\u001b[39m\u001b[38;5;241m.\u001b[39m_setitem_array([key], value)\n\u001b[1;32m   4309\u001b[0m \u001b[38;5;28;01melse\u001b[39;00m:\n\u001b[1;32m   4310\u001b[0m     \u001b[38;5;66;03m# set column\u001b[39;00m\n\u001b[0;32m-> 4311\u001b[0m     \u001b[38;5;28mself\u001b[39m\u001b[38;5;241m.\u001b[39m_set_item(key, value)\n",
      "File \u001b[0;32m~/anaconda3/lib/python3.12/site-packages/pandas/core/frame.py:4524\u001b[0m, in \u001b[0;36mDataFrame._set_item\u001b[0;34m(self, key, value)\u001b[0m\n\u001b[1;32m   4514\u001b[0m \u001b[38;5;28;01mdef\u001b[39;00m \u001b[38;5;21m_set_item\u001b[39m(\u001b[38;5;28mself\u001b[39m, key, value) \u001b[38;5;241m-\u001b[39m\u001b[38;5;241m>\u001b[39m \u001b[38;5;28;01mNone\u001b[39;00m:\n\u001b[1;32m   4515\u001b[0m \u001b[38;5;250m    \u001b[39m\u001b[38;5;124;03m\"\"\"\u001b[39;00m\n\u001b[1;32m   4516\u001b[0m \u001b[38;5;124;03m    Add series to DataFrame in specified column.\u001b[39;00m\n\u001b[1;32m   4517\u001b[0m \n\u001b[0;32m   (...)\u001b[0m\n\u001b[1;32m   4522\u001b[0m \u001b[38;5;124;03m    ensure homogeneity.\u001b[39;00m\n\u001b[1;32m   4523\u001b[0m \u001b[38;5;124;03m    \"\"\"\u001b[39;00m\n\u001b[0;32m-> 4524\u001b[0m     value, refs \u001b[38;5;241m=\u001b[39m \u001b[38;5;28mself\u001b[39m\u001b[38;5;241m.\u001b[39m_sanitize_column(value)\n\u001b[1;32m   4526\u001b[0m     \u001b[38;5;28;01mif\u001b[39;00m (\n\u001b[1;32m   4527\u001b[0m         key \u001b[38;5;129;01min\u001b[39;00m \u001b[38;5;28mself\u001b[39m\u001b[38;5;241m.\u001b[39mcolumns\n\u001b[1;32m   4528\u001b[0m         \u001b[38;5;129;01mand\u001b[39;00m value\u001b[38;5;241m.\u001b[39mndim \u001b[38;5;241m==\u001b[39m \u001b[38;5;241m1\u001b[39m\n\u001b[1;32m   4529\u001b[0m         \u001b[38;5;129;01mand\u001b[39;00m \u001b[38;5;129;01mnot\u001b[39;00m \u001b[38;5;28misinstance\u001b[39m(value\u001b[38;5;241m.\u001b[39mdtype, ExtensionDtype)\n\u001b[1;32m   4530\u001b[0m     ):\n\u001b[1;32m   4531\u001b[0m         \u001b[38;5;66;03m# broadcast across multiple columns if necessary\u001b[39;00m\n\u001b[1;32m   4532\u001b[0m         \u001b[38;5;28;01mif\u001b[39;00m \u001b[38;5;129;01mnot\u001b[39;00m \u001b[38;5;28mself\u001b[39m\u001b[38;5;241m.\u001b[39mcolumns\u001b[38;5;241m.\u001b[39mis_unique \u001b[38;5;129;01mor\u001b[39;00m \u001b[38;5;28misinstance\u001b[39m(\u001b[38;5;28mself\u001b[39m\u001b[38;5;241m.\u001b[39mcolumns, MultiIndex):\n",
      "File \u001b[0;32m~/anaconda3/lib/python3.12/site-packages/pandas/core/frame.py:5266\u001b[0m, in \u001b[0;36mDataFrame._sanitize_column\u001b[0;34m(self, value)\u001b[0m\n\u001b[1;32m   5263\u001b[0m     \u001b[38;5;28;01mreturn\u001b[39;00m _reindex_for_setitem(value, \u001b[38;5;28mself\u001b[39m\u001b[38;5;241m.\u001b[39mindex)\n\u001b[1;32m   5265\u001b[0m \u001b[38;5;28;01mif\u001b[39;00m is_list_like(value):\n\u001b[0;32m-> 5266\u001b[0m     com\u001b[38;5;241m.\u001b[39mrequire_length_match(value, \u001b[38;5;28mself\u001b[39m\u001b[38;5;241m.\u001b[39mindex)\n\u001b[1;32m   5267\u001b[0m arr \u001b[38;5;241m=\u001b[39m sanitize_array(value, \u001b[38;5;28mself\u001b[39m\u001b[38;5;241m.\u001b[39mindex, copy\u001b[38;5;241m=\u001b[39m\u001b[38;5;28;01mTrue\u001b[39;00m, allow_2d\u001b[38;5;241m=\u001b[39m\u001b[38;5;28;01mTrue\u001b[39;00m)\n\u001b[1;32m   5268\u001b[0m \u001b[38;5;28;01mif\u001b[39;00m (\n\u001b[1;32m   5269\u001b[0m     \u001b[38;5;28misinstance\u001b[39m(value, Index)\n\u001b[1;32m   5270\u001b[0m     \u001b[38;5;129;01mand\u001b[39;00m value\u001b[38;5;241m.\u001b[39mdtype \u001b[38;5;241m==\u001b[39m \u001b[38;5;124m\"\u001b[39m\u001b[38;5;124mobject\u001b[39m\u001b[38;5;124m\"\u001b[39m\n\u001b[0;32m   (...)\u001b[0m\n\u001b[1;32m   5273\u001b[0m     \u001b[38;5;66;03m# TODO: Remove kludge in sanitize_array for string mode when enforcing\u001b[39;00m\n\u001b[1;32m   5274\u001b[0m     \u001b[38;5;66;03m# this deprecation\u001b[39;00m\n",
      "File \u001b[0;32m~/anaconda3/lib/python3.12/site-packages/pandas/core/common.py:573\u001b[0m, in \u001b[0;36mrequire_length_match\u001b[0;34m(data, index)\u001b[0m\n\u001b[1;32m    569\u001b[0m \u001b[38;5;250m\u001b[39m\u001b[38;5;124;03m\"\"\"\u001b[39;00m\n\u001b[1;32m    570\u001b[0m \u001b[38;5;124;03mCheck the length of data matches the length of the index.\u001b[39;00m\n\u001b[1;32m    571\u001b[0m \u001b[38;5;124;03m\"\"\"\u001b[39;00m\n\u001b[1;32m    572\u001b[0m \u001b[38;5;28;01mif\u001b[39;00m \u001b[38;5;28mlen\u001b[39m(data) \u001b[38;5;241m!=\u001b[39m \u001b[38;5;28mlen\u001b[39m(index):\n\u001b[0;32m--> 573\u001b[0m     \u001b[38;5;28;01mraise\u001b[39;00m \u001b[38;5;167;01mValueError\u001b[39;00m(\n\u001b[1;32m    574\u001b[0m         \u001b[38;5;124m\"\u001b[39m\u001b[38;5;124mLength of values \u001b[39m\u001b[38;5;124m\"\u001b[39m\n\u001b[1;32m    575\u001b[0m         \u001b[38;5;124mf\u001b[39m\u001b[38;5;124m\"\u001b[39m\u001b[38;5;124m(\u001b[39m\u001b[38;5;132;01m{\u001b[39;00m\u001b[38;5;28mlen\u001b[39m(data)\u001b[38;5;132;01m}\u001b[39;00m\u001b[38;5;124m) \u001b[39m\u001b[38;5;124m\"\u001b[39m\n\u001b[1;32m    576\u001b[0m         \u001b[38;5;124m\"\u001b[39m\u001b[38;5;124mdoes not match length of index \u001b[39m\u001b[38;5;124m\"\u001b[39m\n\u001b[1;32m    577\u001b[0m         \u001b[38;5;124mf\u001b[39m\u001b[38;5;124m\"\u001b[39m\u001b[38;5;124m(\u001b[39m\u001b[38;5;132;01m{\u001b[39;00m\u001b[38;5;28mlen\u001b[39m(index)\u001b[38;5;132;01m}\u001b[39;00m\u001b[38;5;124m)\u001b[39m\u001b[38;5;124m\"\u001b[39m\n\u001b[1;32m    578\u001b[0m     )\n",
      "\u001b[0;31mValueError\u001b[0m: Length of values (5) does not match length of index (6)"
     ]
    }
   ],
   "source": [
    "koyambed_market['coconut'] = [True, True, False, False, np.nan]"
   ]
  },
  {
   "cell_type": "code",
   "execution_count": null,
   "id": "d9c19ab6-8414-4e34-a19e-9041095fafd3",
   "metadata": {},
   "outputs": [],
   "source": [
    "koyambed_market"
   ]
  },
  {
   "cell_type": "code",
   "execution_count": null,
   "id": "a4b9c723-6f1c-43e0-bec9-972b68aa6036",
   "metadata": {},
   "outputs": [],
   "source": [
    "koyambed_market.isna().sum()"
   ]
  },
  {
   "cell_type": "code",
   "execution_count": null,
   "id": "33656f1d-e30c-4a0b-8045-90a0af362479",
   "metadata": {},
   "outputs": [],
   "source": [
    "koyambed_market.fillna(False, inplace= True)"
   ]
  },
  {
   "cell_type": "code",
   "execution_count": null,
   "id": "24ee5060-684f-43fc-97cc-9c83e0e382b1",
   "metadata": {},
   "outputs": [],
   "source": [
    "koyambed_market"
   ]
  },
  {
   "cell_type": "code",
   "execution_count": null,
   "id": "1ecbca38-e839-4ea4-897f-7ffede05afc4",
   "metadata": {},
   "outputs": [],
   "source": [
    "koyambed_market.dropna(axis=0)"
   ]
  },
  {
   "cell_type": "markdown",
   "id": "e0a0d4df-18f2-4570-8a57-2f630403ced0",
   "metadata": {},
   "source": [
    "### Apply lambda"
   ]
  },
  {
   "cell_type": "code",
   "execution_count": null,
   "id": "85c11cba-a142-4b12-a5ae-9f22fa3a80aa",
   "metadata": {},
   "outputs": [],
   "source": [
    "koyambed_market"
   ]
  },
  {
   "cell_type": "code",
   "execution_count": null,
   "id": "1218f02e-632d-436e-845a-b2dad4b13aab",
   "metadata": {},
   "outputs": [],
   "source": [
    "koyambed_market['max'] = koyambed_market['max'].apply(lambda x: x+5)"
   ]
  },
  {
   "cell_type": "markdown",
   "id": "f4a4ae32-4735-457f-ae8c-8ac09403d904",
   "metadata": {},
   "source": [
    "### data aggregating & grouping"
   ]
  },
  {
   "cell_type": "code",
   "execution_count": 32,
   "id": "8d373d0b-2745-488c-aabc-03032486edd5",
   "metadata": {},
   "outputs": [
    {
     "data": {
      "text/html": [
       "<div>\n",
       "<style scoped>\n",
       "    .dataframe tbody tr th:only-of-type {\n",
       "        vertical-align: middle;\n",
       "    }\n",
       "\n",
       "    .dataframe tbody tr th {\n",
       "        vertical-align: top;\n",
       "    }\n",
       "\n",
       "    .dataframe thead th {\n",
       "        text-align: right;\n",
       "    }\n",
       "</style>\n",
       "<table border=\"1\" class=\"dataframe\">\n",
       "  <thead>\n",
       "    <tr style=\"text-align: right;\">\n",
       "      <th></th>\n",
       "      <th>vegetables</th>\n",
       "      <th>color</th>\n",
       "      <th>unit</th>\n",
       "      <th>min</th>\n",
       "      <th>max</th>\n",
       "    </tr>\n",
       "  </thead>\n",
       "  <tbody>\n",
       "    <tr>\n",
       "      <th>a</th>\n",
       "      <td>beetroot</td>\n",
       "      <td>purple</td>\n",
       "      <td>1kg</td>\n",
       "      <td>25</td>\n",
       "      <td>40</td>\n",
       "    </tr>\n",
       "    <tr>\n",
       "      <th>b</th>\n",
       "      <td>carrot</td>\n",
       "      <td>orange</td>\n",
       "      <td>1kg</td>\n",
       "      <td>35</td>\n",
       "      <td>45</td>\n",
       "    </tr>\n",
       "    <tr>\n",
       "      <th>c</th>\n",
       "      <td>redchilli</td>\n",
       "      <td>red</td>\n",
       "      <td>1kg</td>\n",
       "      <td>33</td>\n",
       "      <td>90</td>\n",
       "    </tr>\n",
       "    <tr>\n",
       "      <th>d</th>\n",
       "      <td>beans</td>\n",
       "      <td>green</td>\n",
       "      <td>1kg</td>\n",
       "      <td>40</td>\n",
       "      <td>45</td>\n",
       "    </tr>\n",
       "    <tr>\n",
       "      <th>e</th>\n",
       "      <td>coconut</td>\n",
       "      <td>white</td>\n",
       "      <td>1piece</td>\n",
       "      <td>seventeen</td>\n",
       "      <td>38</td>\n",
       "    </tr>\n",
       "    <tr>\n",
       "      <th>f</th>\n",
       "      <td>poosanikai</td>\n",
       "      <td>yellow</td>\n",
       "      <td>1piece</td>\n",
       "      <td>10</td>\n",
       "      <td>30</td>\n",
       "    </tr>\n",
       "  </tbody>\n",
       "</table>\n",
       "</div>"
      ],
      "text/plain": [
       "   vegetables   color    unit        min  max\n",
       "a    beetroot  purple     1kg         25   40\n",
       "b      carrot  orange     1kg         35   45\n",
       "c   redchilli     red     1kg         33   90\n",
       "d       beans   green     1kg         40   45\n",
       "e     coconut   white  1piece  seventeen   38\n",
       "f  poosanikai  yellow  1piece         10   30"
      ]
     },
     "execution_count": 32,
     "metadata": {},
     "output_type": "execute_result"
    }
   ],
   "source": [
    "koyambed_market"
   ]
  },
  {
   "cell_type": "code",
   "execution_count": null,
   "id": "7933c04b-9601-4f69-afb4-169566a9acc4",
   "metadata": {},
   "outputs": [],
   "source": [
    "koyambed_market['max'].count()"
   ]
  },
  {
   "cell_type": "code",
   "execution_count": null,
   "id": "1eb5c422-a933-4698-8e69-ff6df18df23f",
   "metadata": {},
   "outputs": [],
   "source": [
    "koyambed_market.groupby(['unit','min','max']).sum()"
   ]
  },
  {
   "cell_type": "markdown",
   "id": "fbf07176-f7c8-4844-a394-0726ab811de4",
   "metadata": {},
   "source": [
    "### Join dataframes"
   ]
  },
  {
   "cell_type": "code",
   "execution_count": 33,
   "id": "17840d81-14e0-48c6-8525-61149b63f11d",
   "metadata": {},
   "outputs": [
    {
     "data": {
      "text/html": [
       "<div>\n",
       "<style scoped>\n",
       "    .dataframe tbody tr th:only-of-type {\n",
       "        vertical-align: middle;\n",
       "    }\n",
       "\n",
       "    .dataframe tbody tr th {\n",
       "        vertical-align: top;\n",
       "    }\n",
       "\n",
       "    .dataframe thead th {\n",
       "        text-align: right;\n",
       "    }\n",
       "</style>\n",
       "<table border=\"1\" class=\"dataframe\">\n",
       "  <thead>\n",
       "    <tr style=\"text-align: right;\">\n",
       "      <th></th>\n",
       "      <th>vegetables</th>\n",
       "      <th>color</th>\n",
       "      <th>unit</th>\n",
       "      <th>min</th>\n",
       "      <th>max</th>\n",
       "    </tr>\n",
       "  </thead>\n",
       "  <tbody>\n",
       "    <tr>\n",
       "      <th>a</th>\n",
       "      <td>beetroot</td>\n",
       "      <td>purple</td>\n",
       "      <td>1kg</td>\n",
       "      <td>25</td>\n",
       "      <td>40</td>\n",
       "    </tr>\n",
       "    <tr>\n",
       "      <th>b</th>\n",
       "      <td>carrot</td>\n",
       "      <td>orange</td>\n",
       "      <td>1kg</td>\n",
       "      <td>35</td>\n",
       "      <td>45</td>\n",
       "    </tr>\n",
       "    <tr>\n",
       "      <th>c</th>\n",
       "      <td>redchilli</td>\n",
       "      <td>red</td>\n",
       "      <td>1kg</td>\n",
       "      <td>33</td>\n",
       "      <td>90</td>\n",
       "    </tr>\n",
       "    <tr>\n",
       "      <th>d</th>\n",
       "      <td>beans</td>\n",
       "      <td>green</td>\n",
       "      <td>1kg</td>\n",
       "      <td>40</td>\n",
       "      <td>45</td>\n",
       "    </tr>\n",
       "    <tr>\n",
       "      <th>e</th>\n",
       "      <td>coconut</td>\n",
       "      <td>white</td>\n",
       "      <td>1piece</td>\n",
       "      <td>seventeen</td>\n",
       "      <td>38</td>\n",
       "    </tr>\n",
       "    <tr>\n",
       "      <th>f</th>\n",
       "      <td>poosanikai</td>\n",
       "      <td>yellow</td>\n",
       "      <td>1piece</td>\n",
       "      <td>10</td>\n",
       "      <td>30</td>\n",
       "    </tr>\n",
       "  </tbody>\n",
       "</table>\n",
       "</div>"
      ],
      "text/plain": [
       "   vegetables   color    unit        min  max\n",
       "a    beetroot  purple     1kg         25   40\n",
       "b      carrot  orange     1kg         35   45\n",
       "c   redchilli     red     1kg         33   90\n",
       "d       beans   green     1kg         40   45\n",
       "e     coconut   white  1piece  seventeen   38\n",
       "f  poosanikai  yellow  1piece         10   30"
      ]
     },
     "execution_count": 33,
     "metadata": {},
     "output_type": "execute_result"
    }
   ],
   "source": [
    "koyambed_market"
   ]
  },
  {
   "cell_type": "code",
   "execution_count": 36,
   "id": "5a7c768a-5e00-462e-9d42-2179694a341c",
   "metadata": {},
   "outputs": [],
   "source": [
    "thiruvanmiyur_market = koyambed_market"
   ]
  },
  {
   "cell_type": "code",
   "execution_count": 37,
   "id": "80b3b39a-b200-4625-92f3-3da0b41fad4b",
   "metadata": {},
   "outputs": [
    {
     "data": {
      "text/html": [
       "<div>\n",
       "<style scoped>\n",
       "    .dataframe tbody tr th:only-of-type {\n",
       "        vertical-align: middle;\n",
       "    }\n",
       "\n",
       "    .dataframe tbody tr th {\n",
       "        vertical-align: top;\n",
       "    }\n",
       "\n",
       "    .dataframe thead th {\n",
       "        text-align: right;\n",
       "    }\n",
       "</style>\n",
       "<table border=\"1\" class=\"dataframe\">\n",
       "  <thead>\n",
       "    <tr style=\"text-align: right;\">\n",
       "      <th></th>\n",
       "      <th>vegetables</th>\n",
       "      <th>color</th>\n",
       "      <th>unit</th>\n",
       "      <th>min</th>\n",
       "      <th>max</th>\n",
       "    </tr>\n",
       "  </thead>\n",
       "  <tbody>\n",
       "    <tr>\n",
       "      <th>a</th>\n",
       "      <td>beetroot</td>\n",
       "      <td>purple</td>\n",
       "      <td>1kg</td>\n",
       "      <td>25</td>\n",
       "      <td>40</td>\n",
       "    </tr>\n",
       "    <tr>\n",
       "      <th>b</th>\n",
       "      <td>carrot</td>\n",
       "      <td>orange</td>\n",
       "      <td>1kg</td>\n",
       "      <td>35</td>\n",
       "      <td>45</td>\n",
       "    </tr>\n",
       "    <tr>\n",
       "      <th>c</th>\n",
       "      <td>redchilli</td>\n",
       "      <td>red</td>\n",
       "      <td>1kg</td>\n",
       "      <td>33</td>\n",
       "      <td>90</td>\n",
       "    </tr>\n",
       "    <tr>\n",
       "      <th>d</th>\n",
       "      <td>beans</td>\n",
       "      <td>green</td>\n",
       "      <td>1kg</td>\n",
       "      <td>40</td>\n",
       "      <td>45</td>\n",
       "    </tr>\n",
       "    <tr>\n",
       "      <th>e</th>\n",
       "      <td>coconut</td>\n",
       "      <td>white</td>\n",
       "      <td>1piece</td>\n",
       "      <td>seventeen</td>\n",
       "      <td>38</td>\n",
       "    </tr>\n",
       "    <tr>\n",
       "      <th>f</th>\n",
       "      <td>poosanikai</td>\n",
       "      <td>yellow</td>\n",
       "      <td>1piece</td>\n",
       "      <td>10</td>\n",
       "      <td>30</td>\n",
       "    </tr>\n",
       "  </tbody>\n",
       "</table>\n",
       "</div>"
      ],
      "text/plain": [
       "   vegetables   color    unit        min  max\n",
       "a    beetroot  purple     1kg         25   40\n",
       "b      carrot  orange     1kg         35   45\n",
       "c   redchilli     red     1kg         33   90\n",
       "d       beans   green     1kg         40   45\n",
       "e     coconut   white  1piece  seventeen   38\n",
       "f  poosanikai  yellow  1piece         10   30"
      ]
     },
     "execution_count": 37,
     "metadata": {},
     "output_type": "execute_result"
    }
   ],
   "source": [
    "thiruvanmiyur_market"
   ]
  },
  {
   "cell_type": "code",
   "execution_count": 38,
   "id": "4c5616b8-a5bb-441d-a7d3-6f9659b75e7e",
   "metadata": {},
   "outputs": [
    {
     "data": {
      "text/html": [
       "<div>\n",
       "<style scoped>\n",
       "    .dataframe tbody tr th:only-of-type {\n",
       "        vertical-align: middle;\n",
       "    }\n",
       "\n",
       "    .dataframe tbody tr th {\n",
       "        vertical-align: top;\n",
       "    }\n",
       "\n",
       "    .dataframe thead th {\n",
       "        text-align: right;\n",
       "    }\n",
       "</style>\n",
       "<table border=\"1\" class=\"dataframe\">\n",
       "  <thead>\n",
       "    <tr style=\"text-align: right;\">\n",
       "      <th></th>\n",
       "      <th>vegetables</th>\n",
       "      <th>color</th>\n",
       "      <th>unit</th>\n",
       "      <th>min</th>\n",
       "      <th>max</th>\n",
       "      <th>vegetables</th>\n",
       "      <th>color</th>\n",
       "      <th>unit</th>\n",
       "      <th>min</th>\n",
       "      <th>max</th>\n",
       "    </tr>\n",
       "  </thead>\n",
       "  <tbody>\n",
       "    <tr>\n",
       "      <th>a</th>\n",
       "      <td>beetroot</td>\n",
       "      <td>purple</td>\n",
       "      <td>1kg</td>\n",
       "      <td>25</td>\n",
       "      <td>40</td>\n",
       "      <td>beetroot</td>\n",
       "      <td>purple</td>\n",
       "      <td>1kg</td>\n",
       "      <td>25</td>\n",
       "      <td>40</td>\n",
       "    </tr>\n",
       "    <tr>\n",
       "      <th>b</th>\n",
       "      <td>carrot</td>\n",
       "      <td>orange</td>\n",
       "      <td>1kg</td>\n",
       "      <td>35</td>\n",
       "      <td>45</td>\n",
       "      <td>carrot</td>\n",
       "      <td>orange</td>\n",
       "      <td>1kg</td>\n",
       "      <td>35</td>\n",
       "      <td>45</td>\n",
       "    </tr>\n",
       "    <tr>\n",
       "      <th>c</th>\n",
       "      <td>redchilli</td>\n",
       "      <td>red</td>\n",
       "      <td>1kg</td>\n",
       "      <td>33</td>\n",
       "      <td>90</td>\n",
       "      <td>redchilli</td>\n",
       "      <td>red</td>\n",
       "      <td>1kg</td>\n",
       "      <td>33</td>\n",
       "      <td>90</td>\n",
       "    </tr>\n",
       "    <tr>\n",
       "      <th>d</th>\n",
       "      <td>beans</td>\n",
       "      <td>green</td>\n",
       "      <td>1kg</td>\n",
       "      <td>40</td>\n",
       "      <td>45</td>\n",
       "      <td>beans</td>\n",
       "      <td>green</td>\n",
       "      <td>1kg</td>\n",
       "      <td>40</td>\n",
       "      <td>45</td>\n",
       "    </tr>\n",
       "    <tr>\n",
       "      <th>e</th>\n",
       "      <td>coconut</td>\n",
       "      <td>white</td>\n",
       "      <td>1piece</td>\n",
       "      <td>seventeen</td>\n",
       "      <td>38</td>\n",
       "      <td>coconut</td>\n",
       "      <td>white</td>\n",
       "      <td>1piece</td>\n",
       "      <td>seventeen</td>\n",
       "      <td>38</td>\n",
       "    </tr>\n",
       "    <tr>\n",
       "      <th>f</th>\n",
       "      <td>poosanikai</td>\n",
       "      <td>yellow</td>\n",
       "      <td>1piece</td>\n",
       "      <td>10</td>\n",
       "      <td>30</td>\n",
       "      <td>poosanikai</td>\n",
       "      <td>yellow</td>\n",
       "      <td>1piece</td>\n",
       "      <td>10</td>\n",
       "      <td>30</td>\n",
       "    </tr>\n",
       "  </tbody>\n",
       "</table>\n",
       "</div>"
      ],
      "text/plain": [
       "   vegetables   color    unit        min  max  vegetables   color    unit  \\\n",
       "a    beetroot  purple     1kg         25   40    beetroot  purple     1kg   \n",
       "b      carrot  orange     1kg         35   45      carrot  orange     1kg   \n",
       "c   redchilli     red     1kg         33   90   redchilli     red     1kg   \n",
       "d       beans   green     1kg         40   45       beans   green     1kg   \n",
       "e     coconut   white  1piece  seventeen   38     coconut   white  1piece   \n",
       "f  poosanikai  yellow  1piece         10   30  poosanikai  yellow  1piece   \n",
       "\n",
       "         min  max  \n",
       "a         25   40  \n",
       "b         35   45  \n",
       "c         33   90  \n",
       "d         40   45  \n",
       "e  seventeen   38  \n",
       "f         10   30  "
      ]
     },
     "execution_count": 38,
     "metadata": {},
     "output_type": "execute_result"
    }
   ],
   "source": [
    "pd.concat([koyambed_market, thiruvanmiyur_market], axis=1)"
   ]
  },
  {
   "cell_type": "code",
   "execution_count": 43,
   "id": "3dae8d01-8b80-4515-b6f8-d0db0c136c38",
   "metadata": {},
   "outputs": [
    {
     "data": {
      "text/html": [
       "<div>\n",
       "<style scoped>\n",
       "    .dataframe tbody tr th:only-of-type {\n",
       "        vertical-align: middle;\n",
       "    }\n",
       "\n",
       "    .dataframe tbody tr th {\n",
       "        vertical-align: top;\n",
       "    }\n",
       "\n",
       "    .dataframe thead th {\n",
       "        text-align: right;\n",
       "    }\n",
       "</style>\n",
       "<table border=\"1\" class=\"dataframe\">\n",
       "  <thead>\n",
       "    <tr style=\"text-align: right;\">\n",
       "      <th></th>\n",
       "      <th>vegetables</th>\n",
       "      <th>color_x</th>\n",
       "      <th>unit_x</th>\n",
       "      <th>min_x</th>\n",
       "      <th>max_x</th>\n",
       "      <th>color_y</th>\n",
       "      <th>unit_y</th>\n",
       "      <th>min_y</th>\n",
       "      <th>max_y</th>\n",
       "    </tr>\n",
       "  </thead>\n",
       "  <tbody>\n",
       "    <tr>\n",
       "      <th>0</th>\n",
       "      <td>beetroot</td>\n",
       "      <td>purple</td>\n",
       "      <td>1kg</td>\n",
       "      <td>25</td>\n",
       "      <td>40</td>\n",
       "      <td>purple</td>\n",
       "      <td>1kg</td>\n",
       "      <td>25</td>\n",
       "      <td>40</td>\n",
       "    </tr>\n",
       "    <tr>\n",
       "      <th>1</th>\n",
       "      <td>carrot</td>\n",
       "      <td>orange</td>\n",
       "      <td>1kg</td>\n",
       "      <td>35</td>\n",
       "      <td>45</td>\n",
       "      <td>orange</td>\n",
       "      <td>1kg</td>\n",
       "      <td>35</td>\n",
       "      <td>45</td>\n",
       "    </tr>\n",
       "    <tr>\n",
       "      <th>2</th>\n",
       "      <td>redchilli</td>\n",
       "      <td>red</td>\n",
       "      <td>1kg</td>\n",
       "      <td>33</td>\n",
       "      <td>90</td>\n",
       "      <td>red</td>\n",
       "      <td>1kg</td>\n",
       "      <td>33</td>\n",
       "      <td>90</td>\n",
       "    </tr>\n",
       "    <tr>\n",
       "      <th>3</th>\n",
       "      <td>beans</td>\n",
       "      <td>green</td>\n",
       "      <td>1kg</td>\n",
       "      <td>40</td>\n",
       "      <td>45</td>\n",
       "      <td>green</td>\n",
       "      <td>1kg</td>\n",
       "      <td>40</td>\n",
       "      <td>45</td>\n",
       "    </tr>\n",
       "    <tr>\n",
       "      <th>4</th>\n",
       "      <td>coconut</td>\n",
       "      <td>white</td>\n",
       "      <td>1piece</td>\n",
       "      <td>seventeen</td>\n",
       "      <td>38</td>\n",
       "      <td>white</td>\n",
       "      <td>1piece</td>\n",
       "      <td>seventeen</td>\n",
       "      <td>38</td>\n",
       "    </tr>\n",
       "    <tr>\n",
       "      <th>5</th>\n",
       "      <td>poosanikai</td>\n",
       "      <td>yellow</td>\n",
       "      <td>1piece</td>\n",
       "      <td>10</td>\n",
       "      <td>30</td>\n",
       "      <td>yellow</td>\n",
       "      <td>1piece</td>\n",
       "      <td>10</td>\n",
       "      <td>30</td>\n",
       "    </tr>\n",
       "  </tbody>\n",
       "</table>\n",
       "</div>"
      ],
      "text/plain": [
       "   vegetables color_x  unit_x      min_x  max_x color_y  unit_y      min_y  \\\n",
       "0    beetroot  purple     1kg         25     40  purple     1kg         25   \n",
       "1      carrot  orange     1kg         35     45  orange     1kg         35   \n",
       "2   redchilli     red     1kg         33     90     red     1kg         33   \n",
       "3       beans   green     1kg         40     45   green     1kg         40   \n",
       "4     coconut   white  1piece  seventeen     38   white  1piece  seventeen   \n",
       "5  poosanikai  yellow  1piece         10     30  yellow  1piece         10   \n",
       "\n",
       "   max_y  \n",
       "0     40  \n",
       "1     45  \n",
       "2     90  \n",
       "3     45  \n",
       "4     38  \n",
       "5     30  "
      ]
     },
     "execution_count": 43,
     "metadata": {},
     "output_type": "execute_result"
    }
   ],
   "source": [
    "# on -spesific the table name & how is joint like a sql joint's\n",
    "pd.merge(koyambed_market, thiruvanmiyur_market, on='vegetables', how='right') "
   ]
  },
  {
   "cell_type": "markdown",
   "id": "4c852a4e-1793-4c62-a887-1cbe46a5ed6a",
   "metadata": {},
   "source": [
    "### read from different source"
   ]
  },
  {
   "cell_type": "code",
   "execution_count": null,
   "id": "468b561b-dd57-4107-9580-48fd925b271a",
   "metadata": {},
   "outputs": [],
   "source": [
    "pd.read_csv(\"market.csv\")"
   ]
  },
  {
   "cell_type": "code",
   "execution_count": null,
   "id": "55999317-d19b-4cc7-a1b0-4c8d713fb1a8",
   "metadata": {},
   "outputs": [],
   "source": []
  },
  {
   "cell_type": "code",
   "execution_count": null,
   "id": "54354932-d99c-436a-a488-25dff367e620",
   "metadata": {},
   "outputs": [],
   "source": []
  },
  {
   "cell_type": "code",
   "execution_count": null,
   "id": "1e03b7e9-4b07-49ef-8b4a-131e3d71f603",
   "metadata": {},
   "outputs": [],
   "source": []
  }
 ],
 "metadata": {
  "kernelspec": {
   "display_name": "Python 3 (ipykernel)",
   "language": "python",
   "name": "python3"
  },
  "language_info": {
   "codemirror_mode": {
    "name": "ipython",
    "version": 3
   },
   "file_extension": ".py",
   "mimetype": "text/x-python",
   "name": "python",
   "nbconvert_exporter": "python",
   "pygments_lexer": "ipython3",
   "version": "3.12.7"
  }
 },
 "nbformat": 4,
 "nbformat_minor": 5
}
