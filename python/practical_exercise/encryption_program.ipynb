{
 "cells": [
  {
   "cell_type": "code",
   "execution_count": 1,
   "metadata": {},
   "outputs": [],
   "source": [
    "import random\n",
    "import string"
   ]
  },
  {
   "cell_type": "code",
   "execution_count": 11,
   "metadata": {},
   "outputs": [],
   "source": [
    "chars = \" \" +string.ascii_letters + string.digits + string.punctuation\n",
    "chars = list(chars)\n",
    "key =  chars.copy()"
   ]
  },
  {
   "cell_type": "code",
   "execution_count": 12,
   "metadata": {},
   "outputs": [],
   "source": [
    "random.shuffle(key)"
   ]
  },
  {
   "cell_type": "code",
   "execution_count": 13,
   "metadata": {},
   "outputs": [
    {
     "name": "stdout",
     "output_type": "stream",
     "text": [
      "chars: [' ', 'a', 'b', 'c', 'd', 'e', 'f', 'g', 'h', 'i', 'j', 'k', 'l', 'm', 'n', 'o', 'p', 'q', 'r', 's', 't', 'u', 'v', 'w', 'x', 'y', 'z', 'A', 'B', 'C', 'D', 'E', 'F', 'G', 'H', 'I', 'J', 'K', 'L', 'M', 'N', 'O', 'P', 'Q', 'R', 'S', 'T', 'U', 'V', 'W', 'X', 'Y', 'Z', '0', '1', '2', '3', '4', '5', '6', '7', '8', '9', '!', '\"', '#', '$', '%', '&', \"'\", '(', ')', '*', '+', ',', '-', '.', '/', ':', ';', '<', '=', '>', '?', '@', '[', '\\\\', ']', '^', '_', '`', '{', '|', '}', '~']\n",
      "key: ['N', 'd', '7', '\"', '&', '*', 'M', 'R', ')', '|', '!', 'P', 'v', ',', 'V', '+', 'b', '6', 's', \"'\", 'Q', 'w', 'I', 'F', '%', '4', 'x', 'A', 'S', '<', '@', 'u', '>', '2', '_', '1', 'D', 'p', 'G', 't', ':', '.', 'j', '}', '8', 'i', 'B', 'J', 'z', 'E', ']', '5', ';', 'q', '0', 'y', 'H', '[', '-', 'a', '\\\\', '$', 'k', '{', '(', 'K', ' ', '9', 'n', 'W', 'C', 'T', 'Z', 'L', '=', 'X', 'f', 'm', 'e', '`', 'g', '~', 'O', '3', '^', 'Y', 'l', 'o', 'c', '/', 'U', '?', 'h', 'r', '#']\n"
     ]
    }
   ],
   "source": [
    "print(f'chars: {chars}')\n",
    "print(f'key: {key}')"
   ]
  },
  {
   "cell_type": "code",
   "execution_count": 15,
   "metadata": {},
   "outputs": [
    {
     "name": "stdout",
     "output_type": "stream",
     "text": [
      "plain text: ji luffy\n",
      "cipher text: !|NvwMM4\n"
     ]
    }
   ],
   "source": [
    "# Encrypt\n",
    "\n",
    "plain_text = input('Enter message to encrypt: ')\n",
    "cipher_text = ''\n",
    "\n",
    "for letter in plain_text:\n",
    "    index = chars.index(letter)\n",
    "    cipher_text += key[index]\n",
    "\n",
    "print(f'original text: {plain_text}')\n",
    "print(f'encrypted text: {cipher_text}')"
   ]
  },
  {
   "cell_type": "code",
   "execution_count": 16,
   "metadata": {},
   "outputs": [
    {
     "name": "stdout",
     "output_type": "stream",
     "text": [
      "cipher text: !|NvwMM4\n",
      "plain text: ji luffy\n"
     ]
    }
   ],
   "source": [
    "#decrypt\n",
    "\n",
    "cipher_text = input('Enter message to decrypt: ')\n",
    "plain_text = ''\n",
    "\n",
    "for letter in cipher_text:\n",
    "    index = key.index(letter)\n",
    "    plain_text += chars[index]\n",
    "\n",
    "print(f'cipher text: {cipher_text}')\n",
    "print(f'plain text: {plain_text}')"
   ]
  }
 ],
 "metadata": {
  "kernelspec": {
   "display_name": "base",
   "language": "python",
   "name": "python3"
  },
  "language_info": {
   "codemirror_mode": {
    "name": "ipython",
    "version": 3
   },
   "file_extension": ".py",
   "mimetype": "text/x-python",
   "name": "python",
   "nbconvert_exporter": "python",
   "pygments_lexer": "ipython3",
   "version": "3.12.2"
  }
 },
 "nbformat": 4,
 "nbformat_minor": 2
}
