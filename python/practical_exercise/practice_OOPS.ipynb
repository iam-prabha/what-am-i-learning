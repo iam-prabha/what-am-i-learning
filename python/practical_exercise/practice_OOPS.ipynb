{
 "cells": [
  {
   "cell_type": "code",
   "execution_count": 19,
   "id": "6d83b309-2e83-4826-a15b-c299a56c00d1",
   "metadata": {},
   "outputs": [],
   "source": [
    "class Car:\n",
    "    def __init__(self,model,year,color,for_sale):\n",
    "        self.model = model\n",
    "        self.year = year\n",
    "        self.color = color\n",
    "        self.for_sale = for_sale\n",
    "\n",
    "    def drive(self):\n",
    "        print(f'You are driving the {self.model}')\n",
    "\n",
    "    def stop(self):\n",
    "        print(f'You have stopped the {self.model}')"
   ]
  },
  {
   "cell_type": "code",
   "execution_count": 20,
   "id": "c4e853a2",
   "metadata": {},
   "outputs": [],
   "source": [
    "car1 = Car(\"Mustang\", 2015, \"Red\", True)\n",
    "car2 = Car(\"Camaro\", 2018, \"Blue\", False)"
   ]
  },
  {
   "cell_type": "code",
   "execution_count": 22,
   "id": "e6878a22",
   "metadata": {},
   "outputs": [
    {
     "name": "stdout",
     "output_type": "stream",
     "text": [
      "Camaro\n",
      "2018\n",
      "Blue\n",
      "False\n",
      "You are driving the Camaro\n",
      "You have stopped the Camaro\n"
     ]
    }
   ],
   "source": [
    "print(car2.model)\n",
    "print(car2.year)\n",
    "print(car2.color)\n",
    "print(car2.for_sale)\n",
    "Car.drive(car2)\n",
    "Car.stop(car2)"
   ]
  },
  {
   "cell_type": "code",
   "execution_count": 25,
   "id": "5b0b8467",
   "metadata": {},
   "outputs": [
    {
     "name": "stdout",
     "output_type": "stream",
     "text": [
      "Inheritance\n",
      "Buddy\n",
      "3\n",
      "Buddy is eating\n",
      "Buddy is barking\n"
     ]
    }
   ],
   "source": [
    "# inheritance -allows us to define a class that inherits all the methods and properties from another class\n",
    "class Animal:\n",
    "    def __init__(self, name, age):\n",
    "        self.name = name\n",
    "        self.age = age\n",
    "\n",
    "    def eat(self):\n",
    "        print(f'{self.name} is eating')\n",
    "\n",
    "class Dog(Animal):\n",
    "    def bark(self):\n",
    "        print(f'{self.name} is barking')\n",
    "\n",
    "class Cat(Animal):\n",
    "    def meow(self):\n",
    "        print(f'{self.name} is meowing')\n",
    "\n",
    "print('Inheritance')\n",
    "dog = Dog('Buddy', 3)\n",
    "print(f'{dog1.name}')\n",
    "print(f'{dog1.age}')\n",
    "dog.eat()\n",
    "dog.bark()"
   ]
  },
  {
   "cell_type": "code",
   "execution_count": 44,
   "id": "4646d190",
   "metadata": {},
   "outputs": [
    {
     "name": "stdout",
     "output_type": "stream",
     "text": [
      "The student name is John and his age is 20 and his grade is A\n",
      "John is walking\n"
     ]
    }
   ],
   "source": [
    "# super() - function that will make the child class inherit all the methods and properties from its parent\n",
    "class Person:\n",
    "    def __init__(self, name, age):\n",
    "        self.name = name\n",
    "        self.age = age\n",
    "\n",
    "    def walk(self):\n",
    "        print(f'{self.name} is walking')\n",
    "\n",
    "class Student(Person):\n",
    "    def __init__(self, name, age, grade):\n",
    "        super().__init__(name, age)\n",
    "        self.grade = grade\n",
    "\n",
    "    def study(self):\n",
    "        print(f'{self.name} is studying')\n",
    "\n",
    "student = Student('John', 20, 'A')\n",
    "print(f'The student name is {student.name} and his age is {student.age} and his grade is {student.grade}')\n",
    "student.walk()"
   ]
  },
  {
   "cell_type": "code",
   "execution_count": null,
   "id": "b9ae028f",
   "metadata": {},
   "outputs": [],
   "source": [
    "# property - allows us to define a method that can be accessed like an attribute\n",
    "\n",
    "class Rectangle:\n",
    "    def __init__(self, width, height):\n",
    "        self.width = width\n",
    "        self.height = height\n",
    "\n",
    "    @property\n",
    "    def area(self):\n",
    "        return self.width * self.height\n",
    "\n",
    "    @property\n",
    "    def perimeter(self):\n",
    "        return 2 * (self.width + self.height)\n",
    "\n",
    "    @property\n",
    "    def dimensions(self):\n",
    "        return (self.width, self.height)\n",
    "\n",
    "    @dimensions.setter\n",
    "    def dimensions(self, size):\n",
    "        self.width, self.height = size\n",
    "\n",
    "    @dimensions.deleter\n",
    "    def dimensions(self):\n",
    "        self.width = None\n",
    "        self.height = None"
   ]
  },
  {
   "cell_type": "code",
   "execution_count": 43,
   "id": "643dbddf",
   "metadata": {},
   "outputs": [
    {
     "name": "stdout",
     "output_type": "stream",
     "text": [
      "Something is happening before the function is called\n",
      "Hello!\n",
      "Something is happening after the function is called\n"
     ]
    }
   ],
   "source": [
    "# Decorators - allows us to add extra functionality to an existing function\n",
    "def my_decorator(func):\n",
    "    def wrapper():\n",
    "        print('Something is happening before the function is called')\n",
    "        func()\n",
    "        print('Something is happening after the function is called')\n",
    "    return wrapper\n",
    "\n",
    "@my_decorator\n",
    "def say_hello():\n",
    "    print('Hello!')\n",
    "\n",
    "say_hello()\n"
   ]
  }
 ],
 "metadata": {
  "kernelspec": {
   "display_name": "base",
   "language": "python",
   "name": "python3"
  },
  "language_info": {
   "codemirror_mode": {
    "name": "ipython",
    "version": 3
   },
   "file_extension": ".py",
   "mimetype": "text/x-python",
   "name": "python",
   "nbconvert_exporter": "python",
   "pygments_lexer": "ipython3",
   "version": "3.12.2"
  }
 },
 "nbformat": 4,
 "nbformat_minor": 5
}
