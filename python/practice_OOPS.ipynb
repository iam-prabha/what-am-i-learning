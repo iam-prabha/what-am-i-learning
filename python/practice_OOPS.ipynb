{
 "cells": [
  {
   "cell_type": "code",
   "execution_count": 1,
   "id": "6d83b309-2e83-4826-a15b-c299a56c00d1",
   "metadata": {},
   "outputs": [],
   "source": [
    "class Student:\n",
    "    def __init__(self,name,age):\n",
    "        self.name = name\n",
    "        self.age = age"
   ]
  },
  {
   "cell_type": "code",
   "execution_count": 2,
   "id": "54d451a0-eafa-49e4-9da5-215e8673e73e",
   "metadata": {},
   "outputs": [],
   "source": [
    "student_detail = Student('prabha',22)"
   ]
  },
  {
   "cell_type": "code",
   "execution_count": 3,
   "id": "a869cb63-5d53-4450-bd53-b2ddfdab7dee",
   "metadata": {},
   "outputs": [
    {
     "name": "stdout",
     "output_type": "stream",
     "text": [
      "student name:  prabha\n",
      "student age:  22\n"
     ]
    }
   ],
   "source": [
    "print(\"student name: \",student_detail.name)\n",
    "print(\"student age: \", student_detail.age)"
   ]
  },
  {
   "cell_type": "code",
   "execution_count": 4,
   "id": "824fe556-8f27-4c1a-80e1-696c040877a0",
   "metadata": {},
   "outputs": [
    {
     "name": "stdout",
     "output_type": "stream",
     "text": [
      "This is the area of Circle: 78.54\n",
      "This is the area of Square: 16.00\n"
     ]
    }
   ],
   "source": [
    "from abc import ABC, abstractmethod\n",
    "import math\n",
    "\n",
    "class Shape(ABC):\n",
    "    def __init__(self, name):\n",
    "        self.name = name\n",
    "        \n",
    "    @abstractmethod\n",
    "    def area(self):\n",
    "        pass  # Abstract method, must be implemented by subclasses\n",
    "        \n",
    "    def result(self):\n",
    "        return f'This is the area of {self.name}: {self.area():.2f}'\n",
    "        \n",
    "class Circle(Shape):\n",
    "    def __init__(self, radius):\n",
    "        super().__init__('Circle')  # Call parent constructor\n",
    "        self.radius = radius\n",
    "    \n",
    "    def area(self):\n",
    "        return math.pi * self.radius ** 2  # πr²\n",
    "\n",
    "class Square(Shape):\n",
    "    def __init__(self, side):\n",
    "        super().__init__('Square')  # Call parent constructor\n",
    "        self.side = side\n",
    "\n",
    "    def area(self):\n",
    "        return self.side ** 2  # s²\n",
    "\n",
    "# Creating instances\n",
    "circle = Circle(5)\n",
    "square = Square(4)\n",
    "\n",
    "# Displaying results\n",
    "print(circle.result()) \n",
    "print(square.result())  "
   ]
  },
  {
   "cell_type": "code",
   "execution_count": 5,
   "id": "c480311e-2d9d-4fc8-a7e0-eedeca50332d",
   "metadata": {},
   "outputs": [],
   "source": [
    "class Rectangle:\n",
    "    \n",
    "    def __init__(self,length,width):\n",
    "        self.__length = length\n",
    "        self.__width = width\n",
    "\n",
    "    @property\n",
    "    def length(self):\n",
    "        \"\"\"Getter for length\"\"\"\n",
    "        return self.__length\n",
    "\n",
    "    @length.setter\n",
    "    def length(self,value):\n",
    "        \"\"\"setter for length \"\"\"\n",
    "        if value <= 0:\n",
    "            raise ValueError(f'value must be greater than 0')\n",
    "        else:\n",
    "            self.__length = value\n",
    "    \n",
    "    @property\n",
    "    def width(self):\n",
    "        \"\"\" Getter for width \"\"\"\n",
    "        return self.__width\n",
    "        \n",
    "    @width.setter\n",
    "    def width(self,value):\n",
    "        \"\"\"setter for width \"\"\"\n",
    "        if value <= 0 :\n",
    "            raise ValueError(f\"value must be greater than 0\")\n",
    "        else:\n",
    "            self.__width = value\n",
    "   "
   ]
  },
  {
   "cell_type": "code",
   "execution_count": 6,
   "id": "58cea4d3-b23e-49ea-bba6-f7b6681683ad",
   "metadata": {},
   "outputs": [
    {
     "name": "stdout",
     "output_type": "stream",
     "text": [
      "5\n"
     ]
    }
   ],
   "source": [
    "rect = Rectangle(10,5)\n",
    "print(rect.width)"
   ]
  },
  {
   "cell_type": "code",
   "execution_count": 7,
   "id": "8732f52f-9f5c-4221-9e08-c8e4d56d15e1",
   "metadata": {},
   "outputs": [],
   "source": [
    "rect.length = 20+100"
   ]
  },
  {
   "cell_type": "code",
   "execution_count": 8,
   "id": "aadf4e3d-a892-4224-b3c5-5f2a8ae98a18",
   "metadata": {},
   "outputs": [
    {
     "name": "stdout",
     "output_type": "stream",
     "text": [
      "120\n"
     ]
    }
   ],
   "source": [
    "print(rect.length)"
   ]
  },
  {
   "cell_type": "code",
   "execution_count": null,
   "id": "fd2db029-baab-48d5-af97-363eb2a6bd56",
   "metadata": {},
   "outputs": [],
   "source": []
  }
 ],
 "metadata": {
  "kernelspec": {
   "display_name": "Python 3 (ipykernel)",
   "language": "python",
   "name": "python3"
  },
  "language_info": {
   "codemirror_mode": {
    "name": "ipython",
    "version": 3
   },
   "file_extension": ".py",
   "mimetype": "text/x-python",
   "name": "python",
   "nbconvert_exporter": "python",
   "pygments_lexer": "ipython3",
   "version": "3.12.2"
  }
 },
 "nbformat": 4,
 "nbformat_minor": 5
}
