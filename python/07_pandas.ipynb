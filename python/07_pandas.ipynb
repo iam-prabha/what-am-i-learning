{
 "cells": [
  {
   "cell_type": "markdown",
   "id": "d765da42",
   "metadata": {},
   "source": [
    "# Core Data Structures: Series and DataFrame\n",
    "Pandas introduces two primary data structures:\n",
    "\n",
    "1. **Series:** A one-dimensional labeled array capable of holding any data type (integers, strings, floats, Python objects, etc.). It's essentially a single column of data.\n",
    "\n",
    "    Think of it like a single column in a spreadsheet, where each row has an index.\n",
    "\n",
    "2. **DataFrame:** A two-dimensional labeled data structure with columns of potentially different types. You can think of it like a spreadsheet or a SQL table, where each column is a Series. It's the most commonly used Pandas object.\n",
    "\n",
    "    Think of it as the entire spreadsheet, with multiple columns and rows.\n",
    "\n",
    "**Getting Started: Installation and Import**\n",
    "\n",
    "First, you need to install Pandas if you haven't already:"
   ]
  },
  {
   "cell_type": "markdown",
   "id": "87e4eadc",
   "metadata": {},
   "source": [
    "bash: `pip install pandas`"
   ]
  },
  {
   "cell_type": "markdown",
   "id": "20050388",
   "metadata": {},
   "source": [
    "Then, in your Python script or Jupyter Notebook, you typically import it like this:"
   ]
  },
  {
   "cell_type": "code",
   "execution_count": 1,
   "id": "a8b24b71",
   "metadata": {},
   "outputs": [],
   "source": [
    "import warnings\n",
    "import pandas as pd\n",
    "import numpy as np\n",
    "warnings.filterwarnings('ignore')"
   ]
  },
  {
   "cell_type": "markdown",
   "id": "d6697c99",
   "metadata": {},
   "source": [
    "**Creating Data Structures**"
   ]
  },
  {
   "cell_type": "markdown",
   "id": "31339e82",
   "metadata": {},
   "source": [
    "**Creating a Series**\n",
    "\n",
    "You can create a Series from a list, a NumPy array, or a dictionary."
   ]
  },
  {
   "cell_type": "code",
   "execution_count": 2,
   "id": "85cf3c0d",
   "metadata": {},
   "outputs": [
    {
     "name": "stdout",
     "output_type": "stream",
     "text": [
      "Series from a list:\n",
      "0    1.0\n",
      "1    3.0\n",
      "2    5.0\n",
      "3    NaN\n",
      "4    6.0\n",
      "5    8.0\n",
      "dtype: float64\n",
      "\n",
      "Series from a Numpy array:\n",
      "0    10\n",
      "1    20\n",
      "2    30\n",
      "3    40\n",
      "dtype: int64\n",
      "\n",
      "Series froma dictionary\n",
      "a    100\n",
      "b    200\n",
      "c    300\n",
      "dtype: int64\n"
     ]
    }
   ],
   "source": [
    "# From a list\n",
    "s = pd.Series([1, 3, 5, np.nan, 6, 8])\n",
    "print(\"Series from a list:\")\n",
    "print(s)\n",
    "\n",
    "# From a Numpy array\n",
    "arr = np.array([10, 20, 30, 40])\n",
    "s_arr = pd.Series(arr)\n",
    "print(\"\\nSeries from a Numpy array:\")\n",
    "print(s_arr)\n",
    "\n",
    "# From a dictionary (Keys become the index)\n",
    "data = {'a': 100, 'b': 200, 'c': 300}\n",
    "s_dict = pd.Series(data)\n",
    "print(\"\\nSeries froma dictionary\")\n",
    "print(s_dict)"
   ]
  },
  {
   "cell_type": "markdown",
   "id": "40351268",
   "metadata": {},
   "source": [
    "**Creating a DataFrame**\n",
    "\n",
    "DataFrames can be created in several ways, most commonly from dictionaries of Series/lists or NumPy arrays."
   ]
  },
  {
   "cell_type": "code",
   "execution_count": 3,
   "id": "74fef2d4",
   "metadata": {},
   "outputs": [
    {
     "name": "stdout",
     "output_type": "stream",
     "text": [
      "\n",
      "DataFrame from a dictionary:\n",
      "      Name  Age         City\n",
      "0    Alice   20     New York\n",
      "1      Bob   30  Los Angeles\n",
      "2  Charlie   35      Chicago\n",
      "3    David   40      Houston\n",
      "\n",
      "DataFrame with custom index and columns:\n",
      "   Age     Name         City\n",
      "a   20    Alice     New York\n",
      "b   30      Bob  Los Angeles\n",
      "c   35  Charlie      Chicago\n",
      "d   40    David      Houston\n",
      "\n",
      "DataFrame from a list of dictionaries:\n",
      "    Name  Age    City\n",
      "0    Eve   22   Miami\n",
      "1  Frank   28  Boston\n"
     ]
    }
   ],
   "source": [
    "# From a dictionary of lists/Series\n",
    "data = {\n",
    "    'Name': ['Alice', 'Bob', 'Charlie', 'David'],\n",
    "    'Age': [20, 30, 35, 40],\n",
    "    'City': ['New York', 'Los Angeles', 'Chicago', 'Houston']\n",
    "}\n",
    "df = pd.DataFrame(data)\n",
    "print(\"\\nDataFrame from a dictionary:\")\n",
    "print(df)\n",
    "\n",
    "# Specifying index and columns\n",
    "df_indexed = pd.DataFrame(data, index=['a', 'b', 'c', 'd'], columns=['Age', 'Name', 'City'])\n",
    "print(\"\\nDataFrame with custom index and columns:\")\n",
    "print(df_indexed)\n",
    "\n",
    "# From a list of dictionaries (each dictionary is a row)\n",
    "data_list_of_dict = [\n",
    "    {'Name': 'Eve', 'Age': 22, 'City': 'Miami'},\n",
    "    {'Name': 'Frank', 'Age': 28, 'City': 'Boston'}\n",
    "]\n",
    "df_from_list_of_dict = pd.DataFrame(data_list_of_dict)\n",
    "print(\"\\nDataFrame from a list of dictionaries:\")\n",
    "print(df_from_list_of_dict)"
   ]
  },
  {
   "cell_type": "markdown",
   "id": "a1eb0feb",
   "metadata": {},
   "source": [
    "**Viewing Data**\n",
    "\n",
    "Once you have a DataFrame, you'll want to inspect it."
   ]
  },
  {
   "cell_type": "code",
   "execution_count": 4,
   "id": "bec1015b",
   "metadata": {},
   "outputs": [
    {
     "name": "stdout",
     "output_type": "stream",
     "text": [
      "df.head():\n",
      "   A   B  C\n",
      "0  1  11  x\n",
      "1  2  12  y\n",
      "2  3  13  z\n",
      "3  4  14  x\n",
      "4  5  15  y\n",
      "\n",
      "df.tail(3):\n",
      "    A   B  C\n",
      "7   8  18  y\n",
      "8   9  19  z\n",
      "9  10  20  x\n",
      "\n",
      "df.info():\n",
      "<class 'pandas.core.frame.DataFrame'>\n",
      "RangeIndex: 10 entries, 0 to 9\n",
      "Data columns (total 3 columns):\n",
      " #   Column  Non-Null Count  Dtype \n",
      "---  ------  --------------  ----- \n",
      " 0   A       10 non-null     int64 \n",
      " 1   B       10 non-null     int64 \n",
      " 2   C       10 non-null     object\n",
      "dtypes: int64(2), object(1)\n",
      "memory usage: 372.0+ bytes\n",
      "None\n",
      "\n",
      "df.describe():\n",
      "              A         B\n",
      "count  10.00000  10.00000\n",
      "mean    5.50000  15.50000\n",
      "std     3.02765   3.02765\n",
      "min     1.00000  11.00000\n",
      "25%     3.25000  13.25000\n",
      "50%     5.50000  15.50000\n",
      "75%     7.75000  17.75000\n",
      "max    10.00000  20.00000\n",
      "\n",
      "df.shape:\n",
      "(10, 3)\n",
      "\n",
      "df.columns:\n",
      "Index(['A', 'B', 'C'], dtype='object')\n",
      "\n",
      "df.index:\n",
      "RangeIndex(start=0, stop=10, step=1)\n"
     ]
    }
   ],
   "source": [
    "# Create a sample DataFrame for demonstration\n",
    "data = {\n",
    "    'A': [1, 2, 3, 4, 5, 6, 7, 8, 9, 10],\n",
    "    'B': [11, 12, 13, 14, 15, 16, 17, 18, 19, 20],\n",
    "    'C': ['x', 'y', 'z', 'x', 'y', 'z', 'x', 'y', 'z', 'x']\n",
    "}\n",
    "df = pd.DataFrame(data)\n",
    "\n",
    "# Display the first 5 rows\n",
    "print(\"df.head():\")\n",
    "print(df.head())\n",
    "\n",
    "# Display the last 3 rows\n",
    "print(\"\\ndf.tail(3):\")\n",
    "print(df.tail(3))\n",
    "\n",
    "# Get a concise summary of the DataFrame\n",
    "print(\"\\ndf.info():\")\n",
    "print(df.info())\n",
    "\n",
    "# Get descriptive statistics\n",
    "print(\"\\ndf.describe():\")\n",
    "print(df.describe())\n",
    "\n",
    "# Get the shape (number of rows, number of columns)\n",
    "print(\"\\ndf.shape:\")\n",
    "print(df.shape)\n",
    "\n",
    "# Get the column names\n",
    "print(\"\\ndf.columns:\")\n",
    "print(df.columns)\n",
    "\n",
    "# Get the index\n",
    "print(\"\\ndf.index:\")\n",
    "print(df.index)"
   ]
  },
  {
   "cell_type": "markdown",
   "id": "7a7b8730",
   "metadata": {},
   "source": [
    "**Selection and Indexing**\n",
    "\n",
    "Accessing specific data is crucial."
   ]
  },
  {
   "cell_type": "markdown",
   "id": "6c2ef3cd",
   "metadata": {},
   "source": [
    "**Selecting a Single Column**"
   ]
  },
  {
   "cell_type": "code",
   "execution_count": 5,
   "id": "94d061f8",
   "metadata": {},
   "outputs": [
    {
     "name": "stdout",
     "output_type": "stream",
     "text": [
      "Selecting columns 'A':\n",
      "0     1\n",
      "1     2\n",
      "2     3\n",
      "3     4\n",
      "4     5\n",
      "5     6\n",
      "6     7\n",
      "7     8\n",
      "8     9\n",
      "9    10\n",
      "Name: A, dtype: int64\n",
      "\n",
      "Selecting columns 'B' (alternative method):\n",
      "0    11\n",
      "1    12\n",
      "2    13\n",
      "3    14\n",
      "4    15\n",
      "5    16\n",
      "6    17\n",
      "7    18\n",
      "8    19\n",
      "9    20\n",
      "Name: B, dtype: int64\n"
     ]
    }
   ],
   "source": [
    "print(\"Selecting columns 'A':\")\n",
    "print(df['A']) # Return a Series\n",
    "\n",
    "print(\"\\nSelecting columns 'B' (alternative method):\")\n",
    "print(df.B) # Works if column name is a valid Python identifier"
   ]
  },
  {
   "cell_type": "markdown",
   "id": "e52c262e",
   "metadata": {},
   "source": [
    "**Selecting Multiple Columns**"
   ]
  },
  {
   "cell_type": "code",
   "execution_count": 6,
   "id": "feb381b7",
   "metadata": {},
   "outputs": [
    {
     "name": "stdout",
     "output_type": "stream",
     "text": [
      "\n",
      "Selecting columns 'A' and 'C':\n",
      "    A  C\n",
      "0   1  x\n",
      "1   2  y\n",
      "2   3  z\n",
      "3   4  x\n",
      "4   5  y\n",
      "5   6  z\n",
      "6   7  x\n",
      "7   8  y\n",
      "8   9  z\n",
      "9  10  x\n"
     ]
    }
   ],
   "source": [
    "print(\"\\nSelecting columns 'A' and 'C':\")\n",
    "print(df[['A', 'C']]) # Return a DataFrame"
   ]
  },
  {
   "cell_type": "markdown",
   "id": "5b9c9cdd",
   "metadata": {},
   "source": [
    "**Selecting Rows by Label (`.loc[]`)**\n",
    "\n",
    "`.loc[]` is primarily label-based."
   ]
  },
  {
   "cell_type": "code",
   "execution_count": 7,
   "id": "cf3d87da",
   "metadata": {},
   "outputs": [
    {
     "name": "stdout",
     "output_type": "stream",
     "text": [
      "\n",
      "Selecting row with index 2 using  .loc:\n",
      "A     3\n",
      "B    13\n",
      "C     z\n",
      "Name: 2, dtype: object\n",
      "\n",
      "Slecting row with indicies 0, 2, 4 using .loc:\n",
      "   A   B  C\n",
      "0  1  11  x\n",
      "2  3  13  z\n",
      "4  5  15  y\n",
      "\n",
      "Selecting rows from index 1 to 3 (inclusive) using .loc:\n",
      "   A   B  C\n",
      "1  2  12  y\n",
      "2  3  13  z\n",
      "3  4  14  x\n",
      "\n",
      "Selecting rows 0, 1 and columns 'A' and 'C' using .loc:\n",
      "   A  C\n",
      "0  1  x\n",
      "1  2  y\n"
     ]
    }
   ],
   "source": [
    "# Select a single row by its index label (e.g., row with index 2)\n",
    "print(\"\\nSelecting row with index 2 using  .loc:\")\n",
    "print(df.loc[2])\n",
    "\n",
    "# Select multiple rows by index labels\n",
    "print(\"\\nSlecting row with indicies 0, 2, 4 using .loc:\")\n",
    "print(df.loc[[0, 2, 4]])\n",
    "\n",
    "# Select rows by index labels (inclusive)\n",
    "print(\"\\nSelecting rows from index 1 to 3 (inclusive) using .loc:\")\n",
    "print(df.loc[1:3])\n",
    "\n",
    "# Select specific rows and columns by labels\n",
    "print(\"\\nSelecting rows 0, 1 and columns 'A' and 'C' using .loc:\")\n",
    "print(df.loc[[0, 1], ['A', 'C']])"
   ]
  },
  {
   "cell_type": "markdown",
   "id": "27c6ee8e",
   "metadata": {},
   "source": [
    "**Selecting Rows by Position (`.iloc[]`)**\n",
    "\n",
    "`.iloc[]` is primarily integer-position based."
   ]
  },
  {
   "cell_type": "code",
   "execution_count": 8,
   "id": "ff14b57c",
   "metadata": {},
   "outputs": [
    {
     "name": "stdout",
     "output_type": "stream",
     "text": [
      "\n",
      "Selecting row at position 2 using .iloc:\n",
      "A     3\n",
      "B    13\n",
      "C     z\n",
      "Name: 2, dtype: object\n",
      "\n",
      "Selecting rows at positions 0, 2, 4 using .iloc:\n",
      "   A   B  C\n",
      "0  1  11  x\n",
      "2  3  13  z\n",
      "4  5  15  y\n",
      "\n",
      "Selecting rows from position 1 up to (but not including) 4 using .iloc:\n",
      "   A   B  C\n",
      "1  2  12  y\n",
      "2  3  13  z\n",
      "3  4  14  x\n",
      "\n",
      "Selecting rows at positions 0, 1 and columns at positions 0, 2 using .iloc:\n",
      "   A  C\n",
      "0  1  x\n",
      "1  2  y\n"
     ]
    }
   ],
   "source": [
    "# Selec a single row by its integer position (e.g., the 3rd row, which has index 2)\n",
    "print(\"\\nSelecting row at position 2 using .iloc:\")\n",
    "print(df.iloc[2])\n",
    "\n",
    "# Select multiple rows by integer positions\n",
    "print(\"\\nSelecting rows at positions 0, 2, 4 using .iloc:\")\n",
    "print(df.iloc[[0, 2, 4]])\n",
    "\n",
    "# Select a slice of rows by integer positions (exclusive of the end)\n",
    "print(\"\\nSelecting rows from position 1 up to (but not including) 4 using .iloc:\")\n",
    "print(df.iloc[1:4])\n",
    "\n",
    "# Select specific rows and columns by integer positions\n",
    "print(\"\\nSelecting rows at positions 0, 1 and columns at positions 0, 2 using .iloc:\")\n",
    "print(df.iloc[[0, 1], [0, 2]])"
   ]
  },
  {
   "cell_type": "markdown",
   "id": "71f990d3",
   "metadata": {},
   "source": [
    "**Boolean Indexing (Filtering)**\n",
    "\n",
    "This is a very powerful way to select data based on conditions."
   ]
  },
  {
   "cell_type": "code",
   "execution_count": 9,
   "id": "c4e7fe62",
   "metadata": {},
   "outputs": [
    {
     "name": "stdout",
     "output_type": "stream",
     "text": [
      "\n",
      "Rows where 'A' > 5:\n",
      "    A   B  C\n",
      "5   6  16  z\n",
      "6   7  17  x\n",
      "7   8  18  y\n",
      "8   9  19  z\n",
      "9  10  20  x\n",
      "\n",
      "Rows where 'C' is 'x':\n",
      "    A   B  C\n",
      "0   1  11  x\n",
      "3   4  14  x\n",
      "6   7  17  x\n",
      "9  10  20  x\n",
      "Row where 'A' > 5 and 'C' is 'x':\n",
      "    A   B  C\n",
      "1   2  12  y\n",
      "2   3  13  z\n",
      "3   4  14  x\n",
      "4   5  15  y\n",
      "5   6  16  z\n",
      "6   7  17  x\n",
      "7   8  18  y\n",
      "8   9  19  z\n",
      "9  10  20  x\n",
      "\n",
      "Rows where 'A' > 5 or 'B' > 18:\n",
      "    A   B  C\n",
      "0   1  11  x\n",
      "1   2  12  y\n",
      "8   9  19  z\n",
      "9  10  20  x\n",
      "\n",
      "Rows where 'C' is 'x' or 'y':\n",
      "    A   B  C\n",
      "0   1  11  x\n",
      "1   2  12  y\n",
      "3   4  14  x\n",
      "4   5  15  y\n",
      "6   7  17  x\n",
      "7   8  18  y\n",
      "9  10  20  x\n"
     ]
    }
   ],
   "source": [
    "# Select row where column 'A' is greater than 5\n",
    "print(\"\\nRows where 'A' > 5:\")\n",
    "print(df[df['A'] > 5])\n",
    "\n",
    "# Select rows where column 'C' is 'x'\n",
    "print(\"\\nRows where 'C' is 'x':\")\n",
    "print(df[df['C'] == 'x'])\n",
    "\n",
    "# combine multiple conditions\n",
    "print(\"Row where 'A' > 5 and 'C' is 'x':\")\n",
    "print(df[df['A'] > 5 & (df['C'] == 'x')])\n",
    "\n",
    "print(\"\\nRows where 'A' > 5 or 'B' > 18:\")\n",
    "print(df[(df['A'] < 3) | (df['B'] > 18)])\n",
    "\n",
    "# Using .isin() for multiple values\n",
    "print(\"\\nRows where 'C' is 'x' or 'y':\")\n",
    "print(df[df['C'].isin(['x', 'y'])])"
   ]
  },
  {
   "cell_type": "markdown",
   "id": "d9465987",
   "metadata": {},
   "source": [
    "**Handling Missing Data**\n",
    "\n",
    "Missing data is represented by `NaN` (Not a Number)."
   ]
  },
  {
   "cell_type": "code",
   "execution_count": 10,
   "id": "bbf680ad",
   "metadata": {},
   "outputs": [
    {
     "name": "stdout",
     "output_type": "stream",
     "text": [
      "\n",
      "DataFrame with missing values:\n",
      "      A     B    C\n",
      "0   1.0  11.0    x\n",
      "1   NaN  12.0    y\n",
      "2   3.0  13.0    z\n",
      "3   4.0  14.0    x\n",
      "4   5.0   NaN    y\n",
      "5   6.0  16.0    z\n",
      "6   7.0  17.0  NaN\n",
      "7   8.0  18.0    y\n",
      "8   9.0  19.0    z\n",
      "9  10.0  20.0    x\n",
      "\n",
      "Checking for missing values:\n",
      "A    1\n",
      "B    1\n",
      "C    1\n",
      "dtype: int64\n",
      "\n",
      "DataFrame after dropping rows with any missing values (df_missing.dropna()):\n",
      "      A     B  C\n",
      "0   1.0  11.0  x\n",
      "2   3.0  13.0  z\n",
      "3   4.0  14.0  x\n",
      "5   6.0  16.0  z\n",
      "7   8.0  18.0  y\n",
      "8   9.0  19.0  z\n",
      "9  10.0  20.0  x\n",
      "\n",
      "DataFrame after filling missing values with 0 (df_missing.fillna(0)):\n",
      "      A     B  C\n",
      "0   1.0  11.0  x\n",
      "1   0.0  12.0  y\n",
      "2   3.0  13.0  z\n",
      "3   4.0  14.0  x\n",
      "4   5.0   0.0  y\n",
      "5   6.0  16.0  z\n",
      "6   7.0  17.0  0\n",
      "7   8.0  18.0  y\n",
      "8   9.0  19.0  z\n",
      "9  10.0  20.0  x\n",
      "\n",
      "DataFrame after filling NaN in 'A' with its mean:\n",
      "0     1.000000\n",
      "1     5.888889\n",
      "2     3.000000\n",
      "3     4.000000\n",
      "4     5.000000\n",
      "5     6.000000\n",
      "6     7.000000\n",
      "7     8.000000\n",
      "8     9.000000\n",
      "9    10.000000\n",
      "Name: A, dtype: float64\n"
     ]
    }
   ],
   "source": [
    "df_missing = df.copy()\n",
    "df_missing.iloc[1, 0] = np.nan # set A[1] to NaN\n",
    "df_missing.iloc[4, 1] =np.nan # set B[4] to NaN\n",
    "df_missing.iloc[6, 2] = np.nan # set C[6] to NaN\n",
    "\n",
    "print(\"\\nDataFrame with missing values:\")\n",
    "print(df_missing)\n",
    "\n",
    "# Check for missing values\n",
    "print(\"\\nChecking for missing values:\")\n",
    "print(df_missing.isnull().sum())\n",
    "\n",
    "# Drop rows with any missing values\n",
    "print(\"\\nDataFrame after dropping rows with any missing values (df_missing.dropna()):\")\n",
    "print(df_missing.dropna())\n",
    "\n",
    "# Fill missing values with a specific value (e.g., 0)\n",
    "print(\"\\nDataFrame after filling missing values with 0 (df_missing.fillna(0)):\")\n",
    "print(df_missing.fillna(0))\n",
    "\n",
    "# Fill missing values with the mean of the column\n",
    "print(\"\\nDataFrame after filling NaN in 'A' with its mean:\")\n",
    "print(df_missing['A'].fillna(df_missing['A'].mean()))"
   ]
  },
  {
   "cell_type": "markdown",
   "id": "34c928e4",
   "metadata": {},
   "source": [
    "**Operations**\n",
    "\n",
    "Pandas allows for various operations.\n",
    "\n",
    "**Basic Arithmetic Operations**"
   ]
  },
  {
   "cell_type": "code",
   "execution_count": 11,
   "id": "df59916a",
   "metadata": {},
   "outputs": [
    {
     "name": "stdout",
     "output_type": "stream",
     "text": [
      "\n",
      "DataFrame with new column 'D' (A + B):\n",
      "    A   B  C   D\n",
      "0   1  11  x  12\n",
      "1   2  12  y  14\n",
      "2   3  13  z  16\n",
      "3   4  14  x  18\n",
      "4   5  15  y  20\n",
      "5   6  16  z  22\n",
      "6   7  17  x  24\n",
      "7   8  18  y  26\n",
      "8   9  19  z  28\n",
      "9  10  20  x  30\n",
      "\n",
      "DataFrame with new column 'E' (A * 2):\n",
      "    A   B  C   D   E\n",
      "0   1  11  x  12   2\n",
      "1   2  12  y  14   4\n",
      "2   3  13  z  16   6\n",
      "3   4  14  x  18   8\n",
      "4   5  15  y  20  10\n",
      "5   6  16  z  22  12\n",
      "6   7  17  x  24  14\n",
      "7   8  18  y  26  16\n",
      "8   9  19  z  28  18\n",
      "9  10  20  x  30  20\n"
     ]
    }
   ],
   "source": [
    "df_ops = df.copy()\n",
    "df_ops['D'] = df_ops['A'] + df_ops['B'] # Add two columns\n",
    "print(\"\\nDataFrame with new column 'D' (A + B):\")\n",
    "print(df_ops)\n",
    "\n",
    "df_ops['E'] = df_ops['A'] * 2 # Multiply a column by a scalar\n",
    "print(\"\\nDataFrame with new column 'E' (A * 2):\")\n",
    "print(df_ops)"
   ]
  },
  {
   "cell_type": "markdown",
   "id": "7d7a55c2",
   "metadata": {},
   "source": [
    "**Aggregations**"
   ]
  },
  {
   "cell_type": "code",
   "execution_count": 12,
   "id": "a6c68593",
   "metadata": {},
   "outputs": [
    {
     "name": "stdout",
     "output_type": "stream",
     "text": [
      "\n",
      "Mean of column 'A': 5.5\n",
      "Sum of column 'B': 155\n",
      "Max of column 'A': 10\n",
      "Count of non-null in 'A': 10\n"
     ]
    }
   ],
   "source": [
    "# Mean of column 'A'\n",
    "print(\"\\nMean of column 'A':\", df['A'].mean())\n",
    "\n",
    "# Sum of column 'B'\n",
    "print(\"Sum of column 'B':\", df['B'].sum())\n",
    "\n",
    "# Max value of column 'A'\n",
    "print(\"Max of column 'A':\", df['A'].max())\n",
    "\n",
    "# Count of non-null values in column 'A'\n",
    "print(\"Count of non-null in 'A':\", df['A'].count())"
   ]
  },
  {
   "cell_type": "markdown",
   "id": "998b89cd",
   "metadata": {},
   "source": [
    "**Grouping Data (`.groupby()`)**\n",
    "\n",
    "This is similar to SQL's GROUP BY."
   ]
  },
  {
   "cell_type": "code",
   "execution_count": 13,
   "id": "42a8ef6f",
   "metadata": {},
   "outputs": [
    {
     "name": "stdout",
     "output_type": "stream",
     "text": [
      "\n",
      "Group by 'C' and calculate mean of 'A' and 'B':\n",
      "     A     B\n",
      "C           \n",
      "x  5.5  15.5\n",
      "y  5.0  15.0\n",
      "z  6.0  16.0\n",
      "\n",
      "Value counts for column 'C':\n",
      "C\n",
      "x    4\n",
      "y    3\n",
      "z    3\n",
      "Name: count, dtype: int64\n"
     ]
    }
   ],
   "source": [
    "# Group by 'C' and calculate the mean of 'A' and 'B' for each group\n",
    "print(\"\\nGroup by 'C' and calculate mean of 'A' and 'B':\")\n",
    "print(df.groupby('C').mean())\n",
    "\n",
    "# Group by 'C' and count the occurrences of each unique value in 'C'\n",
    "print(\"\\nValue counts for column 'C':\")\n",
    "print(df['C'].value_counts())"
   ]
  },
  {
   "cell_type": "markdown",
   "id": "3dfbe08a",
   "metadata": {},
   "source": [
    "**Input/Output (I/O)**\n",
    "\n",
    "Pandas can read and write data in various formats."
   ]
  },
  {
   "cell_type": "code",
   "execution_count": 14,
   "id": "cf4906f9",
   "metadata": {},
   "outputs": [
    {
     "name": "stdout",
     "output_type": "stream",
     "text": [
      "\n",
      "DataFrame saved to 'my_data.csv'\n",
      "\n",
      "DataFrame read from 'my_data.csv':\n",
      "   A   B  C\n",
      "0  1  11  x\n",
      "1  2  12  y\n",
      "2  3  13  z\n",
      "3  4  14  x\n",
      "4  5  15  y\n"
     ]
    }
   ],
   "source": [
    "# To CSV\n",
    "df.to_csv('my_data.csv', index=False) # index=False prevents writing the DataFrame index as a column\n",
    "print(\"\\nDataFrame saved to 'my_data.csv'\")\n",
    "\n",
    "# From CSV\n",
    "df_from_csv = pd.read_csv('my_data.csv')\n",
    "print(\"\\nDataFrame read from 'my_data.csv':\")\n",
    "print(df_from_csv.head())\n",
    "\n",
    "# To Excel\n",
    "# df.to_excel('my_data.xlsx', sheet_name='Sheet1', index=False)\n",
    "# print(\"\\nDataFrame saved to 'my_data.xlsx'\")\n",
    "\n",
    "# From Excel\n",
    "# df_from_excel = pd.read_excel('my_data.xlsx', sheet_name='Sheet1')\n",
    "# print(\"\\nDataFrame read from 'my_data.xlsx':\")\n",
    "# print(df_from_excel.head())"
   ]
  },
  {
   "cell_type": "code",
   "execution_count": null,
   "id": "004e6adf",
   "metadata": {},
   "outputs": [],
   "source": []
  }
 ],
 "metadata": {
  "kernelspec": {
   "display_name": "base",
   "language": "python",
   "name": "python3"
  },
  "language_info": {
   "codemirror_mode": {
    "name": "ipython",
    "version": 3
   },
   "file_extension": ".py",
   "mimetype": "text/x-python",
   "name": "python",
   "nbconvert_exporter": "python",
   "pygments_lexer": "ipython3",
   "version": "3.12.7"
  }
 },
 "nbformat": 4,
 "nbformat_minor": 5
}
