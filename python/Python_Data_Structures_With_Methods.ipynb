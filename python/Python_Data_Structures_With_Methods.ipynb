{
 "cells": [
  {
   "cell_type": "markdown",
   "metadata": {},
   "source": [
    "# Python Built-in Data Structures with Methods\n",
    "\n",
    "This notebook covers Python's built-in data structures: **List**, **Set**, **Tuple**, and **Dictionary**, including their key methods and common techniques."
   ]
  },
  {
   "cell_type": "markdown",
   "metadata": {},
   "source": [
    "## 1. List\n",
    "\n",
    "- **Definition**: Ordered, mutable collection of items.\n",
    "- **Use case**: Storing sequences of items that may change.\n",
    "- **Syntax**: `my_list = [item1, item2, ...]`"
   ]
  },
  {
   "cell_type": "code",
   "execution_count": 2,
   "metadata": {},
   "outputs": [
    {
     "name": "stdout",
     "output_type": "stream",
     "text": [
      "List: ['apple', 'banana', 'orange']\n",
      "After append: ['apple', 'banana', 'orange', 'grape']\n",
      "After insert: ['apple', 'mango', 'banana', 'orange', 'grape']\n",
      "After remove: ['apple', 'mango', 'orange', 'grape']\n",
      "Popped item: grape | List: ['apple', 'mango', 'orange']\n",
      "Sorted: ['apple', 'mango', 'orange']\n",
      "Squares (comprehension): [0, 1, 4, 9, 16]\n"
     ]
    }
   ],
   "source": [
    "# Creating a list\n",
    "fruits = ['apple', 'banana', 'orange']\n",
    "print(\"List:\", fruits)\n",
    "\n",
    "# Key Methods\n",
    "# 1. append(item): Add item to end\n",
    "fruits.append('grape')\n",
    "print(\"After append:\", fruits)\n",
    "\n",
    "# 2. insert(index, item): Insert item at index\n",
    "fruits.insert(1, 'mango')\n",
    "print(\"After insert:\", fruits)\n",
    "\n",
    "# 3. remove(item): Remove first occurrence of item\n",
    "fruits.remove('banana')\n",
    "print(\"After remove:\", fruits)\n",
    "\n",
    "# 4. pop(index): Remove and return item at index (default: last)\n",
    "popped = fruits.pop()\n",
    "print(\"Popped item:\", popped, \"| List:\", fruits)\n",
    "\n",
    "# 5. sort(): Sort list in place\n",
    "fruits.sort()\n",
    "print(\"Sorted:\", fruits)\n",
    "\n",
    "# Technique: List comprehension\n",
    "squares = [x**2 for x in range(5)]\n",
    "print(\"Squares (comprehension):\", squares)"
   ]
  },
  {
   "cell_type": "markdown",
   "metadata": {},
   "source": [
    "## 2. Set\n",
    "\n",
    "- **Definition**: Unordered, mutable collection of unique items.\n",
    "- **Use case**: Removing duplicates or performing set operations.\n",
    "- **Syntax**: `my_set = {item1, item2, ...}`"
   ]
  },
  {
   "cell_type": "code",
   "execution_count": 3,
   "metadata": {},
   "outputs": [
    {
     "name": "stdout",
     "output_type": "stream",
     "text": [
      "Set: {1, 2, 3, 4}\n",
      "After add: {1, 2, 3, 4, 5}\n",
      "After remove: {1, 2, 4, 5}\n",
      "After discard: {1, 2, 4, 5}\n",
      "Union: {1, 2, 4, 5, 6}\n",
      "Intersection: {4, 5}\n",
      "Evens (comprehension): {0, 2, 4, 6, 8}\n"
     ]
    }
   ],
   "source": [
    "# Creating a set\n",
    "numbers = {1, 2, 2, 3, 4}\n",
    "print(\"Set:\", numbers)  # Duplicates removed\n",
    "\n",
    "# Key Methods\n",
    "# 1. add(item): Add item to set\n",
    "numbers.add(5)\n",
    "print(\"After add:\", numbers)\n",
    "\n",
    "# 2. remove(item): Remove item (raises KeyError if not found)\n",
    "numbers.remove(3)\n",
    "print(\"After remove:\", numbers)\n",
    "\n",
    "# 3. discard(item): Remove item (no error if not found)\n",
    "numbers.discard(10)  # No error\n",
    "print(\"After discard:\", numbers)\n",
    "\n",
    "# 4. union(other_set): Return union of sets\n",
    "other_set = {4, 5, 6}\n",
    "union = numbers.union(other_set)\n",
    "print(\"Union:\", union)\n",
    "\n",
    "# 5. intersection(other_set): Return intersection of sets\n",
    "intersection = numbers.intersection(other_set)\n",
    "print(\"Intersection:\", intersection)\n",
    "\n",
    "# Technique: Set comprehension\n",
    "evens = {x for x in range(10) if x % 2 == 0}\n",
    "print(\"Evens (comprehension):\", evens)"
   ]
  },
  {
   "cell_type": "markdown",
   "metadata": {},
   "source": [
    "## 3. Tuple\n",
    "\n",
    "- **Definition**: Ordered, immutable collection of items.\n",
    "- **Use case**: Storing fixed data that shouldn't change.\n",
    "- **Syntax**: `my_tuple = (item1, item2, ...)`"
   ]
  },
  {
   "cell_type": "code",
   "execution_count": 4,
   "metadata": {},
   "outputs": [
    {
     "name": "stdout",
     "output_type": "stream",
     "text": [
      "Tuple: (10, 20, 30)\n",
      "Count of 2: 2\n",
      "Index of 3: 3\n",
      "Unpacked: 10 20 30\n"
     ]
    }
   ],
   "source": [
    "# Creating a tuple\n",
    "coords = (10, 20, 30)\n",
    "print(\"Tuple:\", coords)\n",
    "\n",
    "# Key Methods\n",
    "# 1. count(item): Count occurrences of item\n",
    "values = (1, 2, 2, 3)\n",
    "count = values.count(2)\n",
    "print(\"Count of 2:\", count)\n",
    "\n",
    "# 2. index(item): Return first index of item\n",
    "index = values.index(3)\n",
    "print(\"Index of 3:\", index)\n",
    "\n",
    "# Technique: Unpacking\n",
    "x, y, z = coords\n",
    "print(\"Unpacked:\", x, y, z)"
   ]
  },
  {
   "cell_type": "markdown",
   "metadata": {},
   "source": [
    "## 4. Dictionary\n",
    "\n",
    "- **Definition**: Unordered, mutable collection of key-value pairs.\n",
    "- **Use case**: Storing data with unique keys for quick lookup.\n",
    "- **Syntax**: `my_dict = {key1: value1, key2: value2, ...}`"
   ]
  },
  {
   "cell_type": "code",
   "execution_count": 5,
   "metadata": {},
   "outputs": [
    {
     "name": "stdout",
     "output_type": "stream",
     "text": [
      "Dictionary: {'name': 'Alice', 'age': 20, 'grade': 'A'}\n",
      "Score (default): N/A\n",
      "After update: {'name': 'Alice', 'age': 21, 'grade': 'A', 'score': 95}\n",
      "Popped grade: A | Dictionary: {'name': 'Alice', 'age': 21, 'score': 95}\n",
      "Keys: dict_keys(['name', 'age', 'score'])\n",
      "Values: dict_values(['Alice', 21, 95])\n",
      "Squared dict (comprehension): {0: 0, 1: 1, 2: 4, 3: 9}\n"
     ]
    }
   ],
   "source": [
    "# Creating a dictionary\n",
    "student = {'name': 'Alice', 'age': 20, 'grade': 'A'}\n",
    "print(\"Dictionary:\", student)\n",
    "\n",
    "# Key Methods\n",
    "# 1. get(key, default): Get value for key, return default if not found\n",
    "score = student.get('score', 'N/A')\n",
    "print(\"Score (default):\", score)\n",
    "\n",
    "# 2. update(other_dict): Update dictionary with key-value pairs\n",
    "student.update({'age': 21, 'score': 95})\n",
    "print(\"After update:\", student)\n",
    "\n",
    "# 3. pop(key): Remove and return value for key\n",
    "grade = student.pop('grade')\n",
    "print(\"Popped grade:\", grade, \"| Dictionary:\", student)\n",
    "\n",
    "# 4. keys(): Return view of dictionary keys\n",
    "keys = student.keys()\n",
    "print(\"Keys:\", keys)\n",
    "\n",
    "# 5. values(): Return view of dictionary values\n",
    "values = student.values()\n",
    "print(\"Values:\", values)\n",
    "\n",
    "# Technique: Dictionary comprehension\n",
    "squared_dict = {x: x**2 for x in range(4)}\n",
    "print(\"Squared dict (comprehension):\", squared_dict)"
   ]
  }
 ],
 "metadata": {
  "kernelspec": {
   "display_name": "base",
   "language": "python",
   "name": "python3"
  },
  "language_info": {
   "codemirror_mode": {
    "name": "ipython",
    "version": 3
   },
   "file_extension": ".py",
   "mimetype": "text/x-python",
   "name": "python",
   "nbconvert_exporter": "python",
   "pygments_lexer": "ipython3",
   "version": "3.12.2"
  }
 },
 "nbformat": 4,
 "nbformat_minor": 4
}
