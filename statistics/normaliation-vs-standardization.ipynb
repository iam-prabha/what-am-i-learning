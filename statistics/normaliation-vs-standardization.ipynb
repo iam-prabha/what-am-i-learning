{
 "cells": [
  {
   "cell_type": "code",
   "execution_count": 1,
   "id": "93b7e028",
   "metadata": {
    "_cell_guid": "b1076dfc-b9ad-4769-8c92-a6c4dae69d19",
    "_uuid": "8f2839f25d086af736a60e9eeb907d3b93b6e0e5",
    "execution": {
     "iopub.execute_input": "2025-02-26T08:59:15.262458Z",
     "iopub.status.busy": "2025-02-26T08:59:15.262050Z",
     "iopub.status.idle": "2025-02-26T08:59:16.161873Z",
     "shell.execute_reply": "2025-02-26T08:59:16.160781Z"
    },
    "papermill": {
     "duration": 0.90947,
     "end_time": "2025-02-26T08:59:16.163965",
     "exception": false,
     "start_time": "2025-02-26T08:59:15.254495",
     "status": "completed"
    },
    "tags": []
   },
   "outputs": [
    {
     "name": "stdout",
     "output_type": "stream",
     "text": [
      "/kaggle/input/fish-dataset/fish dataset.csv\n"
     ]
    }
   ],
   "source": [
    "# This Python 3 environment comes with many helpful analytics libraries installed\n",
    "# It is defined by the kaggle/python Docker image: https://github.com/kaggle/docker-python\n",
    "# For example, here's several helpful packages to load\n",
    "\n",
    "import numpy as np # linear algebra\n",
    "import pandas as pd # data processing, CSV file I/O (e.g. pd.read_csv)\n",
    "\n",
    "# Input data files are available in the read-only \"../input/\" directory\n",
    "# For example, running this (by clicking run or pressing Shift+Enter) will list all files under the input directory\n",
    "\n",
    "import os\n",
    "for dirname, _, filenames in os.walk('/kaggle/input'):\n",
    "    for filename in filenames:\n",
    "        print(os.path.join(dirname, filename))\n",
    "\n",
    "# You can write up to 20GB to the current directory (/kaggle/working/) that gets preserved as output when you create a version using \"Save & Run All\" \n",
    "# You can also write temporary files to /kaggle/temp/, but they won't be saved outside of the current session"
   ]
  },
  {
   "cell_type": "markdown",
   "id": "97ade5da",
   "metadata": {
    "papermill": {
     "duration": 0.005259,
     "end_time": "2025-02-26T08:59:16.175371",
     "exception": false,
     "start_time": "2025-02-26T08:59:16.170112",
     "status": "completed"
    },
    "tags": []
   },
   "source": [
    "# importing libries"
   ]
  },
  {
   "cell_type": "code",
   "execution_count": 2,
   "id": "af0f7719",
   "metadata": {
    "execution": {
     "iopub.execute_input": "2025-02-26T08:59:16.187545Z",
     "iopub.status.busy": "2025-02-26T08:59:16.187000Z",
     "iopub.status.idle": "2025-02-26T08:59:16.191137Z",
     "shell.execute_reply": "2025-02-26T08:59:16.190309Z"
    },
    "papermill": {
     "duration": 0.012148,
     "end_time": "2025-02-26T08:59:16.192831",
     "exception": false,
     "start_time": "2025-02-26T08:59:16.180683",
     "status": "completed"
    },
    "tags": []
   },
   "outputs": [],
   "source": [
    "import pandas as pd"
   ]
  },
  {
   "cell_type": "code",
   "execution_count": 3,
   "id": "9901deea",
   "metadata": {
    "execution": {
     "iopub.execute_input": "2025-02-26T08:59:16.205316Z",
     "iopub.status.busy": "2025-02-26T08:59:16.204921Z",
     "iopub.status.idle": "2025-02-26T08:59:17.494632Z",
     "shell.execute_reply": "2025-02-26T08:59:17.493740Z"
    },
    "papermill": {
     "duration": 1.297987,
     "end_time": "2025-02-26T08:59:17.496495",
     "exception": false,
     "start_time": "2025-02-26T08:59:16.198508",
     "status": "completed"
    },
    "tags": []
   },
   "outputs": [],
   "source": [
    "from sklearn.preprocessing import StandardScaler"
   ]
  },
  {
   "cell_type": "code",
   "execution_count": 4,
   "id": "05729f68",
   "metadata": {
    "execution": {
     "iopub.execute_input": "2025-02-26T08:59:17.509089Z",
     "iopub.status.busy": "2025-02-26T08:59:17.508562Z",
     "iopub.status.idle": "2025-02-26T08:59:17.512776Z",
     "shell.execute_reply": "2025-02-26T08:59:17.511904Z"
    },
    "papermill": {
     "duration": 0.012126,
     "end_time": "2025-02-26T08:59:17.514293",
     "exception": false,
     "start_time": "2025-02-26T08:59:17.502167",
     "status": "completed"
    },
    "tags": []
   },
   "outputs": [],
   "source": [
    "from sklearn.preprocessing import MinMaxScaler"
   ]
  },
  {
   "cell_type": "markdown",
   "id": "6e19cb18",
   "metadata": {
    "papermill": {
     "duration": 0.005193,
     "end_time": "2025-02-26T08:59:17.524993",
     "exception": false,
     "start_time": "2025-02-26T08:59:17.519800",
     "status": "completed"
    },
    "tags": []
   },
   "source": [
    "## Data"
   ]
  },
  {
   "cell_type": "code",
   "execution_count": 5,
   "id": "c5ec6f3d",
   "metadata": {
    "execution": {
     "iopub.execute_input": "2025-02-26T08:59:17.536983Z",
     "iopub.status.busy": "2025-02-26T08:59:17.536650Z",
     "iopub.status.idle": "2025-02-26T08:59:17.549847Z",
     "shell.execute_reply": "2025-02-26T08:59:17.548925Z"
    },
    "papermill": {
     "duration": 0.021172,
     "end_time": "2025-02-26T08:59:17.551665",
     "exception": false,
     "start_time": "2025-02-26T08:59:17.530493",
     "status": "completed"
    },
    "tags": []
   },
   "outputs": [],
   "source": [
    "data = pd.read_csv('/kaggle/input/fish-dataset/fish dataset.csv')"
   ]
  },
  {
   "cell_type": "code",
   "execution_count": 6,
   "id": "6e0d55cd",
   "metadata": {
    "execution": {
     "iopub.execute_input": "2025-02-26T08:59:17.563838Z",
     "iopub.status.busy": "2025-02-26T08:59:17.563495Z",
     "iopub.status.idle": "2025-02-26T08:59:17.589337Z",
     "shell.execute_reply": "2025-02-26T08:59:17.588266Z"
    },
    "papermill": {
     "duration": 0.033634,
     "end_time": "2025-02-26T08:59:17.590974",
     "exception": false,
     "start_time": "2025-02-26T08:59:17.557340",
     "status": "completed"
    },
    "tags": []
   },
   "outputs": [
    {
     "data": {
      "text/html": [
       "<div>\n",
       "<style scoped>\n",
       "    .dataframe tbody tr th:only-of-type {\n",
       "        vertical-align: middle;\n",
       "    }\n",
       "\n",
       "    .dataframe tbody tr th {\n",
       "        vertical-align: top;\n",
       "    }\n",
       "\n",
       "    .dataframe thead th {\n",
       "        text-align: right;\n",
       "    }\n",
       "</style>\n",
       "<table border=\"1\" class=\"dataframe\">\n",
       "  <thead>\n",
       "    <tr style=\"text-align: right;\">\n",
       "      <th></th>\n",
       "      <th>Fish Name</th>\n",
       "      <th>Fish count</th>\n",
       "    </tr>\n",
       "  </thead>\n",
       "  <tbody>\n",
       "    <tr>\n",
       "      <th>0</th>\n",
       "      <td>Gold Fish</td>\n",
       "      <td>7</td>\n",
       "    </tr>\n",
       "    <tr>\n",
       "      <th>1</th>\n",
       "      <td>Angel Fish</td>\n",
       "      <td>11</td>\n",
       "    </tr>\n",
       "    <tr>\n",
       "      <th>2</th>\n",
       "      <td>Glow Fish</td>\n",
       "      <td>13</td>\n",
       "    </tr>\n",
       "    <tr>\n",
       "      <th>3</th>\n",
       "      <td>Guppies</td>\n",
       "      <td>16</td>\n",
       "    </tr>\n",
       "    <tr>\n",
       "      <th>4</th>\n",
       "      <td>Rainbow Fish</td>\n",
       "      <td>18</td>\n",
       "    </tr>\n",
       "    <tr>\n",
       "      <th>5</th>\n",
       "      <td>Molly Fish</td>\n",
       "      <td>22</td>\n",
       "    </tr>\n",
       "    <tr>\n",
       "      <th>6</th>\n",
       "      <td>Tetra</td>\n",
       "      <td>24</td>\n",
       "    </tr>\n",
       "  </tbody>\n",
       "</table>\n",
       "</div>"
      ],
      "text/plain": [
       "      Fish Name  Fish count\n",
       "0     Gold Fish           7\n",
       "1    Angel Fish          11\n",
       "2     Glow Fish          13\n",
       "3       Guppies          16\n",
       "4  Rainbow Fish          18\n",
       "5    Molly Fish          22\n",
       "6        Tetra           24"
      ]
     },
     "execution_count": 6,
     "metadata": {},
     "output_type": "execute_result"
    }
   ],
   "source": [
    "data"
   ]
  },
  {
   "cell_type": "markdown",
   "id": "9edec251",
   "metadata": {
    "papermill": {
     "duration": 0.00531,
     "end_time": "2025-02-26T08:59:17.602108",
     "exception": false,
     "start_time": "2025-02-26T08:59:17.596798",
     "status": "completed"
    },
    "tags": []
   },
   "source": [
    "## standardization"
   ]
  },
  {
   "cell_type": "code",
   "execution_count": 7,
   "id": "28a8c553",
   "metadata": {
    "execution": {
     "iopub.execute_input": "2025-02-26T08:59:17.615064Z",
     "iopub.status.busy": "2025-02-26T08:59:17.614720Z",
     "iopub.status.idle": "2025-02-26T08:59:17.633166Z",
     "shell.execute_reply": "2025-02-26T08:59:17.632293Z"
    },
    "papermill": {
     "duration": 0.027162,
     "end_time": "2025-02-26T08:59:17.634822",
     "exception": false,
     "start_time": "2025-02-26T08:59:17.607660",
     "status": "completed"
    },
    "tags": []
   },
   "outputs": [
    {
     "data": {
      "text/html": [
       "<div>\n",
       "<style scoped>\n",
       "    .dataframe tbody tr th:only-of-type {\n",
       "        vertical-align: middle;\n",
       "    }\n",
       "\n",
       "    .dataframe tbody tr th {\n",
       "        vertical-align: top;\n",
       "    }\n",
       "\n",
       "    .dataframe thead th {\n",
       "        text-align: right;\n",
       "    }\n",
       "</style>\n",
       "<table border=\"1\" class=\"dataframe\">\n",
       "  <thead>\n",
       "    <tr style=\"text-align: right;\">\n",
       "      <th></th>\n",
       "      <th>Fish count</th>\n",
       "    </tr>\n",
       "  </thead>\n",
       "  <tbody>\n",
       "    <tr>\n",
       "      <th>count</th>\n",
       "      <td>7.00</td>\n",
       "    </tr>\n",
       "    <tr>\n",
       "      <th>mean</th>\n",
       "      <td>15.86</td>\n",
       "    </tr>\n",
       "    <tr>\n",
       "      <th>std</th>\n",
       "      <td>6.04</td>\n",
       "    </tr>\n",
       "    <tr>\n",
       "      <th>min</th>\n",
       "      <td>7.00</td>\n",
       "    </tr>\n",
       "    <tr>\n",
       "      <th>25%</th>\n",
       "      <td>12.00</td>\n",
       "    </tr>\n",
       "    <tr>\n",
       "      <th>50%</th>\n",
       "      <td>16.00</td>\n",
       "    </tr>\n",
       "    <tr>\n",
       "      <th>75%</th>\n",
       "      <td>20.00</td>\n",
       "    </tr>\n",
       "    <tr>\n",
       "      <th>max</th>\n",
       "      <td>24.00</td>\n",
       "    </tr>\n",
       "  </tbody>\n",
       "</table>\n",
       "</div>"
      ],
      "text/plain": [
       "       Fish count\n",
       "count        7.00\n",
       "mean        15.86\n",
       "std          6.04\n",
       "min          7.00\n",
       "25%         12.00\n",
       "50%         16.00\n",
       "75%         20.00\n",
       "max         24.00"
      ]
     },
     "execution_count": 7,
     "metadata": {},
     "output_type": "execute_result"
    }
   ],
   "source": [
    "data.describe().round(2)"
   ]
  },
  {
   "cell_type": "code",
   "execution_count": 8,
   "id": "848c800d",
   "metadata": {
    "execution": {
     "iopub.execute_input": "2025-02-26T08:59:17.647988Z",
     "iopub.status.busy": "2025-02-26T08:59:17.647653Z",
     "iopub.status.idle": "2025-02-26T08:59:17.653172Z",
     "shell.execute_reply": "2025-02-26T08:59:17.652334Z"
    },
    "papermill": {
     "duration": 0.013828,
     "end_time": "2025-02-26T08:59:17.654698",
     "exception": false,
     "start_time": "2025-02-26T08:59:17.640870",
     "status": "completed"
    },
    "tags": []
   },
   "outputs": [
    {
     "data": {
      "text/plain": [
       "array([ 7, 11, 13, 16, 18, 22, 24])"
      ]
     },
     "execution_count": 8,
     "metadata": {},
     "output_type": "execute_result"
    }
   ],
   "source": [
    "data['Fish count'].values"
   ]
  },
  {
   "cell_type": "code",
   "execution_count": 9,
   "id": "09a8a115",
   "metadata": {
    "execution": {
     "iopub.execute_input": "2025-02-26T08:59:17.667842Z",
     "iopub.status.busy": "2025-02-26T08:59:17.667468Z",
     "iopub.status.idle": "2025-02-26T08:59:17.673436Z",
     "shell.execute_reply": "2025-02-26T08:59:17.672477Z"
    },
    "papermill": {
     "duration": 0.014501,
     "end_time": "2025-02-26T08:59:17.675131",
     "exception": false,
     "start_time": "2025-02-26T08:59:17.660630",
     "status": "completed"
    },
    "tags": []
   },
   "outputs": [
    {
     "data": {
      "text/plain": [
       "array([[ 7],\n",
       "       [11],\n",
       "       [13],\n",
       "       [16],\n",
       "       [18],\n",
       "       [22],\n",
       "       [24]])"
      ]
     },
     "execution_count": 9,
     "metadata": {},
     "output_type": "execute_result"
    }
   ],
   "source": [
    "data['Fish count'].values.reshape(-1,1) # here we reshape to array in 2D array "
   ]
  },
  {
   "cell_type": "code",
   "execution_count": 10,
   "id": "59fe4865",
   "metadata": {
    "execution": {
     "iopub.execute_input": "2025-02-26T08:59:17.688719Z",
     "iopub.status.busy": "2025-02-26T08:59:17.688378Z",
     "iopub.status.idle": "2025-02-26T08:59:17.692155Z",
     "shell.execute_reply": "2025-02-26T08:59:17.691387Z"
    },
    "papermill": {
     "duration": 0.012243,
     "end_time": "2025-02-26T08:59:17.693718",
     "exception": false,
     "start_time": "2025-02-26T08:59:17.681475",
     "status": "completed"
    },
    "tags": []
   },
   "outputs": [],
   "source": [
    "scaler = StandardScaler()"
   ]
  },
  {
   "cell_type": "code",
   "execution_count": 11,
   "id": "28a1e42b",
   "metadata": {
    "execution": {
     "iopub.execute_input": "2025-02-26T08:59:17.706721Z",
     "iopub.status.busy": "2025-02-26T08:59:17.706382Z",
     "iopub.status.idle": "2025-02-26T08:59:17.711190Z",
     "shell.execute_reply": "2025-02-26T08:59:17.710368Z"
    },
    "papermill": {
     "duration": 0.01306,
     "end_time": "2025-02-26T08:59:17.712675",
     "exception": false,
     "start_time": "2025-02-26T08:59:17.699615",
     "status": "completed"
    },
    "tags": []
   },
   "outputs": [],
   "source": [
    "standard_values = scaler.fit(data['Fish count'].values.reshape(-1,1))"
   ]
  },
  {
   "cell_type": "code",
   "execution_count": 12,
   "id": "80d3b053",
   "metadata": {
    "execution": {
     "iopub.execute_input": "2025-02-26T08:59:17.726272Z",
     "iopub.status.busy": "2025-02-26T08:59:17.725910Z",
     "iopub.status.idle": "2025-02-26T08:59:17.736819Z",
     "shell.execute_reply": "2025-02-26T08:59:17.735806Z"
    },
    "papermill": {
     "duration": 0.01933,
     "end_time": "2025-02-26T08:59:17.738443",
     "exception": false,
     "start_time": "2025-02-26T08:59:17.719113",
     "status": "completed"
    },
    "tags": []
   },
   "outputs": [
    {
     "data": {
      "text/html": [
       "<style>#sk-container-id-1 {color: black;background-color: white;}#sk-container-id-1 pre{padding: 0;}#sk-container-id-1 div.sk-toggleable {background-color: white;}#sk-container-id-1 label.sk-toggleable__label {cursor: pointer;display: block;width: 100%;margin-bottom: 0;padding: 0.3em;box-sizing: border-box;text-align: center;}#sk-container-id-1 label.sk-toggleable__label-arrow:before {content: \"▸\";float: left;margin-right: 0.25em;color: #696969;}#sk-container-id-1 label.sk-toggleable__label-arrow:hover:before {color: black;}#sk-container-id-1 div.sk-estimator:hover label.sk-toggleable__label-arrow:before {color: black;}#sk-container-id-1 div.sk-toggleable__content {max-height: 0;max-width: 0;overflow: hidden;text-align: left;background-color: #f0f8ff;}#sk-container-id-1 div.sk-toggleable__content pre {margin: 0.2em;color: black;border-radius: 0.25em;background-color: #f0f8ff;}#sk-container-id-1 input.sk-toggleable__control:checked~div.sk-toggleable__content {max-height: 200px;max-width: 100%;overflow: auto;}#sk-container-id-1 input.sk-toggleable__control:checked~label.sk-toggleable__label-arrow:before {content: \"▾\";}#sk-container-id-1 div.sk-estimator input.sk-toggleable__control:checked~label.sk-toggleable__label {background-color: #d4ebff;}#sk-container-id-1 div.sk-label input.sk-toggleable__control:checked~label.sk-toggleable__label {background-color: #d4ebff;}#sk-container-id-1 input.sk-hidden--visually {border: 0;clip: rect(1px 1px 1px 1px);clip: rect(1px, 1px, 1px, 1px);height: 1px;margin: -1px;overflow: hidden;padding: 0;position: absolute;width: 1px;}#sk-container-id-1 div.sk-estimator {font-family: monospace;background-color: #f0f8ff;border: 1px dotted black;border-radius: 0.25em;box-sizing: border-box;margin-bottom: 0.5em;}#sk-container-id-1 div.sk-estimator:hover {background-color: #d4ebff;}#sk-container-id-1 div.sk-parallel-item::after {content: \"\";width: 100%;border-bottom: 1px solid gray;flex-grow: 1;}#sk-container-id-1 div.sk-label:hover label.sk-toggleable__label {background-color: #d4ebff;}#sk-container-id-1 div.sk-serial::before {content: \"\";position: absolute;border-left: 1px solid gray;box-sizing: border-box;top: 0;bottom: 0;left: 50%;z-index: 0;}#sk-container-id-1 div.sk-serial {display: flex;flex-direction: column;align-items: center;background-color: white;padding-right: 0.2em;padding-left: 0.2em;position: relative;}#sk-container-id-1 div.sk-item {position: relative;z-index: 1;}#sk-container-id-1 div.sk-parallel {display: flex;align-items: stretch;justify-content: center;background-color: white;position: relative;}#sk-container-id-1 div.sk-item::before, #sk-container-id-1 div.sk-parallel-item::before {content: \"\";position: absolute;border-left: 1px solid gray;box-sizing: border-box;top: 0;bottom: 0;left: 50%;z-index: -1;}#sk-container-id-1 div.sk-parallel-item {display: flex;flex-direction: column;z-index: 1;position: relative;background-color: white;}#sk-container-id-1 div.sk-parallel-item:first-child::after {align-self: flex-end;width: 50%;}#sk-container-id-1 div.sk-parallel-item:last-child::after {align-self: flex-start;width: 50%;}#sk-container-id-1 div.sk-parallel-item:only-child::after {width: 0;}#sk-container-id-1 div.sk-dashed-wrapped {border: 1px dashed gray;margin: 0 0.4em 0.5em 0.4em;box-sizing: border-box;padding-bottom: 0.4em;background-color: white;}#sk-container-id-1 div.sk-label label {font-family: monospace;font-weight: bold;display: inline-block;line-height: 1.2em;}#sk-container-id-1 div.sk-label-container {text-align: center;}#sk-container-id-1 div.sk-container {/* jupyter's `normalize.less` sets `[hidden] { display: none; }` but bootstrap.min.css set `[hidden] { display: none !important; }` so we also need the `!important` here to be able to override the default hidden behavior on the sphinx rendered scikit-learn.org. See: https://github.com/scikit-learn/scikit-learn/issues/21755 */display: inline-block !important;position: relative;}#sk-container-id-1 div.sk-text-repr-fallback {display: none;}</style><div id=\"sk-container-id-1\" class=\"sk-top-container\"><div class=\"sk-text-repr-fallback\"><pre>StandardScaler()</pre><b>In a Jupyter environment, please rerun this cell to show the HTML representation or trust the notebook. <br />On GitHub, the HTML representation is unable to render, please try loading this page with nbviewer.org.</b></div><div class=\"sk-container\" hidden><div class=\"sk-item\"><div class=\"sk-estimator sk-toggleable\"><input class=\"sk-toggleable__control sk-hidden--visually\" id=\"sk-estimator-id-1\" type=\"checkbox\" checked><label for=\"sk-estimator-id-1\" class=\"sk-toggleable__label sk-toggleable__label-arrow\">StandardScaler</label><div class=\"sk-toggleable__content\"><pre>StandardScaler()</pre></div></div></div></div></div>"
      ],
      "text/plain": [
       "StandardScaler()"
      ]
     },
     "execution_count": 12,
     "metadata": {},
     "output_type": "execute_result"
    }
   ],
   "source": [
    "standard_values"
   ]
  },
  {
   "cell_type": "code",
   "execution_count": 13,
   "id": "27c999e6",
   "metadata": {
    "execution": {
     "iopub.execute_input": "2025-02-26T08:59:17.752300Z",
     "iopub.status.busy": "2025-02-26T08:59:17.751924Z",
     "iopub.status.idle": "2025-02-26T08:59:17.756458Z",
     "shell.execute_reply": "2025-02-26T08:59:17.755491Z"
    },
    "papermill": {
     "duration": 0.013233,
     "end_time": "2025-02-26T08:59:17.758014",
     "exception": false,
     "start_time": "2025-02-26T08:59:17.744781",
     "status": "completed"
    },
    "tags": []
   },
   "outputs": [],
   "source": [
    "scaled_fish_count = scaler.transform(data['Fish count'].values.reshape(-1,1))"
   ]
  },
  {
   "cell_type": "code",
   "execution_count": 14,
   "id": "2b6888e5",
   "metadata": {
    "execution": {
     "iopub.execute_input": "2025-02-26T08:59:17.771833Z",
     "iopub.status.busy": "2025-02-26T08:59:17.771505Z",
     "iopub.status.idle": "2025-02-26T08:59:17.777024Z",
     "shell.execute_reply": "2025-02-26T08:59:17.776169Z"
    },
    "papermill": {
     "duration": 0.014266,
     "end_time": "2025-02-26T08:59:17.778659",
     "exception": false,
     "start_time": "2025-02-26T08:59:17.764393",
     "status": "completed"
    },
    "tags": []
   },
   "outputs": [
    {
     "data": {
      "text/plain": [
       "array([[-1.584026  ],\n",
       "       [-0.86865942],\n",
       "       [-0.51097613],\n",
       "       [ 0.02554881],\n",
       "       [ 0.3832321 ],\n",
       "       [ 1.09859868],\n",
       "       [ 1.45628197]])"
      ]
     },
     "execution_count": 14,
     "metadata": {},
     "output_type": "execute_result"
    }
   ],
   "source": [
    "scaled_fish_count"
   ]
  },
  {
   "cell_type": "code",
   "execution_count": 15,
   "id": "e1a04ced",
   "metadata": {
    "execution": {
     "iopub.execute_input": "2025-02-26T08:59:17.792690Z",
     "iopub.status.busy": "2025-02-26T08:59:17.792323Z",
     "iopub.status.idle": "2025-02-26T08:59:17.797165Z",
     "shell.execute_reply": "2025-02-26T08:59:17.796128Z"
    },
    "papermill": {
     "duration": 0.013801,
     "end_time": "2025-02-26T08:59:17.798805",
     "exception": false,
     "start_time": "2025-02-26T08:59:17.785004",
     "status": "completed"
    },
    "tags": []
   },
   "outputs": [],
   "source": [
    "data['scaled fish count'] = scaled_fish_count"
   ]
  },
  {
   "cell_type": "code",
   "execution_count": 16,
   "id": "03e2c113",
   "metadata": {
    "execution": {
     "iopub.execute_input": "2025-02-26T08:59:17.813043Z",
     "iopub.status.busy": "2025-02-26T08:59:17.812707Z",
     "iopub.status.idle": "2025-02-26T08:59:17.827108Z",
     "shell.execute_reply": "2025-02-26T08:59:17.825929Z"
    },
    "papermill": {
     "duration": 0.023472,
     "end_time": "2025-02-26T08:59:17.829000",
     "exception": false,
     "start_time": "2025-02-26T08:59:17.805528",
     "status": "completed"
    },
    "tags": []
   },
   "outputs": [
    {
     "data": {
      "text/html": [
       "<div>\n",
       "<style scoped>\n",
       "    .dataframe tbody tr th:only-of-type {\n",
       "        vertical-align: middle;\n",
       "    }\n",
       "\n",
       "    .dataframe tbody tr th {\n",
       "        vertical-align: top;\n",
       "    }\n",
       "\n",
       "    .dataframe thead th {\n",
       "        text-align: right;\n",
       "    }\n",
       "</style>\n",
       "<table border=\"1\" class=\"dataframe\">\n",
       "  <thead>\n",
       "    <tr style=\"text-align: right;\">\n",
       "      <th></th>\n",
       "      <th>Fish count</th>\n",
       "      <th>scaled fish count</th>\n",
       "    </tr>\n",
       "  </thead>\n",
       "  <tbody>\n",
       "    <tr>\n",
       "      <th>count</th>\n",
       "      <td>7.00</td>\n",
       "      <td>7.00</td>\n",
       "    </tr>\n",
       "    <tr>\n",
       "      <th>mean</th>\n",
       "      <td>15.86</td>\n",
       "      <td>-0.00</td>\n",
       "    </tr>\n",
       "    <tr>\n",
       "      <th>std</th>\n",
       "      <td>6.04</td>\n",
       "      <td>1.08</td>\n",
       "    </tr>\n",
       "    <tr>\n",
       "      <th>min</th>\n",
       "      <td>7.00</td>\n",
       "      <td>-1.58</td>\n",
       "    </tr>\n",
       "    <tr>\n",
       "      <th>25%</th>\n",
       "      <td>12.00</td>\n",
       "      <td>-0.69</td>\n",
       "    </tr>\n",
       "    <tr>\n",
       "      <th>50%</th>\n",
       "      <td>16.00</td>\n",
       "      <td>0.03</td>\n",
       "    </tr>\n",
       "    <tr>\n",
       "      <th>75%</th>\n",
       "      <td>20.00</td>\n",
       "      <td>0.74</td>\n",
       "    </tr>\n",
       "    <tr>\n",
       "      <th>max</th>\n",
       "      <td>24.00</td>\n",
       "      <td>1.46</td>\n",
       "    </tr>\n",
       "  </tbody>\n",
       "</table>\n",
       "</div>"
      ],
      "text/plain": [
       "       Fish count  scaled fish count\n",
       "count        7.00               7.00\n",
       "mean        15.86              -0.00\n",
       "std          6.04               1.08\n",
       "min          7.00              -1.58\n",
       "25%         12.00              -0.69\n",
       "50%         16.00               0.03\n",
       "75%         20.00               0.74\n",
       "max         24.00               1.46"
      ]
     },
     "execution_count": 16,
     "metadata": {},
     "output_type": "execute_result"
    }
   ],
   "source": [
    "data.describe().round(2)"
   ]
  },
  {
   "cell_type": "markdown",
   "id": "5aae0c64",
   "metadata": {
    "papermill": {
     "duration": 0.006492,
     "end_time": "2025-02-26T08:59:17.842111",
     "exception": false,
     "start_time": "2025-02-26T08:59:17.835619",
     "status": "completed"
    },
    "tags": []
   },
   "source": [
    "## Normalization"
   ]
  },
  {
   "cell_type": "code",
   "execution_count": 17,
   "id": "b44023da",
   "metadata": {
    "execution": {
     "iopub.execute_input": "2025-02-26T08:59:17.856340Z",
     "iopub.status.busy": "2025-02-26T08:59:17.855917Z",
     "iopub.status.idle": "2025-02-26T08:59:17.859965Z",
     "shell.execute_reply": "2025-02-26T08:59:17.859087Z"
    },
    "papermill": {
     "duration": 0.012992,
     "end_time": "2025-02-26T08:59:17.861614",
     "exception": false,
     "start_time": "2025-02-26T08:59:17.848622",
     "status": "completed"
    },
    "tags": []
   },
   "outputs": [],
   "source": [
    "scaler2 = MinMaxScaler() "
   ]
  },
  {
   "cell_type": "code",
   "execution_count": 18,
   "id": "523f9f85",
   "metadata": {
    "execution": {
     "iopub.execute_input": "2025-02-26T08:59:17.877620Z",
     "iopub.status.busy": "2025-02-26T08:59:17.877278Z",
     "iopub.status.idle": "2025-02-26T08:59:17.882053Z",
     "shell.execute_reply": "2025-02-26T08:59:17.881098Z"
    },
    "papermill": {
     "duration": 0.015141,
     "end_time": "2025-02-26T08:59:17.883848",
     "exception": false,
     "start_time": "2025-02-26T08:59:17.868707",
     "status": "completed"
    },
    "tags": []
   },
   "outputs": [],
   "source": [
    "minmaxscaler = scaler2.fit(data['Fish count'].values.reshape(-1,1))"
   ]
  },
  {
   "cell_type": "code",
   "execution_count": 19,
   "id": "5f939dee",
   "metadata": {
    "execution": {
     "iopub.execute_input": "2025-02-26T08:59:17.898386Z",
     "iopub.status.busy": "2025-02-26T08:59:17.897987Z",
     "iopub.status.idle": "2025-02-26T08:59:17.903702Z",
     "shell.execute_reply": "2025-02-26T08:59:17.902836Z"
    },
    "papermill": {
     "duration": 0.014626,
     "end_time": "2025-02-26T08:59:17.905263",
     "exception": false,
     "start_time": "2025-02-26T08:59:17.890637",
     "status": "completed"
    },
    "tags": []
   },
   "outputs": [
    {
     "data": {
      "text/html": [
       "<style>#sk-container-id-2 {color: black;background-color: white;}#sk-container-id-2 pre{padding: 0;}#sk-container-id-2 div.sk-toggleable {background-color: white;}#sk-container-id-2 label.sk-toggleable__label {cursor: pointer;display: block;width: 100%;margin-bottom: 0;padding: 0.3em;box-sizing: border-box;text-align: center;}#sk-container-id-2 label.sk-toggleable__label-arrow:before {content: \"▸\";float: left;margin-right: 0.25em;color: #696969;}#sk-container-id-2 label.sk-toggleable__label-arrow:hover:before {color: black;}#sk-container-id-2 div.sk-estimator:hover label.sk-toggleable__label-arrow:before {color: black;}#sk-container-id-2 div.sk-toggleable__content {max-height: 0;max-width: 0;overflow: hidden;text-align: left;background-color: #f0f8ff;}#sk-container-id-2 div.sk-toggleable__content pre {margin: 0.2em;color: black;border-radius: 0.25em;background-color: #f0f8ff;}#sk-container-id-2 input.sk-toggleable__control:checked~div.sk-toggleable__content {max-height: 200px;max-width: 100%;overflow: auto;}#sk-container-id-2 input.sk-toggleable__control:checked~label.sk-toggleable__label-arrow:before {content: \"▾\";}#sk-container-id-2 div.sk-estimator input.sk-toggleable__control:checked~label.sk-toggleable__label {background-color: #d4ebff;}#sk-container-id-2 div.sk-label input.sk-toggleable__control:checked~label.sk-toggleable__label {background-color: #d4ebff;}#sk-container-id-2 input.sk-hidden--visually {border: 0;clip: rect(1px 1px 1px 1px);clip: rect(1px, 1px, 1px, 1px);height: 1px;margin: -1px;overflow: hidden;padding: 0;position: absolute;width: 1px;}#sk-container-id-2 div.sk-estimator {font-family: monospace;background-color: #f0f8ff;border: 1px dotted black;border-radius: 0.25em;box-sizing: border-box;margin-bottom: 0.5em;}#sk-container-id-2 div.sk-estimator:hover {background-color: #d4ebff;}#sk-container-id-2 div.sk-parallel-item::after {content: \"\";width: 100%;border-bottom: 1px solid gray;flex-grow: 1;}#sk-container-id-2 div.sk-label:hover label.sk-toggleable__label {background-color: #d4ebff;}#sk-container-id-2 div.sk-serial::before {content: \"\";position: absolute;border-left: 1px solid gray;box-sizing: border-box;top: 0;bottom: 0;left: 50%;z-index: 0;}#sk-container-id-2 div.sk-serial {display: flex;flex-direction: column;align-items: center;background-color: white;padding-right: 0.2em;padding-left: 0.2em;position: relative;}#sk-container-id-2 div.sk-item {position: relative;z-index: 1;}#sk-container-id-2 div.sk-parallel {display: flex;align-items: stretch;justify-content: center;background-color: white;position: relative;}#sk-container-id-2 div.sk-item::before, #sk-container-id-2 div.sk-parallel-item::before {content: \"\";position: absolute;border-left: 1px solid gray;box-sizing: border-box;top: 0;bottom: 0;left: 50%;z-index: -1;}#sk-container-id-2 div.sk-parallel-item {display: flex;flex-direction: column;z-index: 1;position: relative;background-color: white;}#sk-container-id-2 div.sk-parallel-item:first-child::after {align-self: flex-end;width: 50%;}#sk-container-id-2 div.sk-parallel-item:last-child::after {align-self: flex-start;width: 50%;}#sk-container-id-2 div.sk-parallel-item:only-child::after {width: 0;}#sk-container-id-2 div.sk-dashed-wrapped {border: 1px dashed gray;margin: 0 0.4em 0.5em 0.4em;box-sizing: border-box;padding-bottom: 0.4em;background-color: white;}#sk-container-id-2 div.sk-label label {font-family: monospace;font-weight: bold;display: inline-block;line-height: 1.2em;}#sk-container-id-2 div.sk-label-container {text-align: center;}#sk-container-id-2 div.sk-container {/* jupyter's `normalize.less` sets `[hidden] { display: none; }` but bootstrap.min.css set `[hidden] { display: none !important; }` so we also need the `!important` here to be able to override the default hidden behavior on the sphinx rendered scikit-learn.org. See: https://github.com/scikit-learn/scikit-learn/issues/21755 */display: inline-block !important;position: relative;}#sk-container-id-2 div.sk-text-repr-fallback {display: none;}</style><div id=\"sk-container-id-2\" class=\"sk-top-container\"><div class=\"sk-text-repr-fallback\"><pre>MinMaxScaler()</pre><b>In a Jupyter environment, please rerun this cell to show the HTML representation or trust the notebook. <br />On GitHub, the HTML representation is unable to render, please try loading this page with nbviewer.org.</b></div><div class=\"sk-container\" hidden><div class=\"sk-item\"><div class=\"sk-estimator sk-toggleable\"><input class=\"sk-toggleable__control sk-hidden--visually\" id=\"sk-estimator-id-2\" type=\"checkbox\" checked><label for=\"sk-estimator-id-2\" class=\"sk-toggleable__label sk-toggleable__label-arrow\">MinMaxScaler</label><div class=\"sk-toggleable__content\"><pre>MinMaxScaler()</pre></div></div></div></div></div>"
      ],
      "text/plain": [
       "MinMaxScaler()"
      ]
     },
     "execution_count": 19,
     "metadata": {},
     "output_type": "execute_result"
    }
   ],
   "source": [
    "minmaxscaler"
   ]
  },
  {
   "cell_type": "code",
   "execution_count": 20,
   "id": "43a8b976",
   "metadata": {
    "execution": {
     "iopub.execute_input": "2025-02-26T08:59:17.919646Z",
     "iopub.status.busy": "2025-02-26T08:59:17.919316Z",
     "iopub.status.idle": "2025-02-26T08:59:17.923583Z",
     "shell.execute_reply": "2025-02-26T08:59:17.922767Z"
    },
    "papermill": {
     "duration": 0.013002,
     "end_time": "2025-02-26T08:59:17.925025",
     "exception": false,
     "start_time": "2025-02-26T08:59:17.912023",
     "status": "completed"
    },
    "tags": []
   },
   "outputs": [],
   "source": [
    "scaled_fish_count2 = scaler2.transform(data['Fish count'].values.reshape(-1,1))"
   ]
  },
  {
   "cell_type": "code",
   "execution_count": 21,
   "id": "db0eb605",
   "metadata": {
    "execution": {
     "iopub.execute_input": "2025-02-26T08:59:17.939735Z",
     "iopub.status.busy": "2025-02-26T08:59:17.939388Z",
     "iopub.status.idle": "2025-02-26T08:59:17.944816Z",
     "shell.execute_reply": "2025-02-26T08:59:17.943996Z"
    },
    "papermill": {
     "duration": 0.014557,
     "end_time": "2025-02-26T08:59:17.946313",
     "exception": false,
     "start_time": "2025-02-26T08:59:17.931756",
     "status": "completed"
    },
    "tags": []
   },
   "outputs": [
    {
     "data": {
      "text/plain": [
       "array([[0.        ],\n",
       "       [0.23529412],\n",
       "       [0.35294118],\n",
       "       [0.52941176],\n",
       "       [0.64705882],\n",
       "       [0.88235294],\n",
       "       [1.        ]])"
      ]
     },
     "execution_count": 21,
     "metadata": {},
     "output_type": "execute_result"
    }
   ],
   "source": [
    "scaled_fish_count2"
   ]
  },
  {
   "cell_type": "code",
   "execution_count": 22,
   "id": "129d3a64",
   "metadata": {
    "execution": {
     "iopub.execute_input": "2025-02-26T08:59:17.960983Z",
     "iopub.status.busy": "2025-02-26T08:59:17.960653Z",
     "iopub.status.idle": "2025-02-26T08:59:17.964932Z",
     "shell.execute_reply": "2025-02-26T08:59:17.964098Z"
    },
    "papermill": {
     "duration": 0.013347,
     "end_time": "2025-02-26T08:59:17.966416",
     "exception": false,
     "start_time": "2025-02-26T08:59:17.953069",
     "status": "completed"
    },
    "tags": []
   },
   "outputs": [],
   "source": [
    "data['scaled fish count2'] = scaled_fish_count2"
   ]
  },
  {
   "cell_type": "code",
   "execution_count": 23,
   "id": "3d238f0d",
   "metadata": {
    "execution": {
     "iopub.execute_input": "2025-02-26T08:59:17.980875Z",
     "iopub.status.busy": "2025-02-26T08:59:17.980547Z",
     "iopub.status.idle": "2025-02-26T08:59:17.997170Z",
     "shell.execute_reply": "2025-02-26T08:59:17.996000Z"
    },
    "papermill": {
     "duration": 0.02577,
     "end_time": "2025-02-26T08:59:17.999014",
     "exception": false,
     "start_time": "2025-02-26T08:59:17.973244",
     "status": "completed"
    },
    "tags": []
   },
   "outputs": [
    {
     "data": {
      "text/html": [
       "<div>\n",
       "<style scoped>\n",
       "    .dataframe tbody tr th:only-of-type {\n",
       "        vertical-align: middle;\n",
       "    }\n",
       "\n",
       "    .dataframe tbody tr th {\n",
       "        vertical-align: top;\n",
       "    }\n",
       "\n",
       "    .dataframe thead th {\n",
       "        text-align: right;\n",
       "    }\n",
       "</style>\n",
       "<table border=\"1\" class=\"dataframe\">\n",
       "  <thead>\n",
       "    <tr style=\"text-align: right;\">\n",
       "      <th></th>\n",
       "      <th>Fish count</th>\n",
       "      <th>scaled fish count</th>\n",
       "      <th>scaled fish count2</th>\n",
       "    </tr>\n",
       "  </thead>\n",
       "  <tbody>\n",
       "    <tr>\n",
       "      <th>count</th>\n",
       "      <td>7.00</td>\n",
       "      <td>7.00</td>\n",
       "      <td>7.00</td>\n",
       "    </tr>\n",
       "    <tr>\n",
       "      <th>mean</th>\n",
       "      <td>15.86</td>\n",
       "      <td>-0.00</td>\n",
       "      <td>0.52</td>\n",
       "    </tr>\n",
       "    <tr>\n",
       "      <th>std</th>\n",
       "      <td>6.04</td>\n",
       "      <td>1.08</td>\n",
       "      <td>0.36</td>\n",
       "    </tr>\n",
       "    <tr>\n",
       "      <th>min</th>\n",
       "      <td>7.00</td>\n",
       "      <td>-1.58</td>\n",
       "      <td>0.00</td>\n",
       "    </tr>\n",
       "    <tr>\n",
       "      <th>25%</th>\n",
       "      <td>12.00</td>\n",
       "      <td>-0.69</td>\n",
       "      <td>0.29</td>\n",
       "    </tr>\n",
       "    <tr>\n",
       "      <th>50%</th>\n",
       "      <td>16.00</td>\n",
       "      <td>0.03</td>\n",
       "      <td>0.53</td>\n",
       "    </tr>\n",
       "    <tr>\n",
       "      <th>75%</th>\n",
       "      <td>20.00</td>\n",
       "      <td>0.74</td>\n",
       "      <td>0.76</td>\n",
       "    </tr>\n",
       "    <tr>\n",
       "      <th>max</th>\n",
       "      <td>24.00</td>\n",
       "      <td>1.46</td>\n",
       "      <td>1.00</td>\n",
       "    </tr>\n",
       "  </tbody>\n",
       "</table>\n",
       "</div>"
      ],
      "text/plain": [
       "       Fish count  scaled fish count  scaled fish count2\n",
       "count        7.00               7.00                7.00\n",
       "mean        15.86              -0.00                0.52\n",
       "std          6.04               1.08                0.36\n",
       "min          7.00              -1.58                0.00\n",
       "25%         12.00              -0.69                0.29\n",
       "50%         16.00               0.03                0.53\n",
       "75%         20.00               0.74                0.76\n",
       "max         24.00               1.46                1.00"
      ]
     },
     "execution_count": 23,
     "metadata": {},
     "output_type": "execute_result"
    }
   ],
   "source": [
    "data.describe().round(2)"
   ]
  },
  {
   "cell_type": "code",
   "execution_count": null,
   "id": "61a76252",
   "metadata": {
    "papermill": {
     "duration": 0.006748,
     "end_time": "2025-02-26T08:59:18.012877",
     "exception": false,
     "start_time": "2025-02-26T08:59:18.006129",
     "status": "completed"
    },
    "tags": []
   },
   "outputs": [],
   "source": []
  }
 ],
 "metadata": {
  "kaggle": {
   "accelerator": "none",
   "dataSources": [
    {
     "datasetId": 6744368,
     "sourceId": 10857696,
     "sourceType": "datasetVersion"
    }
   ],
   "dockerImageVersionId": 30918,
   "isGpuEnabled": false,
   "isInternetEnabled": false,
   "language": "python",
   "sourceType": "notebook"
  },
  "kernelspec": {
   "display_name": "base",
   "language": "python",
   "name": "python3"
  },
  "language_info": {
   "codemirror_mode": {
    "name": "ipython",
    "version": 3
   },
   "file_extension": ".py",
   "mimetype": "text/x-python",
   "name": "python",
   "nbconvert_exporter": "python",
   "pygments_lexer": "ipython3",
   "version": "3.12.7"
  },
  "papermill": {
   "default_parameters": {},
   "duration": 6.173916,
   "end_time": "2025-02-26T08:59:18.639799",
   "environment_variables": {},
   "exception": null,
   "input_path": "__notebook__.ipynb",
   "output_path": "__notebook__.ipynb",
   "parameters": {},
   "start_time": "2025-02-26T08:59:12.465883",
   "version": "2.6.0"
  }
 },
 "nbformat": 4,
 "nbformat_minor": 5
}
