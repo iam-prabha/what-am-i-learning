{
 "cells": [
  {
   "cell_type": "markdown",
   "metadata": {},
   "source": [
    "# **The First Fundamental of TensorFlow: The Tensor**"
   ]
  },
  {
   "cell_type": "markdown",
   "metadata": {},
   "source": [
    "As it's core, **Tensorlfow operates on tensors.**"
   ]
  },
  {
   "cell_type": "markdown",
   "metadata": {},
   "source": [
    "* **what is tensor?**\n",
    "\n",
    "    In simple terms, a tensors is a **multi-dimensional array**.\n",
    "\n",
    "    * A 0-D tensor (scalar) is a single number (e.g., `6`, `67.8`).\n",
    "\n",
    "    * A 1-D tensor (vector) is a list of number (e.g., `[1, 2, 3]`).\n",
    "    \n",
    "    * A 2-D tensor (matrix) is a table of number (e.g., `[[1, 2], [3, 4]]`).\n",
    "    \n",
    "    * Higher-dimensional tensors exists for more complex data (e.g., images are often 4-D tensors: `[batch_size, height, width, channels]`)."
   ]
  },
  {
   "cell_type": "markdown",
   "metadata": {},
   "source": [
    "* **Why Tensors?**\n",
    "\n",
    "    * **Universality:** Almost all data in machine learning (numbers, text, images, audio) can be represented as tensors.\n",
    "\n",
    "    * **Efficiency:** TensorFlow (and other deep learning frameworks) are highly optimized to perform mathematical operations on tensors, especially on GPUs (Graphics Processing Units), which are crucial for deep learning training.\n",
    "\n",
    "    * **Mathematical Foundation:** Neural networks are essentially complex chains of tensor operations (matrix multiplications, additions, non-linear activations)."
   ]
  },
  {
   "cell_type": "markdown",
   "metadata": {},
   "source": [
    "* **Key Tensor properties:**\n",
    "\n",
    "    * **shape:** The number of elements in each dimension (e.g., a 2x3 matrix has shape of `(2,3)`).\n",
    "\n",
    "    * **DType (Data Type):** The type of elements in the tensor (eg., `tf.float32`, `tf.int32`). Neural networks typically use floating-point numbers."
   ]
  },
  {
   "cell_type": "markdown",
   "metadata": {},
   "source": [
    "### **How to creates Tensors in Tensorflow:** "
   ]
  },
  {
   "cell_type": "code",
   "execution_count": 3,
   "metadata": {},
   "outputs": [],
   "source": [
    "import tensorflow as tf\n",
    "import numpy as np # often used for data preparation before converting to tensors\n"
   ]
  },
  {
   "cell_type": "code",
   "execution_count": 4,
   "metadata": {},
   "outputs": [
    {
     "name": "stdout",
     "output_type": "stream",
     "text": [
      "Scalar: 5, shape: (), dtype: <dtype: 'int32'>\n"
     ]
    }
   ],
   "source": [
    "# 1. Scalar (0-D Tensor)\n",
    "\n",
    "scaler = tf.constant(5)\n",
    "print(f\"Scalar: {scaler}, shape: {scaler.shape}, dtype: {scaler.dtype}\")"
   ]
  },
  {
   "cell_type": "code",
   "execution_count": 5,
   "metadata": {},
   "outputs": [
    {
     "name": "stdout",
     "output_type": "stream",
     "text": [
      "Vector: [10  7], shape: (2,), dtype: <dtype: 'int32'>\n"
     ]
    }
   ],
   "source": [
    "# 2. Vector (1-D Tensor)\n",
    "vector =  tf.constant([10, 7])\n",
    "print(f\"Vector: {vector}, shape: {vector.shape}, dtype: {vector.dtype}\")"
   ]
  },
  {
   "cell_type": "code",
   "execution_count": 6,
   "metadata": {},
   "outputs": [
    {
     "name": "stdout",
     "output_type": "stream",
     "text": [
      "Matrix: [[1 2]\n",
      " [3 4]], \n",
      " shape: (2, 2), dtype: <dtype: 'int32'>\n"
     ]
    }
   ],
   "source": [
    "# 3. Matrix (2-D Tensor)\n",
    "matrix = tf.constant([[1, 2],[3, 4]])\n",
    "print(f\"Matrix: {matrix}, \\n shape: {matrix.shape}, dtype: {matrix.dtype}\")"
   ]
  },
  {
   "cell_type": "code",
   "execution_count": 7,
   "metadata": {},
   "outputs": [
    {
     "name": "stdout",
     "output_type": "stream",
     "text": [
      "Another Matrix: [[10.  7.]\n",
      " [ 3.  4.]], \n",
      " shape: (2, 2), dtype: <dtype: 'float32'>\n"
     ]
    }
   ],
   "source": [
    "# 4. Another Matrix (specify dtype)\n",
    "another_matrix = tf.constant([[10., 7.], [3., 4.]], dtype=tf.float32) # specify float32\n",
    "print(f\"Another Matrix: {another_matrix}, \\n shape: {another_matrix.shape}, dtype: {another_matrix.dtype}\")"
   ]
  },
  {
   "cell_type": "code",
   "execution_count": 8,
   "metadata": {},
   "outputs": [
    {
     "name": "stdout",
     "output_type": "stream",
     "text": [
      "Tensor from Numpy: [[1 2]\n",
      " [3 4]], \n",
      " shape: (2, 2), dtype: <dtype: 'int64'>\n"
     ]
    }
   ],
   "source": [
    "# 5. Tensor from Numpy array\n",
    "numpy_array = np.array([[1, 2], [3, 4]])\n",
    "tensor_from_numpy = tf.constant(numpy_array)\n",
    "print(f\"Tensor from Numpy: {tensor_from_numpy}, \\n shape: {tensor_from_numpy.shape}, dtype: {tensor_from_numpy.dtype}\")"
   ]
  },
  {
   "cell_type": "code",
   "execution_count": 9,
   "metadata": {},
   "outputs": [
    {
     "name": "stdout",
     "output_type": "stream",
     "text": [
      "Variable Tensor: <tf.Variable 'Variable:0' shape=(3,) dtype=float32, numpy=array([0., 0., 0.], dtype=float32)>, \n",
      " shape: (3,), dtype: <dtype: 'float32'>\n"
     ]
    }
   ],
   "source": [
    "# 6. variable tensor (chargeable)\n",
    "# used for model parameters (weights, biases) that get upadated during training\n",
    "variable_tensor = tf.Variable([0., 0., 0.])\n",
    "print(f\"Variable Tensor: {variable_tensor}, \\n shape: {variable_tensor.shape}, dtype: {variable_tensor.dtype}\")"
   ]
  },
  {
   "cell_type": "code",
   "execution_count": 10,
   "metadata": {},
   "outputs": [
    {
     "name": "stdout",
     "output_type": "stream",
     "text": [
      "Updated Variable Tensor: <tf.Variable 'Variable:0' shape=(3,) dtype=float32, numpy=array([1., 2., 3.], dtype=float32)>\n"
     ]
    }
   ],
   "source": [
    "# you can reassign a variable's value\n",
    "variable_tensor.assign([1., 2., 3.])\n",
    "print(f\"Updated Variable Tensor: {variable_tensor}\")"
   ]
  },
  {
   "cell_type": "code",
   "execution_count": 11,
   "metadata": {},
   "outputs": [
    {
     "name": "stdout",
     "output_type": "stream",
     "text": [
      "Addition: [[ 6  8]\n",
      " [10 12]]\n",
      "Multiplication: [[ 5 12]\n",
      " [21 32]]\n"
     ]
    }
   ],
   "source": [
    "# common tensor operations\n",
    "a = tf.constant([[1, 2], [3, 4]])\n",
    "b = tf.constant([[5, 6], [7, 8]])\n",
    "print(f\"Addition: {a + b}\") # or tf.add(a, b)\n",
    "print(f\"Multiplication: {a * b}\") # or tf.multiply(a, b)"
   ]
  },
  {
   "cell_type": "code",
   "execution_count": 12,
   "metadata": {},
   "outputs": [
    {
     "name": "stdout",
     "output_type": "stream",
     "text": [
      "Matrix Multiplication: [[19 22]\n",
      " [43 50]]\n"
     ]
    }
   ],
   "source": [
    "# Matrix multiplication (crucial for neural networks)\n",
    "mat1 = tf.constant([[1, 2], [3,4]])\n",
    "mat2 = tf.constant([[5, 6], [7, 8]])\n",
    "print(f\"Matrix Multiplication: {tf.matmul(mat1, mat2)}\")"
   ]
  },
  {
   "cell_type": "markdown",
   "metadata": {},
   "source": [
    "**understanding** `tf.constant` **vs** `tf.Variable` **:**\n",
    "\n",
    "* `tf.constant`: Creates an immutable tensor. its value cannot be changed after creation.Good for fixed data.\n",
    "\n",
    "* `tf.Variable`: Creates a mutable tensor. Its value can be changed. This is essential for model and biases, which are updated duroing a training process (bcakpropagation)."
   ]
  }
 ],
 "metadata": {
  "kernelspec": {
   "display_name": "base",
   "language": "python",
   "name": "python3"
  },
  "language_info": {
   "codemirror_mode": {
    "name": "ipython",
    "version": 3
   },
   "file_extension": ".py",
   "mimetype": "text/x-python",
   "name": "python",
   "nbconvert_exporter": "python",
   "pygments_lexer": "ipython3",
   "version": "3.12.7"
  }
 },
 "nbformat": 4,
 "nbformat_minor": 2
}
